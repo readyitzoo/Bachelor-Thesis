{
 "cells": [
  {
   "cell_type": "markdown",
   "metadata": {},
   "source": [
    "# Import Libraries"
   ]
  },
  {
   "cell_type": "code",
   "execution_count": 8,
   "metadata": {
    "_cell_guid": "b1076dfc-b9ad-4769-8c92-a6c4dae69d19",
    "_uuid": "8f2839f25d086af736a60e9eeb907d3b93b6e0e5",
    "execution": {
     "iopub.execute_input": "2024-05-20T09:49:21.745116Z",
     "iopub.status.busy": "2024-05-20T09:49:21.743675Z",
     "iopub.status.idle": "2024-05-20T09:49:21.762667Z",
     "shell.execute_reply": "2024-05-20T09:49:21.761481Z",
     "shell.execute_reply.started": "2024-05-20T09:49:21.745065Z"
    }
   },
   "outputs": [],
   "source": [
    "import numpy as np\n",
    "import pandas as pd\n",
    "import matplotlib.pyplot as plt\n",
    "from sklearn.model_selection import train_test_split, TimeSeriesSplit\n",
    "from sklearn.linear_model import LinearRegression\n",
    "from sklearn.metrics import mean_squared_error, mean_absolute_error, mean_absolute_percentage_error,r2_score"
   ]
  },
  {
   "cell_type": "markdown",
   "metadata": {},
   "source": [
    "# Data Loading"
   ]
  },
  {
   "cell_type": "code",
   "execution_count": 9,
   "metadata": {
    "execution": {
     "iopub.execute_input": "2024-05-20T09:49:21.766403Z",
     "iopub.status.busy": "2024-05-20T09:49:21.765109Z",
     "iopub.status.idle": "2024-05-20T09:49:21.791337Z",
     "shell.execute_reply": "2024-05-20T09:49:21.790231Z",
     "shell.execute_reply.started": "2024-05-20T09:49:21.766348Z"
    }
   },
   "outputs": [],
   "source": [
    "df = pd.read_csv(\"NFLX_1.csv\")"
   ]
  },
  {
   "cell_type": "code",
   "execution_count": 10,
   "metadata": {
    "execution": {
     "iopub.execute_input": "2024-05-20T09:49:21.793483Z",
     "iopub.status.busy": "2024-05-20T09:49:21.792780Z",
     "iopub.status.idle": "2024-05-20T09:49:21.831575Z",
     "shell.execute_reply": "2024-05-20T09:49:21.830143Z",
     "shell.execute_reply.started": "2024-05-20T09:49:21.793441Z"
    }
   },
   "outputs": [
    {
     "data": {
      "text/html": [
       "<div>\n",
       "<style scoped>\n",
       "    .dataframe tbody tr th:only-of-type {\n",
       "        vertical-align: middle;\n",
       "    }\n",
       "\n",
       "    .dataframe tbody tr th {\n",
       "        vertical-align: top;\n",
       "    }\n",
       "\n",
       "    .dataframe thead th {\n",
       "        text-align: right;\n",
       "    }\n",
       "</style>\n",
       "<table border=\"1\" class=\"dataframe\">\n",
       "  <thead>\n",
       "    <tr style=\"text-align: right;\">\n",
       "      <th></th>\n",
       "      <th>Date</th>\n",
       "      <th>Open</th>\n",
       "      <th>High</th>\n",
       "      <th>Low</th>\n",
       "      <th>Close</th>\n",
       "      <th>Adj Close</th>\n",
       "      <th>Volume</th>\n",
       "    </tr>\n",
       "  </thead>\n",
       "  <tbody>\n",
       "    <tr>\n",
       "      <th>0</th>\n",
       "      <td>2002-05-23</td>\n",
       "      <td>1.156429</td>\n",
       "      <td>1.242857</td>\n",
       "      <td>1.145714</td>\n",
       "      <td>1.196429</td>\n",
       "      <td>1.196429</td>\n",
       "      <td>104790000</td>\n",
       "    </tr>\n",
       "    <tr>\n",
       "      <th>1</th>\n",
       "      <td>2002-05-24</td>\n",
       "      <td>1.214286</td>\n",
       "      <td>1.225000</td>\n",
       "      <td>1.197143</td>\n",
       "      <td>1.210000</td>\n",
       "      <td>1.210000</td>\n",
       "      <td>11104800</td>\n",
       "    </tr>\n",
       "    <tr>\n",
       "      <th>2</th>\n",
       "      <td>2002-05-28</td>\n",
       "      <td>1.213571</td>\n",
       "      <td>1.232143</td>\n",
       "      <td>1.157143</td>\n",
       "      <td>1.157143</td>\n",
       "      <td>1.157143</td>\n",
       "      <td>6609400</td>\n",
       "    </tr>\n",
       "    <tr>\n",
       "      <th>3</th>\n",
       "      <td>2002-05-29</td>\n",
       "      <td>1.164286</td>\n",
       "      <td>1.164286</td>\n",
       "      <td>1.085714</td>\n",
       "      <td>1.103571</td>\n",
       "      <td>1.103571</td>\n",
       "      <td>6757800</td>\n",
       "    </tr>\n",
       "    <tr>\n",
       "      <th>4</th>\n",
       "      <td>2002-05-30</td>\n",
       "      <td>1.107857</td>\n",
       "      <td>1.107857</td>\n",
       "      <td>1.071429</td>\n",
       "      <td>1.071429</td>\n",
       "      <td>1.071429</td>\n",
       "      <td>10154200</td>\n",
       "    </tr>\n",
       "    <tr>\n",
       "      <th>5</th>\n",
       "      <td>2002-05-31</td>\n",
       "      <td>1.078571</td>\n",
       "      <td>1.078571</td>\n",
       "      <td>1.071429</td>\n",
       "      <td>1.076429</td>\n",
       "      <td>1.076429</td>\n",
       "      <td>8464400</td>\n",
       "    </tr>\n",
       "    <tr>\n",
       "      <th>6</th>\n",
       "      <td>2002-06-03</td>\n",
       "      <td>1.080000</td>\n",
       "      <td>1.149286</td>\n",
       "      <td>1.076429</td>\n",
       "      <td>1.128571</td>\n",
       "      <td>1.128571</td>\n",
       "      <td>3151400</td>\n",
       "    </tr>\n",
       "    <tr>\n",
       "      <th>7</th>\n",
       "      <td>2002-06-04</td>\n",
       "      <td>1.135714</td>\n",
       "      <td>1.140000</td>\n",
       "      <td>1.110714</td>\n",
       "      <td>1.117857</td>\n",
       "      <td>1.117857</td>\n",
       "      <td>3105200</td>\n",
       "    </tr>\n",
       "    <tr>\n",
       "      <th>8</th>\n",
       "      <td>2002-06-05</td>\n",
       "      <td>1.110714</td>\n",
       "      <td>1.159286</td>\n",
       "      <td>1.107143</td>\n",
       "      <td>1.147143</td>\n",
       "      <td>1.147143</td>\n",
       "      <td>1531600</td>\n",
       "    </tr>\n",
       "    <tr>\n",
       "      <th>9</th>\n",
       "      <td>2002-06-06</td>\n",
       "      <td>1.150000</td>\n",
       "      <td>1.232143</td>\n",
       "      <td>1.148571</td>\n",
       "      <td>1.182143</td>\n",
       "      <td>1.182143</td>\n",
       "      <td>2305800</td>\n",
       "    </tr>\n",
       "  </tbody>\n",
       "</table>\n",
       "</div>"
      ],
      "text/plain": [
       "         Date      Open      High       Low     Close  Adj Close     Volume\n",
       "0  2002-05-23  1.156429  1.242857  1.145714  1.196429   1.196429  104790000\n",
       "1  2002-05-24  1.214286  1.225000  1.197143  1.210000   1.210000   11104800\n",
       "2  2002-05-28  1.213571  1.232143  1.157143  1.157143   1.157143    6609400\n",
       "3  2002-05-29  1.164286  1.164286  1.085714  1.103571   1.103571    6757800\n",
       "4  2002-05-30  1.107857  1.107857  1.071429  1.071429   1.071429   10154200\n",
       "5  2002-05-31  1.078571  1.078571  1.071429  1.076429   1.076429    8464400\n",
       "6  2002-06-03  1.080000  1.149286  1.076429  1.128571   1.128571    3151400\n",
       "7  2002-06-04  1.135714  1.140000  1.110714  1.117857   1.117857    3105200\n",
       "8  2002-06-05  1.110714  1.159286  1.107143  1.147143   1.147143    1531600\n",
       "9  2002-06-06  1.150000  1.232143  1.148571  1.182143   1.182143    2305800"
      ]
     },
     "execution_count": 10,
     "metadata": {},
     "output_type": "execute_result"
    }
   ],
   "source": [
    "df.head(10)"
   ]
  },
  {
   "cell_type": "code",
   "execution_count": 11,
   "metadata": {
    "execution": {
     "iopub.execute_input": "2024-05-20T09:49:21.834002Z",
     "iopub.status.busy": "2024-05-20T09:49:21.833443Z",
     "iopub.status.idle": "2024-05-20T09:49:21.840136Z",
     "shell.execute_reply": "2024-05-20T09:49:21.838884Z",
     "shell.execute_reply.started": "2024-05-20T09:49:21.833920Z"
    }
   },
   "outputs": [],
   "source": [
    "viz = df.copy()"
   ]
  },
  {
   "cell_type": "markdown",
   "metadata": {},
   "source": [
    "# Data Preparation"
   ]
  },
  {
   "cell_type": "code",
   "execution_count": 12,
   "metadata": {
    "execution": {
     "iopub.execute_input": "2024-05-20T09:49:21.845177Z",
     "iopub.status.busy": "2024-05-20T09:49:21.844593Z",
     "iopub.status.idle": "2024-05-20T09:49:21.858661Z",
     "shell.execute_reply": "2024-05-20T09:49:21.857555Z",
     "shell.execute_reply.started": "2024-05-20T09:49:21.845131Z"
    }
   },
   "outputs": [
    {
     "data": {
      "text/plain": [
       "Date         0\n",
       "Open         0\n",
       "High         0\n",
       "Low          0\n",
       "Close        0\n",
       "Adj Close    0\n",
       "Volume       0\n",
       "dtype: int64"
      ]
     },
     "execution_count": 12,
     "metadata": {},
     "output_type": "execute_result"
    }
   ],
   "source": [
    "df.isnull().sum()"
   ]
  },
  {
   "cell_type": "code",
   "execution_count": 13,
   "metadata": {
    "execution": {
     "iopub.execute_input": "2024-05-20T09:49:21.860600Z",
     "iopub.status.busy": "2024-05-20T09:49:21.860174Z",
     "iopub.status.idle": "2024-05-20T09:49:21.868922Z",
     "shell.execute_reply": "2024-05-20T09:49:21.867546Z",
     "shell.execute_reply.started": "2024-05-20T09:49:21.860556Z"
    }
   },
   "outputs": [
    {
     "data": {
      "text/plain": [
       "(5044, 7)"
      ]
     },
     "execution_count": 13,
     "metadata": {},
     "output_type": "execute_result"
    }
   ],
   "source": [
    "df.shape"
   ]
  },
  {
   "cell_type": "code",
   "execution_count": 14,
   "metadata": {
    "execution": {
     "iopub.execute_input": "2024-05-20T09:49:21.870441Z",
     "iopub.status.busy": "2024-05-20T09:49:21.870071Z",
     "iopub.status.idle": "2024-05-20T09:49:21.899461Z",
     "shell.execute_reply": "2024-05-20T09:49:21.898216Z",
     "shell.execute_reply.started": "2024-05-20T09:49:21.870405Z"
    }
   },
   "outputs": [
    {
     "name": "stdout",
     "output_type": "stream",
     "text": [
      "<class 'pandas.core.frame.DataFrame'>\n",
      "RangeIndex: 5044 entries, 0 to 5043\n",
      "Data columns (total 7 columns):\n",
      " #   Column     Non-Null Count  Dtype  \n",
      "---  ------     --------------  -----  \n",
      " 0   Date       5044 non-null   object \n",
      " 1   Open       5044 non-null   float64\n",
      " 2   High       5044 non-null   float64\n",
      " 3   Low        5044 non-null   float64\n",
      " 4   Close      5044 non-null   float64\n",
      " 5   Adj Close  5044 non-null   float64\n",
      " 6   Volume     5044 non-null   int64  \n",
      "dtypes: float64(5), int64(1), object(1)\n",
      "memory usage: 276.0+ KB\n"
     ]
    }
   ],
   "source": [
    "df.info()"
   ]
  },
  {
   "cell_type": "code",
   "execution_count": 15,
   "metadata": {
    "execution": {
     "iopub.execute_input": "2024-05-20T09:49:21.902589Z",
     "iopub.status.busy": "2024-05-20T09:49:21.902086Z",
     "iopub.status.idle": "2024-05-20T09:49:21.946291Z",
     "shell.execute_reply": "2024-05-20T09:49:21.944849Z",
     "shell.execute_reply.started": "2024-05-20T09:49:21.902534Z"
    }
   },
   "outputs": [
    {
     "data": {
      "text/html": [
       "<div>\n",
       "<style scoped>\n",
       "    .dataframe tbody tr th:only-of-type {\n",
       "        vertical-align: middle;\n",
       "    }\n",
       "\n",
       "    .dataframe tbody tr th {\n",
       "        vertical-align: top;\n",
       "    }\n",
       "\n",
       "    .dataframe thead th {\n",
       "        text-align: right;\n",
       "    }\n",
       "</style>\n",
       "<table border=\"1\" class=\"dataframe\">\n",
       "  <thead>\n",
       "    <tr style=\"text-align: right;\">\n",
       "      <th></th>\n",
       "      <th>count</th>\n",
       "      <th>mean</th>\n",
       "      <th>std</th>\n",
       "      <th>min</th>\n",
       "      <th>25%</th>\n",
       "      <th>50%</th>\n",
       "      <th>75%</th>\n",
       "      <th>max</th>\n",
       "    </tr>\n",
       "  </thead>\n",
       "  <tbody>\n",
       "    <tr>\n",
       "      <th>Open</th>\n",
       "      <td>5044.0</td>\n",
       "      <td>1.164680e+02</td>\n",
       "      <td>1.687409e+02</td>\n",
       "      <td>0.377857</td>\n",
       "      <td>3.955357e+00</td>\n",
       "      <td>2.581929e+01</td>\n",
       "      <td>1.557625e+02</td>\n",
       "      <td>6.923500e+02</td>\n",
       "    </tr>\n",
       "    <tr>\n",
       "      <th>High</th>\n",
       "      <td>5044.0</td>\n",
       "      <td>1.182374e+02</td>\n",
       "      <td>1.711409e+02</td>\n",
       "      <td>0.410714</td>\n",
       "      <td>4.031072e+00</td>\n",
       "      <td>2.634214e+01</td>\n",
       "      <td>1.576550e+02</td>\n",
       "      <td>7.009900e+02</td>\n",
       "    </tr>\n",
       "    <tr>\n",
       "      <th>Low</th>\n",
       "      <td>5044.0</td>\n",
       "      <td>1.145787e+02</td>\n",
       "      <td>1.661198e+02</td>\n",
       "      <td>0.346429</td>\n",
       "      <td>3.885357e+00</td>\n",
       "      <td>2.545500e+01</td>\n",
       "      <td>1.539450e+02</td>\n",
       "      <td>6.860900e+02</td>\n",
       "    </tr>\n",
       "    <tr>\n",
       "      <th>Close</th>\n",
       "      <td>5044.0</td>\n",
       "      <td>1.164563e+02</td>\n",
       "      <td>1.686682e+02</td>\n",
       "      <td>0.372857</td>\n",
       "      <td>3.958571e+00</td>\n",
       "      <td>2.580286e+01</td>\n",
       "      <td>1.558700e+02</td>\n",
       "      <td>6.916900e+02</td>\n",
       "    </tr>\n",
       "    <tr>\n",
       "      <th>Adj Close</th>\n",
       "      <td>5044.0</td>\n",
       "      <td>1.164563e+02</td>\n",
       "      <td>1.686682e+02</td>\n",
       "      <td>0.372857</td>\n",
       "      <td>3.958571e+00</td>\n",
       "      <td>2.580286e+01</td>\n",
       "      <td>1.558700e+02</td>\n",
       "      <td>6.916900e+02</td>\n",
       "    </tr>\n",
       "    <tr>\n",
       "      <th>Volume</th>\n",
       "      <td>5044.0</td>\n",
       "      <td>1.653068e+07</td>\n",
       "      <td>1.924487e+07</td>\n",
       "      <td>285600.000000</td>\n",
       "      <td>6.168225e+06</td>\n",
       "      <td>1.059135e+07</td>\n",
       "      <td>1.986552e+07</td>\n",
       "      <td>3.234140e+08</td>\n",
       "    </tr>\n",
       "  </tbody>\n",
       "</table>\n",
       "</div>"
      ],
      "text/plain": [
       "            count          mean           std            min           25%  \\\n",
       "Open       5044.0  1.164680e+02  1.687409e+02       0.377857  3.955357e+00   \n",
       "High       5044.0  1.182374e+02  1.711409e+02       0.410714  4.031072e+00   \n",
       "Low        5044.0  1.145787e+02  1.661198e+02       0.346429  3.885357e+00   \n",
       "Close      5044.0  1.164563e+02  1.686682e+02       0.372857  3.958571e+00   \n",
       "Adj Close  5044.0  1.164563e+02  1.686682e+02       0.372857  3.958571e+00   \n",
       "Volume     5044.0  1.653068e+07  1.924487e+07  285600.000000  6.168225e+06   \n",
       "\n",
       "                    50%           75%           max  \n",
       "Open       2.581929e+01  1.557625e+02  6.923500e+02  \n",
       "High       2.634214e+01  1.576550e+02  7.009900e+02  \n",
       "Low        2.545500e+01  1.539450e+02  6.860900e+02  \n",
       "Close      2.580286e+01  1.558700e+02  6.916900e+02  \n",
       "Adj Close  2.580286e+01  1.558700e+02  6.916900e+02  \n",
       "Volume     1.059135e+07  1.986552e+07  3.234140e+08  "
      ]
     },
     "execution_count": 15,
     "metadata": {},
     "output_type": "execute_result"
    }
   ],
   "source": [
    "df.describe().T"
   ]
  },
  {
   "cell_type": "code",
   "execution_count": 16,
   "metadata": {
    "execution": {
     "iopub.execute_input": "2024-05-20T09:49:21.948491Z",
     "iopub.status.busy": "2024-05-20T09:49:21.948026Z",
     "iopub.status.idle": "2024-05-20T09:49:21.956141Z",
     "shell.execute_reply": "2024-05-20T09:49:21.955080Z",
     "shell.execute_reply.started": "2024-05-20T09:49:21.948441Z"
    }
   },
   "outputs": [],
   "source": [
    "# Prepare the feature matrix and target vector\n",
    "X = df[['Open', 'High', 'Low', 'Volume']]\n",
    "y = df['Close']"
   ]
  },
  {
   "cell_type": "code",
   "execution_count": 17,
   "metadata": {},
   "outputs": [],
   "source": [
    "# Create custom split to avoid ignoring the first splitin cross-validation\n",
    "def custom_time_series_split(X, n_splits):\n",
    "    n_samples = len(X)\n",
    "    test_size = n_samples // n_splits\n",
    "    train_size = test_size  # You can adjust this ratio as needed\n",
    "\n",
    "    for i in range(n_splits):\n",
    "        start = i * test_size\n",
    "        end = start + test_size\n",
    "        train_indices = list(range(start)) + list(range(end, n_samples))\n",
    "        test_indices = list(range(start, end))\n",
    "        yield train_indices, test_indices\n"
   ]
  },
  {
   "cell_type": "code",
   "execution_count": 18,
   "metadata": {
    "execution": {
     "iopub.execute_input": "2024-05-20T09:49:21.958016Z",
     "iopub.status.busy": "2024-05-20T09:49:21.957526Z",
     "iopub.status.idle": "2024-05-20T09:49:21.965865Z",
     "shell.execute_reply": "2024-05-20T09:49:21.964476Z",
     "shell.execute_reply.started": "2024-05-20T09:49:21.957943Z"
    }
   },
   "outputs": [],
   "source": [
    "# Determine an appropriate number of splits\n",
    "n_splits = 10\n",
    "\n",
    "# Model initialization\n",
    "model = LinearRegression()\n",
    "\n",
    "# Lists to store scores for each fold\n",
    "models = []\n",
    "mse_scores = []\n",
    "r2_scores = []"
   ]
  },
  {
   "cell_type": "code",
   "execution_count": 19,
   "metadata": {
    "execution": {
     "iopub.execute_input": "2024-05-20T09:49:21.967332Z",
     "iopub.status.busy": "2024-05-20T09:49:21.966952Z",
     "iopub.status.idle": "2024-05-20T09:49:21.991675Z",
     "shell.execute_reply": "2024-05-20T09:49:21.990617Z",
     "shell.execute_reply.started": "2024-05-20T09:49:21.967297Z"
    }
   },
   "outputs": [
    {
     "name": "stdout",
     "output_type": "stream",
     "text": [
      "[257.47470828]\n",
      "[257.47387666]\n",
      "[257.47482162]\n",
      "[257.47509698]\n",
      "[257.47028443]\n",
      "[257.47779765]\n",
      "[257.4625303]\n",
      "[257.358253]\n",
      "[257.59071817]\n",
      "[257.5820949]\n",
      "Average MSE: 3.4723129868220655\n",
      "Average R2: 0.9978697743033589\n"
     ]
    },
    {
     "name": "stderr",
     "output_type": "stream",
     "text": [
      "D:\\Program Files\\anaconda 3\\Lib\\site-packages\\sklearn\\base.py:439: UserWarning: X does not have valid feature names, but LinearRegression was fitted with feature names\n",
      "  warnings.warn(\n",
      "D:\\Program Files\\anaconda 3\\Lib\\site-packages\\sklearn\\base.py:439: UserWarning: X does not have valid feature names, but LinearRegression was fitted with feature names\n",
      "  warnings.warn(\n",
      "D:\\Program Files\\anaconda 3\\Lib\\site-packages\\sklearn\\base.py:439: UserWarning: X does not have valid feature names, but LinearRegression was fitted with feature names\n",
      "  warnings.warn(\n",
      "D:\\Program Files\\anaconda 3\\Lib\\site-packages\\sklearn\\base.py:439: UserWarning: X does not have valid feature names, but LinearRegression was fitted with feature names\n",
      "  warnings.warn(\n",
      "D:\\Program Files\\anaconda 3\\Lib\\site-packages\\sklearn\\base.py:439: UserWarning: X does not have valid feature names, but LinearRegression was fitted with feature names\n",
      "  warnings.warn(\n",
      "D:\\Program Files\\anaconda 3\\Lib\\site-packages\\sklearn\\base.py:439: UserWarning: X does not have valid feature names, but LinearRegression was fitted with feature names\n",
      "  warnings.warn(\n",
      "D:\\Program Files\\anaconda 3\\Lib\\site-packages\\sklearn\\base.py:439: UserWarning: X does not have valid feature names, but LinearRegression was fitted with feature names\n",
      "  warnings.warn(\n",
      "D:\\Program Files\\anaconda 3\\Lib\\site-packages\\sklearn\\base.py:439: UserWarning: X does not have valid feature names, but LinearRegression was fitted with feature names\n",
      "  warnings.warn(\n",
      "D:\\Program Files\\anaconda 3\\Lib\\site-packages\\sklearn\\base.py:439: UserWarning: X does not have valid feature names, but LinearRegression was fitted with feature names\n",
      "  warnings.warn(\n",
      "D:\\Program Files\\anaconda 3\\Lib\\site-packages\\sklearn\\base.py:439: UserWarning: X does not have valid feature names, but LinearRegression was fitted with feature names\n",
      "  warnings.warn(\n"
     ]
    }
   ],
   "source": [
    "# Perform the TimeSeries cross-validation\n",
    "for train_index, test_index in custom_time_series_split(X, n_splits):\n",
    "    X_train, X_test = X.iloc[train_index], X.iloc[test_index]\n",
    "    y_train, y_test = y.iloc[train_index], y.iloc[test_index]\n",
    "\n",
    "    # Define and fit the model within the loop\n",
    "    model_lnr = LinearRegression()\n",
    "    model_lnr.fit(X_train, y_train)\n",
    "    \n",
    "    # Predict the result with the same input, but different training data\n",
    "    y_pred = model_lnr.predict(X_test)\n",
    "    result = model_lnr.predict([[262.000000, 267.899994, 250.029999, 11896100]])\n",
    "    print(result)\n",
    "    \n",
    "    # Store the model if needed later\n",
    "    models.append(model_lnr)\n",
    "\n",
    "    # Predict on the test set\n",
    "    y_pred = model_lnr.predict(X_test)\n",
    "    \n",
    "    # Store the predictions in the DataFrame\n",
    "    df.loc[test_index, 'Close_Prediction'] = y_pred  # Update only the test indices\n",
    "\n",
    "    # Calculate and store the metrics\n",
    "    mse = mean_squared_error(y_test, y_pred)\n",
    "    r2 = r2_score(y_test, y_pred)\n",
    "    mse_scores.append(mse)\n",
    "    r2_scores.append(r2)\n",
    "\n",
    "# Output the average of the scores\n",
    "print(\"Average MSE:\", np.mean(mse_scores))\n",
    "print(\"Average R2:\", np.mean(r2_scores))\n"
   ]
  },
  {
   "cell_type": "code",
   "execution_count": 20,
   "metadata": {},
   "outputs": [
    {
     "name": "stdout",
     "output_type": "stream",
     "text": [
      "         Date     Close  Close_Prediction\n",
      "0  2002-05-23  1.196429          1.294173\n",
      "1  2002-05-24  1.210000          1.224872\n",
      "2  2002-05-28  1.157143          1.196923\n",
      "3  2002-05-29  1.103571          1.115198\n",
      "4  2002-05-30  1.071429          1.093960\n"
     ]
    }
   ],
   "source": [
    "# Immediately after the loop\n",
    "print(df[['Date', 'Close', 'Close_Prediction']].dropna().head())  # This shows a few rows where predictions exist\n"
   ]
  },
  {
   "cell_type": "markdown",
   "metadata": {},
   "source": [
    "# Model Evaluation"
   ]
  },
  {
   "cell_type": "code",
   "execution_count": 21,
   "metadata": {
    "execution": {
     "iopub.execute_input": "2024-05-20T09:49:22.102888Z",
     "iopub.status.busy": "2024-05-20T09:49:22.102001Z",
     "iopub.status.idle": "2024-05-20T09:49:22.115543Z",
     "shell.execute_reply": "2024-05-20T09:49:22.114186Z",
     "shell.execute_reply.started": "2024-05-20T09:49:22.102818Z"
    }
   },
   "outputs": [
    {
     "name": "stdout",
     "output_type": "stream",
     "text": [
      "MSE 19.174\n",
      "RMSE 4.379\n",
      "MAE 3.333\n",
      "MAPE 0.007\n",
      "R2 Score :  0.998\n"
     ]
    }
   ],
   "source": [
    "print(\"MSE\",round(mean_squared_error(y_test,y_pred), 3))\n",
    "print(\"RMSE\",round(np.sqrt(mean_squared_error(y_test,y_pred)), 3))\n",
    "print(\"MAE\",round(mean_absolute_error(y_test,y_pred), 3))\n",
    "print(\"MAPE\",round(mean_absolute_percentage_error(y_test,y_pred), 3))\n",
    "print(\"R2 Score : \", round(r2_score(y_test,y_pred), 3))"
   ]
  },
  {
   "cell_type": "markdown",
   "metadata": {},
   "source": [
    "# Model Visualization"
   ]
  },
  {
   "cell_type": "code",
   "execution_count": 22,
   "metadata": {
    "execution": {
     "iopub.execute_input": "2024-05-20T09:49:22.117947Z",
     "iopub.status.busy": "2024-05-20T09:49:22.117274Z",
     "iopub.status.idle": "2024-05-20T09:49:22.125962Z",
     "shell.execute_reply": "2024-05-20T09:49:22.124731Z",
     "shell.execute_reply.started": "2024-05-20T09:49:22.117907Z"
    }
   },
   "outputs": [],
   "source": [
    "def style():\n",
    "    plt.figure(facecolor='black', figsize=(15,10))\n",
    "    ax = plt.axes()\n",
    "\n",
    "    ax.tick_params(axis='x', colors='white')    #setting up X-axis tick color to white\n",
    "    ax.tick_params(axis='y', colors='white')    #setting up Y-axis tick color to white\n",
    "\n",
    "    ax.spines['left'].set_color('white')        #setting up Y-axis spine color to white\n",
    "    #ax.spines['right'].set_color('white')\n",
    "    #ax.spines['top'].set_color('white')\n",
    "    ax.spines['bottom'].set_color('white')      #setting up X-axis spine color to white\n",
    "\n",
    "    ax.set_facecolor(\"black\")                   # Setting the background color of the plot using set_facecolor() method"
   ]
  },
  {
   "cell_type": "code",
   "execution_count": 23,
   "metadata": {
    "execution": {
     "iopub.execute_input": "2024-05-20T09:49:22.128319Z",
     "iopub.status.busy": "2024-05-20T09:49:22.127353Z",
     "iopub.status.idle": "2024-05-20T09:49:22.145929Z",
     "shell.execute_reply": "2024-05-20T09:49:22.144449Z",
     "shell.execute_reply.started": "2024-05-20T09:49:22.128277Z"
    }
   },
   "outputs": [],
   "source": [
    "viz['Date']=pd.to_datetime(viz['Date'],format='%Y-%m-%d')"
   ]
  },
  {
   "cell_type": "code",
   "execution_count": 24,
   "metadata": {
    "execution": {
     "iopub.execute_input": "2024-05-20T09:49:22.149293Z",
     "iopub.status.busy": "2024-05-20T09:49:22.148497Z",
     "iopub.status.idle": "2024-05-20T09:49:22.192927Z",
     "shell.execute_reply": "2024-05-20T09:49:22.191439Z",
     "shell.execute_reply.started": "2024-05-20T09:49:22.149248Z"
    }
   },
   "outputs": [
    {
     "data": {
      "text/html": [
       "<div>\n",
       "<style scoped>\n",
       "    .dataframe tbody tr th:only-of-type {\n",
       "        vertical-align: middle;\n",
       "    }\n",
       "\n",
       "    .dataframe tbody tr th {\n",
       "        vertical-align: top;\n",
       "    }\n",
       "\n",
       "    .dataframe thead th {\n",
       "        text-align: right;\n",
       "    }\n",
       "</style>\n",
       "<table border=\"1\" class=\"dataframe\">\n",
       "  <thead>\n",
       "    <tr style=\"text-align: right;\">\n",
       "      <th></th>\n",
       "      <th>Close</th>\n",
       "    </tr>\n",
       "    <tr>\n",
       "      <th>Date</th>\n",
       "      <th></th>\n",
       "    </tr>\n",
       "  </thead>\n",
       "  <tbody>\n",
       "    <tr>\n",
       "      <th>2002-05-23</th>\n",
       "      <td>1.196429</td>\n",
       "    </tr>\n",
       "    <tr>\n",
       "      <th>2002-05-24</th>\n",
       "      <td>1.210000</td>\n",
       "    </tr>\n",
       "    <tr>\n",
       "      <th>2002-05-25</th>\n",
       "      <td>NaN</td>\n",
       "    </tr>\n",
       "    <tr>\n",
       "      <th>2002-05-26</th>\n",
       "      <td>NaN</td>\n",
       "    </tr>\n",
       "    <tr>\n",
       "      <th>2002-05-27</th>\n",
       "      <td>NaN</td>\n",
       "    </tr>\n",
       "    <tr>\n",
       "      <th>...</th>\n",
       "      <td>...</td>\n",
       "    </tr>\n",
       "    <tr>\n",
       "      <th>2022-05-30</th>\n",
       "      <td>NaN</td>\n",
       "    </tr>\n",
       "    <tr>\n",
       "      <th>2022-05-31</th>\n",
       "      <td>197.440002</td>\n",
       "    </tr>\n",
       "    <tr>\n",
       "      <th>2022-06-01</th>\n",
       "      <td>192.910004</td>\n",
       "    </tr>\n",
       "    <tr>\n",
       "      <th>2022-06-02</th>\n",
       "      <td>205.089996</td>\n",
       "    </tr>\n",
       "    <tr>\n",
       "      <th>2022-06-03</th>\n",
       "      <td>198.979996</td>\n",
       "    </tr>\n",
       "  </tbody>\n",
       "</table>\n",
       "<p>7317 rows × 1 columns</p>\n",
       "</div>"
      ],
      "text/plain": [
       "                 Close\n",
       "Date                  \n",
       "2002-05-23    1.196429\n",
       "2002-05-24    1.210000\n",
       "2002-05-25         NaN\n",
       "2002-05-26         NaN\n",
       "2002-05-27         NaN\n",
       "...                ...\n",
       "2022-05-30         NaN\n",
       "2022-05-31  197.440002\n",
       "2022-06-01  192.910004\n",
       "2022-06-02  205.089996\n",
       "2022-06-03  198.979996\n",
       "\n",
       "[7317 rows x 1 columns]"
      ]
     },
     "execution_count": 24,
     "metadata": {},
     "output_type": "execute_result"
    }
   ],
   "source": [
    "data = pd.DataFrame(viz[['Date','Close']])\n",
    "data=data.reset_index()\n",
    "data=data.drop('index',axis=1)\n",
    "data.set_index('Date', inplace=True)\n",
    "data = data.asfreq('D')\n",
    "data"
   ]
  },
  {
   "cell_type": "code",
   "execution_count": 25,
   "metadata": {
    "execution": {
     "iopub.execute_input": "2024-05-20T09:49:22.195598Z",
     "iopub.status.busy": "2024-05-20T09:49:22.194768Z",
     "iopub.status.idle": "2024-05-20T09:49:22.691432Z",
     "shell.execute_reply": "2024-05-20T09:49:22.690031Z",
     "shell.execute_reply.started": "2024-05-20T09:49:22.195526Z"
    }
   },
   "outputs": [
    {
     "data": {
      "text/plain": [
       "<matplotlib.legend.Legend at 0x2165056cb90>"
      ]
     },
     "execution_count": 25,
     "metadata": {},
     "output_type": "execute_result"
    },
    {
     "data": {
      "image/png": "[encoded data removed]",
      "text/plain": [
       "<Figure size 1500x1000 with 1 Axes>"
      ]
     },
     "metadata": {},
     "output_type": "display_data"
    }
   ],
   "source": [
    "style()\n",
    "\n",
    "plt.title('Closing Stock Price', color=\"white\")\n",
    "plt.plot(viz.Date, viz.Close, color=\"#94F008\")\n",
    "plt.legend([\"Close\"], loc =\"lower right\", facecolor='black', labelcolor='white')"
   ]
  },
  {
   "cell_type": "code",
   "execution_count": 26,
   "metadata": {
    "execution": {
     "iopub.execute_input": "2024-05-20T09:49:22.693859Z",
     "iopub.status.busy": "2024-05-20T09:49:22.693460Z",
     "iopub.status.idle": "2024-05-20T09:49:23.047693Z",
     "shell.execute_reply": "2024-05-20T09:49:23.046536Z",
     "shell.execute_reply.started": "2024-05-20T09:49:22.693821Z"
    }
   },
   "outputs": [
    {
     "data": {
      "text/plain": [
       "[<matplotlib.lines.Line2D at 0x2165063d250>]"
      ]
     },
     "execution_count": 26,
     "metadata": {},
     "output_type": "execute_result"
    },
    {
     "data": {
      "image/png": "[encoded data removed]",
      "text/plain": [
       "<Figure size 1500x1000 with 1 Axes>"
      ]
     },
     "metadata": {},
     "output_type": "display_data"
    }
   ],
   "source": [
    "style()\n",
    "\n",
    "plt.scatter(y_pred, y_test, color='red', marker='o')\n",
    "plt.scatter(y_test, y_test, color='blue')\n",
    "plt.plot(y_test, y_test, color='lime')"
   ]
  },
  {
   "cell_type": "code",
   "execution_count": 27,
   "metadata": {
    "execution": {
     "iopub.execute_input": "2024-05-20T09:49:23.079241Z",
     "iopub.status.busy": "2024-05-20T09:49:23.078717Z",
     "iopub.status.idle": "2024-05-20T09:49:23.108864Z",
     "shell.execute_reply": "2024-05-20T09:49:23.107412Z",
     "shell.execute_reply.started": "2024-05-20T09:49:23.079188Z"
    }
   },
   "outputs": [
    {
     "data": {
      "text/html": [
       "<div>\n",
       "<style scoped>\n",
       "    .dataframe tbody tr th:only-of-type {\n",
       "        vertical-align: middle;\n",
       "    }\n",
       "\n",
       "    .dataframe tbody tr th {\n",
       "        vertical-align: top;\n",
       "    }\n",
       "\n",
       "    .dataframe thead th {\n",
       "        text-align: right;\n",
       "    }\n",
       "</style>\n",
       "<table border=\"1\" class=\"dataframe\">\n",
       "  <thead>\n",
       "    <tr style=\"text-align: right;\">\n",
       "      <th></th>\n",
       "      <th>count</th>\n",
       "      <th>mean</th>\n",
       "      <th>std</th>\n",
       "      <th>min</th>\n",
       "      <th>25%</th>\n",
       "      <th>50%</th>\n",
       "      <th>75%</th>\n",
       "      <th>max</th>\n",
       "    </tr>\n",
       "  </thead>\n",
       "  <tbody>\n",
       "    <tr>\n",
       "      <th>Close</th>\n",
       "      <td>5044.0</td>\n",
       "      <td>116.456338</td>\n",
       "      <td>168.668232</td>\n",
       "      <td>0.372857</td>\n",
       "      <td>3.958571</td>\n",
       "      <td>25.802856</td>\n",
       "      <td>155.869999</td>\n",
       "      <td>691.690002</td>\n",
       "    </tr>\n",
       "    <tr>\n",
       "      <th>Close_Prediction</th>\n",
       "      <td>5040.0</td>\n",
       "      <td>116.409987</td>\n",
       "      <td>168.736090</td>\n",
       "      <td>0.373278</td>\n",
       "      <td>3.975478</td>\n",
       "      <td>25.828376</td>\n",
       "      <td>154.867332</td>\n",
       "      <td>696.005026</td>\n",
       "    </tr>\n",
       "  </tbody>\n",
       "</table>\n",
       "</div>"
      ],
      "text/plain": [
       "                   count        mean         std       min       25%  \\\n",
       "Close             5044.0  116.456338  168.668232  0.372857  3.958571   \n",
       "Close_Prediction  5040.0  116.409987  168.736090  0.373278  3.975478   \n",
       "\n",
       "                        50%         75%         max  \n",
       "Close             25.802856  155.869999  691.690002  \n",
       "Close_Prediction  25.828376  154.867332  696.005026  "
      ]
     },
     "execution_count": 27,
     "metadata": {},
     "output_type": "execute_result"
    }
   ],
   "source": [
    "df[['Close', 'Close_Prediction']].describe().T"
   ]
  },
  {
   "cell_type": "markdown",
   "metadata": {},
   "source": [
    "**Actual Close Price vs. Predicted Close Price**\n",
    "<div class=\"flourish-embed flourish-chart\" data-src=\"visualisation/13412598\"><script src=\"https://public.flourish.studio/resources/embed.js\"></script></div>"
   ]
  },
  {
   "cell_type": "markdown",
   "metadata": {},
   "source": [
    "# Saving the Data as CSV"
   ]
  },
  {
   "cell_type": "code",
   "execution_count": 28,
   "metadata": {},
   "outputs": [
    {
     "name": "stdout",
     "output_type": "stream",
     "text": [
      "         Date     Close  Close_Prediction\n",
      "0  2002-05-23  1.196429          1.294173\n",
      "1  2002-05-24  1.210000          1.224872\n",
      "2  2002-05-28  1.157143          1.196923\n",
      "3  2002-05-29  1.103571          1.115198\n",
      "4  2002-05-30  1.071429          1.093960\n"
     ]
    }
   ],
   "source": [
    "# Immediately after the loop\n",
    "print(df[['Date', 'Close', 'Close_Prediction']].dropna().head())  # This shows a few rows where predictions exist\n"
   ]
  },
  {
   "cell_type": "code",
   "execution_count": 29,
   "metadata": {},
   "outputs": [
    {
     "name": "stdout",
     "output_type": "stream",
     "text": [
      "CSV successfully saved!\n"
     ]
    }
   ],
   "source": [
    "# If 'Date' is not in datetime format, convert it\n",
    "df['Date'] = pd.to_datetime(df['Date'], format='%Y-%m-%d')\n",
    "\n",
    "# Select the relevant columns for output\n",
    "output = df[['Date', 'Close', 'Close_Prediction']]\n",
    "\n",
    "# Reset the index to remove any previous indexing, making 'Date' a column if not already\n",
    "output.reset_index(drop=True, inplace=True)\n",
    "\n",
    "# Set 'Date' as the index for the DataFrame\n",
    "output.set_index('Date', inplace=True)\n",
    "\n",
    "# Save the DataFrame to a CSV file\n",
    "output.to_csv('Close_Prediction.csv', index=True)\n",
    "\n",
    "print(\"CSV successfully saved!\")"
   ]
  },
  {
   "cell_type": "code",
   "execution_count": null,
   "metadata": {},
   "outputs": [],
   "source": []
  }
 ],
 "metadata": {
  "kaggle": {
   "accelerator": "none",
   "dataSources": [
    {
     "datasetId": 1912819,
     "sourceId": 3141205,
     "sourceType": "datasetVersion"
    }
   ],
   "dockerImageVersionId": 30458,
   "isGpuEnabled": false,
   "isInternetEnabled": true,
   "language": "python",
   "sourceType": "notebook"
  },
  "kernelspec": {
   "display_name": "Python 3 (ipykernel)",
   "language": "python",
   "name": "python3"
  },
  "language_info": {
   "codemirror_mode": {
    "name": "ipython",
    "version": 3
   },
   "file_extension": ".py",
   "mimetype": "text/x-python",
   "name": "python",
   "nbconvert_exporter": "python",
   "pygments_lexer": "ipython3",
   "version": "3.11.3"
  }
 },
 "nbformat": 4,
 "nbformat_minor": 4
}
