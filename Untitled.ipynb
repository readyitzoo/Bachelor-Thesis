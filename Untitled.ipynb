{
 "cells": [
  {
   "cell_type": "code",
   "execution_count": 1,
   "id": "b61110ba",
   "metadata": {},
   "outputs": [
    {
     "ename": "SyntaxError",
     "evalue": "invalid syntax (2558594872.py, line 16)",
     "output_type": "error",
     "traceback": [
      "\u001b[1;36m  Cell \u001b[1;32mIn[1], line 16\u001b[1;36m\u001b[0m\n\u001b[1;33m    Asking Six Questions\u001b[0m\n\u001b[1;37m           ^\u001b[0m\n\u001b[1;31mSyntaxError\u001b[0m\u001b[1;31m:\u001b[0m invalid syntax\n"
     ]
    }
   ],
   "source": [
    "import numpy as np\n",
    "import pandas as pd\n",
    "\n",
    "netflix = pd.read_csv('NFLX.csv')\n",
    "\n",
    "netflix['Date'] = pd.to_datetime(netflix['Date'])\n",
    "netflix['year'] = netflix['Date'].dt.year\n",
    "netflix['month'] = netflix['Date'].dt.month\n",
    "netflix['day'] = netflix['Date'].dt.day\n",
    "[42]\n",
    "netflix.head(3)\n",
    "[45]\n",
    "netflix.drop('Date',axis=1,inplace=True)\n",
    "[46]\n",
    "netflix\n",
    "Asking Six Questions\n",
    "[47]\n",
    "netflix.shape\n",
    "(1009, 9)\n",
    "[48]\n",
    "netflix.isnull().sum()\n",
    "Open 0\n",
    " High 0\n",
    " Low 0\n",
    " Close 0\n",
    " Adj Close 0\n",
    " Volume 0\n",
    " year 0\n",
    " month 0\n",
    " day 0\n",
    " dtype: int64\n",
    "[49]\n",
    "netflix.duplicated().sum()\n",
    "0\n",
    "[50]\n",
    "netflix.info()\n",
    "\n",
    "netflix.describe()\n",
    "EDA\n",
    "[53]\n",
    "\n",
    "\n"
   ]
  },
  {
   "cell_type": "code",
   "execution_count": null,
   "id": "2ecc422c",
   "metadata": {},
   "outputs": [],
   "source": []
  },
  {
   "cell_type": "code",
   "execution_count": null,
   "id": "7443d911",
   "metadata": {},
   "outputs": [],
   "source": []
  },
  {
   "cell_type": "code",
   "execution_count": null,
   "id": "bd7aac3e",
   "metadata": {},
   "outputs": [],
   "source": []
  },
  {
   "cell_type": "code",
   "execution_count": null,
   "id": "e3a91148",
   "metadata": {},
   "outputs": [],
   "source": []
  },
  {
   "cell_type": "code",
   "execution_count": null,
   "id": "1a4c162e",
   "metadata": {},
   "outputs": [],
   "source": [
    "import seaborn as sns\n",
    " import matplotlib.pyplot\n",
    "[54]\n",
    "corr = netflix.corr()\n",
    "[55]\n",
    "corr\n",
    "[59]\n",
    "sns.heatmap(corr,annot=True,cmap='coolwarm',cbar=True)\n",
    "data scatterness\n",
    "[61]\n",
    "sns.pairplot(netflix)\n",
    "data destribution\n",
    "[65]\n",
    "for i in netflix.columns:\n",
    " plt.figure(figsize=(10,6))\n",
    " sns.distplot(netflix[i])\n",
    " plt.title(i)\n",
    " plt.show()\n"
   ]
  },
  {
   "cell_type": "code",
   "execution_count": null,
   "id": "e0154b7e",
   "metadata": {},
   "outputs": [],
   "source": [
    "Train Test Split\n",
    "[67]\n",
    "X = netflix.drop('Close',axis=1)\n",
    " y = netflix['Close']\n",
    "[70]\n",
    "X.shape\n",
    "(1009, 8)\n",
    "[71]\n",
    "y.shape\n",
    "(1009,)\n"
   ]
  },
  {
   "cell_type": "code",
   "execution_count": null,
   "id": "1b0fbbbf",
   "metadata": {},
   "outputs": [],
   "source": [
    "from sklearn.model_selection import train_test_split\n",
    "[72]\n",
    "X_train, X_test, y_train, y_test = train_test_split(X, y, test_size=0.2, random_state=2)\n",
    "[73]\n",
    "X_train.shape\n",
    "(807, 8)\n",
    "[74]\n",
    "X_test.shape\n",
    "(202, 8)\n",
    "Normalizating Data Using StandarScaler\n",
    "[76]\n",
    "X_train\n",
    "[75]\n"
   ]
  },
  {
   "cell_type": "code",
   "execution_count": null,
   "id": "8b61d46d",
   "metadata": {},
   "outputs": [],
   "source": [
    "from sklearn.preprocessing import StandardScaler\n",
    " sclr = StandardScaler()\n",
    "[77]\n",
    "X_train = sclr.fit_transform(X_train)\n",
    " X_test = sclr.transform(X_test)\n",
    "[78]\n",
    "X_train\n",
    "\n"
   ]
  },
  {
   "cell_type": "code",
   "execution_count": null,
   "id": "14dd938a",
   "metadata": {},
   "outputs": [],
   "source": [
    "Using Regression\n",
    "[80]\n",
    "from sklearn.linear_model import LinearRegression\n",
    " lr = LinearRegression()\n",
    " \n",
    " lr.fit(X_train,y_train)\n",
    " y_pred = lr.predict(X_test)\n",
    "[81]\n",
    "y_pred\n"
   ]
  },
  {
   "cell_type": "code",
   "execution_count": null,
   "id": "3c32b905",
   "metadata": {},
   "outputs": [],
   "source": [
    "EValuation\n",
    "[82]\n",
    "from sklearn.metrics import r2_score,mean_squared_error\n",
    "[83]\n",
    "r2_score(y_test,y_pred)\n",
    "1.0\n",
    "[84]\n",
    "mean_squared_error(y_test,y_pred)\n",
    "3.651066963475181e-27\n",
    "Prediction Model\n",
    "[87]"
   ]
  },
  {
   "cell_type": "code",
   "execution_count": null,
   "id": "91f46d1a",
   "metadata": {},
   "outputs": [],
   "source": [
    "def pred(Open,High,Low,Adj_Close,Volume,year,month,day):\n",
    " features = np.array([[Open,High,Low,Adj_Close,Volume,year,month,day]])\n",
    " features = sclr.fit_transform(features)\n",
    " prediction = lr.predict(features).reshape(1,-1)\n",
    " return prediction[0]\n",
    "[88]\n",
    "Open = 200.45\n",
    " High = 250.45\n",
    " Low = 150.45\n",
    " Adj_Close = 100.34\n",
    " Volume = 100.45\n",
    " year = 2020\n",
    " month = 8\n",
    " day = 4\n",
    " \n",
    " res = pred(Open,High,Low,Adj_Close,Volume,year,month,day)\n",
    "[89]\n",
    "print(res)\n",
    "[418.63804176]\n",
    "[90]\n"
   ]
  },
  {
   "cell_type": "code",
   "execution_count": null,
   "id": "4cef6b41",
   "metadata": {},
   "outputs": [],
   "source": [
    "import pickle\n",
    " pickle.dump(lr,open('model.pkl','wb'))"
   ]
  },
  {
   "cell_type": "code",
   "execution_count": 5,
   "id": "42026fd0",
   "metadata": {},
   "outputs": [
    {
     "data": {
      "text/html": [
       "<div>\n",
       "<style scoped>\n",
       "    .dataframe tbody tr th:only-of-type {\n",
       "        vertical-align: middle;\n",
       "    }\n",
       "\n",
       "    .dataframe tbody tr th {\n",
       "        vertical-align: top;\n",
       "    }\n",
       "\n",
       "    .dataframe thead th {\n",
       "        text-align: right;\n",
       "    }\n",
       "</style>\n",
       "<table border=\"1\" class=\"dataframe\">\n",
       "  <thead>\n",
       "    <tr style=\"text-align: right;\">\n",
       "      <th></th>\n",
       "      <th>Date</th>\n",
       "      <th>Open</th>\n",
       "      <th>High</th>\n",
       "      <th>Low</th>\n",
       "      <th>Close</th>\n",
       "      <th>Adj Close</th>\n",
       "      <th>Volume</th>\n",
       "    </tr>\n",
       "  </thead>\n",
       "  <tbody>\n",
       "    <tr>\n",
       "      <th>0</th>\n",
       "      <td>2002-05-23</td>\n",
       "      <td>1.156429</td>\n",
       "      <td>1.242857</td>\n",
       "      <td>1.145714</td>\n",
       "      <td>1.196429</td>\n",
       "      <td>1.196429</td>\n",
       "      <td>104790000</td>\n",
       "    </tr>\n",
       "    <tr>\n",
       "      <th>1</th>\n",
       "      <td>2002-05-24</td>\n",
       "      <td>1.214286</td>\n",
       "      <td>1.225000</td>\n",
       "      <td>1.197143</td>\n",
       "      <td>1.210000</td>\n",
       "      <td>1.210000</td>\n",
       "      <td>11104800</td>\n",
       "    </tr>\n",
       "    <tr>\n",
       "      <th>2</th>\n",
       "      <td>2002-05-28</td>\n",
       "      <td>1.213571</td>\n",
       "      <td>1.232143</td>\n",
       "      <td>1.157143</td>\n",
       "      <td>1.157143</td>\n",
       "      <td>1.157143</td>\n",
       "      <td>6609400</td>\n",
       "    </tr>\n",
       "    <tr>\n",
       "      <th>3</th>\n",
       "      <td>2002-05-29</td>\n",
       "      <td>1.164286</td>\n",
       "      <td>1.164286</td>\n",
       "      <td>1.085714</td>\n",
       "      <td>1.103571</td>\n",
       "      <td>1.103571</td>\n",
       "      <td>6757800</td>\n",
       "    </tr>\n",
       "    <tr>\n",
       "      <th>4</th>\n",
       "      <td>2002-05-30</td>\n",
       "      <td>1.107857</td>\n",
       "      <td>1.107857</td>\n",
       "      <td>1.071429</td>\n",
       "      <td>1.071429</td>\n",
       "      <td>1.071429</td>\n",
       "      <td>10154200</td>\n",
       "    </tr>\n",
       "  </tbody>\n",
       "</table>\n",
       "</div>"
      ],
      "text/plain": [
       "         Date      Open      High       Low     Close  Adj Close     Volume\n",
       "0  2002-05-23  1.156429  1.242857  1.145714  1.196429   1.196429  104790000\n",
       "1  2002-05-24  1.214286  1.225000  1.197143  1.210000   1.210000   11104800\n",
       "2  2002-05-28  1.213571  1.232143  1.157143  1.157143   1.157143    6609400\n",
       "3  2002-05-29  1.164286  1.164286  1.085714  1.103571   1.103571    6757800\n",
       "4  2002-05-30  1.107857  1.107857  1.071429  1.071429   1.071429   10154200"
      ]
     },
     "execution_count": 5,
     "metadata": {},
     "output_type": "execute_result"
    }
   ],
   "source": [
    "netflix = pd.read_csv('NFLX.csv')\n",
    "netflix.head()"
   ]
  },
  {
   "cell_type": "code",
   "execution_count": null,
   "id": "47c6ab8c",
   "metadata": {},
   "outputs": [],
   "source": []
  }
 ],
 "metadata": {
  "kernelspec": {
   "display_name": "Python 3 (ipykernel)",
   "language": "python",
   "name": "python3"
  },
  "language_info": {
   "codemirror_mode": {
    "name": "ipython",
    "version": 3
   },
   "file_extension": ".py",
   "mimetype": "text/x-python",
   "name": "python",
   "nbconvert_exporter": "python",
   "pygments_lexer": "ipython3",
   "version": "3.11.3"
  }
 },
 "nbformat": 4,
 "nbformat_minor": 5
}
