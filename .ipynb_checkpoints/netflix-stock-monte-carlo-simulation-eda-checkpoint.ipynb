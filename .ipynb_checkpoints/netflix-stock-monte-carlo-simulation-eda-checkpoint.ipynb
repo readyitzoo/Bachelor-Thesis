{
 "cells": [
  {
   "cell_type": "code",
   "execution_count": 2,
   "metadata": {
    "_cell_guid": "b1076dfc-b9ad-4769-8c92-a6c4dae69d19",
    "_uuid": "8f2839f25d086af736a60e9eeb907d3b93b6e0e5",
    "execution": {
     "iopub.execute_input": "2022-02-22T00:45:28.807085Z",
     "iopub.status.busy": "2022-02-22T00:45:28.806782Z",
     "iopub.status.idle": "2022-02-22T00:45:28.814187Z",
     "shell.execute_reply": "2022-02-22T00:45:28.813116Z",
     "shell.execute_reply.started": "2022-02-22T00:45:28.807057Z"
    }
   },
   "outputs": [
    {
     "ename": "ModuleNotFoundError",
     "evalue": "No module named 'fbprophet'",
     "output_type": "error",
     "traceback": [
      "\u001b[1;31m---------------------------------------------------------------------------\u001b[0m",
      "\u001b[1;31mModuleNotFoundError\u001b[0m                       Traceback (most recent call last)",
      "Cell \u001b[1;32mIn[2], line 12\u001b[0m\n\u001b[0;32m      9\u001b[0m \u001b[38;5;28;01mimport\u001b[39;00m \u001b[38;5;21;01mmatplotlib\u001b[39;00m\u001b[38;5;21;01m.\u001b[39;00m\u001b[38;5;21;01mticker\u001b[39;00m \u001b[38;5;28;01mas\u001b[39;00m \u001b[38;5;21;01mticker\u001b[39;00m\n\u001b[0;32m     10\u001b[0m \u001b[38;5;28;01mimport\u001b[39;00m \u001b[38;5;21;01mplotly\u001b[39;00m\u001b[38;5;21;01m.\u001b[39;00m\u001b[38;5;21;01mfigure_factory\u001b[39;00m \u001b[38;5;28;01mas\u001b[39;00m \u001b[38;5;21;01mff\u001b[39;00m\n\u001b[1;32m---> 12\u001b[0m \u001b[38;5;28;01mfrom\u001b[39;00m \u001b[38;5;21;01mfbprophet\u001b[39;00m \u001b[38;5;28;01mimport\u001b[39;00m Prophet\n\u001b[0;32m     13\u001b[0m \u001b[38;5;28;01mfrom\u001b[39;00m \u001b[38;5;21;01mpandas_datareader\u001b[39;00m \u001b[38;5;28;01mimport\u001b[39;00m data\n\u001b[0;32m     14\u001b[0m \u001b[38;5;28;01mfrom\u001b[39;00m \u001b[38;5;21;01mscipy\u001b[39;00m \u001b[38;5;28;01mimport\u001b[39;00m stats\n",
      "\u001b[1;31mModuleNotFoundError\u001b[0m: No module named 'fbprophet'"
     ]
    }
   ],
   "source": [
    "import random \n",
    "import numpy as np \n",
    "import pandas as pd \n",
    "import plotly.express as px\n",
    "import seaborn as sns\n",
    "\n",
    "import matplotlib.pyplot as plt\n",
    "import plotly.graph_objects as go\n",
    "import matplotlib.ticker as ticker\n",
    "import plotly.figure_factory as ff\n",
    "\n",
    "from fbprophet import Prophet\n",
    "from pandas_datareader import data\n",
    "from scipy import stats\n",
    "from sklearn.metrics import mean_absolute_error\n",
    "from statsmodels.tsa.seasonal import seasonal_decompose\n",
    "\n",
    "from sklearn.preprocessing import MinMaxScaler\n",
    "\n",
    "from matplotlib.ticker import FixedFormatter, FixedLocator"
   ]
  },
  {
   "cell_type": "code",
   "execution_count": null,
   "metadata": {
    "execution": {
     "iopub.execute_input": "2022-02-22T00:45:30.143244Z",
     "iopub.status.busy": "2022-02-22T00:45:30.142468Z",
     "iopub.status.idle": "2022-02-22T00:45:30.191268Z",
     "shell.execute_reply": "2022-02-22T00:45:30.190553Z",
     "shell.execute_reply.started": "2022-02-22T00:45:30.143201Z"
    }
   },
   "outputs": [],
   "source": [
    "path = \"../input/netflix-stock-price-prediction/NFLX.csv\"\n",
    "prices_train = pd.read_csv(path)\n",
    "cm = sns.light_palette(\"green\", as_cmap=True)\n",
    "prices_train.head(30).style.background_gradient(cmap=cm)"
   ]
  },
  {
   "cell_type": "code",
   "execution_count": null,
   "metadata": {
    "execution": {
     "iopub.execute_input": "2022-02-22T00:45:30.960994Z",
     "iopub.status.busy": "2022-02-22T00:45:30.96022Z",
     "iopub.status.idle": "2022-02-22T00:45:30.970908Z",
     "shell.execute_reply": "2022-02-22T00:45:30.970257Z",
     "shell.execute_reply.started": "2022-02-22T00:45:30.960943Z"
    }
   },
   "outputs": [],
   "source": [
    "pd.DataFrame(prices_train.columns, columns=[\"name\"])"
   ]
  },
  {
   "cell_type": "code",
   "execution_count": null,
   "metadata": {
    "execution": {
     "iopub.execute_input": "2022-02-22T00:45:31.806098Z",
     "iopub.status.busy": "2022-02-22T00:45:31.805128Z",
     "iopub.status.idle": "2022-02-22T00:45:31.882716Z",
     "shell.execute_reply": "2022-02-22T00:45:31.882034Z",
     "shell.execute_reply.started": "2022-02-22T00:45:31.806054Z"
    }
   },
   "outputs": [],
   "source": [
    "fig = px.bar(prices_train, x='Date', y='Volume')\n",
    "fig.update_layout(title=f'Netflix stock price', barmode='stack', font_color=\"black\")\n",
    "fig.show()"
   ]
  },
  {
   "cell_type": "code",
   "execution_count": null,
   "metadata": {
    "execution": {
     "iopub.execute_input": "2022-02-22T00:45:32.335656Z",
     "iopub.status.busy": "2022-02-22T00:45:32.334857Z",
     "iopub.status.idle": "2022-02-22T00:45:32.673956Z",
     "shell.execute_reply": "2022-02-22T00:45:32.67336Z",
     "shell.execute_reply.started": "2022-02-22T00:45:32.335605Z"
    }
   },
   "outputs": [],
   "source": [
    "f, (ax1) = plt.subplots(1, 1, figsize=(14, 5))\n",
    "v_dist_1 = prices_train[\"Close\"].values\n",
    "sns.histplot(v_dist_1, ax=ax1, kde=True)\n",
    "mean=prices_train[\"Close\"].mean()\n",
    "median=prices_train[\"Close\"].median()\n",
    "mode=prices_train[\"Close\"].mode().values[0]\n",
    "ax1.axvline(mean, color='r', linestyle='--', label=\"Mean\")\n",
    "ax1.axvline(median, color='g', linestyle='-', label=\"Mean\")\n",
    "ax1.axvline(mode, color='b', linestyle='-', label=\"Mode\")\n",
    "ax1.legend()"
   ]
  },
  {
   "cell_type": "markdown",
   "metadata": {},
   "source": [
    "# Monte Carlo Simulation"
   ]
  },
  {
   "cell_type": "code",
   "execution_count": null,
   "metadata": {
    "execution": {
     "iopub.execute_input": "2022-02-22T00:49:50.331258Z",
     "iopub.status.busy": "2022-02-22T00:49:50.330945Z",
     "iopub.status.idle": "2022-02-22T00:49:50.338914Z",
     "shell.execute_reply": "2022-02-22T00:49:50.338071Z",
     "shell.execute_reply.started": "2022-02-22T00:49:50.331227Z"
    }
   },
   "outputs": [],
   "source": [
    "days_prev_len = 20\n",
    "\n",
    "prices_train_copy = prices_train[\"Close\"]\n",
    "print(f\"Before: {len(prices_train_copy)}\")\n",
    "\n",
    "prices_train_copy = prices_train_copy[0: len(prices_train_copy) - days_prev_len]\n",
    "prices_test_copy = prices_train_copy[len(prices_train_copy) - days_prev_len:]\n",
    "print(f\"After: {len(prices_train_copy)}\")\n",
    "print(f\"Test dt: {len(prices_test_copy)}\")"
   ]
  },
  {
   "cell_type": "code",
   "execution_count": null,
   "metadata": {
    "execution": {
     "iopub.execute_input": "2022-02-22T00:49:51.654164Z",
     "iopub.status.busy": "2022-02-22T00:49:51.653339Z",
     "iopub.status.idle": "2022-02-22T00:49:51.66439Z",
     "shell.execute_reply": "2022-02-22T00:49:51.663514Z",
     "shell.execute_reply.started": "2022-02-22T00:49:51.654119Z"
    }
   },
   "outputs": [],
   "source": [
    "prices_train_copy = np.log(1 + prices_train_copy.pct_change())\n",
    "prices_train_copy.fillna(0, inplace=True)\n",
    "prices_train_copy"
   ]
  },
  {
   "cell_type": "code",
   "execution_count": null,
   "metadata": {
    "execution": {
     "iopub.execute_input": "2022-02-22T00:49:52.473494Z",
     "iopub.status.busy": "2022-02-22T00:49:52.473197Z",
     "iopub.status.idle": "2022-02-22T00:49:52.479686Z",
     "shell.execute_reply": "2022-02-22T00:49:52.478695Z",
     "shell.execute_reply.started": "2022-02-22T00:49:52.473461Z"
    }
   },
   "outputs": [],
   "source": [
    "drift = prices_train_copy.mean() - (0.5 * prices_train_copy.var())\n",
    "print(f\"Drift: {drift}\")"
   ]
  },
  {
   "cell_type": "code",
   "execution_count": null,
   "metadata": {
    "execution": {
     "iopub.execute_input": "2022-02-22T00:49:53.327773Z",
     "iopub.status.busy": "2022-02-22T00:49:53.326997Z",
     "iopub.status.idle": "2022-02-22T00:50:19.206219Z",
     "shell.execute_reply": "2022-02-22T00:50:19.205406Z",
     "shell.execute_reply.started": "2022-02-22T00:49:53.327721Z"
    }
   },
   "outputs": [],
   "source": [
    "simulations = 200\n",
    "Z = stats.norm.ppf(np.random.rand(days_prev_len, simulations))\n",
    "\n",
    "plt.figure(figsize=(20, 15))\n",
    "sns.histplot(Z)\n",
    "plt.show()"
   ]
  },
  {
   "cell_type": "code",
   "execution_count": null,
   "metadata": {
    "execution": {
     "iopub.execute_input": "2022-02-22T00:50:19.208723Z",
     "iopub.status.busy": "2022-02-22T00:50:19.207928Z",
     "iopub.status.idle": "2022-02-22T00:50:19.338422Z",
     "shell.execute_reply": "2022-02-22T00:50:19.337682Z",
     "shell.execute_reply.started": "2022-02-22T00:50:19.208675Z"
    }
   },
   "outputs": [],
   "source": [
    "def get_plot_simulation(predictions: list):\n",
    "    fig = px.line(title = 'Monte Carlo Simulation')\n",
    "    for i in range(len(predictions.T)):\n",
    "        fig.add_scatter(y = predictions.T[i], name = i)\n",
    "    fig.update_layout(paper_bgcolor='white', plot_bgcolor=\"white\", font_color=\"black\")\n",
    "    fig.show()\n",
    "\n",
    "df_std = prices_train_copy.std()\n",
    "days_rt = np.exp(drift + df_std * Z)\n",
    "days_pred = np.zeros_like(days_rt)\n",
    "days_pred[0] = prices_train[\"Close\"].iloc[-1]\n",
    "\n",
    "for i in range(1, days_prev_len):\n",
    "    days_pred[i] = days_pred[i - 1] * days_rt[i]\n",
    "get_plot_simulation(days_pred)\n"
   ]
  },
  {
   "cell_type": "code",
   "execution_count": null,
   "metadata": {
    "execution": {
     "iopub.execute_input": "2022-02-22T00:50:19.340038Z",
     "iopub.status.busy": "2022-02-22T00:50:19.339434Z",
     "iopub.status.idle": "2022-02-22T00:50:19.396836Z",
     "shell.execute_reply": "2022-02-22T00:50:19.395911Z",
     "shell.execute_reply.started": "2022-02-22T00:50:19.339991Z"
    }
   },
   "outputs": [],
   "source": [
    "s = days_pred.T[0][0:len(prices_test_copy)]\n",
    "\n",
    "prices_test_copy = prices_test_copy[0:days_prev_len]\n",
    "mean_absolute_error(prices_test_copy, s)\n",
    "\n",
    "sqerror = list()\n",
    "for i in range(len(days_pred.T)):\n",
    "    sqerror.append(mean_absolute_error(prices_test_copy, days_pred.T[i][0:days_prev_len]))"
   ]
  },
  {
   "cell_type": "code",
   "execution_count": null,
   "metadata": {
    "execution": {
     "iopub.execute_input": "2022-02-22T00:50:19.399373Z",
     "iopub.status.busy": "2022-02-22T00:50:19.399023Z",
     "iopub.status.idle": "2022-02-22T00:50:19.465608Z",
     "shell.execute_reply": "2022-02-22T00:50:19.464588Z",
     "shell.execute_reply.started": "2022-02-22T00:50:19.399328Z"
    }
   },
   "outputs": [],
   "source": [
    "def plot_best_predict(df: dict, index_max: int, index_min: int):\n",
    "    fig = px.line(title='Predict Simulation - Monte Carlo', markers=True)\n",
    "    fig.add_scatter(y=df, name='value')\n",
    "    fig.add_scatter(y=days_pred.T[index_max], name='biggest pred error')\n",
    "    fig.add_scatter(y=days_pred.T[index_min], name='smallest pred error')\n",
    "    fig.update_traces(mode='markers+lines')\n",
    "    fig.update_layout(paper_bgcolor='white', plot_bgcolor=\"white\", font_color=\"black\")\n",
    "    fig.show()\n",
    "\n",
    "index_min = np.argmin(sqerror)\n",
    "index_max = np.argmax(sqerror)\n",
    "plot_best_predict(prices_test_copy, index_max, index_min)\n"
   ]
  },
  {
   "cell_type": "code",
   "execution_count": null,
   "metadata": {
    "execution": {
     "iopub.execute_input": "2022-02-22T00:50:19.46729Z",
     "iopub.status.busy": "2022-02-22T00:50:19.467044Z",
     "iopub.status.idle": "2022-02-22T00:50:19.496253Z",
     "shell.execute_reply": "2022-02-22T00:50:19.491102Z",
     "shell.execute_reply.started": "2022-02-22T00:50:19.46726Z"
    }
   },
   "outputs": [],
   "source": [
    "for index, error in enumerate(sqerror):\n",
    "    print(f\"Simulation: {index} - error: {error}\")"
   ]
  }
 ],
 "metadata": {
  "kaggle": {
   "accelerator": "none",
   "dataSources": [
    {
     "datasetId": 1912819,
     "sourceId": 3141205,
     "sourceType": "datasetVersion"
    }
   ],
   "dockerImageVersionId": 30162,
   "isGpuEnabled": false,
   "isInternetEnabled": true,
   "language": "python",
   "sourceType": "notebook"
  },
  "kernelspec": {
   "display_name": "Python 3 (ipykernel)",
   "language": "python",
   "name": "python3"
  },
  "language_info": {
   "codemirror_mode": {
    "name": "ipython",
    "version": 3
   },
   "file_extension": ".py",
   "mimetype": "text/x-python",
   "name": "python",
   "nbconvert_exporter": "python",
   "pygments_lexer": "ipython3",
   "version": "3.11.3"
  }
 },
 "nbformat": 4,
 "nbformat_minor": 4
}
