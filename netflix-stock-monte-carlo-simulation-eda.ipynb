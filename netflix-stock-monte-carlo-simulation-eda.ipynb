{
 "cells": [
  {
   "cell_type": "code",
   "execution_count": 6,
   "metadata": {
    "_cell_guid": "b1076dfc-b9ad-4769-8c92-a6c4dae69d19",
    "_uuid": "8f2839f25d086af736a60e9eeb907d3b93b6e0e5",
    "execution": {
     "iopub.execute_input": "2022-02-22T00:45:28.807085Z",
     "iopub.status.busy": "2022-02-22T00:45:28.806782Z",
     "iopub.status.idle": "2022-02-22T00:45:28.814187Z",
     "shell.execute_reply": "2022-02-22T00:45:28.813116Z",
     "shell.execute_reply.started": "2022-02-22T00:45:28.807057Z"
    }
   },
   "outputs": [],
   "source": [
    "import random \n",
    "import numpy as np \n",
    "import pandas as pd \n",
    "import plotly.express as px\n",
    "import seaborn as sns\n",
    "\n",
    "import matplotlib.pyplot as plt\n",
    "import plotly.graph_objects as go\n",
    "import matplotlib.ticker as ticker\n",
    "import plotly.figure_factory as ff\n",
    "\n",
    "from prophet import Prophet\n",
    "from pandas_datareader import data\n",
    "from scipy import stats\n",
    "from sklearn.metrics import mean_absolute_error\n",
    "from statsmodels.tsa.seasonal import seasonal_decompose\n",
    "\n",
    "from sklearn.preprocessing import MinMaxScaler\n",
    "\n",
    "from matplotlib.ticker import FixedFormatter, FixedLocator"
   ]
  },
  {
   "cell_type": "code",
   "execution_count": 31,
   "metadata": {
    "execution": {
     "iopub.execute_input": "2022-02-22T00:45:30.143244Z",
     "iopub.status.busy": "2022-02-22T00:45:30.142468Z",
     "iopub.status.idle": "2022-02-22T00:45:30.191268Z",
     "shell.execute_reply": "2022-02-22T00:45:30.190553Z",
     "shell.execute_reply.started": "2022-02-22T00:45:30.143201Z"
    }
   },
   "outputs": [
    {
     "data": {
      "text/html": [
       "<style type=\"text/css\">\n",
       "#T_47d1c_row0_col1, #T_47d1c_row0_col3, #T_47d1c_row3_col3 {\n",
       "  background-color: #c4e0c4;\n",
       "  color: #000000;\n",
       "}\n",
       "#T_47d1c_row0_col2, #T_47d1c_row5_col3 {\n",
       "  background-color: #c7e1c7;\n",
       "  color: #000000;\n",
       "}\n",
       "#T_47d1c_row0_col4, #T_47d1c_row0_col5 {\n",
       "  background-color: #deedde;\n",
       "  color: #000000;\n",
       "}\n",
       "#T_47d1c_row0_col6 {\n",
       "  background-color: #87c287;\n",
       "  color: #000000;\n",
       "}\n",
       "#T_47d1c_row1_col1, #T_47d1c_row4_col2, #T_47d1c_row4_col3, #T_47d1c_row4_col4, #T_47d1c_row4_col5, #T_47d1c_row27_col6 {\n",
       "  background-color: #ebf3eb;\n",
       "  color: #000000;\n",
       "}\n",
       "#T_47d1c_row1_col2 {\n",
       "  background-color: #cae3ca;\n",
       "  color: #000000;\n",
       "}\n",
       "#T_47d1c_row1_col3, #T_47d1c_row6_col4, #T_47d1c_row6_col5 {\n",
       "  background-color: #d2e7d2;\n",
       "  color: #000000;\n",
       "}\n",
       "#T_47d1c_row1_col4, #T_47d1c_row1_col5, #T_47d1c_row5_col6 {\n",
       "  background-color: #bddcbd;\n",
       "  color: #000000;\n",
       "}\n",
       "#T_47d1c_row1_col6, #T_47d1c_row9_col3 {\n",
       "  background-color: #7cbd7c;\n",
       "  color: #000000;\n",
       "}\n",
       "#T_47d1c_row2_col1, #T_47d1c_row6_col3, #T_47d1c_row12_col6 {\n",
       "  background-color: #b7dab7;\n",
       "  color: #000000;\n",
       "}\n",
       "#T_47d1c_row2_col2 {\n",
       "  background-color: #b9dbb9;\n",
       "  color: #000000;\n",
       "}\n",
       "#T_47d1c_row2_col3, #T_47d1c_row9_col2 {\n",
       "  background-color: #9ccd9c;\n",
       "  color: #000000;\n",
       "}\n",
       "#T_47d1c_row2_col4, #T_47d1c_row2_col5 {\n",
       "  background-color: #bfdebf;\n",
       "  color: #000000;\n",
       "}\n",
       "#T_47d1c_row2_col6 {\n",
       "  background-color: #b5d9b5;\n",
       "  color: #000000;\n",
       "}\n",
       "#T_47d1c_row3_col1 {\n",
       "  background-color: #b6d9b6;\n",
       "  color: #000000;\n",
       "}\n",
       "#T_47d1c_row3_col2, #T_47d1c_row7_col1 {\n",
       "  background-color: #c8e2c8;\n",
       "  color: #000000;\n",
       "}\n",
       "#T_47d1c_row3_col4, #T_47d1c_row3_col5 {\n",
       "  background-color: #eaf2ea;\n",
       "  color: #000000;\n",
       "}\n",
       "#T_47d1c_row3_col6 {\n",
       "  background-color: #b1d7b1;\n",
       "  color: #000000;\n",
       "}\n",
       "#T_47d1c_row4_col1, #T_47d1c_row6_col2 {\n",
       "  background-color: #daebda;\n",
       "  color: #000000;\n",
       "}\n",
       "#T_47d1c_row4_col6 {\n",
       "  background-color: #379b37;\n",
       "  color: #f1f1f1;\n",
       "}\n",
       "#T_47d1c_row5_col1 {\n",
       "  background-color: #dfeddf;\n",
       "  color: #000000;\n",
       "}\n",
       "#T_47d1c_row5_col2 {\n",
       "  background-color: #e1eee1;\n",
       "  color: #000000;\n",
       "}\n",
       "#T_47d1c_row5_col4, #T_47d1c_row5_col5 {\n",
       "  background-color: #d3e7d3;\n",
       "  color: #000000;\n",
       "}\n",
       "#T_47d1c_row6_col1, #T_47d1c_row13_col6 {\n",
       "  background-color: #d1e6d1;\n",
       "  color: #000000;\n",
       "}\n",
       "#T_47d1c_row6_col6 {\n",
       "  background-color: #d7e9d7;\n",
       "  color: #000000;\n",
       "}\n",
       "#T_47d1c_row7_col2, #T_47d1c_row9_col6 {\n",
       "  background-color: #c0dec0;\n",
       "  color: #000000;\n",
       "}\n",
       "#T_47d1c_row7_col3 {\n",
       "  background-color: #a7d2a7;\n",
       "  color: #000000;\n",
       "}\n",
       "#T_47d1c_row7_col4, #T_47d1c_row7_col5 {\n",
       "  background-color: #bcdcbc;\n",
       "  color: #000000;\n",
       "}\n",
       "#T_47d1c_row7_col6, #T_47d1c_row9_col1 {\n",
       "  background-color: #96c996;\n",
       "  color: #000000;\n",
       "}\n",
       "#T_47d1c_row8_col1 {\n",
       "  background-color: #aed5ae;\n",
       "  color: #000000;\n",
       "}\n",
       "#T_47d1c_row8_col2, #T_47d1c_row14_col6 {\n",
       "  background-color: #a1cfa1;\n",
       "  color: #000000;\n",
       "}\n",
       "#T_47d1c_row8_col3 {\n",
       "  background-color: #93c893;\n",
       "  color: #000000;\n",
       "}\n",
       "#T_47d1c_row8_col4, #T_47d1c_row8_col5 {\n",
       "  background-color: #92c892;\n",
       "  color: #000000;\n",
       "}\n",
       "#T_47d1c_row8_col6 {\n",
       "  background-color: #9acb9a;\n",
       "  color: #000000;\n",
       "}\n",
       "#T_47d1c_row9_col4, #T_47d1c_row9_col5, #T_47d1c_row10_col4, #T_47d1c_row10_col5 {\n",
       "  background-color: #98ca98;\n",
       "  color: #000000;\n",
       "}\n",
       "#T_47d1c_row10_col1, #T_47d1c_row12_col4, #T_47d1c_row12_col5 {\n",
       "  background-color: #99cb99;\n",
       "  color: #000000;\n",
       "}\n",
       "#T_47d1c_row10_col2, #T_47d1c_row11_col4, #T_47d1c_row11_col5, #T_47d1c_row13_col2 {\n",
       "  background-color: #90c790;\n",
       "  color: #000000;\n",
       "}\n",
       "#T_47d1c_row10_col3 {\n",
       "  background-color: #79bc79;\n",
       "  color: #000000;\n",
       "}\n",
       "#T_47d1c_row10_col6 {\n",
       "  background-color: #c9e3c9;\n",
       "  color: #000000;\n",
       "}\n",
       "#T_47d1c_row11_col1 {\n",
       "  background-color: #8dc58d;\n",
       "  color: #000000;\n",
       "}\n",
       "#T_47d1c_row11_col2, #T_47d1c_row13_col1, #T_47d1c_row22_col6 {\n",
       "  background-color: #8fc68f;\n",
       "  color: #000000;\n",
       "}\n",
       "#T_47d1c_row11_col3, #T_47d1c_row18_col6 {\n",
       "  background-color: #70b770;\n",
       "  color: #f1f1f1;\n",
       "}\n",
       "#T_47d1c_row11_col6 {\n",
       "  background-color: #b0d6b0;\n",
       "  color: #000000;\n",
       "}\n",
       "#T_47d1c_row12_col1 {\n",
       "  background-color: #88c388;\n",
       "  color: #000000;\n",
       "}\n",
       "#T_47d1c_row12_col2 {\n",
       "  background-color: #95c995;\n",
       "  color: #000000;\n",
       "}\n",
       "#T_47d1c_row12_col3 {\n",
       "  background-color: #80bf80;\n",
       "  color: #000000;\n",
       "}\n",
       "#T_47d1c_row13_col3, #T_47d1c_row25_col6 {\n",
       "  background-color: #77ba77;\n",
       "  color: #f1f1f1;\n",
       "}\n",
       "#T_47d1c_row13_col4, #T_47d1c_row13_col5 {\n",
       "  background-color: #83c083;\n",
       "  color: #000000;\n",
       "}\n",
       "#T_47d1c_row14_col1 {\n",
       "  background-color: #7abc7a;\n",
       "  color: #000000;\n",
       "}\n",
       "#T_47d1c_row14_col2, #T_47d1c_row16_col2, #T_47d1c_row16_col4, #T_47d1c_row16_col5 {\n",
       "  background-color: #73b873;\n",
       "  color: #f1f1f1;\n",
       "}\n",
       "#T_47d1c_row14_col3 {\n",
       "  background-color: #5dae5d;\n",
       "  color: #f1f1f1;\n",
       "}\n",
       "#T_47d1c_row14_col4, #T_47d1c_row14_col5 {\n",
       "  background-color: #6bb46b;\n",
       "  color: #f1f1f1;\n",
       "}\n",
       "#T_47d1c_row15_col1 {\n",
       "  background-color: #6ab46a;\n",
       "  color: #f1f1f1;\n",
       "}\n",
       "#T_47d1c_row15_col2 {\n",
       "  background-color: #6db66d;\n",
       "  color: #f1f1f1;\n",
       "}\n",
       "#T_47d1c_row15_col3 {\n",
       "  background-color: #53a953;\n",
       "  color: #f1f1f1;\n",
       "}\n",
       "#T_47d1c_row15_col4, #T_47d1c_row15_col5 {\n",
       "  background-color: #75b975;\n",
       "  color: #f1f1f1;\n",
       "}\n",
       "#T_47d1c_row15_col6 {\n",
       "  background-color: #afd6af;\n",
       "  color: #000000;\n",
       "}\n",
       "#T_47d1c_row16_col1 {\n",
       "  background-color: #6eb66e;\n",
       "  color: #f1f1f1;\n",
       "}\n",
       "#T_47d1c_row16_col3 {\n",
       "  background-color: #52a852;\n",
       "  color: #f1f1f1;\n",
       "}\n",
       "#T_47d1c_row16_col6 {\n",
       "  background-color: #cbe4cb;\n",
       "  color: #000000;\n",
       "}\n",
       "#T_47d1c_row17_col1 {\n",
       "  background-color: #6fb76f;\n",
       "  color: #f1f1f1;\n",
       "}\n",
       "#T_47d1c_row17_col2 {\n",
       "  background-color: #74b974;\n",
       "  color: #f1f1f1;\n",
       "}\n",
       "#T_47d1c_row17_col3 {\n",
       "  background-color: #65b265;\n",
       "  color: #f1f1f1;\n",
       "}\n",
       "#T_47d1c_row17_col4, #T_47d1c_row17_col5 {\n",
       "  background-color: #76ba76;\n",
       "  color: #f1f1f1;\n",
       "}\n",
       "#T_47d1c_row17_col6 {\n",
       "  background-color: #86c286;\n",
       "  color: #000000;\n",
       "}\n",
       "#T_47d1c_row18_col1 {\n",
       "  background-color: #85c185;\n",
       "  color: #000000;\n",
       "}\n",
       "#T_47d1c_row18_col2 {\n",
       "  background-color: #62b062;\n",
       "  color: #f1f1f1;\n",
       "}\n",
       "#T_47d1c_row18_col3 {\n",
       "  background-color: #67b267;\n",
       "  color: #f1f1f1;\n",
       "}\n",
       "#T_47d1c_row18_col4, #T_47d1c_row18_col5 {\n",
       "  background-color: #56aa56;\n",
       "  color: #f1f1f1;\n",
       "}\n",
       "#T_47d1c_row19_col1 {\n",
       "  background-color: #54a954;\n",
       "  color: #f1f1f1;\n",
       "}\n",
       "#T_47d1c_row19_col2, #T_47d1c_row29_col2 {\n",
       "  background-color: #339933;\n",
       "  color: #f1f1f1;\n",
       "}\n",
       "#T_47d1c_row19_col3 {\n",
       "  background-color: #3f9f3f;\n",
       "  color: #f1f1f1;\n",
       "}\n",
       "#T_47d1c_row19_col4, #T_47d1c_row19_col5 {\n",
       "  background-color: #2f972f;\n",
       "  color: #f1f1f1;\n",
       "}\n",
       "#T_47d1c_row19_col6 {\n",
       "  background-color: #168b16;\n",
       "  color: #f1f1f1;\n",
       "}\n",
       "#T_47d1c_row20_col1, #T_47d1c_row21_col1, #T_47d1c_row28_col4, #T_47d1c_row28_col5 {\n",
       "  background-color: #259225;\n",
       "  color: #f1f1f1;\n",
       "}\n",
       "#T_47d1c_row20_col2, #T_47d1c_row25_col2 {\n",
       "  background-color: #188c18;\n",
       "  color: #f1f1f1;\n",
       "}\n",
       "#T_47d1c_row20_col3 {\n",
       "  background-color: #0a850a;\n",
       "  color: #f1f1f1;\n",
       "}\n",
       "#T_47d1c_row20_col4, #T_47d1c_row20_col5 {\n",
       "  background-color: #118911;\n",
       "  color: #f1f1f1;\n",
       "}\n",
       "#T_47d1c_row20_col6, #T_47d1c_row21_col4, #T_47d1c_row21_col5, #T_47d1c_row24_col4, #T_47d1c_row24_col5, #T_47d1c_row27_col4, #T_47d1c_row27_col5, #T_47d1c_row28_col2 {\n",
       "  background-color: #1d8e1d;\n",
       "  color: #f1f1f1;\n",
       "}\n",
       "#T_47d1c_row21_col2, #T_47d1c_row22_col1, #T_47d1c_row26_col2 {\n",
       "  background-color: #1e8f1e;\n",
       "  color: #f1f1f1;\n",
       "}\n",
       "#T_47d1c_row21_col3 {\n",
       "  background-color: #108810;\n",
       "  color: #f1f1f1;\n",
       "}\n",
       "#T_47d1c_row21_col6, #T_47d1c_row29_col4, #T_47d1c_row29_col5 {\n",
       "  background-color: #349934;\n",
       "  color: #f1f1f1;\n",
       "}\n",
       "#T_47d1c_row22_col2, #T_47d1c_row23_col1, #T_47d1c_row28_col1 {\n",
       "  background-color: #219021;\n",
       "  color: #f1f1f1;\n",
       "}\n",
       "#T_47d1c_row22_col3 {\n",
       "  background-color: #118811;\n",
       "  color: #f1f1f1;\n",
       "}\n",
       "#T_47d1c_row22_col4, #T_47d1c_row22_col5, #T_47d1c_row26_col1 {\n",
       "  background-color: #299429;\n",
       "  color: #f1f1f1;\n",
       "}\n",
       "#T_47d1c_row23_col2 {\n",
       "  background-color: #078407;\n",
       "  color: #f1f1f1;\n",
       "}\n",
       "#T_47d1c_row23_col3, #T_47d1c_row23_col4, #T_47d1c_row23_col5, #T_47d1c_row24_col1, #T_47d1c_row24_col2, #T_47d1c_row24_col6 {\n",
       "  background-color: #008000;\n",
       "  color: #f1f1f1;\n",
       "}\n",
       "#T_47d1c_row23_col6 {\n",
       "  background-color: #5eae5e;\n",
       "  color: #f1f1f1;\n",
       "}\n",
       "#T_47d1c_row24_col3 {\n",
       "  background-color: #048204;\n",
       "  color: #f1f1f1;\n",
       "}\n",
       "#T_47d1c_row25_col1 {\n",
       "  background-color: #1a8d1a;\n",
       "  color: #f1f1f1;\n",
       "}\n",
       "#T_47d1c_row25_col3 {\n",
       "  background-color: #138913;\n",
       "  color: #f1f1f1;\n",
       "}\n",
       "#T_47d1c_row25_col4, #T_47d1c_row25_col5 {\n",
       "  background-color: #2c962c;\n",
       "  color: #f1f1f1;\n",
       "}\n",
       "#T_47d1c_row26_col3, #T_47d1c_row27_col3 {\n",
       "  background-color: #068306;\n",
       "  color: #f1f1f1;\n",
       "}\n",
       "#T_47d1c_row26_col4, #T_47d1c_row26_col5, #T_47d1c_row27_col1 {\n",
       "  background-color: #1c8e1c;\n",
       "  color: #f1f1f1;\n",
       "}\n",
       "#T_47d1c_row26_col6 {\n",
       "  background-color: #9dcd9d;\n",
       "  color: #000000;\n",
       "}\n",
       "#T_47d1c_row27_col2 {\n",
       "  background-color: #1f8f1f;\n",
       "  color: #f1f1f1;\n",
       "}\n",
       "#T_47d1c_row28_col3 {\n",
       "  background-color: #058205;\n",
       "  color: #f1f1f1;\n",
       "}\n",
       "#T_47d1c_row28_col6 {\n",
       "  background-color: #d0e6d0;\n",
       "  color: #000000;\n",
       "}\n",
       "#T_47d1c_row29_col1 {\n",
       "  background-color: #309730;\n",
       "  color: #f1f1f1;\n",
       "}\n",
       "#T_47d1c_row29_col3 {\n",
       "  background-color: #249224;\n",
       "  color: #f1f1f1;\n",
       "}\n",
       "#T_47d1c_row29_col6 {\n",
       "  background-color: #a6d2a6;\n",
       "  color: #000000;\n",
       "}\n",
       "</style>\n",
       "<table id=\"T_47d1c\">\n",
       "  <thead>\n",
       "    <tr>\n",
       "      <th class=\"blank level0\" >&nbsp;</th>\n",
       "      <th id=\"T_47d1c_level0_col0\" class=\"col_heading level0 col0\" >Date</th>\n",
       "      <th id=\"T_47d1c_level0_col1\" class=\"col_heading level0 col1\" >Open</th>\n",
       "      <th id=\"T_47d1c_level0_col2\" class=\"col_heading level0 col2\" >High</th>\n",
       "      <th id=\"T_47d1c_level0_col3\" class=\"col_heading level0 col3\" >Low</th>\n",
       "      <th id=\"T_47d1c_level0_col4\" class=\"col_heading level0 col4\" >Close</th>\n",
       "      <th id=\"T_47d1c_level0_col5\" class=\"col_heading level0 col5\" >Adj Close</th>\n",
       "      <th id=\"T_47d1c_level0_col6\" class=\"col_heading level0 col6\" >Volume</th>\n",
       "    </tr>\n",
       "  </thead>\n",
       "  <tbody>\n",
       "    <tr>\n",
       "      <th id=\"T_47d1c_level0_row0\" class=\"row_heading level0 row0\" >0</th>\n",
       "      <td id=\"T_47d1c_row0_col0\" class=\"data row0 col0\" >2018-02-05</td>\n",
       "      <td id=\"T_47d1c_row0_col1\" class=\"data row0 col1\" >262.000000</td>\n",
       "      <td id=\"T_47d1c_row0_col2\" class=\"data row0 col2\" >267.899994</td>\n",
       "      <td id=\"T_47d1c_row0_col3\" class=\"data row0 col3\" >250.029999</td>\n",
       "      <td id=\"T_47d1c_row0_col4\" class=\"data row0 col4\" >254.259995</td>\n",
       "      <td id=\"T_47d1c_row0_col5\" class=\"data row0 col5\" >254.259995</td>\n",
       "      <td id=\"T_47d1c_row0_col6\" class=\"data row0 col6\" >11896100</td>\n",
       "    </tr>\n",
       "    <tr>\n",
       "      <th id=\"T_47d1c_level0_row1\" class=\"row_heading level0 row1\" >1</th>\n",
       "      <td id=\"T_47d1c_row1_col0\" class=\"data row1 col0\" >2018-02-06</td>\n",
       "      <td id=\"T_47d1c_row1_col1\" class=\"data row1 col1\" >247.699997</td>\n",
       "      <td id=\"T_47d1c_row1_col2\" class=\"data row1 col2\" >266.700012</td>\n",
       "      <td id=\"T_47d1c_row1_col3\" class=\"data row1 col3\" >245.000000</td>\n",
       "      <td id=\"T_47d1c_row1_col4\" class=\"data row1 col4\" >265.720001</td>\n",
       "      <td id=\"T_47d1c_row1_col5\" class=\"data row1 col5\" >265.720001</td>\n",
       "      <td id=\"T_47d1c_row1_col6\" class=\"data row1 col6\" >12595800</td>\n",
       "    </tr>\n",
       "    <tr>\n",
       "      <th id=\"T_47d1c_level0_row2\" class=\"row_heading level0 row2\" >2</th>\n",
       "      <td id=\"T_47d1c_row2_col0\" class=\"data row2 col0\" >2018-02-07</td>\n",
       "      <td id=\"T_47d1c_row2_col1\" class=\"data row2 col1\" >266.579987</td>\n",
       "      <td id=\"T_47d1c_row2_col2\" class=\"data row2 col2\" >272.450012</td>\n",
       "      <td id=\"T_47d1c_row2_col3\" class=\"data row2 col3\" >264.329987</td>\n",
       "      <td id=\"T_47d1c_row2_col4\" class=\"data row2 col4\" >264.559998</td>\n",
       "      <td id=\"T_47d1c_row2_col5\" class=\"data row2 col5\" >264.559998</td>\n",
       "      <td id=\"T_47d1c_row2_col6\" class=\"data row2 col6\" >8981500</td>\n",
       "    </tr>\n",
       "    <tr>\n",
       "      <th id=\"T_47d1c_level0_row3\" class=\"row_heading level0 row3\" >3</th>\n",
       "      <td id=\"T_47d1c_row3_col0\" class=\"data row3 col0\" >2018-02-08</td>\n",
       "      <td id=\"T_47d1c_row3_col1\" class=\"data row3 col1\" >267.079987</td>\n",
       "      <td id=\"T_47d1c_row3_col2\" class=\"data row3 col2\" >267.619995</td>\n",
       "      <td id=\"T_47d1c_row3_col3\" class=\"data row3 col3\" >250.000000</td>\n",
       "      <td id=\"T_47d1c_row3_col4\" class=\"data row3 col4\" >250.100006</td>\n",
       "      <td id=\"T_47d1c_row3_col5\" class=\"data row3 col5\" >250.100006</td>\n",
       "      <td id=\"T_47d1c_row3_col6\" class=\"data row3 col6\" >9306700</td>\n",
       "    </tr>\n",
       "    <tr>\n",
       "      <th id=\"T_47d1c_level0_row4\" class=\"row_heading level0 row4\" >4</th>\n",
       "      <td id=\"T_47d1c_row4_col0\" class=\"data row4 col0\" >2018-02-09</td>\n",
       "      <td id=\"T_47d1c_row4_col1\" class=\"data row4 col1\" >253.850006</td>\n",
       "      <td id=\"T_47d1c_row4_col2\" class=\"data row4 col2\" >255.800003</td>\n",
       "      <td id=\"T_47d1c_row4_col3\" class=\"data row4 col3\" >236.110001</td>\n",
       "      <td id=\"T_47d1c_row4_col4\" class=\"data row4 col4\" >249.470001</td>\n",
       "      <td id=\"T_47d1c_row4_col5\" class=\"data row4 col5\" >249.470001</td>\n",
       "      <td id=\"T_47d1c_row4_col6\" class=\"data row4 col6\" >16906900</td>\n",
       "    </tr>\n",
       "    <tr>\n",
       "      <th id=\"T_47d1c_level0_row5\" class=\"row_heading level0 row5\" >5</th>\n",
       "      <td id=\"T_47d1c_row5_col0\" class=\"data row5 col0\" >2018-02-12</td>\n",
       "      <td id=\"T_47d1c_row5_col1\" class=\"data row5 col1\" >252.139999</td>\n",
       "      <td id=\"T_47d1c_row5_col2\" class=\"data row5 col2\" >259.149994</td>\n",
       "      <td id=\"T_47d1c_row5_col3\" class=\"data row5 col3\" >249.000000</td>\n",
       "      <td id=\"T_47d1c_row5_col4\" class=\"data row5 col4\" >257.950012</td>\n",
       "      <td id=\"T_47d1c_row5_col5\" class=\"data row5 col5\" >257.950012</td>\n",
       "      <td id=\"T_47d1c_row5_col6\" class=\"data row5 col6\" >8534900</td>\n",
       "    </tr>\n",
       "    <tr>\n",
       "      <th id=\"T_47d1c_level0_row6\" class=\"row_heading level0 row6\" >6</th>\n",
       "      <td id=\"T_47d1c_row6_col0\" class=\"data row6 col0\" >2018-02-13</td>\n",
       "      <td id=\"T_47d1c_row6_col1\" class=\"data row6 col1\" >257.290009</td>\n",
       "      <td id=\"T_47d1c_row6_col2\" class=\"data row6 col2\" >261.410004</td>\n",
       "      <td id=\"T_47d1c_row6_col3\" class=\"data row6 col3\" >254.699997</td>\n",
       "      <td id=\"T_47d1c_row6_col4\" class=\"data row6 col4\" >258.269989</td>\n",
       "      <td id=\"T_47d1c_row6_col5\" class=\"data row6 col5\" >258.269989</td>\n",
       "      <td id=\"T_47d1c_row6_col6\" class=\"data row6 col6\" >6855200</td>\n",
       "    </tr>\n",
       "    <tr>\n",
       "      <th id=\"T_47d1c_level0_row7\" class=\"row_heading level0 row7\" >7</th>\n",
       "      <td id=\"T_47d1c_row7_col0\" class=\"data row7 col0\" >2018-02-14</td>\n",
       "      <td id=\"T_47d1c_row7_col1\" class=\"data row7 col1\" >260.470001</td>\n",
       "      <td id=\"T_47d1c_row7_col2\" class=\"data row7 col2\" >269.880005</td>\n",
       "      <td id=\"T_47d1c_row7_col3\" class=\"data row7 col3\" >260.329987</td>\n",
       "      <td id=\"T_47d1c_row7_col4\" class=\"data row7 col4\" >266.000000</td>\n",
       "      <td id=\"T_47d1c_row7_col5\" class=\"data row7 col5\" >266.000000</td>\n",
       "      <td id=\"T_47d1c_row7_col6\" class=\"data row7 col6\" >10972000</td>\n",
       "    </tr>\n",
       "    <tr>\n",
       "      <th id=\"T_47d1c_level0_row8\" class=\"row_heading level0 row8\" >8</th>\n",
       "      <td id=\"T_47d1c_row8_col0\" class=\"data row8 col0\" >2018-02-15</td>\n",
       "      <td id=\"T_47d1c_row8_col1\" class=\"data row8 col1\" >270.029999</td>\n",
       "      <td id=\"T_47d1c_row8_col2\" class=\"data row8 col2\" >280.500000</td>\n",
       "      <td id=\"T_47d1c_row8_col3\" class=\"data row8 col3\" >267.630005</td>\n",
       "      <td id=\"T_47d1c_row8_col4\" class=\"data row8 col4\" >280.269989</td>\n",
       "      <td id=\"T_47d1c_row8_col5\" class=\"data row8 col5\" >280.269989</td>\n",
       "      <td id=\"T_47d1c_row8_col6\" class=\"data row8 col6\" >10759700</td>\n",
       "    </tr>\n",
       "    <tr>\n",
       "      <th id=\"T_47d1c_level0_row9\" class=\"row_heading level0 row9\" >9</th>\n",
       "      <td id=\"T_47d1c_row9_col0\" class=\"data row9 col0\" >2018-02-16</td>\n",
       "      <td id=\"T_47d1c_row9_col1\" class=\"data row9 col1\" >278.730011</td>\n",
       "      <td id=\"T_47d1c_row9_col2\" class=\"data row9 col2\" >281.959991</td>\n",
       "      <td id=\"T_47d1c_row9_col3\" class=\"data row9 col3\" >275.690002</td>\n",
       "      <td id=\"T_47d1c_row9_col4\" class=\"data row9 col4\" >278.519989</td>\n",
       "      <td id=\"T_47d1c_row9_col5\" class=\"data row9 col5\" >278.519989</td>\n",
       "      <td id=\"T_47d1c_row9_col6\" class=\"data row9 col6\" >8312400</td>\n",
       "    </tr>\n",
       "    <tr>\n",
       "      <th id=\"T_47d1c_level0_row10\" class=\"row_heading level0 row10\" >10</th>\n",
       "      <td id=\"T_47d1c_row10_col0\" class=\"data row10 col0\" >2018-02-20</td>\n",
       "      <td id=\"T_47d1c_row10_col1\" class=\"data row10 col1\" >277.739990</td>\n",
       "      <td id=\"T_47d1c_row10_col2\" class=\"data row10 col2\" >285.809998</td>\n",
       "      <td id=\"T_47d1c_row10_col3\" class=\"data row10 col3\" >276.609985</td>\n",
       "      <td id=\"T_47d1c_row10_col4\" class=\"data row10 col4\" >278.549988</td>\n",
       "      <td id=\"T_47d1c_row10_col5\" class=\"data row10 col5\" >278.549988</td>\n",
       "      <td id=\"T_47d1c_row10_col6\" class=\"data row10 col6\" >7769000</td>\n",
       "    </tr>\n",
       "    <tr>\n",
       "      <th id=\"T_47d1c_level0_row11\" class=\"row_heading level0 row11\" >11</th>\n",
       "      <td id=\"T_47d1c_row11_col0\" class=\"data row11 col0\" >2018-02-21</td>\n",
       "      <td id=\"T_47d1c_row11_col1\" class=\"data row11 col1\" >282.070007</td>\n",
       "      <td id=\"T_47d1c_row11_col2\" class=\"data row11 col2\" >286.640015</td>\n",
       "      <td id=\"T_47d1c_row11_col3\" class=\"data row11 col3\" >280.010010</td>\n",
       "      <td id=\"T_47d1c_row11_col4\" class=\"data row11 col4\" >281.040009</td>\n",
       "      <td id=\"T_47d1c_row11_col5\" class=\"data row11 col5\" >281.040009</td>\n",
       "      <td id=\"T_47d1c_row11_col6\" class=\"data row11 col6\" >9371100</td>\n",
       "    </tr>\n",
       "    <tr>\n",
       "      <th id=\"T_47d1c_level0_row12\" class=\"row_heading level0 row12\" >12</th>\n",
       "      <td id=\"T_47d1c_row12_col0\" class=\"data row12 col0\" >2018-02-22</td>\n",
       "      <td id=\"T_47d1c_row12_col1\" class=\"data row12 col1\" >283.880005</td>\n",
       "      <td id=\"T_47d1c_row12_col2\" class=\"data row12 col2\" >284.500000</td>\n",
       "      <td id=\"T_47d1c_row12_col3\" class=\"data row12 col3\" >274.450012</td>\n",
       "      <td id=\"T_47d1c_row12_col4\" class=\"data row12 col4\" >278.140015</td>\n",
       "      <td id=\"T_47d1c_row12_col5\" class=\"data row12 col5\" >278.140015</td>\n",
       "      <td id=\"T_47d1c_row12_col6\" class=\"data row12 col6\" >8891500</td>\n",
       "    </tr>\n",
       "    <tr>\n",
       "      <th id=\"T_47d1c_level0_row13\" class=\"row_heading level0 row13\" >13</th>\n",
       "      <td id=\"T_47d1c_row13_col0\" class=\"data row13 col0\" >2018-02-23</td>\n",
       "      <td id=\"T_47d1c_row13_col1\" class=\"data row13 col1\" >281.000000</td>\n",
       "      <td id=\"T_47d1c_row13_col2\" class=\"data row13 col2\" >286.000000</td>\n",
       "      <td id=\"T_47d1c_row13_col3\" class=\"data row13 col3\" >277.809998</td>\n",
       "      <td id=\"T_47d1c_row13_col4\" class=\"data row13 col4\" >285.929993</td>\n",
       "      <td id=\"T_47d1c_row13_col5\" class=\"data row13 col5\" >285.929993</td>\n",
       "      <td id=\"T_47d1c_row13_col6\" class=\"data row13 col6\" >7301800</td>\n",
       "    </tr>\n",
       "    <tr>\n",
       "      <th id=\"T_47d1c_level0_row14\" class=\"row_heading level0 row14\" >14</th>\n",
       "      <td id=\"T_47d1c_row14_col0\" class=\"data row14 col0\" >2018-02-26</td>\n",
       "      <td id=\"T_47d1c_row14_col1\" class=\"data row14 col1\" >288.750000</td>\n",
       "      <td id=\"T_47d1c_row14_col2\" class=\"data row14 col2\" >295.649994</td>\n",
       "      <td id=\"T_47d1c_row14_col3\" class=\"data row14 col3\" >287.010010</td>\n",
       "      <td id=\"T_47d1c_row14_col4\" class=\"data row14 col4\" >294.160004</td>\n",
       "      <td id=\"T_47d1c_row14_col5\" class=\"data row14 col5\" >294.160004</td>\n",
       "      <td id=\"T_47d1c_row14_col6\" class=\"data row14 col6\" >10268600</td>\n",
       "    </tr>\n",
       "    <tr>\n",
       "      <th id=\"T_47d1c_level0_row15\" class=\"row_heading level0 row15\" >15</th>\n",
       "      <td id=\"T_47d1c_row15_col0\" class=\"data row15 col0\" >2018-02-27</td>\n",
       "      <td id=\"T_47d1c_row15_col1\" class=\"data row15 col1\" >294.769989</td>\n",
       "      <td id=\"T_47d1c_row15_col2\" class=\"data row15 col2\" >297.359985</td>\n",
       "      <td id=\"T_47d1c_row15_col3\" class=\"data row15 col3\" >290.589996</td>\n",
       "      <td id=\"T_47d1c_row15_col4\" class=\"data row15 col4\" >290.609985</td>\n",
       "      <td id=\"T_47d1c_row15_col5\" class=\"data row15 col5\" >290.609985</td>\n",
       "      <td id=\"T_47d1c_row15_col6\" class=\"data row15 col6\" >9416500</td>\n",
       "    </tr>\n",
       "    <tr>\n",
       "      <th id=\"T_47d1c_level0_row16\" class=\"row_heading level0 row16\" >16</th>\n",
       "      <td id=\"T_47d1c_row16_col0\" class=\"data row16 col0\" >2018-02-28</td>\n",
       "      <td id=\"T_47d1c_row16_col1\" class=\"data row16 col1\" >293.100006</td>\n",
       "      <td id=\"T_47d1c_row16_col2\" class=\"data row16 col2\" >295.750000</td>\n",
       "      <td id=\"T_47d1c_row16_col3\" class=\"data row16 col3\" >290.779999</td>\n",
       "      <td id=\"T_47d1c_row16_col4\" class=\"data row16 col4\" >291.380005</td>\n",
       "      <td id=\"T_47d1c_row16_col5\" class=\"data row16 col5\" >291.380005</td>\n",
       "      <td id=\"T_47d1c_row16_col6\" class=\"data row16 col6\" >7653500</td>\n",
       "    </tr>\n",
       "    <tr>\n",
       "      <th id=\"T_47d1c_level0_row17\" class=\"row_heading level0 row17\" >17</th>\n",
       "      <td id=\"T_47d1c_row17_col0\" class=\"data row17 col0\" >2018-03-01</td>\n",
       "      <td id=\"T_47d1c_row17_col1\" class=\"data row17 col1\" >292.750000</td>\n",
       "      <td id=\"T_47d1c_row17_col2\" class=\"data row17 col2\" >295.250000</td>\n",
       "      <td id=\"T_47d1c_row17_col3\" class=\"data row17 col3\" >283.829987</td>\n",
       "      <td id=\"T_47d1c_row17_col4\" class=\"data row17 col4\" >290.390015</td>\n",
       "      <td id=\"T_47d1c_row17_col5\" class=\"data row17 col5\" >290.390015</td>\n",
       "      <td id=\"T_47d1c_row17_col6\" class=\"data row17 col6\" >11932100</td>\n",
       "    </tr>\n",
       "    <tr>\n",
       "      <th id=\"T_47d1c_level0_row18\" class=\"row_heading level0 row18\" >18</th>\n",
       "      <td id=\"T_47d1c_row18_col0\" class=\"data row18 col0\" >2018-03-02</td>\n",
       "      <td id=\"T_47d1c_row18_col1\" class=\"data row18 col1\" >284.649994</td>\n",
       "      <td id=\"T_47d1c_row18_col2\" class=\"data row18 col2\" >301.179993</td>\n",
       "      <td id=\"T_47d1c_row18_col3\" class=\"data row18 col3\" >283.230011</td>\n",
       "      <td id=\"T_47d1c_row18_col4\" class=\"data row18 col4\" >301.049988</td>\n",
       "      <td id=\"T_47d1c_row18_col5\" class=\"data row18 col5\" >301.049988</td>\n",
       "      <td id=\"T_47d1c_row18_col6\" class=\"data row18 col6\" >13345300</td>\n",
       "    </tr>\n",
       "    <tr>\n",
       "      <th id=\"T_47d1c_level0_row19\" class=\"row_heading level0 row19\" >19</th>\n",
       "      <td id=\"T_47d1c_row19_col0\" class=\"data row19 col0\" >2018-03-05</td>\n",
       "      <td id=\"T_47d1c_row19_col1\" class=\"data row19 col1\" >302.850006</td>\n",
       "      <td id=\"T_47d1c_row19_col2\" class=\"data row19 col2\" >316.910004</td>\n",
       "      <td id=\"T_47d1c_row19_col3\" class=\"data row19 col3\" >297.600006</td>\n",
       "      <td id=\"T_47d1c_row19_col4\" class=\"data row19 col4\" >315.000000</td>\n",
       "      <td id=\"T_47d1c_row19_col5\" class=\"data row19 col5\" >315.000000</td>\n",
       "      <td id=\"T_47d1c_row19_col6\" class=\"data row19 col6\" >18986100</td>\n",
       "    </tr>\n",
       "    <tr>\n",
       "      <th id=\"T_47d1c_level0_row20\" class=\"row_heading level0 row20\" >20</th>\n",
       "      <td id=\"T_47d1c_row20_col0\" class=\"data row20 col0\" >2018-03-06</td>\n",
       "      <td id=\"T_47d1c_row20_col1\" class=\"data row20 col1\" >319.880005</td>\n",
       "      <td id=\"T_47d1c_row20_col2\" class=\"data row20 col2\" >325.790009</td>\n",
       "      <td id=\"T_47d1c_row20_col3\" class=\"data row20 col3\" >316.500000</td>\n",
       "      <td id=\"T_47d1c_row20_col4\" class=\"data row20 col4\" >325.220001</td>\n",
       "      <td id=\"T_47d1c_row20_col5\" class=\"data row20 col5\" >325.220001</td>\n",
       "      <td id=\"T_47d1c_row20_col6\" class=\"data row20 col6\" >18525800</td>\n",
       "    </tr>\n",
       "    <tr>\n",
       "      <th id=\"T_47d1c_level0_row21\" class=\"row_heading level0 row21\" >21</th>\n",
       "      <td id=\"T_47d1c_row21_col0\" class=\"data row21 col0\" >2018-03-07</td>\n",
       "      <td id=\"T_47d1c_row21_col1\" class=\"data row21 col1\" >320.000000</td>\n",
       "      <td id=\"T_47d1c_row21_col2\" class=\"data row21 col2\" >323.739990</td>\n",
       "      <td id=\"T_47d1c_row21_col3\" class=\"data row21 col3\" >314.549988</td>\n",
       "      <td id=\"T_47d1c_row21_col4\" class=\"data row21 col4\" >321.160004</td>\n",
       "      <td id=\"T_47d1c_row21_col5\" class=\"data row21 col5\" >321.160004</td>\n",
       "      <td id=\"T_47d1c_row21_col6\" class=\"data row21 col6\" >17132200</td>\n",
       "    </tr>\n",
       "    <tr>\n",
       "      <th id=\"T_47d1c_level0_row22\" class=\"row_heading level0 row22\" >22</th>\n",
       "      <td id=\"T_47d1c_row22_col0\" class=\"data row22 col0\" >2018-03-08</td>\n",
       "      <td id=\"T_47d1c_row22_col1\" class=\"data row22 col1\" >322.200012</td>\n",
       "      <td id=\"T_47d1c_row22_col2\" class=\"data row22 col2\" >322.920013</td>\n",
       "      <td id=\"T_47d1c_row22_col3\" class=\"data row22 col3\" >314.130005</td>\n",
       "      <td id=\"T_47d1c_row22_col4\" class=\"data row22 col4\" >317.000000</td>\n",
       "      <td id=\"T_47d1c_row22_col5\" class=\"data row22 col5\" >317.000000</td>\n",
       "      <td id=\"T_47d1c_row22_col6\" class=\"data row22 col6\" >11340100</td>\n",
       "    </tr>\n",
       "    <tr>\n",
       "      <th id=\"T_47d1c_level0_row23\" class=\"row_heading level0 row23\" >23</th>\n",
       "      <td id=\"T_47d1c_row23_col0\" class=\"data row23 col0\" >2018-03-09</td>\n",
       "      <td id=\"T_47d1c_row23_col1\" class=\"data row23 col1\" >321.329987</td>\n",
       "      <td id=\"T_47d1c_row23_col2\" class=\"data row23 col2\" >331.440002</td>\n",
       "      <td id=\"T_47d1c_row23_col3\" class=\"data row23 col3\" >320.230011</td>\n",
       "      <td id=\"T_47d1c_row23_col4\" class=\"data row23 col4\" >331.440002</td>\n",
       "      <td id=\"T_47d1c_row23_col5\" class=\"data row23 col5\" >331.440002</td>\n",
       "      <td id=\"T_47d1c_row23_col6\" class=\"data row23 col6\" >14500200</td>\n",
       "    </tr>\n",
       "    <tr>\n",
       "      <th id=\"T_47d1c_level0_row24\" class=\"row_heading level0 row24\" >24</th>\n",
       "      <td id=\"T_47d1c_row24_col0\" class=\"data row24 col0\" >2018-03-12</td>\n",
       "      <td id=\"T_47d1c_row24_col1\" class=\"data row24 col1\" >333.559998</td>\n",
       "      <td id=\"T_47d1c_row24_col2\" class=\"data row24 col2\" >333.980011</td>\n",
       "      <td id=\"T_47d1c_row24_col3\" class=\"data row24 col3\" >318.600006</td>\n",
       "      <td id=\"T_47d1c_row24_col4\" class=\"data row24 col4\" >321.299988</td>\n",
       "      <td id=\"T_47d1c_row24_col5\" class=\"data row24 col5\" >321.299988</td>\n",
       "      <td id=\"T_47d1c_row24_col6\" class=\"data row24 col6\" >20369200</td>\n",
       "    </tr>\n",
       "    <tr>\n",
       "      <th id=\"T_47d1c_level0_row25\" class=\"row_heading level0 row25\" >25</th>\n",
       "      <td id=\"T_47d1c_row25_col0\" class=\"data row25 col0\" >2018-03-13</td>\n",
       "      <td id=\"T_47d1c_row25_col1\" class=\"data row25 col1\" >323.869995</td>\n",
       "      <td id=\"T_47d1c_row25_col2\" class=\"data row25 col2\" >325.839996</td>\n",
       "      <td id=\"T_47d1c_row25_col3\" class=\"data row25 col3\" >313.279999</td>\n",
       "      <td id=\"T_47d1c_row25_col4\" class=\"data row25 col4\" >315.880005</td>\n",
       "      <td id=\"T_47d1c_row25_col5\" class=\"data row25 col5\" >315.880005</td>\n",
       "      <td id=\"T_47d1c_row25_col6\" class=\"data row25 col6\" >12917200</td>\n",
       "    </tr>\n",
       "    <tr>\n",
       "      <th id=\"T_47d1c_level0_row26\" class=\"row_heading level0 row26\" >26</th>\n",
       "      <td id=\"T_47d1c_row26_col0\" class=\"data row26 col0\" >2018-03-14</td>\n",
       "      <td id=\"T_47d1c_row26_col1\" class=\"data row26 col1\" >318.160004</td>\n",
       "      <td id=\"T_47d1c_row26_col2\" class=\"data row26 col2\" >323.880005</td>\n",
       "      <td id=\"T_47d1c_row26_col3\" class=\"data row26 col3\" >317.700012</td>\n",
       "      <td id=\"T_47d1c_row26_col4\" class=\"data row26 col4\" >321.549988</td>\n",
       "      <td id=\"T_47d1c_row26_col5\" class=\"data row26 col5\" >321.549988</td>\n",
       "      <td id=\"T_47d1c_row26_col6\" class=\"data row26 col6\" >10475100</td>\n",
       "    </tr>\n",
       "    <tr>\n",
       "      <th id=\"T_47d1c_level0_row27\" class=\"row_heading level0 row27\" >27</th>\n",
       "      <td id=\"T_47d1c_row27_col0\" class=\"data row27 col0\" >2018-03-15</td>\n",
       "      <td id=\"T_47d1c_row27_col1\" class=\"data row27 col1\" >323.170013</td>\n",
       "      <td id=\"T_47d1c_row27_col2\" class=\"data row27 col2\" >323.399994</td>\n",
       "      <td id=\"T_47d1c_row27_col3\" class=\"data row27 col3\" >318.140015</td>\n",
       "      <td id=\"T_47d1c_row27_col4\" class=\"data row27 col4\" >321.089996</td>\n",
       "      <td id=\"T_47d1c_row27_col5\" class=\"data row27 col5\" >321.089996</td>\n",
       "      <td id=\"T_47d1c_row27_col6\" class=\"data row27 col6\" >5642900</td>\n",
       "    </tr>\n",
       "    <tr>\n",
       "      <th id=\"T_47d1c_level0_row28\" class=\"row_heading level0 row28\" >28</th>\n",
       "      <td id=\"T_47d1c_row28_col0\" class=\"data row28 col0\" >2018-03-16</td>\n",
       "      <td id=\"T_47d1c_row28_col1\" class=\"data row28 col1\" >321.420013</td>\n",
       "      <td id=\"T_47d1c_row28_col2\" class=\"data row28 col2\" >324.109985</td>\n",
       "      <td id=\"T_47d1c_row28_col3\" class=\"data row28 col3\" >318.369995</td>\n",
       "      <td id=\"T_47d1c_row28_col4\" class=\"data row28 col4\" >318.450012</td>\n",
       "      <td id=\"T_47d1c_row28_col5\" class=\"data row28 col5\" >318.450012</td>\n",
       "      <td id=\"T_47d1c_row28_col6\" class=\"data row28 col6\" >7333700</td>\n",
       "    </tr>\n",
       "    <tr>\n",
       "      <th id=\"T_47d1c_level0_row29\" class=\"row_heading level0 row29\" >29</th>\n",
       "      <td id=\"T_47d1c_row29_col0\" class=\"data row29 col0\" >2018-03-19</td>\n",
       "      <td id=\"T_47d1c_row29_col1\" class=\"data row29 col1\" >315.799988</td>\n",
       "      <td id=\"T_47d1c_row29_col2\" class=\"data row29 col2\" >317.000000</td>\n",
       "      <td id=\"T_47d1c_row29_col3\" class=\"data row29 col3\" >307.339996</td>\n",
       "      <td id=\"T_47d1c_row29_col4\" class=\"data row29 col4\" >313.480011</td>\n",
       "      <td id=\"T_47d1c_row29_col5\" class=\"data row29 col5\" >313.480011</td>\n",
       "      <td id=\"T_47d1c_row29_col6\" class=\"data row29 col6\" >9925200</td>\n",
       "    </tr>\n",
       "  </tbody>\n",
       "</table>\n"
      ],
      "text/plain": [
       "<pandas.io.formats.style.Styler at 0x1d819b84bd0>"
      ]
     },
     "execution_count": 31,
     "metadata": {},
     "output_type": "execute_result"
    }
   ],
   "source": [
    "path = \"NFLX_2.csv\"\n",
    "prices_train = pd.read_csv(path)\n",
    "cm = sns.light_palette(\"green\", as_cmap=True)\n",
    "prices_train.head(30).style.background_gradient(cmap=cm)"
   ]
  },
  {
   "cell_type": "code",
   "execution_count": 32,
   "metadata": {
    "execution": {
     "iopub.execute_input": "2022-02-22T00:45:30.960994Z",
     "iopub.status.busy": "2022-02-22T00:45:30.96022Z",
     "iopub.status.idle": "2022-02-22T00:45:30.970908Z",
     "shell.execute_reply": "2022-02-22T00:45:30.970257Z",
     "shell.execute_reply.started": "2022-02-22T00:45:30.960943Z"
    }
   },
   "outputs": [
    {
     "data": {
      "text/html": [
       "<div>\n",
       "<style scoped>\n",
       "    .dataframe tbody tr th:only-of-type {\n",
       "        vertical-align: middle;\n",
       "    }\n",
       "\n",
       "    .dataframe tbody tr th {\n",
       "        vertical-align: top;\n",
       "    }\n",
       "\n",
       "    .dataframe thead th {\n",
       "        text-align: right;\n",
       "    }\n",
       "</style>\n",
       "<table border=\"1\" class=\"dataframe\">\n",
       "  <thead>\n",
       "    <tr style=\"text-align: right;\">\n",
       "      <th></th>\n",
       "      <th>name</th>\n",
       "    </tr>\n",
       "  </thead>\n",
       "  <tbody>\n",
       "    <tr>\n",
       "      <th>0</th>\n",
       "      <td>Date</td>\n",
       "    </tr>\n",
       "    <tr>\n",
       "      <th>1</th>\n",
       "      <td>Open</td>\n",
       "    </tr>\n",
       "    <tr>\n",
       "      <th>2</th>\n",
       "      <td>High</td>\n",
       "    </tr>\n",
       "    <tr>\n",
       "      <th>3</th>\n",
       "      <td>Low</td>\n",
       "    </tr>\n",
       "    <tr>\n",
       "      <th>4</th>\n",
       "      <td>Close</td>\n",
       "    </tr>\n",
       "    <tr>\n",
       "      <th>5</th>\n",
       "      <td>Adj Close</td>\n",
       "    </tr>\n",
       "    <tr>\n",
       "      <th>6</th>\n",
       "      <td>Volume</td>\n",
       "    </tr>\n",
       "  </tbody>\n",
       "</table>\n",
       "</div>"
      ],
      "text/plain": [
       "        name\n",
       "0       Date\n",
       "1       Open\n",
       "2       High\n",
       "3        Low\n",
       "4      Close\n",
       "5  Adj Close\n",
       "6     Volume"
      ]
     },
     "execution_count": 32,
     "metadata": {},
     "output_type": "execute_result"
    }
   ],
   "source": [
    "pd.DataFrame(prices_train.columns, columns=[\"name\"])"
   ]
  },
  {
   "cell_type": "code",
   "execution_count": 33,
   "metadata": {
    "execution": {
     "iopub.execute_input": "2022-02-22T00:45:31.806098Z",
     "iopub.status.busy": "2022-02-22T00:45:31.805128Z",
     "iopub.status.idle": "2022-02-22T00:45:31.882716Z",
     "shell.execute_reply": "2022-02-22T00:45:31.882034Z",
     "shell.execute_reply.started": "2022-02-22T00:45:31.806054Z"
    }
   },
   "outputs": [
    {
     "data": {
      "application/vnd.plotly.v1+json": {
       "config": {
        "plotlyServerURL": "https://plot.ly"
       },
       "data": [
        {
         "alignmentgroup": "True",
         "hovertemplate": "Date=%{x}<br>Volume=%{y}<extra></extra>",
         "legendgroup": "",
         "marker": {
          "color": "#636efa",
          "pattern": {
           "shape": ""
          }
         },
         "name": "",
         "offsetgroup": "",
         "orientation": "v",
         "showlegend": false,
         "textposition": "auto",
         "type": "bar",
         "x": [
          "2018-02-05",
          "2018-02-06",
          "2018-02-07",
          "2018-02-08",
          "2018-02-09",
          "2018-02-12",
          "2018-02-13",
          "2018-02-14",
          "2018-02-15",
          "2018-02-16",
          "2018-02-20",
          "2018-02-21",
          "2018-02-22",
          "2018-02-23",
          "2018-02-26",
          "2018-02-27",
          "2018-02-28",
          "2018-03-01",
          "2018-03-02",
          "2018-03-05",
          "2018-03-06",
          "2018-03-07",
          "2018-03-08",
          "2018-03-09",
          "2018-03-12",
          "2018-03-13",
          "2018-03-14",
          "2018-03-15",
          "2018-03-16",
          "2018-03-19",
          "2018-03-20",
          "2018-03-21",
          "2018-03-22",
          "2018-03-23",
          "2018-03-26",
          "2018-03-27",
          "2018-03-28",
          "2018-03-29",
          "2018-04-02",
          "2018-04-03",
          "2018-04-04",
          "2018-04-05",
          "2018-04-06",
          "2018-04-09",
          "2018-04-10",
          "2018-04-11",
          "2018-04-12",
          "2018-04-13",
          "2018-04-16",
          "2018-04-17",
          "2018-04-18",
          "2018-04-19",
          "2018-04-20",
          "2018-04-23",
          "2018-04-24",
          "2018-04-25",
          "2018-04-26",
          "2018-04-27",
          "2018-04-30",
          "2018-05-01",
          "2018-05-02",
          "2018-05-03",
          "2018-05-04",
          "2018-05-07",
          "2018-05-08",
          "2018-05-09",
          "2018-05-10",
          "2018-05-11",
          "2018-05-14",
          "2018-05-15",
          "2018-05-16",
          "2018-05-17",
          "2018-05-18",
          "2018-05-21",
          "2018-05-22",
          "2018-05-23",
          "2018-05-24",
          "2018-05-25",
          "2018-05-29",
          "2018-05-30",
          "2018-05-31",
          "2018-06-01",
          "2018-06-04",
          "2018-06-05",
          "2018-06-06",
          "2018-06-07",
          "2018-06-08",
          "2018-06-11",
          "2018-06-12",
          "2018-06-13",
          "2018-06-14",
          "2018-06-15",
          "2018-06-18",
          "2018-06-19",
          "2018-06-20",
          "2018-06-21",
          "2018-06-22",
          "2018-06-25",
          "2018-06-26",
          "2018-06-27",
          "2018-06-28",
          "2018-06-29",
          "2018-07-02",
          "2018-07-03",
          "2018-07-05",
          "2018-07-06",
          "2018-07-09",
          "2018-07-10",
          "2018-07-11",
          "2018-07-12",
          "2018-07-13",
          "2018-07-16",
          "2018-07-17",
          "2018-07-18",
          "2018-07-19",
          "2018-07-20",
          "2018-07-23",
          "2018-07-24",
          "2018-07-25",
          "2018-07-26",
          "2018-07-27",
          "2018-07-30",
          "2018-07-31",
          "2018-08-01",
          "2018-08-02",
          "2018-08-03",
          "2018-08-06",
          "2018-08-07",
          "2018-08-08",
          "2018-08-09",
          "2018-08-10",
          "2018-08-13",
          "2018-08-14",
          "2018-08-15",
          "2018-08-16",
          "2018-08-17",
          "2018-08-20",
          "2018-08-21",
          "2018-08-22",
          "2018-08-23",
          "2018-08-24",
          "2018-08-27",
          "2018-08-28",
          "2018-08-29",
          "2018-08-30",
          "2018-08-31",
          "2018-09-04",
          "2018-09-05",
          "2018-09-06",
          "2018-09-07",
          "2018-09-10",
          "2018-09-11",
          "2018-09-12",
          "2018-09-13",
          "2018-09-14",
          "2018-09-17",
          "2018-09-18",
          "2018-09-19",
          "2018-09-20",
          "2018-09-21",
          "2018-09-24",
          "2018-09-25",
          "2018-09-26",
          "2018-09-27",
          "2018-09-28",
          "2018-10-01",
          "2018-10-02",
          "2018-10-03",
          "2018-10-04",
          "2018-10-05",
          "2018-10-08",
          "2018-10-09",
          "2018-10-10",
          "2018-10-11",
          "2018-10-12",
          "2018-10-15",
          "2018-10-16",
          "2018-10-17",
          "2018-10-18",
          "2018-10-19",
          "2018-10-22",
          "2018-10-23",
          "2018-10-24",
          "2018-10-25",
          "2018-10-26",
          "2018-10-29",
          "2018-10-30",
          "2018-10-31",
          "2018-11-01",
          "2018-11-02",
          "2018-11-05",
          "2018-11-06",
          "2018-11-07",
          "2018-11-08",
          "2018-11-09",
          "2018-11-12",
          "2018-11-13",
          "2018-11-14",
          "2018-11-15",
          "2018-11-16",
          "2018-11-19",
          "2018-11-20",
          "2018-11-21",
          "2018-11-23",
          "2018-11-26",
          "2018-11-27",
          "2018-11-28",
          "2018-11-29",
          "2018-11-30",
          "2018-12-03",
          "2018-12-04",
          "2018-12-06",
          "2018-12-07",
          "2018-12-10",
          "2018-12-11",
          "2018-12-12",
          "2018-12-13",
          "2018-12-14",
          "2018-12-17",
          "2018-12-18",
          "2018-12-19",
          "2018-12-20",
          "2018-12-21",
          "2018-12-24",
          "2018-12-26",
          "2018-12-27",
          "2018-12-28",
          "2018-12-31",
          "2019-01-02",
          "2019-01-03",
          "2019-01-04",
          "2019-01-07",
          "2019-01-08",
          "2019-01-09",
          "2019-01-10",
          "2019-01-11",
          "2019-01-14",
          "2019-01-15",
          "2019-01-16",
          "2019-01-17",
          "2019-01-18",
          "2019-01-22",
          "2019-01-23",
          "2019-01-24",
          "2019-01-25",
          "2019-01-28",
          "2019-01-29",
          "2019-01-30",
          "2019-01-31",
          "2019-02-01",
          "2019-02-04",
          "2019-02-05",
          "2019-02-06",
          "2019-02-07",
          "2019-02-08",
          "2019-02-11",
          "2019-02-12",
          "2019-02-13",
          "2019-02-14",
          "2019-02-15",
          "2019-02-19",
          "2019-02-20",
          "2019-02-21",
          "2019-02-22",
          "2019-02-25",
          "2019-02-26",
          "2019-02-27",
          "2019-02-28",
          "2019-03-01",
          "2019-03-04",
          "2019-03-05",
          "2019-03-06",
          "2019-03-07",
          "2019-03-08",
          "2019-03-11",
          "2019-03-12",
          "2019-03-13",
          "2019-03-14",
          "2019-03-15",
          "2019-03-18",
          "2019-03-19",
          "2019-03-20",
          "2019-03-21",
          "2019-03-22",
          "2019-03-25",
          "2019-03-26",
          "2019-03-27",
          "2019-03-28",
          "2019-03-29",
          "2019-04-01",
          "2019-04-02",
          "2019-04-03",
          "2019-04-04",
          "2019-04-05",
          "2019-04-08",
          "2019-04-09",
          "2019-04-10",
          "2019-04-11",
          "2019-04-12",
          "2019-04-15",
          "2019-04-16",
          "2019-04-17",
          "2019-04-18",
          "2019-04-22",
          "2019-04-23",
          "2019-04-24",
          "2019-04-25",
          "2019-04-26",
          "2019-04-29",
          "2019-04-30",
          "2019-05-01",
          "2019-05-02",
          "2019-05-03",
          "2019-05-06",
          "2019-05-07",
          "2019-05-08",
          "2019-05-09",
          "2019-05-10",
          "2019-05-13",
          "2019-05-14",
          "2019-05-15",
          "2019-05-16",
          "2019-05-17",
          "2019-05-20",
          "2019-05-21",
          "2019-05-22",
          "2019-05-23",
          "2019-05-24",
          "2019-05-28",
          "2019-05-29",
          "2019-05-30",
          "2019-05-31",
          "2019-06-03",
          "2019-06-04",
          "2019-06-05",
          "2019-06-06",
          "2019-06-07",
          "2019-06-10",
          "2019-06-11",
          "2019-06-12",
          "2019-06-13",
          "2019-06-14",
          "2019-06-17",
          "2019-06-18",
          "2019-06-19",
          "2019-06-20",
          "2019-06-21",
          "2019-06-24",
          "2019-06-25",
          "2019-06-26",
          "2019-06-27",
          "2019-06-28",
          "2019-07-01",
          "2019-07-02",
          "2019-07-03",
          "2019-07-05",
          "2019-07-08",
          "2019-07-09",
          "2019-07-10",
          "2019-07-11",
          "2019-07-12",
          "2019-07-15",
          "2019-07-16",
          "2019-07-17",
          "2019-07-18",
          "2019-07-19",
          "2019-07-22",
          "2019-07-23",
          "2019-07-24",
          "2019-07-25",
          "2019-07-26",
          "2019-07-29",
          "2019-07-30",
          "2019-07-31",
          "2019-08-01",
          "2019-08-02",
          "2019-08-05",
          "2019-08-06",
          "2019-08-07",
          "2019-08-08",
          "2019-08-09",
          "2019-08-12",
          "2019-08-13",
          "2019-08-14",
          "2019-08-15",
          "2019-08-16",
          "2019-08-19",
          "2019-08-20",
          "2019-08-21",
          "2019-08-22",
          "2019-08-23",
          "2019-08-26",
          "2019-08-27",
          "2019-08-28",
          "2019-08-29",
          "2019-08-30",
          "2019-09-03",
          "2019-09-04",
          "2019-09-05",
          "2019-09-06",
          "2019-09-09",
          "2019-09-10",
          "2019-09-11",
          "2019-09-12",
          "2019-09-13",
          "2019-09-16",
          "2019-09-17",
          "2019-09-18",
          "2019-09-19",
          "2019-09-20",
          "2019-09-23",
          "2019-09-24",
          "2019-09-25",
          "2019-09-26",
          "2019-09-27",
          "2019-09-30",
          "2019-10-01",
          "2019-10-02",
          "2019-10-03",
          "2019-10-04",
          "2019-10-07",
          "2019-10-08",
          "2019-10-09",
          "2019-10-10",
          "2019-10-11",
          "2019-10-14",
          "2019-10-15",
          "2019-10-16",
          "2019-10-17",
          "2019-10-18",
          "2019-10-21",
          "2019-10-22",
          "2019-10-23",
          "2019-10-24",
          "2019-10-25",
          "2019-10-28",
          "2019-10-29",
          "2019-10-30",
          "2019-10-31",
          "2019-11-01",
          "2019-11-04",
          "2019-11-05",
          "2019-11-06",
          "2019-11-07",
          "2019-11-08",
          "2019-11-11",
          "2019-11-12",
          "2019-11-13",
          "2019-11-14",
          "2019-11-15",
          "2019-11-18",
          "2019-11-19",
          "2019-11-20",
          "2019-11-21",
          "2019-11-22",
          "2019-11-25",
          "2019-11-26",
          "2019-11-27",
          "2019-11-29",
          "2019-12-02",
          "2019-12-03",
          "2019-12-04",
          "2019-12-05",
          "2019-12-06",
          "2019-12-09",
          "2019-12-10",
          "2019-12-11",
          "2019-12-12",
          "2019-12-13",
          "2019-12-16",
          "2019-12-17",
          "2019-12-18",
          "2019-12-19",
          "2019-12-20",
          "2019-12-23",
          "2019-12-24",
          "2019-12-26",
          "2019-12-27",
          "2019-12-30",
          "2019-12-31",
          "2020-01-02",
          "2020-01-03",
          "2020-01-06",
          "2020-01-07",
          "2020-01-08",
          "2020-01-09",
          "2020-01-10",
          "2020-01-13",
          "2020-01-14",
          "2020-01-15",
          "2020-01-16",
          "2020-01-17",
          "2020-01-21",
          "2020-01-22",
          "2020-01-23",
          "2020-01-24",
          "2020-01-27",
          "2020-01-28",
          "2020-01-29",
          "2020-01-30",
          "2020-01-31",
          "2020-02-03",
          "2020-02-04",
          "2020-02-05",
          "2020-02-06",
          "2020-02-07",
          "2020-02-10",
          "2020-02-11",
          "2020-02-12",
          "2020-02-13",
          "2020-02-14",
          "2020-02-18",
          "2020-02-19",
          "2020-02-20",
          "2020-02-21",
          "2020-02-24",
          "2020-02-25",
          "2020-02-26",
          "2020-02-27",
          "2020-02-28",
          "2020-03-02",
          "2020-03-03",
          "2020-03-04",
          "2020-03-05",
          "2020-03-06",
          "2020-03-09",
          "2020-03-10",
          "2020-03-11",
          "2020-03-12",
          "2020-03-13",
          "2020-03-16",
          "2020-03-17",
          "2020-03-18",
          "2020-03-19",
          "2020-03-20",
          "2020-03-23",
          "2020-03-24",
          "2020-03-25",
          "2020-03-26",
          "2020-03-27",
          "2020-03-30",
          "2020-03-31",
          "2020-04-01",
          "2020-04-02",
          "2020-04-03",
          "2020-04-06",
          "2020-04-07",
          "2020-04-08",
          "2020-04-09",
          "2020-04-13",
          "2020-04-14",
          "2020-04-15",
          "2020-04-16",
          "2020-04-17",
          "2020-04-20",
          "2020-04-21",
          "2020-04-22",
          "2020-04-23",
          "2020-04-24",
          "2020-04-27",
          "2020-04-28",
          "2020-04-29",
          "2020-04-30",
          "2020-05-01",
          "2020-05-04",
          "2020-05-05",
          "2020-05-06",
          "2020-05-07",
          "2020-05-08",
          "2020-05-11",
          "2020-05-12",
          "2020-05-13",
          "2020-05-14",
          "2020-05-15",
          "2020-05-18",
          "2020-05-19",
          "2020-05-20",
          "2020-05-21",
          "2020-05-22",
          "2020-05-26",
          "2020-05-27",
          "2020-05-28",
          "2020-05-29",
          "2020-06-01",
          "2020-06-02",
          "2020-06-03",
          "2020-06-04",
          "2020-06-05",
          "2020-06-08",
          "2020-06-09",
          "2020-06-10",
          "2020-06-11",
          "2020-06-12",
          "2020-06-15",
          "2020-06-16",
          "2020-06-17",
          "2020-06-18",
          "2020-06-19",
          "2020-06-22",
          "2020-06-23",
          "2020-06-24",
          "2020-06-25",
          "2020-06-26",
          "2020-06-29",
          "2020-06-30",
          "2020-07-01",
          "2020-07-02",
          "2020-07-06",
          "2020-07-07",
          "2020-07-08",
          "2020-07-09",
          "2020-07-10",
          "2020-07-13",
          "2020-07-14",
          "2020-07-15",
          "2020-07-16",
          "2020-07-17",
          "2020-07-20",
          "2020-07-21",
          "2020-07-22",
          "2020-07-23",
          "2020-07-24",
          "2020-07-27",
          "2020-07-28",
          "2020-07-29",
          "2020-07-30",
          "2020-07-31",
          "2020-08-03",
          "2020-08-04",
          "2020-08-05",
          "2020-08-06",
          "2020-08-07",
          "2020-08-10",
          "2020-08-11",
          "2020-08-12",
          "2020-08-13",
          "2020-08-14",
          "2020-08-17",
          "2020-08-18",
          "2020-08-19",
          "2020-08-20",
          "2020-08-21",
          "2020-08-24",
          "2020-08-25",
          "2020-08-26",
          "2020-08-27",
          "2020-08-28",
          "2020-08-31",
          "2020-09-01",
          "2020-09-02",
          "2020-09-03",
          "2020-09-04",
          "2020-09-08",
          "2020-09-09",
          "2020-09-10",
          "2020-09-11",
          "2020-09-14",
          "2020-09-15",
          "2020-09-16",
          "2020-09-17",
          "2020-09-18",
          "2020-09-21",
          "2020-09-22",
          "2020-09-23",
          "2020-09-24",
          "2020-09-25",
          "2020-09-28",
          "2020-09-29",
          "2020-09-30",
          "2020-10-01",
          "2020-10-02",
          "2020-10-05",
          "2020-10-06",
          "2020-10-07",
          "2020-10-08",
          "2020-10-09",
          "2020-10-12",
          "2020-10-13",
          "2020-10-14",
          "2020-10-15",
          "2020-10-16",
          "2020-10-19",
          "2020-10-20",
          "2020-10-21",
          "2020-10-22",
          "2020-10-23",
          "2020-10-26",
          "2020-10-27",
          "2020-10-28",
          "2020-10-29",
          "2020-10-30",
          "2020-11-02",
          "2020-11-03",
          "2020-11-04",
          "2020-11-05",
          "2020-11-06",
          "2020-11-09",
          "2020-11-10",
          "2020-11-11",
          "2020-11-12",
          "2020-11-13",
          "2020-11-16",
          "2020-11-17",
          "2020-11-18",
          "2020-11-19",
          "2020-11-20",
          "2020-11-23",
          "2020-11-24",
          "2020-11-25",
          "2020-11-27",
          "2020-11-30",
          "2020-12-01",
          "2020-12-02",
          "2020-12-03",
          "2020-12-04",
          "2020-12-07",
          "2020-12-08",
          "2020-12-09",
          "2020-12-10",
          "2020-12-11",
          "2020-12-14",
          "2020-12-15",
          "2020-12-16",
          "2020-12-17",
          "2020-12-18",
          "2020-12-21",
          "2020-12-22",
          "2020-12-23",
          "2020-12-24",
          "2020-12-28",
          "2020-12-29",
          "2020-12-30",
          "2020-12-31",
          "2021-01-04",
          "2021-01-05",
          "2021-01-06",
          "2021-01-07",
          "2021-01-08",
          "2021-01-11",
          "2021-01-12",
          "2021-01-13",
          "2021-01-14",
          "2021-01-15",
          "2021-01-19",
          "2021-01-20",
          "2021-01-21",
          "2021-01-22",
          "2021-01-25",
          "2021-01-26",
          "2021-01-27",
          "2021-01-28",
          "2021-01-29",
          "2021-02-01",
          "2021-02-02",
          "2021-02-03",
          "2021-02-04",
          "2021-02-05",
          "2021-02-08",
          "2021-02-09",
          "2021-02-10",
          "2021-02-11",
          "2021-02-12",
          "2021-02-16",
          "2021-02-17",
          "2021-02-18",
          "2021-02-19",
          "2021-02-22",
          "2021-02-23",
          "2021-02-24",
          "2021-02-25",
          "2021-02-26",
          "2021-03-01",
          "2021-03-02",
          "2021-03-03",
          "2021-03-04",
          "2021-03-05",
          "2021-03-08",
          "2021-03-09",
          "2021-03-10",
          "2021-03-11",
          "2021-03-12",
          "2021-03-15",
          "2021-03-16",
          "2021-03-17",
          "2021-03-18",
          "2021-03-19",
          "2021-03-22",
          "2021-03-23",
          "2021-03-24",
          "2021-03-25",
          "2021-03-26",
          "2021-03-29",
          "2021-03-30",
          "2021-03-31",
          "2021-04-01",
          "2021-04-05",
          "2021-04-06",
          "2021-04-07",
          "2021-04-08",
          "2021-04-09",
          "2021-04-12",
          "2021-04-13",
          "2021-04-14",
          "2021-04-15",
          "2021-04-16",
          "2021-04-19",
          "2021-04-20",
          "2021-04-21",
          "2021-04-22",
          "2021-04-23",
          "2021-04-26",
          "2021-04-27",
          "2021-04-28",
          "2021-04-29",
          "2021-04-30",
          "2021-05-03",
          "2021-05-04",
          "2021-05-05",
          "2021-05-06",
          "2021-05-07",
          "2021-05-10",
          "2021-05-11",
          "2021-05-12",
          "2021-05-13",
          "2021-05-14",
          "2021-05-17",
          "2021-05-18",
          "2021-05-19",
          "2021-05-20",
          "2021-05-21",
          "2021-05-24",
          "2021-05-25",
          "2021-05-26",
          "2021-05-27",
          "2021-05-28",
          "2021-06-01",
          "2021-06-02",
          "2021-06-03",
          "2021-06-04",
          "2021-06-07",
          "2021-06-08",
          "2021-06-09",
          "2021-06-10",
          "2021-06-11",
          "2021-06-14",
          "2021-06-15",
          "2021-06-16",
          "2021-06-17",
          "2021-06-18",
          "2021-06-21",
          "2021-06-22",
          "2021-06-23",
          "2021-06-24",
          "2021-06-25",
          "2021-06-28",
          "2021-06-29",
          "2021-06-30",
          "2021-07-01",
          "2021-07-02",
          "2021-07-06",
          "2021-07-07",
          "2021-07-08",
          "2021-07-09",
          "2021-07-12",
          "2021-07-13",
          "2021-07-14",
          "2021-07-15",
          "2021-07-16",
          "2021-07-19",
          "2021-07-20",
          "2021-07-21",
          "2021-07-22",
          "2021-07-23",
          "2021-07-26",
          "2021-07-27",
          "2021-07-28",
          "2021-07-29",
          "2021-07-30",
          "2021-08-02",
          "2021-08-03",
          "2021-08-04",
          "2021-08-05",
          "2021-08-06",
          "2021-08-09",
          "2021-08-10",
          "2021-08-11",
          "2021-08-12",
          "2021-08-13",
          "2021-08-16",
          "2021-08-17",
          "2021-08-18",
          "2021-08-19",
          "2021-08-20",
          "2021-08-23",
          "2021-08-24",
          "2021-08-25",
          "2021-08-26",
          "2021-08-27",
          "2021-08-30",
          "2021-08-31",
          "2021-09-01",
          "2021-09-02",
          "2021-09-03",
          "2021-09-07",
          "2021-09-08",
          "2021-09-09",
          "2021-09-10",
          "2021-09-13",
          "2021-09-14",
          "2021-09-15",
          "2021-09-16",
          "2021-09-17",
          "2021-09-20",
          "2021-09-21",
          "2021-09-22",
          "2021-09-23",
          "2021-09-24",
          "2021-09-27",
          "2021-09-28",
          "2021-09-29",
          "2021-09-30",
          "2021-10-01",
          "2021-10-04",
          "2021-10-05",
          "2021-10-06",
          "2021-10-07",
          "2021-10-08",
          "2021-10-11",
          "2021-10-12",
          "2021-10-13",
          "2021-10-14",
          "2021-10-15",
          "2021-10-18",
          "2021-10-19",
          "2021-10-20",
          "2021-10-21",
          "2021-10-22",
          "2021-10-25",
          "2021-10-26",
          "2021-10-27",
          "2021-10-28",
          "2021-10-29",
          "2021-11-01",
          "2021-11-02",
          "2021-11-03",
          "2021-11-04",
          "2021-11-05",
          "2021-11-08",
          "2021-11-09",
          "2021-11-10",
          "2021-11-11",
          "2021-11-12",
          "2021-11-15",
          "2021-11-16",
          "2021-11-17",
          "2021-11-18",
          "2021-11-19",
          "2021-11-22",
          "2021-11-23",
          "2021-11-24",
          "2021-11-26",
          "2021-11-29",
          "2021-11-30",
          "2021-12-01",
          "2021-12-02",
          "2021-12-03",
          "2021-12-06",
          "2021-12-07",
          "2021-12-08",
          "2021-12-09",
          "2021-12-10",
          "2021-12-13",
          "2021-12-14",
          "2021-12-15",
          "2021-12-16",
          "2021-12-17",
          "2021-12-20",
          "2021-12-21",
          "2021-12-22",
          "2021-12-23",
          "2021-12-27",
          "2021-12-28",
          "2021-12-29",
          "2021-12-30",
          "2021-12-31",
          "2022-01-03",
          "2022-01-04",
          "2022-01-05",
          "2022-01-06",
          "2022-01-07",
          "2022-01-10",
          "2022-01-11",
          "2022-01-12",
          "2022-01-13",
          "2022-01-14",
          "2022-01-18",
          "2022-01-19",
          "2022-01-20",
          "2022-01-21",
          "2022-01-24",
          "2022-01-25",
          "2022-01-26",
          "2022-01-27",
          "2022-01-28",
          "2022-01-31",
          "2022-02-01",
          "2022-02-02",
          "2022-02-03",
          "2022-02-04"
         ],
         "xaxis": "x",
         "y": [
          11896100,
          12595800,
          8981500,
          9306700,
          16906900,
          8534900,
          6855200,
          10972000,
          10759700,
          8312400,
          7769000,
          9371100,
          8891500,
          7301800,
          10268600,
          9416500,
          7653500,
          11932100,
          13345300,
          18986100,
          18525800,
          17132200,
          11340100,
          14500200,
          20369200,
          12917200,
          10475100,
          5642900,
          7333700,
          9925200,
          5991900,
          5263900,
          8063300,
          9529900,
          11988300,
          12068600,
          18972900,
          19145500,
          13405800,
          12694900,
          12914000,
          10655200,
          11444800,
          9853600,
          10660500,
          14877400,
          10249400,
          12046600,
          20307900,
          33866500,
          11221100,
          8438800,
          9158700,
          8968000,
          13893200,
          14919700,
          9266700,
          7074400,
          6088800,
          6036600,
          5697100,
          6135800,
          8209500,
          7117800,
          4735700,
          5633400,
          5302300,
          4589700,
          4089800,
          4746100,
          3671700,
          4935700,
          3577700,
          6657300,
          5964400,
          10049100,
          14758600,
          7817400,
          9717900,
          5685500,
          6921700,
          7112300,
          7682000,
          8358000,
          7712300,
          8278000,
          5225700,
          4432400,
          4291000,
          18222800,
          14598300,
          13588100,
          6824800,
          16697100,
          16494600,
          18389900,
          10428600,
          22490900,
          15191200,
          16541400,
          12219900,
          9252500,
          8142500,
          5280300,
          8448900,
          8629600,
          11127500,
          9382900,
          9713900,
          12743300,
          15719000,
          22960000,
          58410400,
          21746300,
          16878700,
          15096700,
          11505200,
          12851500,
          8467800,
          6993700,
          8949500,
          18260700,
          14085400,
          7790500,
          7131300,
          8848400,
          8198100,
          7970900,
          5394700,
          4820300,
          4328400,
          6888900,
          5805200,
          11784500,
          6689700,
          10407900,
          13591100,
          14783200,
          8930700,
          11336400,
          14729100,
          17427300,
          9222600,
          8118700,
          10981000,
          7943400,
          7605200,
          13092800,
          13050200,
          9105800,
          5752200,
          6198100,
          10480800,
          8366100,
          4756400,
          7071900,
          10414000,
          11876800,
          6768100,
          11930600,
          9322500,
          6799800,
          13799700,
          7326200,
          7114900,
          8376600,
          8638700,
          5798600,
          9074400,
          13523000,
          12375500,
          8755000,
          17183100,
          16082100,
          14870800,
          11215000,
          20156400,
          32610900,
          18461000,
          16717200,
          17097200,
          14907300,
          19039300,
          13346900,
          19616000,
          21698800,
          23685700,
          20360300,
          15121500,
          13404600,
          10283000,
          9710400,
          13328300,
          11023900,
          13480800,
          10924800,
          12232200,
          16853600,
          9967100,
          9099500,
          12993800,
          16693800,
          11023000,
          5245100,
          12498600,
          11149500,
          14801300,
          15431500,
          11860100,
          14117400,
          12800600,
          13074300,
          12466700,
          9605600,
          9843200,
          11456700,
          8379300,
          9915300,
          9634700,
          10350100,
          13788400,
          16792900,
          21397600,
          9547600,
          14402700,
          12235200,
          10992800,
          13508900,
          11679500,
          14969600,
          19330100,
          18620100,
          15359200,
          13343200,
          13472500,
          19500400,
          10499600,
          21181200,
          15385500,
          18871200,
          26621000,
          17941400,
          13480100,
          11131600,
          11152900,
          8652100,
          7655200,
          9234500,
          8535500,
          9827800,
          9051400,
          9046600,
          6717700,
          7864500,
          7561400,
          5454900,
          10429400,
          10559100,
          9295300,
          9230000,
          7396600,
          8110700,
          6227900,
          7088200,
          7569300,
          4944600,
          5629900,
          6186800,
          5526500,
          7487000,
          5937800,
          6211900,
          6151300,
          6898800,
          5387300,
          5164600,
          6444100,
          5271400,
          8444500,
          7194700,
          7541400,
          10917200,
          8544000,
          8661300,
          8473800,
          7666500,
          7852400,
          4361000,
          4705600,
          7036100,
          5158700,
          5368900,
          4627300,
          3905500,
          4653800,
          5439200,
          4545600,
          6526900,
          15646200,
          8842300,
          18740200,
          18054100,
          8353200,
          11980500,
          10089800,
          6541900,
          6255500,
          5621900,
          3821700,
          3870100,
          9257300,
          5398200,
          5130300,
          5793100,
          6974900,
          6572000,
          5882600,
          5657100,
          8026700,
          5353000,
          6340100,
          6441500,
          4725400,
          4621500,
          4026400,
          6229400,
          5630400,
          3831000,
          4717100,
          5658900,
          4008000,
          5023400,
          7849600,
          7891600,
          5020100,
          3710000,
          4777300,
          7810300,
          5396700,
          4584700,
          6209300,
          5019000,
          5358200,
          5428500,
          5667200,
          5899500,
          7448400,
          4830200,
          5750400,
          3669700,
          4138600,
          4592700,
          4992600,
          3625000,
          3799000,
          3732200,
          3113400,
          6932800,
          5878800,
          4336300,
          6636900,
          7944700,
          5863200,
          13639500,
          31287100,
          16302500,
          17718000,
          9171100,
          11961800,
          10798500,
          10847500,
          5782800,
          6029300,
          6259500,
          6563200,
          6280300,
          8692500,
          6179100,
          9322400,
          5905900,
          5349100,
          6531700,
          5289400,
          7355800,
          9629200,
          6905800,
          4942200,
          7349900,
          5685400,
          4974200,
          6324900,
          4695700,
          6309400,
          3955700,
          4388500,
          4446400,
          3682800,
          4652500,
          8966800,
          5166600,
          8232700,
          12320200,
          7405900,
          5010900,
          6583100,
          5307400,
          4777100,
          7811100,
          8461300,
          23832800,
          13478600,
          16338200,
          11643800,
          7684000,
          7328300,
          6727200,
          8650300,
          7659100,
          8951000,
          9890400,
          6525600,
          6276400,
          6794400,
          10809100,
          8786100,
          5513200,
          7685600,
          16175900,
          38258900,
          23429900,
          12599200,
          11802400,
          7133500,
          4827400,
          4747800,
          6248400,
          4356200,
          9345600,
          5090000,
          5594300,
          5566200,
          4062400,
          3438300,
          5928500,
          4509000,
          3944300,
          5772800,
          9158900,
          6529000,
          6333800,
          8616600,
          5918000,
          5111800,
          7488400,
          5970100,
          7873900,
          5321000,
          4096900,
          2411700,
          6218800,
          4992800,
          3512100,
          4615500,
          4457800,
          5748400,
          10476100,
          5589800,
          4766600,
          3879700,
          4658900,
          10427100,
          11207400,
          9822300,
          9914900,
          5765300,
          2019300,
          3589900,
          5036100,
          4311500,
          3713300,
          4485800,
          3806900,
          5663100,
          4703200,
          7104500,
          4709300,
          4718300,
          6290000,
          7199400,
          5158000,
          5016000,
          6066500,
          14350300,
          21730000,
          18200300,
          17939700,
          7709500,
          6821600,
          7643500,
          5328100,
          5230000,
          6670600,
          7161500,
          6437000,
          3920400,
          4385200,
          5294100,
          4772900,
          4624800,
          4485400,
          3736300,
          5173900,
          4896400,
          4079400,
          3930100,
          6936400,
          6481200,
          8934100,
          10967700,
          11168600,
          6997900,
          8364600,
          5487300,
          8747000,
          8147200,
          7405500,
          7604400,
          6036000,
          12071600,
          9458200,
          10559900,
          10013900,
          12593600,
          10616000,
          10853800,
          13449400,
          11638700,
          8767200,
          7229600,
          7948800,
          8622000,
          9366500,
          6672500,
          4592500,
          4860800,
          8183900,
          7046400,
          6908900,
          7711300,
          11692900,
          11581000,
          13561200,
          16128700,
          12616300,
          12655800,
          23177600,
          21084800,
          13952300,
          8658900,
          6277500,
          10101200,
          9693100,
          7954000,
          8299900,
          7799100,
          6286300,
          6660700,
          5641900,
          5049300,
          5486000,
          4598200,
          7014600,
          9007500,
          7244000,
          7773500,
          4810500,
          5607300,
          9117300,
          5422300,
          7881100,
          10446300,
          5655100,
          5254900,
          3743700,
          3494800,
          4316000,
          5410500,
          5099600,
          5851500,
          6797000,
          4896900,
          7462900,
          6461100,
          4467900,
          5507900,
          6529600,
          4277600,
          5934500,
          6272100,
          5948400,
          4826200,
          4134500,
          6804700,
          4844000,
          4198500,
          9705900,
          6351500,
          7839000,
          5669900,
          5691700,
          5840500,
          21605600,
          18399000,
          15083300,
          10066700,
          24499000,
          24991400,
          11940300,
          9113700,
          6954100,
          7722000,
          7746200,
          7863100,
          5986700,
          6611800,
          6608600,
          5916300,
          5873100,
          5608000,
          4308200,
          3725900,
          5910300,
          4691200,
          7329200,
          5439200,
          3008900,
          2943500,
          2423500,
          3505500,
          3156200,
          5132500,
          3921300,
          4762200,
          5727700,
          20373700,
          9062900,
          4417500,
          4941400,
          9572700,
          5886900,
          9071100,
          8270100,
          5572700,
          6848100,
          6240200,
          5035200,
          7359100,
          5337000,
          4394900,
          5379300,
          6717700,
          5457500,
          3482300,
          3726400,
          3727200,
          3769400,
          4773500,
          3541500,
          4634100,
          8153700,
          6071200,
          4088100,
          4199000,
          7988700,
          5386500,
          4781300,
          5391100,
          5602500,
          9499000,
          5113100,
          6347400,
          7567500,
          10047200,
          17405700,
          6997900,
          4927900,
          6186100,
          3627200,
          5992700,
          11120700,
          7807900,
          4408200,
          3690200,
          5137300,
          5372800,
          4236300,
          10419700,
          8306100,
          5460500,
          5063700,
          3002700,
          3953600,
          3698100,
          3629200,
          2254700,
          4253400,
          5416600,
          3550500,
          3598600,
          2805800,
          3530900,
          5052700,
          3028400,
          2826100,
          3666200,
          4289300,
          4229000,
          4178800,
          3018200,
          3210900,
          5770400,
          3394900,
          3682400,
          3193400,
          4502700,
          3894000,
          1906600,
          2393200,
          1144000,
          2891900,
          4022400,
          1876300,
          5392300,
          4444400,
          3133900,
          5346200,
          3686400,
          2973900,
          3806200,
          5990400,
          5032100,
          4177400,
          5895800,
          12315800,
          32637500,
          11802100,
          7550800,
          7207300,
          5023800,
          8670300,
          5969000,
          4325300,
          3547500,
          3767600,
          3172300,
          5164500,
          2376200,
          2791700,
          3703500,
          3991300,
          2730600,
          2197100,
          2624100,
          2069600,
          2456200,
          2841500,
          3078600,
          4136500,
          3245000,
          4252900,
          3755600,
          3041400,
          3042200,
          5362400,
          5034800,
          5070000,
          3981800,
          3470000,
          3771500,
          4714500,
          3981700,
          3484300,
          3238900,
          2817400,
          4094500,
          4386400,
          3360600,
          5583500,
          4102200,
          4926800,
          3467800,
          3330000,
          2418100,
          3503100,
          3938600,
          3355900,
          3474200,
          2151300,
          4309800,
          2894000,
          2944100,
          2720300,
          3740300,
          3139100,
          3209100,
          4288700,
          11257600,
          22897400,
          9061100,
          7307700,
          4388800,
          3761300,
          3193000,
          5127800,
          4413200,
          4091900,
          4349500,
          3129400,
          3783700,
          3132800,
          5131600,
          4401000,
          4121500,
          2712500,
          2882500,
          2705200,
          2350500,
          3349900,
          3721200,
          3322900,
          2412600,
          2699500,
          2465300,
          3253800,
          2910300,
          2482600,
          2269000,
          3887400,
          3160500,
          2791900,
          2374000,
          3055000,
          4382900,
          3124000,
          4400200,
          3104100,
          3533200,
          3198300,
          5197600,
          5277300,
          5809300,
          3944800,
          3361200,
          5299100,
          2820200,
          2314600,
          2773400,
          2805400,
          1975500,
          2775100,
          2722500,
          3269000,
          2777200,
          1780700,
          2751600,
          4659500,
          5713900,
          3442100,
          3885800,
          6930400,
          11906800,
          4328100,
          3820500,
          2254500,
          2759000,
          2390500,
          1736000,
          2534900,
          2096600,
          2579400,
          2039400,
          2556700,
          1919400,
          1367800,
          1960500,
          1673900,
          1685700,
          2176300,
          2032800,
          2309800,
          2582000,
          7497300,
          3774300,
          2602000,
          2109500,
          2065600,
          1595500,
          3251100,
          2434800,
          2431900,
          5626200,
          6179900,
          2681200,
          5821400,
          5424500,
          2954200,
          3948000,
          3062900,
          3457000,
          2755600,
          1832000,
          4145100,
          3732200,
          2250900,
          4021800,
          2526200,
          2126200,
          2504700,
          4431100,
          6221000,
          6612600,
          4090800,
          4995900,
          9534300,
          4580400,
          3556900,
          3271100,
          2862500,
          3227300,
          2420300,
          2671700,
          4114400,
          4669100,
          7633100,
          10622000,
          8437100,
          6186000,
          3833500,
          2904800,
          2276900,
          2859400,
          3817500,
          3110900,
          3888600,
          2334900,
          4865000,
          5277400,
          2887500,
          2415600,
          2405800,
          2868300,
          4192700,
          2872200,
          2077400,
          2732800,
          2012900,
          2613700,
          2764400,
          2320200,
          1867300,
          2872500,
          2529400,
          5608900,
          3882800,
          3331100,
          4825200,
          3075700,
          3125200,
          2220300,
          2376300,
          2747900,
          2517900,
          2984500,
          2866200,
          3143200,
          4386900,
          3358400,
          2319400,
          2335700,
          1621100,
          2061500,
          1882800,
          1287200,
          1625100,
          1995900,
          3067500,
          4393100,
          4148700,
          5711800,
          3381700,
          4486100,
          3077800,
          3787400,
          4475100,
          7849400,
          4839100,
          4353500,
          12659000,
          58904300,
          32346000,
          15145800,
          12684000,
          24324700,
          11966600,
          20047500,
          22542300,
          14346000,
          9905200,
          7782400
         ],
         "yaxis": "y"
        }
       ],
       "layout": {
        "barmode": "stack",
        "font": {
         "color": "green"
        },
        "legend": {
         "tracegroupgap": 0
        },
        "margin": {
         "t": 60
        },
        "paper_bgcolor": "#E2F6EA",
        "plot_bgcolor": "#FFFFFF",
        "template": {
         "data": {
          "bar": [
           {
            "error_x": {
             "color": "#2a3f5f"
            },
            "error_y": {
             "color": "#2a3f5f"
            },
            "marker": {
             "line": {
              "color": "#E5ECF6",
              "width": 0.5
             },
             "pattern": {
              "fillmode": "overlay",
              "size": 10,
              "solidity": 0.2
             }
            },
            "type": "bar"
           }
          ],
          "barpolar": [
           {
            "marker": {
             "line": {
              "color": "#E5ECF6",
              "width": 0.5
             },
             "pattern": {
              "fillmode": "overlay",
              "size": 10,
              "solidity": 0.2
             }
            },
            "type": "barpolar"
           }
          ],
          "carpet": [
           {
            "aaxis": {
             "endlinecolor": "#2a3f5f",
             "gridcolor": "white",
             "linecolor": "white",
             "minorgridcolor": "white",
             "startlinecolor": "#2a3f5f"
            },
            "baxis": {
             "endlinecolor": "#2a3f5f",
             "gridcolor": "white",
             "linecolor": "white",
             "minorgridcolor": "white",
             "startlinecolor": "#2a3f5f"
            },
            "type": "carpet"
           }
          ],
          "choropleth": [
           {
            "colorbar": {
             "outlinewidth": 0,
             "ticks": ""
            },
            "type": "choropleth"
           }
          ],
          "contour": [
           {
            "colorbar": {
             "outlinewidth": 0,
             "ticks": ""
            },
            "colorscale": [
             [
              0,
              "#0d0887"
             ],
             [
              0.1111111111111111,
              "#46039f"
             ],
             [
              0.2222222222222222,
              "#7201a8"
             ],
             [
              0.3333333333333333,
              "#9c179e"
             ],
             [
              0.4444444444444444,
              "#bd3786"
             ],
             [
              0.5555555555555556,
              "#d8576b"
             ],
             [
              0.6666666666666666,
              "#ed7953"
             ],
             [
              0.7777777777777778,
              "#fb9f3a"
             ],
             [
              0.8888888888888888,
              "#fdca26"
             ],
             [
              1,
              "#f0f921"
             ]
            ],
            "type": "contour"
           }
          ],
          "contourcarpet": [
           {
            "colorbar": {
             "outlinewidth": 0,
             "ticks": ""
            },
            "type": "contourcarpet"
           }
          ],
          "heatmap": [
           {
            "colorbar": {
             "outlinewidth": 0,
             "ticks": ""
            },
            "colorscale": [
             [
              0,
              "#0d0887"
             ],
             [
              0.1111111111111111,
              "#46039f"
             ],
             [
              0.2222222222222222,
              "#7201a8"
             ],
             [
              0.3333333333333333,
              "#9c179e"
             ],
             [
              0.4444444444444444,
              "#bd3786"
             ],
             [
              0.5555555555555556,
              "#d8576b"
             ],
             [
              0.6666666666666666,
              "#ed7953"
             ],
             [
              0.7777777777777778,
              "#fb9f3a"
             ],
             [
              0.8888888888888888,
              "#fdca26"
             ],
             [
              1,
              "#f0f921"
             ]
            ],
            "type": "heatmap"
           }
          ],
          "heatmapgl": [
           {
            "colorbar": {
             "outlinewidth": 0,
             "ticks": ""
            },
            "colorscale": [
             [
              0,
              "#0d0887"
             ],
             [
              0.1111111111111111,
              "#46039f"
             ],
             [
              0.2222222222222222,
              "#7201a8"
             ],
             [
              0.3333333333333333,
              "#9c179e"
             ],
             [
              0.4444444444444444,
              "#bd3786"
             ],
             [
              0.5555555555555556,
              "#d8576b"
             ],
             [
              0.6666666666666666,
              "#ed7953"
             ],
             [
              0.7777777777777778,
              "#fb9f3a"
             ],
             [
              0.8888888888888888,
              "#fdca26"
             ],
             [
              1,
              "#f0f921"
             ]
            ],
            "type": "heatmapgl"
           }
          ],
          "histogram": [
           {
            "marker": {
             "pattern": {
              "fillmode": "overlay",
              "size": 10,
              "solidity": 0.2
             }
            },
            "type": "histogram"
           }
          ],
          "histogram2d": [
           {
            "colorbar": {
             "outlinewidth": 0,
             "ticks": ""
            },
            "colorscale": [
             [
              0,
              "#0d0887"
             ],
             [
              0.1111111111111111,
              "#46039f"
             ],
             [
              0.2222222222222222,
              "#7201a8"
             ],
             [
              0.3333333333333333,
              "#9c179e"
             ],
             [
              0.4444444444444444,
              "#bd3786"
             ],
             [
              0.5555555555555556,
              "#d8576b"
             ],
             [
              0.6666666666666666,
              "#ed7953"
             ],
             [
              0.7777777777777778,
              "#fb9f3a"
             ],
             [
              0.8888888888888888,
              "#fdca26"
             ],
             [
              1,
              "#f0f921"
             ]
            ],
            "type": "histogram2d"
           }
          ],
          "histogram2dcontour": [
           {
            "colorbar": {
             "outlinewidth": 0,
             "ticks": ""
            },
            "colorscale": [
             [
              0,
              "#0d0887"
             ],
             [
              0.1111111111111111,
              "#46039f"
             ],
             [
              0.2222222222222222,
              "#7201a8"
             ],
             [
              0.3333333333333333,
              "#9c179e"
             ],
             [
              0.4444444444444444,
              "#bd3786"
             ],
             [
              0.5555555555555556,
              "#d8576b"
             ],
             [
              0.6666666666666666,
              "#ed7953"
             ],
             [
              0.7777777777777778,
              "#fb9f3a"
             ],
             [
              0.8888888888888888,
              "#fdca26"
             ],
             [
              1,
              "#f0f921"
             ]
            ],
            "type": "histogram2dcontour"
           }
          ],
          "mesh3d": [
           {
            "colorbar": {
             "outlinewidth": 0,
             "ticks": ""
            },
            "type": "mesh3d"
           }
          ],
          "parcoords": [
           {
            "line": {
             "colorbar": {
              "outlinewidth": 0,
              "ticks": ""
             }
            },
            "type": "parcoords"
           }
          ],
          "pie": [
           {
            "automargin": true,
            "type": "pie"
           }
          ],
          "scatter": [
           {
            "fillpattern": {
             "fillmode": "overlay",
             "size": 10,
             "solidity": 0.2
            },
            "type": "scatter"
           }
          ],
          "scatter3d": [
           {
            "line": {
             "colorbar": {
              "outlinewidth": 0,
              "ticks": ""
             }
            },
            "marker": {
             "colorbar": {
              "outlinewidth": 0,
              "ticks": ""
             }
            },
            "type": "scatter3d"
           }
          ],
          "scattercarpet": [
           {
            "marker": {
             "colorbar": {
              "outlinewidth": 0,
              "ticks": ""
             }
            },
            "type": "scattercarpet"
           }
          ],
          "scattergeo": [
           {
            "marker": {
             "colorbar": {
              "outlinewidth": 0,
              "ticks": ""
             }
            },
            "type": "scattergeo"
           }
          ],
          "scattergl": [
           {
            "marker": {
             "colorbar": {
              "outlinewidth": 0,
              "ticks": ""
             }
            },
            "type": "scattergl"
           }
          ],
          "scattermapbox": [
           {
            "marker": {
             "colorbar": {
              "outlinewidth": 0,
              "ticks": ""
             }
            },
            "type": "scattermapbox"
           }
          ],
          "scatterpolar": [
           {
            "marker": {
             "colorbar": {
              "outlinewidth": 0,
              "ticks": ""
             }
            },
            "type": "scatterpolar"
           }
          ],
          "scatterpolargl": [
           {
            "marker": {
             "colorbar": {
              "outlinewidth": 0,
              "ticks": ""
             }
            },
            "type": "scatterpolargl"
           }
          ],
          "scatterternary": [
           {
            "marker": {
             "colorbar": {
              "outlinewidth": 0,
              "ticks": ""
             }
            },
            "type": "scatterternary"
           }
          ],
          "surface": [
           {
            "colorbar": {
             "outlinewidth": 0,
             "ticks": ""
            },
            "colorscale": [
             [
              0,
              "#0d0887"
             ],
             [
              0.1111111111111111,
              "#46039f"
             ],
             [
              0.2222222222222222,
              "#7201a8"
             ],
             [
              0.3333333333333333,
              "#9c179e"
             ],
             [
              0.4444444444444444,
              "#bd3786"
             ],
             [
              0.5555555555555556,
              "#d8576b"
             ],
             [
              0.6666666666666666,
              "#ed7953"
             ],
             [
              0.7777777777777778,
              "#fb9f3a"
             ],
             [
              0.8888888888888888,
              "#fdca26"
             ],
             [
              1,
              "#f0f921"
             ]
            ],
            "type": "surface"
           }
          ],
          "table": [
           {
            "cells": {
             "fill": {
              "color": "#EBF0F8"
             },
             "line": {
              "color": "white"
             }
            },
            "header": {
             "fill": {
              "color": "#C8D4E3"
             },
             "line": {
              "color": "white"
             }
            },
            "type": "table"
           }
          ]
         },
         "layout": {
          "annotationdefaults": {
           "arrowcolor": "#2a3f5f",
           "arrowhead": 0,
           "arrowwidth": 1
          },
          "autotypenumbers": "strict",
          "coloraxis": {
           "colorbar": {
            "outlinewidth": 0,
            "ticks": ""
           }
          },
          "colorscale": {
           "diverging": [
            [
             0,
             "#8e0152"
            ],
            [
             0.1,
             "#c51b7d"
            ],
            [
             0.2,
             "#de77ae"
            ],
            [
             0.3,
             "#f1b6da"
            ],
            [
             0.4,
             "#fde0ef"
            ],
            [
             0.5,
             "#f7f7f7"
            ],
            [
             0.6,
             "#e6f5d0"
            ],
            [
             0.7,
             "#b8e186"
            ],
            [
             0.8,
             "#7fbc41"
            ],
            [
             0.9,
             "#4d9221"
            ],
            [
             1,
             "#276419"
            ]
           ],
           "sequential": [
            [
             0,
             "#0d0887"
            ],
            [
             0.1111111111111111,
             "#46039f"
            ],
            [
             0.2222222222222222,
             "#7201a8"
            ],
            [
             0.3333333333333333,
             "#9c179e"
            ],
            [
             0.4444444444444444,
             "#bd3786"
            ],
            [
             0.5555555555555556,
             "#d8576b"
            ],
            [
             0.6666666666666666,
             "#ed7953"
            ],
            [
             0.7777777777777778,
             "#fb9f3a"
            ],
            [
             0.8888888888888888,
             "#fdca26"
            ],
            [
             1,
             "#f0f921"
            ]
           ],
           "sequentialminus": [
            [
             0,
             "#0d0887"
            ],
            [
             0.1111111111111111,
             "#46039f"
            ],
            [
             0.2222222222222222,
             "#7201a8"
            ],
            [
             0.3333333333333333,
             "#9c179e"
            ],
            [
             0.4444444444444444,
             "#bd3786"
            ],
            [
             0.5555555555555556,
             "#d8576b"
            ],
            [
             0.6666666666666666,
             "#ed7953"
            ],
            [
             0.7777777777777778,
             "#fb9f3a"
            ],
            [
             0.8888888888888888,
             "#fdca26"
            ],
            [
             1,
             "#f0f921"
            ]
           ]
          },
          "colorway": [
           "#636efa",
           "#EF553B",
           "#00cc96",
           "#ab63fa",
           "#FFA15A",
           "#19d3f3",
           "#FF6692",
           "#B6E880",
           "#FF97FF",
           "#FECB52"
          ],
          "font": {
           "color": "#2a3f5f"
          },
          "geo": {
           "bgcolor": "white",
           "lakecolor": "white",
           "landcolor": "#E5ECF6",
           "showlakes": true,
           "showland": true,
           "subunitcolor": "white"
          },
          "hoverlabel": {
           "align": "left"
          },
          "hovermode": "closest",
          "mapbox": {
           "style": "light"
          },
          "paper_bgcolor": "white",
          "plot_bgcolor": "#E5ECF6",
          "polar": {
           "angularaxis": {
            "gridcolor": "white",
            "linecolor": "white",
            "ticks": ""
           },
           "bgcolor": "#E5ECF6",
           "radialaxis": {
            "gridcolor": "white",
            "linecolor": "white",
            "ticks": ""
           }
          },
          "scene": {
           "xaxis": {
            "backgroundcolor": "#E5ECF6",
            "gridcolor": "white",
            "gridwidth": 2,
            "linecolor": "white",
            "showbackground": true,
            "ticks": "",
            "zerolinecolor": "white"
           },
           "yaxis": {
            "backgroundcolor": "#E5ECF6",
            "gridcolor": "white",
            "gridwidth": 2,
            "linecolor": "white",
            "showbackground": true,
            "ticks": "",
            "zerolinecolor": "white"
           },
           "zaxis": {
            "backgroundcolor": "#E5ECF6",
            "gridcolor": "white",
            "gridwidth": 2,
            "linecolor": "white",
            "showbackground": true,
            "ticks": "",
            "zerolinecolor": "white"
           }
          },
          "shapedefaults": {
           "line": {
            "color": "#2a3f5f"
           }
          },
          "ternary": {
           "aaxis": {
            "gridcolor": "white",
            "linecolor": "white",
            "ticks": ""
           },
           "baxis": {
            "gridcolor": "white",
            "linecolor": "white",
            "ticks": ""
           },
           "bgcolor": "#E5ECF6",
           "caxis": {
            "gridcolor": "white",
            "linecolor": "white",
            "ticks": ""
           }
          },
          "title": {
           "x": 0.05
          },
          "xaxis": {
           "automargin": true,
           "gridcolor": "white",
           "linecolor": "white",
           "ticks": "",
           "title": {
            "standoff": 15
           },
           "zerolinecolor": "white",
           "zerolinewidth": 2
          },
          "yaxis": {
           "automargin": true,
           "gridcolor": "white",
           "linecolor": "white",
           "ticks": "",
           "title": {
            "standoff": 15
           },
           "zerolinecolor": "white",
           "zerolinewidth": 2
          }
         }
        },
        "title": {
         "text": "Netflix Stock Price"
        },
        "xaxis": {
         "anchor": "y",
         "domain": [
          0,
          1
         ],
         "title": {
          "text": "Date"
         }
        },
        "yaxis": {
         "anchor": "x",
         "domain": [
          0,
          1
         ],
         "title": {
          "text": "Volume"
         }
        }
       }
      },
      "text/html": [
       "<div>                            <div id=\"daa09715-f605-4037-a541-9f70fb590124\" class=\"plotly-graph-div\" style=\"height:525px; width:100%;\"></div>            <script type=\"text/javascript\">                require([\"plotly\"], function(Plotly) {                    window.PLOTLYENV=window.PLOTLYENV || {};                                    if (document.getElementById(\"daa09715-f605-4037-a541-9f70fb590124\")) {                    Plotly.newPlot(                        \"daa09715-f605-4037-a541-9f70fb590124\",                        [{\"alignmentgroup\":\"True\",\"hovertemplate\":\"Date=%{x}<br>Volume=%{y}<extra></extra>\",\"legendgroup\":\"\",\"marker\":{\"color\":\"#636efa\",\"pattern\":{\"shape\":\"\"}},\"name\":\"\",\"offsetgroup\":\"\",\"orientation\":\"v\",\"showlegend\":false,\"textposition\":\"auto\",\"x\":[\"2018-02-05\",\"2018-02-06\",\"2018-02-07\",\"2018-02-08\",\"2018-02-09\",\"2018-02-12\",\"2018-02-13\",\"2018-02-14\",\"2018-02-15\",\"2018-02-16\",\"2018-02-20\",\"2018-02-21\",\"2018-02-22\",\"2018-02-23\",\"2018-02-26\",\"2018-02-27\",\"2018-02-28\",\"2018-03-01\",\"2018-03-02\",\"2018-03-05\",\"2018-03-06\",\"2018-03-07\",\"2018-03-08\",\"2018-03-09\",\"2018-03-12\",\"2018-03-13\",\"2018-03-14\",\"2018-03-15\",\"2018-03-16\",\"2018-03-19\",\"2018-03-20\",\"2018-03-21\",\"2018-03-22\",\"2018-03-23\",\"2018-03-26\",\"2018-03-27\",\"2018-03-28\",\"2018-03-29\",\"2018-04-02\",\"2018-04-03\",\"2018-04-04\",\"2018-04-05\",\"2018-04-06\",\"2018-04-09\",\"2018-04-10\",\"2018-04-11\",\"2018-04-12\",\"2018-04-13\",\"2018-04-16\",\"2018-04-17\",\"2018-04-18\",\"2018-04-19\",\"2018-04-20\",\"2018-04-23\",\"2018-04-24\",\"2018-04-25\",\"2018-04-26\",\"2018-04-27\",\"2018-04-30\",\"2018-05-01\",\"2018-05-02\",\"2018-05-03\",\"2018-05-04\",\"2018-05-07\",\"2018-05-08\",\"2018-05-09\",\"2018-05-10\",\"2018-05-11\",\"2018-05-14\",\"2018-05-15\",\"2018-05-16\",\"2018-05-17\",\"2018-05-18\",\"2018-05-21\",\"2018-05-22\",\"2018-05-23\",\"2018-05-24\",\"2018-05-25\",\"2018-05-29\",\"2018-05-30\",\"2018-05-31\",\"2018-06-01\",\"2018-06-04\",\"2018-06-05\",\"2018-06-06\",\"2018-06-07\",\"2018-06-08\",\"2018-06-11\",\"2018-06-12\",\"2018-06-13\",\"2018-06-14\",\"2018-06-15\",\"2018-06-18\",\"2018-06-19\",\"2018-06-20\",\"2018-06-21\",\"2018-06-22\",\"2018-06-25\",\"2018-06-26\",\"2018-06-27\",\"2018-06-28\",\"2018-06-29\",\"2018-07-02\",\"2018-07-03\",\"2018-07-05\",\"2018-07-06\",\"2018-07-09\",\"2018-07-10\",\"2018-07-11\",\"2018-07-12\",\"2018-07-13\",\"2018-07-16\",\"2018-07-17\",\"2018-07-18\",\"2018-07-19\",\"2018-07-20\",\"2018-07-23\",\"2018-07-24\",\"2018-07-25\",\"2018-07-26\",\"2018-07-27\",\"2018-07-30\",\"2018-07-31\",\"2018-08-01\",\"2018-08-02\",\"2018-08-03\",\"2018-08-06\",\"2018-08-07\",\"2018-08-08\",\"2018-08-09\",\"2018-08-10\",\"2018-08-13\",\"2018-08-14\",\"2018-08-15\",\"2018-08-16\",\"2018-08-17\",\"2018-08-20\",\"2018-08-21\",\"2018-08-22\",\"2018-08-23\",\"2018-08-24\",\"2018-08-27\",\"2018-08-28\",\"2018-08-29\",\"2018-08-30\",\"2018-08-31\",\"2018-09-04\",\"2018-09-05\",\"2018-09-06\",\"2018-09-07\",\"2018-09-10\",\"2018-09-11\",\"2018-09-12\",\"2018-09-13\",\"2018-09-14\",\"2018-09-17\",\"2018-09-18\",\"2018-09-19\",\"2018-09-20\",\"2018-09-21\",\"2018-09-24\",\"2018-09-25\",\"2018-09-26\",\"2018-09-27\",\"2018-09-28\",\"2018-10-01\",\"2018-10-02\",\"2018-10-03\",\"2018-10-04\",\"2018-10-05\",\"2018-10-08\",\"2018-10-09\",\"2018-10-10\",\"2018-10-11\",\"2018-10-12\",\"2018-10-15\",\"2018-10-16\",\"2018-10-17\",\"2018-10-18\",\"2018-10-19\",\"2018-10-22\",\"2018-10-23\",\"2018-10-24\",\"2018-10-25\",\"2018-10-26\",\"2018-10-29\",\"2018-10-30\",\"2018-10-31\",\"2018-11-01\",\"2018-11-02\",\"2018-11-05\",\"2018-11-06\",\"2018-11-07\",\"2018-11-08\",\"2018-11-09\",\"2018-11-12\",\"2018-11-13\",\"2018-11-14\",\"2018-11-15\",\"2018-11-16\",\"2018-11-19\",\"2018-11-20\",\"2018-11-21\",\"2018-11-23\",\"2018-11-26\",\"2018-11-27\",\"2018-11-28\",\"2018-11-29\",\"2018-11-30\",\"2018-12-03\",\"2018-12-04\",\"2018-12-06\",\"2018-12-07\",\"2018-12-10\",\"2018-12-11\",\"2018-12-12\",\"2018-12-13\",\"2018-12-14\",\"2018-12-17\",\"2018-12-18\",\"2018-12-19\",\"2018-12-20\",\"2018-12-21\",\"2018-12-24\",\"2018-12-26\",\"2018-12-27\",\"2018-12-28\",\"2018-12-31\",\"2019-01-02\",\"2019-01-03\",\"2019-01-04\",\"2019-01-07\",\"2019-01-08\",\"2019-01-09\",\"2019-01-10\",\"2019-01-11\",\"2019-01-14\",\"2019-01-15\",\"2019-01-16\",\"2019-01-17\",\"2019-01-18\",\"2019-01-22\",\"2019-01-23\",\"2019-01-24\",\"2019-01-25\",\"2019-01-28\",\"2019-01-29\",\"2019-01-30\",\"2019-01-31\",\"2019-02-01\",\"2019-02-04\",\"2019-02-05\",\"2019-02-06\",\"2019-02-07\",\"2019-02-08\",\"2019-02-11\",\"2019-02-12\",\"2019-02-13\",\"2019-02-14\",\"2019-02-15\",\"2019-02-19\",\"2019-02-20\",\"2019-02-21\",\"2019-02-22\",\"2019-02-25\",\"2019-02-26\",\"2019-02-27\",\"2019-02-28\",\"2019-03-01\",\"2019-03-04\",\"2019-03-05\",\"2019-03-06\",\"2019-03-07\",\"2019-03-08\",\"2019-03-11\",\"2019-03-12\",\"2019-03-13\",\"2019-03-14\",\"2019-03-15\",\"2019-03-18\",\"2019-03-19\",\"2019-03-20\",\"2019-03-21\",\"2019-03-22\",\"2019-03-25\",\"2019-03-26\",\"2019-03-27\",\"2019-03-28\",\"2019-03-29\",\"2019-04-01\",\"2019-04-02\",\"2019-04-03\",\"2019-04-04\",\"2019-04-05\",\"2019-04-08\",\"2019-04-09\",\"2019-04-10\",\"2019-04-11\",\"2019-04-12\",\"2019-04-15\",\"2019-04-16\",\"2019-04-17\",\"2019-04-18\",\"2019-04-22\",\"2019-04-23\",\"2019-04-24\",\"2019-04-25\",\"2019-04-26\",\"2019-04-29\",\"2019-04-30\",\"2019-05-01\",\"2019-05-02\",\"2019-05-03\",\"2019-05-06\",\"2019-05-07\",\"2019-05-08\",\"2019-05-09\",\"2019-05-10\",\"2019-05-13\",\"2019-05-14\",\"2019-05-15\",\"2019-05-16\",\"2019-05-17\",\"2019-05-20\",\"2019-05-21\",\"2019-05-22\",\"2019-05-23\",\"2019-05-24\",\"2019-05-28\",\"2019-05-29\",\"2019-05-30\",\"2019-05-31\",\"2019-06-03\",\"2019-06-04\",\"2019-06-05\",\"2019-06-06\",\"2019-06-07\",\"2019-06-10\",\"2019-06-11\",\"2019-06-12\",\"2019-06-13\",\"2019-06-14\",\"2019-06-17\",\"2019-06-18\",\"2019-06-19\",\"2019-06-20\",\"2019-06-21\",\"2019-06-24\",\"2019-06-25\",\"2019-06-26\",\"2019-06-27\",\"2019-06-28\",\"2019-07-01\",\"2019-07-02\",\"2019-07-03\",\"2019-07-05\",\"2019-07-08\",\"2019-07-09\",\"2019-07-10\",\"2019-07-11\",\"2019-07-12\",\"2019-07-15\",\"2019-07-16\",\"2019-07-17\",\"2019-07-18\",\"2019-07-19\",\"2019-07-22\",\"2019-07-23\",\"2019-07-24\",\"2019-07-25\",\"2019-07-26\",\"2019-07-29\",\"2019-07-30\",\"2019-07-31\",\"2019-08-01\",\"2019-08-02\",\"2019-08-05\",\"2019-08-06\",\"2019-08-07\",\"2019-08-08\",\"2019-08-09\",\"2019-08-12\",\"2019-08-13\",\"2019-08-14\",\"2019-08-15\",\"2019-08-16\",\"2019-08-19\",\"2019-08-20\",\"2019-08-21\",\"2019-08-22\",\"2019-08-23\",\"2019-08-26\",\"2019-08-27\",\"2019-08-28\",\"2019-08-29\",\"2019-08-30\",\"2019-09-03\",\"2019-09-04\",\"2019-09-05\",\"2019-09-06\",\"2019-09-09\",\"2019-09-10\",\"2019-09-11\",\"2019-09-12\",\"2019-09-13\",\"2019-09-16\",\"2019-09-17\",\"2019-09-18\",\"2019-09-19\",\"2019-09-20\",\"2019-09-23\",\"2019-09-24\",\"2019-09-25\",\"2019-09-26\",\"2019-09-27\",\"2019-09-30\",\"2019-10-01\",\"2019-10-02\",\"2019-10-03\",\"2019-10-04\",\"2019-10-07\",\"2019-10-08\",\"2019-10-09\",\"2019-10-10\",\"2019-10-11\",\"2019-10-14\",\"2019-10-15\",\"2019-10-16\",\"2019-10-17\",\"2019-10-18\",\"2019-10-21\",\"2019-10-22\",\"2019-10-23\",\"2019-10-24\",\"2019-10-25\",\"2019-10-28\",\"2019-10-29\",\"2019-10-30\",\"2019-10-31\",\"2019-11-01\",\"2019-11-04\",\"2019-11-05\",\"2019-11-06\",\"2019-11-07\",\"2019-11-08\",\"2019-11-11\",\"2019-11-12\",\"2019-11-13\",\"2019-11-14\",\"2019-11-15\",\"2019-11-18\",\"2019-11-19\",\"2019-11-20\",\"2019-11-21\",\"2019-11-22\",\"2019-11-25\",\"2019-11-26\",\"2019-11-27\",\"2019-11-29\",\"2019-12-02\",\"2019-12-03\",\"2019-12-04\",\"2019-12-05\",\"2019-12-06\",\"2019-12-09\",\"2019-12-10\",\"2019-12-11\",\"2019-12-12\",\"2019-12-13\",\"2019-12-16\",\"2019-12-17\",\"2019-12-18\",\"2019-12-19\",\"2019-12-20\",\"2019-12-23\",\"2019-12-24\",\"2019-12-26\",\"2019-12-27\",\"2019-12-30\",\"2019-12-31\",\"2020-01-02\",\"2020-01-03\",\"2020-01-06\",\"2020-01-07\",\"2020-01-08\",\"2020-01-09\",\"2020-01-10\",\"2020-01-13\",\"2020-01-14\",\"2020-01-15\",\"2020-01-16\",\"2020-01-17\",\"2020-01-21\",\"2020-01-22\",\"2020-01-23\",\"2020-01-24\",\"2020-01-27\",\"2020-01-28\",\"2020-01-29\",\"2020-01-30\",\"2020-01-31\",\"2020-02-03\",\"2020-02-04\",\"2020-02-05\",\"2020-02-06\",\"2020-02-07\",\"2020-02-10\",\"2020-02-11\",\"2020-02-12\",\"2020-02-13\",\"2020-02-14\",\"2020-02-18\",\"2020-02-19\",\"2020-02-20\",\"2020-02-21\",\"2020-02-24\",\"2020-02-25\",\"2020-02-26\",\"2020-02-27\",\"2020-02-28\",\"2020-03-02\",\"2020-03-03\",\"2020-03-04\",\"2020-03-05\",\"2020-03-06\",\"2020-03-09\",\"2020-03-10\",\"2020-03-11\",\"2020-03-12\",\"2020-03-13\",\"2020-03-16\",\"2020-03-17\",\"2020-03-18\",\"2020-03-19\",\"2020-03-20\",\"2020-03-23\",\"2020-03-24\",\"2020-03-25\",\"2020-03-26\",\"2020-03-27\",\"2020-03-30\",\"2020-03-31\",\"2020-04-01\",\"2020-04-02\",\"2020-04-03\",\"2020-04-06\",\"2020-04-07\",\"2020-04-08\",\"2020-04-09\",\"2020-04-13\",\"2020-04-14\",\"2020-04-15\",\"2020-04-16\",\"2020-04-17\",\"2020-04-20\",\"2020-04-21\",\"2020-04-22\",\"2020-04-23\",\"2020-04-24\",\"2020-04-27\",\"2020-04-28\",\"2020-04-29\",\"2020-04-30\",\"2020-05-01\",\"2020-05-04\",\"2020-05-05\",\"2020-05-06\",\"2020-05-07\",\"2020-05-08\",\"2020-05-11\",\"2020-05-12\",\"2020-05-13\",\"2020-05-14\",\"2020-05-15\",\"2020-05-18\",\"2020-05-19\",\"2020-05-20\",\"2020-05-21\",\"2020-05-22\",\"2020-05-26\",\"2020-05-27\",\"2020-05-28\",\"2020-05-29\",\"2020-06-01\",\"2020-06-02\",\"2020-06-03\",\"2020-06-04\",\"2020-06-05\",\"2020-06-08\",\"2020-06-09\",\"2020-06-10\",\"2020-06-11\",\"2020-06-12\",\"2020-06-15\",\"2020-06-16\",\"2020-06-17\",\"2020-06-18\",\"2020-06-19\",\"2020-06-22\",\"2020-06-23\",\"2020-06-24\",\"2020-06-25\",\"2020-06-26\",\"2020-06-29\",\"2020-06-30\",\"2020-07-01\",\"2020-07-02\",\"2020-07-06\",\"2020-07-07\",\"2020-07-08\",\"2020-07-09\",\"2020-07-10\",\"2020-07-13\",\"2020-07-14\",\"2020-07-15\",\"2020-07-16\",\"2020-07-17\",\"2020-07-20\",\"2020-07-21\",\"2020-07-22\",\"2020-07-23\",\"2020-07-24\",\"2020-07-27\",\"2020-07-28\",\"2020-07-29\",\"2020-07-30\",\"2020-07-31\",\"2020-08-03\",\"2020-08-04\",\"2020-08-05\",\"2020-08-06\",\"2020-08-07\",\"2020-08-10\",\"2020-08-11\",\"2020-08-12\",\"2020-08-13\",\"2020-08-14\",\"2020-08-17\",\"2020-08-18\",\"2020-08-19\",\"2020-08-20\",\"2020-08-21\",\"2020-08-24\",\"2020-08-25\",\"2020-08-26\",\"2020-08-27\",\"2020-08-28\",\"2020-08-31\",\"2020-09-01\",\"2020-09-02\",\"2020-09-03\",\"2020-09-04\",\"2020-09-08\",\"2020-09-09\",\"2020-09-10\",\"2020-09-11\",\"2020-09-14\",\"2020-09-15\",\"2020-09-16\",\"2020-09-17\",\"2020-09-18\",\"2020-09-21\",\"2020-09-22\",\"2020-09-23\",\"2020-09-24\",\"2020-09-25\",\"2020-09-28\",\"2020-09-29\",\"2020-09-30\",\"2020-10-01\",\"2020-10-02\",\"2020-10-05\",\"2020-10-06\",\"2020-10-07\",\"2020-10-08\",\"2020-10-09\",\"2020-10-12\",\"2020-10-13\",\"2020-10-14\",\"2020-10-15\",\"2020-10-16\",\"2020-10-19\",\"2020-10-20\",\"2020-10-21\",\"2020-10-22\",\"2020-10-23\",\"2020-10-26\",\"2020-10-27\",\"2020-10-28\",\"2020-10-29\",\"2020-10-30\",\"2020-11-02\",\"2020-11-03\",\"2020-11-04\",\"2020-11-05\",\"2020-11-06\",\"2020-11-09\",\"2020-11-10\",\"2020-11-11\",\"2020-11-12\",\"2020-11-13\",\"2020-11-16\",\"2020-11-17\",\"2020-11-18\",\"2020-11-19\",\"2020-11-20\",\"2020-11-23\",\"2020-11-24\",\"2020-11-25\",\"2020-11-27\",\"2020-11-30\",\"2020-12-01\",\"2020-12-02\",\"2020-12-03\",\"2020-12-04\",\"2020-12-07\",\"2020-12-08\",\"2020-12-09\",\"2020-12-10\",\"2020-12-11\",\"2020-12-14\",\"2020-12-15\",\"2020-12-16\",\"2020-12-17\",\"2020-12-18\",\"2020-12-21\",\"2020-12-22\",\"2020-12-23\",\"2020-12-24\",\"2020-12-28\",\"2020-12-29\",\"2020-12-30\",\"2020-12-31\",\"2021-01-04\",\"2021-01-05\",\"2021-01-06\",\"2021-01-07\",\"2021-01-08\",\"2021-01-11\",\"2021-01-12\",\"2021-01-13\",\"2021-01-14\",\"2021-01-15\",\"2021-01-19\",\"2021-01-20\",\"2021-01-21\",\"2021-01-22\",\"2021-01-25\",\"2021-01-26\",\"2021-01-27\",\"2021-01-28\",\"2021-01-29\",\"2021-02-01\",\"2021-02-02\",\"2021-02-03\",\"2021-02-04\",\"2021-02-05\",\"2021-02-08\",\"2021-02-09\",\"2021-02-10\",\"2021-02-11\",\"2021-02-12\",\"2021-02-16\",\"2021-02-17\",\"2021-02-18\",\"2021-02-19\",\"2021-02-22\",\"2021-02-23\",\"2021-02-24\",\"2021-02-25\",\"2021-02-26\",\"2021-03-01\",\"2021-03-02\",\"2021-03-03\",\"2021-03-04\",\"2021-03-05\",\"2021-03-08\",\"2021-03-09\",\"2021-03-10\",\"2021-03-11\",\"2021-03-12\",\"2021-03-15\",\"2021-03-16\",\"2021-03-17\",\"2021-03-18\",\"2021-03-19\",\"2021-03-22\",\"2021-03-23\",\"2021-03-24\",\"2021-03-25\",\"2021-03-26\",\"2021-03-29\",\"2021-03-30\",\"2021-03-31\",\"2021-04-01\",\"2021-04-05\",\"2021-04-06\",\"2021-04-07\",\"2021-04-08\",\"2021-04-09\",\"2021-04-12\",\"2021-04-13\",\"2021-04-14\",\"2021-04-15\",\"2021-04-16\",\"2021-04-19\",\"2021-04-20\",\"2021-04-21\",\"2021-04-22\",\"2021-04-23\",\"2021-04-26\",\"2021-04-27\",\"2021-04-28\",\"2021-04-29\",\"2021-04-30\",\"2021-05-03\",\"2021-05-04\",\"2021-05-05\",\"2021-05-06\",\"2021-05-07\",\"2021-05-10\",\"2021-05-11\",\"2021-05-12\",\"2021-05-13\",\"2021-05-14\",\"2021-05-17\",\"2021-05-18\",\"2021-05-19\",\"2021-05-20\",\"2021-05-21\",\"2021-05-24\",\"2021-05-25\",\"2021-05-26\",\"2021-05-27\",\"2021-05-28\",\"2021-06-01\",\"2021-06-02\",\"2021-06-03\",\"2021-06-04\",\"2021-06-07\",\"2021-06-08\",\"2021-06-09\",\"2021-06-10\",\"2021-06-11\",\"2021-06-14\",\"2021-06-15\",\"2021-06-16\",\"2021-06-17\",\"2021-06-18\",\"2021-06-21\",\"2021-06-22\",\"2021-06-23\",\"2021-06-24\",\"2021-06-25\",\"2021-06-28\",\"2021-06-29\",\"2021-06-30\",\"2021-07-01\",\"2021-07-02\",\"2021-07-06\",\"2021-07-07\",\"2021-07-08\",\"2021-07-09\",\"2021-07-12\",\"2021-07-13\",\"2021-07-14\",\"2021-07-15\",\"2021-07-16\",\"2021-07-19\",\"2021-07-20\",\"2021-07-21\",\"2021-07-22\",\"2021-07-23\",\"2021-07-26\",\"2021-07-27\",\"2021-07-28\",\"2021-07-29\",\"2021-07-30\",\"2021-08-02\",\"2021-08-03\",\"2021-08-04\",\"2021-08-05\",\"2021-08-06\",\"2021-08-09\",\"2021-08-10\",\"2021-08-11\",\"2021-08-12\",\"2021-08-13\",\"2021-08-16\",\"2021-08-17\",\"2021-08-18\",\"2021-08-19\",\"2021-08-20\",\"2021-08-23\",\"2021-08-24\",\"2021-08-25\",\"2021-08-26\",\"2021-08-27\",\"2021-08-30\",\"2021-08-31\",\"2021-09-01\",\"2021-09-02\",\"2021-09-03\",\"2021-09-07\",\"2021-09-08\",\"2021-09-09\",\"2021-09-10\",\"2021-09-13\",\"2021-09-14\",\"2021-09-15\",\"2021-09-16\",\"2021-09-17\",\"2021-09-20\",\"2021-09-21\",\"2021-09-22\",\"2021-09-23\",\"2021-09-24\",\"2021-09-27\",\"2021-09-28\",\"2021-09-29\",\"2021-09-30\",\"2021-10-01\",\"2021-10-04\",\"2021-10-05\",\"2021-10-06\",\"2021-10-07\",\"2021-10-08\",\"2021-10-11\",\"2021-10-12\",\"2021-10-13\",\"2021-10-14\",\"2021-10-15\",\"2021-10-18\",\"2021-10-19\",\"2021-10-20\",\"2021-10-21\",\"2021-10-22\",\"2021-10-25\",\"2021-10-26\",\"2021-10-27\",\"2021-10-28\",\"2021-10-29\",\"2021-11-01\",\"2021-11-02\",\"2021-11-03\",\"2021-11-04\",\"2021-11-05\",\"2021-11-08\",\"2021-11-09\",\"2021-11-10\",\"2021-11-11\",\"2021-11-12\",\"2021-11-15\",\"2021-11-16\",\"2021-11-17\",\"2021-11-18\",\"2021-11-19\",\"2021-11-22\",\"2021-11-23\",\"2021-11-24\",\"2021-11-26\",\"2021-11-29\",\"2021-11-30\",\"2021-12-01\",\"2021-12-02\",\"2021-12-03\",\"2021-12-06\",\"2021-12-07\",\"2021-12-08\",\"2021-12-09\",\"2021-12-10\",\"2021-12-13\",\"2021-12-14\",\"2021-12-15\",\"2021-12-16\",\"2021-12-17\",\"2021-12-20\",\"2021-12-21\",\"2021-12-22\",\"2021-12-23\",\"2021-12-27\",\"2021-12-28\",\"2021-12-29\",\"2021-12-30\",\"2021-12-31\",\"2022-01-03\",\"2022-01-04\",\"2022-01-05\",\"2022-01-06\",\"2022-01-07\",\"2022-01-10\",\"2022-01-11\",\"2022-01-12\",\"2022-01-13\",\"2022-01-14\",\"2022-01-18\",\"2022-01-19\",\"2022-01-20\",\"2022-01-21\",\"2022-01-24\",\"2022-01-25\",\"2022-01-26\",\"2022-01-27\",\"2022-01-28\",\"2022-01-31\",\"2022-02-01\",\"2022-02-02\",\"2022-02-03\",\"2022-02-04\"],\"xaxis\":\"x\",\"y\":[11896100,12595800,8981500,9306700,16906900,8534900,6855200,10972000,10759700,8312400,7769000,9371100,8891500,7301800,10268600,9416500,7653500,11932100,13345300,18986100,18525800,17132200,11340100,14500200,20369200,12917200,10475100,5642900,7333700,9925200,5991900,5263900,8063300,9529900,11988300,12068600,18972900,19145500,13405800,12694900,12914000,10655200,11444800,9853600,10660500,14877400,10249400,12046600,20307900,33866500,11221100,8438800,9158700,8968000,13893200,14919700,9266700,7074400,6088800,6036600,5697100,6135800,8209500,7117800,4735700,5633400,5302300,4589700,4089800,4746100,3671700,4935700,3577700,6657300,5964400,10049100,14758600,7817400,9717900,5685500,6921700,7112300,7682000,8358000,7712300,8278000,5225700,4432400,4291000,18222800,14598300,13588100,6824800,16697100,16494600,18389900,10428600,22490900,15191200,16541400,12219900,9252500,8142500,5280300,8448900,8629600,11127500,9382900,9713900,12743300,15719000,22960000,58410400,21746300,16878700,15096700,11505200,12851500,8467800,6993700,8949500,18260700,14085400,7790500,7131300,8848400,8198100,7970900,5394700,4820300,4328400,6888900,5805200,11784500,6689700,10407900,13591100,14783200,8930700,11336400,14729100,17427300,9222600,8118700,10981000,7943400,7605200,13092800,13050200,9105800,5752200,6198100,10480800,8366100,4756400,7071900,10414000,11876800,6768100,11930600,9322500,6799800,13799700,7326200,7114900,8376600,8638700,5798600,9074400,13523000,12375500,8755000,17183100,16082100,14870800,11215000,20156400,32610900,18461000,16717200,17097200,14907300,19039300,13346900,19616000,21698800,23685700,20360300,15121500,13404600,10283000,9710400,13328300,11023900,13480800,10924800,12232200,16853600,9967100,9099500,12993800,16693800,11023000,5245100,12498600,11149500,14801300,15431500,11860100,14117400,12800600,13074300,12466700,9605600,9843200,11456700,8379300,9915300,9634700,10350100,13788400,16792900,21397600,9547600,14402700,12235200,10992800,13508900,11679500,14969600,19330100,18620100,15359200,13343200,13472500,19500400,10499600,21181200,15385500,18871200,26621000,17941400,13480100,11131600,11152900,8652100,7655200,9234500,8535500,9827800,9051400,9046600,6717700,7864500,7561400,5454900,10429400,10559100,9295300,9230000,7396600,8110700,6227900,7088200,7569300,4944600,5629900,6186800,5526500,7487000,5937800,6211900,6151300,6898800,5387300,5164600,6444100,5271400,8444500,7194700,7541400,10917200,8544000,8661300,8473800,7666500,7852400,4361000,4705600,7036100,5158700,5368900,4627300,3905500,4653800,5439200,4545600,6526900,15646200,8842300,18740200,18054100,8353200,11980500,10089800,6541900,6255500,5621900,3821700,3870100,9257300,5398200,5130300,5793100,6974900,6572000,5882600,5657100,8026700,5353000,6340100,6441500,4725400,4621500,4026400,6229400,5630400,3831000,4717100,5658900,4008000,5023400,7849600,7891600,5020100,3710000,4777300,7810300,5396700,4584700,6209300,5019000,5358200,5428500,5667200,5899500,7448400,4830200,5750400,3669700,4138600,4592700,4992600,3625000,3799000,3732200,3113400,6932800,5878800,4336300,6636900,7944700,5863200,13639500,31287100,16302500,17718000,9171100,11961800,10798500,10847500,5782800,6029300,6259500,6563200,6280300,8692500,6179100,9322400,5905900,5349100,6531700,5289400,7355800,9629200,6905800,4942200,7349900,5685400,4974200,6324900,4695700,6309400,3955700,4388500,4446400,3682800,4652500,8966800,5166600,8232700,12320200,7405900,5010900,6583100,5307400,4777100,7811100,8461300,23832800,13478600,16338200,11643800,7684000,7328300,6727200,8650300,7659100,8951000,9890400,6525600,6276400,6794400,10809100,8786100,5513200,7685600,16175900,38258900,23429900,12599200,11802400,7133500,4827400,4747800,6248400,4356200,9345600,5090000,5594300,5566200,4062400,3438300,5928500,4509000,3944300,5772800,9158900,6529000,6333800,8616600,5918000,5111800,7488400,5970100,7873900,5321000,4096900,2411700,6218800,4992800,3512100,4615500,4457800,5748400,10476100,5589800,4766600,3879700,4658900,10427100,11207400,9822300,9914900,5765300,2019300,3589900,5036100,4311500,3713300,4485800,3806900,5663100,4703200,7104500,4709300,4718300,6290000,7199400,5158000,5016000,6066500,14350300,21730000,18200300,17939700,7709500,6821600,7643500,5328100,5230000,6670600,7161500,6437000,3920400,4385200,5294100,4772900,4624800,4485400,3736300,5173900,4896400,4079400,3930100,6936400,6481200,8934100,10967700,11168600,6997900,8364600,5487300,8747000,8147200,7405500,7604400,6036000,12071600,9458200,10559900,10013900,12593600,10616000,10853800,13449400,11638700,8767200,7229600,7948800,8622000,9366500,6672500,4592500,4860800,8183900,7046400,6908900,7711300,11692900,11581000,13561200,16128700,12616300,12655800,23177600,21084800,13952300,8658900,6277500,10101200,9693100,7954000,8299900,7799100,6286300,6660700,5641900,5049300,5486000,4598200,7014600,9007500,7244000,7773500,4810500,5607300,9117300,5422300,7881100,10446300,5655100,5254900,3743700,3494800,4316000,5410500,5099600,5851500,6797000,4896900,7462900,6461100,4467900,5507900,6529600,4277600,5934500,6272100,5948400,4826200,4134500,6804700,4844000,4198500,9705900,6351500,7839000,5669900,5691700,5840500,21605600,18399000,15083300,10066700,24499000,24991400,11940300,9113700,6954100,7722000,7746200,7863100,5986700,6611800,6608600,5916300,5873100,5608000,4308200,3725900,5910300,4691200,7329200,5439200,3008900,2943500,2423500,3505500,3156200,5132500,3921300,4762200,5727700,20373700,9062900,4417500,4941400,9572700,5886900,9071100,8270100,5572700,6848100,6240200,5035200,7359100,5337000,4394900,5379300,6717700,5457500,3482300,3726400,3727200,3769400,4773500,3541500,4634100,8153700,6071200,4088100,4199000,7988700,5386500,4781300,5391100,5602500,9499000,5113100,6347400,7567500,10047200,17405700,6997900,4927900,6186100,3627200,5992700,11120700,7807900,4408200,3690200,5137300,5372800,4236300,10419700,8306100,5460500,5063700,3002700,3953600,3698100,3629200,2254700,4253400,5416600,3550500,3598600,2805800,3530900,5052700,3028400,2826100,3666200,4289300,4229000,4178800,3018200,3210900,5770400,3394900,3682400,3193400,4502700,3894000,1906600,2393200,1144000,2891900,4022400,1876300,5392300,4444400,3133900,5346200,3686400,2973900,3806200,5990400,5032100,4177400,5895800,12315800,32637500,11802100,7550800,7207300,5023800,8670300,5969000,4325300,3547500,3767600,3172300,5164500,2376200,2791700,3703500,3991300,2730600,2197100,2624100,2069600,2456200,2841500,3078600,4136500,3245000,4252900,3755600,3041400,3042200,5362400,5034800,5070000,3981800,3470000,3771500,4714500,3981700,3484300,3238900,2817400,4094500,4386400,3360600,5583500,4102200,4926800,3467800,3330000,2418100,3503100,3938600,3355900,3474200,2151300,4309800,2894000,2944100,2720300,3740300,3139100,3209100,4288700,11257600,22897400,9061100,7307700,4388800,3761300,3193000,5127800,4413200,4091900,4349500,3129400,3783700,3132800,5131600,4401000,4121500,2712500,2882500,2705200,2350500,3349900,3721200,3322900,2412600,2699500,2465300,3253800,2910300,2482600,2269000,3887400,3160500,2791900,2374000,3055000,4382900,3124000,4400200,3104100,3533200,3198300,5197600,5277300,5809300,3944800,3361200,5299100,2820200,2314600,2773400,2805400,1975500,2775100,2722500,3269000,2777200,1780700,2751600,4659500,5713900,3442100,3885800,6930400,11906800,4328100,3820500,2254500,2759000,2390500,1736000,2534900,2096600,2579400,2039400,2556700,1919400,1367800,1960500,1673900,1685700,2176300,2032800,2309800,2582000,7497300,3774300,2602000,2109500,2065600,1595500,3251100,2434800,2431900,5626200,6179900,2681200,5821400,5424500,2954200,3948000,3062900,3457000,2755600,1832000,4145100,3732200,2250900,4021800,2526200,2126200,2504700,4431100,6221000,6612600,4090800,4995900,9534300,4580400,3556900,3271100,2862500,3227300,2420300,2671700,4114400,4669100,7633100,10622000,8437100,6186000,3833500,2904800,2276900,2859400,3817500,3110900,3888600,2334900,4865000,5277400,2887500,2415600,2405800,2868300,4192700,2872200,2077400,2732800,2012900,2613700,2764400,2320200,1867300,2872500,2529400,5608900,3882800,3331100,4825200,3075700,3125200,2220300,2376300,2747900,2517900,2984500,2866200,3143200,4386900,3358400,2319400,2335700,1621100,2061500,1882800,1287200,1625100,1995900,3067500,4393100,4148700,5711800,3381700,4486100,3077800,3787400,4475100,7849400,4839100,4353500,12659000,58904300,32346000,15145800,12684000,24324700,11966600,20047500,22542300,14346000,9905200,7782400],\"yaxis\":\"y\",\"type\":\"bar\"}],                        {\"template\":{\"data\":{\"histogram2dcontour\":[{\"type\":\"histogram2dcontour\",\"colorbar\":{\"outlinewidth\":0,\"ticks\":\"\"},\"colorscale\":[[0.0,\"#0d0887\"],[0.1111111111111111,\"#46039f\"],[0.2222222222222222,\"#7201a8\"],[0.3333333333333333,\"#9c179e\"],[0.4444444444444444,\"#bd3786\"],[0.5555555555555556,\"#d8576b\"],[0.6666666666666666,\"#ed7953\"],[0.7777777777777778,\"#fb9f3a\"],[0.8888888888888888,\"#fdca26\"],[1.0,\"#f0f921\"]]}],\"choropleth\":[{\"type\":\"choropleth\",\"colorbar\":{\"outlinewidth\":0,\"ticks\":\"\"}}],\"histogram2d\":[{\"type\":\"histogram2d\",\"colorbar\":{\"outlinewidth\":0,\"ticks\":\"\"},\"colorscale\":[[0.0,\"#0d0887\"],[0.1111111111111111,\"#46039f\"],[0.2222222222222222,\"#7201a8\"],[0.3333333333333333,\"#9c179e\"],[0.4444444444444444,\"#bd3786\"],[0.5555555555555556,\"#d8576b\"],[0.6666666666666666,\"#ed7953\"],[0.7777777777777778,\"#fb9f3a\"],[0.8888888888888888,\"#fdca26\"],[1.0,\"#f0f921\"]]}],\"heatmap\":[{\"type\":\"heatmap\",\"colorbar\":{\"outlinewidth\":0,\"ticks\":\"\"},\"colorscale\":[[0.0,\"#0d0887\"],[0.1111111111111111,\"#46039f\"],[0.2222222222222222,\"#7201a8\"],[0.3333333333333333,\"#9c179e\"],[0.4444444444444444,\"#bd3786\"],[0.5555555555555556,\"#d8576b\"],[0.6666666666666666,\"#ed7953\"],[0.7777777777777778,\"#fb9f3a\"],[0.8888888888888888,\"#fdca26\"],[1.0,\"#f0f921\"]]}],\"heatmapgl\":[{\"type\":\"heatmapgl\",\"colorbar\":{\"outlinewidth\":0,\"ticks\":\"\"},\"colorscale\":[[0.0,\"#0d0887\"],[0.1111111111111111,\"#46039f\"],[0.2222222222222222,\"#7201a8\"],[0.3333333333333333,\"#9c179e\"],[0.4444444444444444,\"#bd3786\"],[0.5555555555555556,\"#d8576b\"],[0.6666666666666666,\"#ed7953\"],[0.7777777777777778,\"#fb9f3a\"],[0.8888888888888888,\"#fdca26\"],[1.0,\"#f0f921\"]]}],\"contourcarpet\":[{\"type\":\"contourcarpet\",\"colorbar\":{\"outlinewidth\":0,\"ticks\":\"\"}}],\"contour\":[{\"type\":\"contour\",\"colorbar\":{\"outlinewidth\":0,\"ticks\":\"\"},\"colorscale\":[[0.0,\"#0d0887\"],[0.1111111111111111,\"#46039f\"],[0.2222222222222222,\"#7201a8\"],[0.3333333333333333,\"#9c179e\"],[0.4444444444444444,\"#bd3786\"],[0.5555555555555556,\"#d8576b\"],[0.6666666666666666,\"#ed7953\"],[0.7777777777777778,\"#fb9f3a\"],[0.8888888888888888,\"#fdca26\"],[1.0,\"#f0f921\"]]}],\"surface\":[{\"type\":\"surface\",\"colorbar\":{\"outlinewidth\":0,\"ticks\":\"\"},\"colorscale\":[[0.0,\"#0d0887\"],[0.1111111111111111,\"#46039f\"],[0.2222222222222222,\"#7201a8\"],[0.3333333333333333,\"#9c179e\"],[0.4444444444444444,\"#bd3786\"],[0.5555555555555556,\"#d8576b\"],[0.6666666666666666,\"#ed7953\"],[0.7777777777777778,\"#fb9f3a\"],[0.8888888888888888,\"#fdca26\"],[1.0,\"#f0f921\"]]}],\"mesh3d\":[{\"type\":\"mesh3d\",\"colorbar\":{\"outlinewidth\":0,\"ticks\":\"\"}}],\"scatter\":[{\"fillpattern\":{\"fillmode\":\"overlay\",\"size\":10,\"solidity\":0.2},\"type\":\"scatter\"}],\"parcoords\":[{\"type\":\"parcoords\",\"line\":{\"colorbar\":{\"outlinewidth\":0,\"ticks\":\"\"}}}],\"scatterpolargl\":[{\"type\":\"scatterpolargl\",\"marker\":{\"colorbar\":{\"outlinewidth\":0,\"ticks\":\"\"}}}],\"bar\":[{\"error_x\":{\"color\":\"#2a3f5f\"},\"error_y\":{\"color\":\"#2a3f5f\"},\"marker\":{\"line\":{\"color\":\"#E5ECF6\",\"width\":0.5},\"pattern\":{\"fillmode\":\"overlay\",\"size\":10,\"solidity\":0.2}},\"type\":\"bar\"}],\"scattergeo\":[{\"type\":\"scattergeo\",\"marker\":{\"colorbar\":{\"outlinewidth\":0,\"ticks\":\"\"}}}],\"scatterpolar\":[{\"type\":\"scatterpolar\",\"marker\":{\"colorbar\":{\"outlinewidth\":0,\"ticks\":\"\"}}}],\"histogram\":[{\"marker\":{\"pattern\":{\"fillmode\":\"overlay\",\"size\":10,\"solidity\":0.2}},\"type\":\"histogram\"}],\"scattergl\":[{\"type\":\"scattergl\",\"marker\":{\"colorbar\":{\"outlinewidth\":0,\"ticks\":\"\"}}}],\"scatter3d\":[{\"type\":\"scatter3d\",\"line\":{\"colorbar\":{\"outlinewidth\":0,\"ticks\":\"\"}},\"marker\":{\"colorbar\":{\"outlinewidth\":0,\"ticks\":\"\"}}}],\"scattermapbox\":[{\"type\":\"scattermapbox\",\"marker\":{\"colorbar\":{\"outlinewidth\":0,\"ticks\":\"\"}}}],\"scatterternary\":[{\"type\":\"scatterternary\",\"marker\":{\"colorbar\":{\"outlinewidth\":0,\"ticks\":\"\"}}}],\"scattercarpet\":[{\"type\":\"scattercarpet\",\"marker\":{\"colorbar\":{\"outlinewidth\":0,\"ticks\":\"\"}}}],\"carpet\":[{\"aaxis\":{\"endlinecolor\":\"#2a3f5f\",\"gridcolor\":\"white\",\"linecolor\":\"white\",\"minorgridcolor\":\"white\",\"startlinecolor\":\"#2a3f5f\"},\"baxis\":{\"endlinecolor\":\"#2a3f5f\",\"gridcolor\":\"white\",\"linecolor\":\"white\",\"minorgridcolor\":\"white\",\"startlinecolor\":\"#2a3f5f\"},\"type\":\"carpet\"}],\"table\":[{\"cells\":{\"fill\":{\"color\":\"#EBF0F8\"},\"line\":{\"color\":\"white\"}},\"header\":{\"fill\":{\"color\":\"#C8D4E3\"},\"line\":{\"color\":\"white\"}},\"type\":\"table\"}],\"barpolar\":[{\"marker\":{\"line\":{\"color\":\"#E5ECF6\",\"width\":0.5},\"pattern\":{\"fillmode\":\"overlay\",\"size\":10,\"solidity\":0.2}},\"type\":\"barpolar\"}],\"pie\":[{\"automargin\":true,\"type\":\"pie\"}]},\"layout\":{\"autotypenumbers\":\"strict\",\"colorway\":[\"#636efa\",\"#EF553B\",\"#00cc96\",\"#ab63fa\",\"#FFA15A\",\"#19d3f3\",\"#FF6692\",\"#B6E880\",\"#FF97FF\",\"#FECB52\"],\"font\":{\"color\":\"#2a3f5f\"},\"hovermode\":\"closest\",\"hoverlabel\":{\"align\":\"left\"},\"paper_bgcolor\":\"white\",\"plot_bgcolor\":\"#E5ECF6\",\"polar\":{\"bgcolor\":\"#E5ECF6\",\"angularaxis\":{\"gridcolor\":\"white\",\"linecolor\":\"white\",\"ticks\":\"\"},\"radialaxis\":{\"gridcolor\":\"white\",\"linecolor\":\"white\",\"ticks\":\"\"}},\"ternary\":{\"bgcolor\":\"#E5ECF6\",\"aaxis\":{\"gridcolor\":\"white\",\"linecolor\":\"white\",\"ticks\":\"\"},\"baxis\":{\"gridcolor\":\"white\",\"linecolor\":\"white\",\"ticks\":\"\"},\"caxis\":{\"gridcolor\":\"white\",\"linecolor\":\"white\",\"ticks\":\"\"}},\"coloraxis\":{\"colorbar\":{\"outlinewidth\":0,\"ticks\":\"\"}},\"colorscale\":{\"sequential\":[[0.0,\"#0d0887\"],[0.1111111111111111,\"#46039f\"],[0.2222222222222222,\"#7201a8\"],[0.3333333333333333,\"#9c179e\"],[0.4444444444444444,\"#bd3786\"],[0.5555555555555556,\"#d8576b\"],[0.6666666666666666,\"#ed7953\"],[0.7777777777777778,\"#fb9f3a\"],[0.8888888888888888,\"#fdca26\"],[1.0,\"#f0f921\"]],\"sequentialminus\":[[0.0,\"#0d0887\"],[0.1111111111111111,\"#46039f\"],[0.2222222222222222,\"#7201a8\"],[0.3333333333333333,\"#9c179e\"],[0.4444444444444444,\"#bd3786\"],[0.5555555555555556,\"#d8576b\"],[0.6666666666666666,\"#ed7953\"],[0.7777777777777778,\"#fb9f3a\"],[0.8888888888888888,\"#fdca26\"],[1.0,\"#f0f921\"]],\"diverging\":[[0,\"#8e0152\"],[0.1,\"#c51b7d\"],[0.2,\"#de77ae\"],[0.3,\"#f1b6da\"],[0.4,\"#fde0ef\"],[0.5,\"#f7f7f7\"],[0.6,\"#e6f5d0\"],[0.7,\"#b8e186\"],[0.8,\"#7fbc41\"],[0.9,\"#4d9221\"],[1,\"#276419\"]]},\"xaxis\":{\"gridcolor\":\"white\",\"linecolor\":\"white\",\"ticks\":\"\",\"title\":{\"standoff\":15},\"zerolinecolor\":\"white\",\"automargin\":true,\"zerolinewidth\":2},\"yaxis\":{\"gridcolor\":\"white\",\"linecolor\":\"white\",\"ticks\":\"\",\"title\":{\"standoff\":15},\"zerolinecolor\":\"white\",\"automargin\":true,\"zerolinewidth\":2},\"scene\":{\"xaxis\":{\"backgroundcolor\":\"#E5ECF6\",\"gridcolor\":\"white\",\"linecolor\":\"white\",\"showbackground\":true,\"ticks\":\"\",\"zerolinecolor\":\"white\",\"gridwidth\":2},\"yaxis\":{\"backgroundcolor\":\"#E5ECF6\",\"gridcolor\":\"white\",\"linecolor\":\"white\",\"showbackground\":true,\"ticks\":\"\",\"zerolinecolor\":\"white\",\"gridwidth\":2},\"zaxis\":{\"backgroundcolor\":\"#E5ECF6\",\"gridcolor\":\"white\",\"linecolor\":\"white\",\"showbackground\":true,\"ticks\":\"\",\"zerolinecolor\":\"white\",\"gridwidth\":2}},\"shapedefaults\":{\"line\":{\"color\":\"#2a3f5f\"}},\"annotationdefaults\":{\"arrowcolor\":\"#2a3f5f\",\"arrowhead\":0,\"arrowwidth\":1},\"geo\":{\"bgcolor\":\"white\",\"landcolor\":\"#E5ECF6\",\"subunitcolor\":\"white\",\"showland\":true,\"showlakes\":true,\"lakecolor\":\"white\"},\"title\":{\"x\":0.05},\"mapbox\":{\"style\":\"light\"}}},\"xaxis\":{\"anchor\":\"y\",\"domain\":[0.0,1.0],\"title\":{\"text\":\"Date\"}},\"yaxis\":{\"anchor\":\"x\",\"domain\":[0.0,1.0],\"title\":{\"text\":\"Volume\"}},\"legend\":{\"tracegroupgap\":0},\"margin\":{\"t\":60},\"barmode\":\"stack\",\"font\":{\"color\":\"green\"},\"title\":{\"text\":\"Netflix Stock Price\"},\"plot_bgcolor\":\"#FFFFFF\",\"paper_bgcolor\":\"#E2F6EA\"},                        {\"responsive\": true}                    ).then(function(){\n",
       "                            \n",
       "var gd = document.getElementById('daa09715-f605-4037-a541-9f70fb590124');\n",
       "var x = new MutationObserver(function (mutations, observer) {{\n",
       "        var display = window.getComputedStyle(gd).display;\n",
       "        if (!display || display === 'none') {{\n",
       "            console.log([gd, 'removed!']);\n",
       "            Plotly.purge(gd);\n",
       "            observer.disconnect();\n",
       "        }}\n",
       "}});\n",
       "\n",
       "// Listen for the removal of the full notebook cells\n",
       "var notebookContainer = gd.closest('#notebook-container');\n",
       "if (notebookContainer) {{\n",
       "    x.observe(notebookContainer, {childList: true});\n",
       "}}\n",
       "\n",
       "// Listen for the clearing of the current output cell\n",
       "var outputEl = gd.closest('.output');\n",
       "if (outputEl) {{\n",
       "    x.observe(outputEl, {childList: true});\n",
       "}}\n",
       "\n",
       "                        })                };                });            </script>        </div>"
      ]
     },
     "metadata": {},
     "output_type": "display_data"
    }
   ],
   "source": [
    "fig = px.bar(prices_train, x='Date', y='Volume')\n",
    "# Update layout settings including background colors\n",
    "fig.update_layout(\n",
    "    title='Netflix Stock Price',\n",
    "    barmode='stack',\n",
    "    font_color='green',\n",
    "    plot_bgcolor='#FFFFFF',  # Change plot area background color\n",
    "    paper_bgcolor='#E2F6EA'  # Change overall figure background color\n",
    ")\n",
    "fig.show()"
   ]
  },
  {
   "cell_type": "code",
   "execution_count": 34,
   "metadata": {
    "execution": {
     "iopub.execute_input": "2022-02-22T00:45:32.335656Z",
     "iopub.status.busy": "2022-02-22T00:45:32.334857Z",
     "iopub.status.idle": "2022-02-22T00:45:32.673956Z",
     "shell.execute_reply": "2022-02-22T00:45:32.67336Z",
     "shell.execute_reply.started": "2022-02-22T00:45:32.335605Z"
    }
   },
   "outputs": [
    {
     "data": {
      "text/plain": [
       "<matplotlib.legend.Legend at 0x1d816989290>"
      ]
     },
     "execution_count": 34,
     "metadata": {},
     "output_type": "execute_result"
    },
    {
     "data": {
      "image/png": "[encoded data removed]",
      "text/plain": [
       "<Figure size 1400x500 with 1 Axes>"
      ]
     },
     "metadata": {},
     "output_type": "display_data"
    }
   ],
   "source": [
    "f, (ax1) = plt.subplots(1, 1, figsize=(14, 5))\n",
    "v_dist_1 = prices_train[\"Close\"].values\n",
    "sns.histplot(v_dist_1, ax=ax1, kde=True)\n",
    "mean=prices_train[\"Close\"].mean()\n",
    "median=prices_train[\"Close\"].median()\n",
    "mode=prices_train[\"Close\"].mode().values[0]\n",
    "ax1.axvline(mean, color='r', linestyle='--', label=\"Mean\")\n",
    "ax1.axvline(median, color='g', linestyle='-', label=\"Mean\")\n",
    "ax1.axvline(mode, color='b', linestyle='-', label=\"Mode\")\n",
    "ax1.legend()"
   ]
  },
  {
   "cell_type": "markdown",
   "metadata": {},
   "source": [
    "# Monte Carlo Simulation"
   ]
  },
  {
   "cell_type": "code",
   "execution_count": 37,
   "metadata": {
    "execution": {
     "iopub.execute_input": "2022-02-22T00:49:50.331258Z",
     "iopub.status.busy": "2022-02-22T00:49:50.330945Z",
     "iopub.status.idle": "2022-02-22T00:49:50.338914Z",
     "shell.execute_reply": "2022-02-22T00:49:50.338071Z",
     "shell.execute_reply.started": "2022-02-22T00:49:50.331227Z"
    }
   },
   "outputs": [
    {
     "name": "stdout",
     "output_type": "stream",
     "text": [
      "Before: 1009\n",
      "After: 989\n",
      "Test dt: 20\n"
     ]
    }
   ],
   "source": [
    "days_prev_len = 20\n",
    "\n",
    "prices_train_copy = prices_train[\"Close\"]\n",
    "print(f\"Before: {len(prices_train_copy)}\")\n",
    "\n",
    "prices_train_copy = prices_train_copy[0: len(prices_train_copy) - days_prev_len]\n",
    "prices_test_copy = prices_train_copy[len(prices_train_copy) - days_prev_len:]\n",
    "print(f\"After: {len(prices_train_copy)}\")\n",
    "print(f\"Test dt: {len(prices_test_copy)}\")"
   ]
  },
  {
   "cell_type": "code",
   "execution_count": 38,
   "metadata": {
    "execution": {
     "iopub.execute_input": "2022-02-22T00:49:51.654164Z",
     "iopub.status.busy": "2022-02-22T00:49:51.653339Z",
     "iopub.status.idle": "2022-02-22T00:49:51.66439Z",
     "shell.execute_reply": "2022-02-22T00:49:51.663514Z",
     "shell.execute_reply.started": "2022-02-22T00:49:51.654119Z"
    }
   },
   "outputs": [
    {
     "data": {
      "text/plain": [
       "0      0.000000\n",
       "1      0.044086\n",
       "2     -0.004375\n",
       "3     -0.056207\n",
       "4     -0.002522\n",
       "         ...   \n",
       "984   -0.015891\n",
       "985   -0.008451\n",
       "986   -0.010467\n",
       "987   -0.040794\n",
       "988   -0.025394\n",
       "Name: Close, Length: 989, dtype: float64"
      ]
     },
     "execution_count": 38,
     "metadata": {},
     "output_type": "execute_result"
    }
   ],
   "source": [
    "prices_train_copy = np.log(1 + prices_train_copy.pct_change())\n",
    "prices_train_copy.fillna(0, inplace=True)\n",
    "prices_train_copy"
   ]
  },
  {
   "cell_type": "code",
   "execution_count": 39,
   "metadata": {
    "execution": {
     "iopub.execute_input": "2022-02-22T00:49:52.473494Z",
     "iopub.status.busy": "2022-02-22T00:49:52.473197Z",
     "iopub.status.idle": "2022-02-22T00:49:52.479686Z",
     "shell.execute_reply": "2022-02-22T00:49:52.478695Z",
     "shell.execute_reply.started": "2022-02-22T00:49:52.473461Z"
    }
   },
   "outputs": [
    {
     "name": "stdout",
     "output_type": "stream",
     "text": [
      "Drift: 0.000469582027835995\n"
     ]
    }
   ],
   "source": [
    "drift = prices_train_copy.mean() - (0.5 * prices_train_copy.var())\n",
    "print(f\"Drift: {drift}\")"
   ]
  },
  {
   "cell_type": "code",
   "execution_count": 40,
   "metadata": {
    "execution": {
     "iopub.execute_input": "2022-02-22T00:49:53.327773Z",
     "iopub.status.busy": "2022-02-22T00:49:53.326997Z",
     "iopub.status.idle": "2022-02-22T00:50:19.206219Z",
     "shell.execute_reply": "2022-02-22T00:50:19.205406Z",
     "shell.execute_reply.started": "2022-02-22T00:49:53.327721Z"
    }
   },
   "outputs": [
    {
     "data": {
      "image/png": "[encoded data removed]",
      "text/plain": [
       "<Figure size 2000x1500 with 1 Axes>"
      ]
     },
     "metadata": {},
     "output_type": "display_data"
    }
   ],
   "source": [
    "simulations = 200\n",
    "Z = stats.norm.ppf(np.random.rand(days_prev_len, simulations))\n",
    "\n",
    "plt.figure(figsize=(20, 15))\n",
    "sns.histplot(Z)\n",
    "plt.show()"
   ]
  },
  {
   "cell_type": "code",
   "execution_count": 45,
   "metadata": {
    "execution": {
     "iopub.execute_input": "2022-02-22T00:50:19.208723Z",
     "iopub.status.busy": "2022-02-22T00:50:19.207928Z",
     "iopub.status.idle": "2022-02-22T00:50:19.338422Z",
     "shell.execute_reply": "2022-02-22T00:50:19.337682Z",
     "shell.execute_reply.started": "2022-02-22T00:50:19.208675Z"
    }
   },
   "outputs": [
    {
     "data": {
      "application/vnd.plotly.v1+json": {
       "config": {
        "plotlyServerURL": "https://plot.ly"
       },
       "data": [
        {
         "hovertemplate": "<extra></extra>",
         "legendgroup": "",
         "line": {
          "color": "#636efa",
          "dash": "solid"
         },
         "marker": {
          "symbol": "circle"
         },
         "mode": "lines",
         "name": "",
         "orientation": "v",
         "showlegend": false,
         "type": "scatter",
         "xaxis": "x",
         "yaxis": "y"
        },
        {
         "name": "0",
         "type": "scatter",
         "y": [
          410.170013,
          435.7518877641895,
          442.41417372655224,
          437.50564732804884,
          444.2727621381253,
          451.7131089294576,
          444.0458717547589,
          453.1360589351867,
          468.20524090092533,
          470.6759020979634,
          468.78876223559627,
          471.0902177458789,
          449.34885105348,
          453.69039551297465,
          471.18096359597234,
          454.40366290108506,
          469.7267618551495,
          474.8657264446626,
          475.57656344383054,
          472.54705181510946
         ]
        },
        {
         "name": "1",
         "type": "scatter",
         "y": [
          410.170013,
          404.866285950812,
          415.24579306092295,
          418.48958232313373,
          425.8329886285319,
          433.960468701048,
          422.01280808059363,
          433.43487778600036,
          440.5213255804678,
          412.4000615277554,
          422.10319989729214,
          417.98139432484265,
          414.6454030816044,
          412.7434709994681,
          421.68421483540175,
          418.5436494198433,
          419.6460688017644,
          436.1689923501076,
          440.03672972351234,
          427.77366412871504
         ]
        },
        {
         "name": "2",
         "type": "scatter",
         "y": [
          410.170013,
          406.1609391544696,
          425.9004312820772,
          416.00689688608713,
          438.73873674767395,
          449.22873343384236,
          435.01625103841235,
          428.44366835441184,
          429.32657437084123,
          417.2805498759275,
          422.3411626719123,
          417.138314495343,
          415.82045072430674,
          400.33913605003926,
          398.4082925645301,
          415.1442064674123,
          411.0918605068866,
          419.8140597321487,
          401.127511745795,
          399.3506310331398
         ]
        },
        {
         "name": "3",
         "type": "scatter",
         "y": [
          410.170013,
          430.97034259763007,
          456.314847882388,
          458.586513405355,
          446.43759186709684,
          436.4803356384957,
          445.86281840675673,
          431.19782074590717,
          431.17270655739185,
          441.86908148860016,
          440.16147199464,
          428.9760729392355,
          417.83304299090116,
          416.2898193537006,
          403.8881931173122,
          403.57780863957805,
          399.8041143383451,
          402.9209095123873,
          420.21852578800406,
          413.4473768434625
         ]
        },
        {
         "name": "4",
         "type": "scatter",
         "y": [
          410.170013,
          408.7387074083147,
          403.00256936925445,
          396.05720330916364,
          404.21693424614426,
          405.53669461320635,
          398.4868866944369,
          383.17580758341444,
          388.91435261928694,
          383.5711455996096,
          400.5096763329577,
          396.1970077697074,
          388.7558369674155,
          371.85392326218744,
          359.32740833626264,
          346.0749953321446,
          361.4480645874302,
          366.8169945539155,
          376.8816144615042,
          384.2041252801635
         ]
        },
        {
         "name": "5",
         "type": "scatter",
         "y": [
          410.170013,
          396.3465815957607,
          391.6055021523721,
          370.19135572489336,
          372.6225204899476,
          389.21022450211996,
          393.8502557624818,
          391.41832001057975,
          387.2510751883476,
          365.522703612341,
          367.8384886879958,
          396.84426314943727,
          386.0115179521895,
          382.41756397025625,
          389.3326874380793,
          387.8211174846328,
          395.4875822419291,
          389.45767948558193,
          385.8427096556592,
          370.0085064014601
         ]
        },
        {
         "name": "6",
         "type": "scatter",
         "y": [
          410.170013,
          407.3615006246709,
          390.02023889658074,
          393.0506673685487,
          394.92224035932685,
          389.9661839277155,
          380.83389920858906,
          399.0136577767961,
          403.1101833710874,
          395.70773129643646,
          411.61473535059946,
          408.36030787371425,
          406.027979819711,
          416.97432737778416,
          419.7572296412331,
          419.6162149045487,
          423.4472964072543,
          431.6421407741574,
          419.92963684944897,
          424.90143050468095
         ]
        },
        {
         "name": "7",
         "type": "scatter",
         "y": [
          410.170013,
          415.1837287524553,
          413.8862143085485,
          428.2009349416739,
          440.58404574448593,
          434.9282148917108,
          419.5572219062729,
          431.0392678420737,
          416.83629256266613,
          410.092823767347,
          401.35768788300015,
          401.07217628189125,
          397.0357982442064,
          387.26772844261285,
          405.5869436333991,
          403.395860503641,
          403.63794710289466,
          410.3619463244798,
          420.01789942684695,
          414.90851105488844
         ]
        },
        {
         "name": "8",
         "type": "scatter",
         "y": [
          410.170013,
          406.30277907902627,
          402.1793841325519,
          411.7832375021108,
          415.13589207186965,
          420.82422847445787,
          402.4466541103143,
          401.1666160552634,
          388.10516892852735,
          383.452358545335,
          381.15109385194006,
          394.1084156632896,
          392.73111608863604,
          368.9720907806658,
          348.34578635759095,
          344.8994263103597,
          345.5566601738225,
          335.88326011686513,
          317.983844444257,
          303.04596865401624
         ]
        },
        {
         "name": "9",
         "type": "scatter",
         "y": [
          410.170013,
          407.4138440291338,
          419.28595557418987,
          428.1119946703844,
          406.959807389154,
          418.85215963302414,
          399.45626788391206,
          401.7092305498771,
          407.2556266094373,
          406.3796360048365,
          406.06015029348293,
          417.6964951689157,
          427.46632422734626,
          420.26371518561757,
          434.03879921960606,
          412.6709628702368,
          425.90354673375396,
          420.40918276911077,
          421.5141410005949,
          432.7322992175444
         ]
        },
        {
         "name": "10",
         "type": "scatter",
         "y": [
          410.170013,
          400.94673327241173,
          394.7329142613943,
          408.5796264543197,
          416.5064622581626,
          415.9429875209675,
          408.2631721823401,
          422.9245866649717,
          422.21807330083965,
          443.8320608953403,
          447.5623775277193,
          433.8627453294396,
          434.2533036112677,
          432.3239844690805,
          417.7289014434181,
          420.41123000505377,
          422.5549294595334,
          431.0609500853912,
          414.4203705350209,
          417.28228047390917
         ]
        },
        {
         "name": "11",
         "type": "scatter",
         "y": [
          410.170013,
          410.82470238617054,
          395.12448312638935,
          378.0317090769417,
          373.1958142981281,
          368.99414197767027,
          374.0541614597666,
          395.22532521808,
          390.76503454997913,
          397.97092493828495,
          383.378636142598,
          400.0584632931345,
          390.93863159873126,
          412.97001456850796,
          410.9270229791308,
          414.629483066759,
          408.4348140323876,
          408.7907031998216,
          395.29458997860417,
          386.2513097005894
         ]
        },
        {
         "name": "12",
         "type": "scatter",
         "y": [
          410.170013,
          392.74270802548614,
          394.7268687053665,
          394.560919037397,
          390.45139208834865,
          395.793019747274,
          390.6963933625704,
          395.5160656522432,
          383.41306559689406,
          379.34416827121703,
          384.53622557640017,
          383.8856636807189,
          388.836699165143,
          399.3456165067826,
          394.67450743548875,
          402.8338267418371,
          407.87389484939615,
          425.3750474881613,
          428.6744625545739,
          434.1569182807017
         ]
        },
        {
         "name": "13",
         "type": "scatter",
         "y": [
          410.170013,
          411.026888745179,
          421.0894611349643,
          425.1079842363371,
          429.61605837035967,
          442.45336319171474,
          463.8653057018208,
          455.228675505967,
          429.48454648436467,
          443.11102862563973,
          446.3212986224295,
          446.74567180359315,
          435.9042282576273,
          436.5116196427814,
          452.0776125021939,
          435.19283487311503,
          427.1120091582345,
          442.40048647901665,
          447.84175045502866,
          430.92414254133377
         ]
        },
        {
         "name": "14",
         "type": "scatter",
         "y": [
          410.170013,
          403.64288176022205,
          406.71856358028725,
          424.3263609114966,
          417.03961558527595,
          399.0212900366236,
          399.1290483313851,
          403.8293334117217,
          418.50260214035524,
          427.4355368550547,
          418.0811180396045,
          413.37901372191556,
          426.4264339028135,
          430.87588147038645,
          443.0621830804827,
          452.58170024978637,
          433.6689178763946,
          426.59430667707824,
          418.85176724556965,
          409.56694102033987
         ]
        },
        {
         "name": "15",
         "type": "scatter",
         "y": [
          410.170013,
          401.1600222039863,
          397.48250108071875,
          397.822344195875,
          405.2591222076215,
          402.8990186872511,
          397.3453011678847,
          412.67761693958727,
          394.2815973456661,
          379.4673827586858,
          374.0922088561997,
          369.4786123448359,
          354.84156797431046,
          370.3751272908412,
          370.541225334965,
          372.6542689355252,
          370.77859764799933,
          381.4691620933578,
          393.50641846517146,
          404.76772753057196
         ]
        },
        {
         "name": "16",
         "type": "scatter",
         "y": [
          410.170013,
          418.1535616403657,
          434.09724465704346,
          444.00503061521,
          428.9194996996498,
          413.5852759118171,
          421.04578179677264,
          429.1103105412462,
          404.9950248145365,
          406.47519948918455,
          409.6321900486831,
          402.49746939987654,
          404.83715726202877,
          411.61950504638315,
          418.8697253116804,
          406.3957031127675,
          411.25986862803126,
          421.2132099992192,
          418.17023184044933,
          414.8927447145876
         ]
        },
        {
         "name": "17",
         "type": "scatter",
         "y": [
          410.170013,
          406.5756358833094,
          392.67191344832963,
          392.67349500427616,
          385.0756011442263,
          385.1339712645054,
          394.03520064909117,
          401.29664778904925,
          396.29152701407827,
          393.2541545063876,
          384.3025402303,
          389.6208126495837,
          402.28134772193073,
          392.1788389912825,
          386.10118398081016,
          389.2788782685309,
          387.9943257994848,
          388.3085483001649,
          397.0105740454202,
          401.8691049521226
         ]
        },
        {
         "name": "18",
         "type": "scatter",
         "y": [
          410.170013,
          407.77020967376245,
          412.462651293713,
          423.3246492422352,
          434.2386744602806,
          435.9499501934969,
          444.0776088225429,
          434.88923485042125,
          436.35676291355577,
          431.62592078018145,
          409.732608239865,
          412.8842647097261,
          413.8140400182777,
          401.2351570356184,
          394.86173644235583,
          390.3494974495268,
          375.06385584722045,
          382.6438837712596,
          393.326580640972,
          391.6490012528818
         ]
        },
        {
         "name": "19",
         "type": "scatter",
         "y": [
          410.170013,
          403.6821329757605,
          405.28466539001676,
          392.8975372711305,
          387.35093942741656,
          394.38279862719514,
          408.89820373155203,
          389.1412068034062,
          378.8949122978851,
          364.56438633369623,
          361.8683285201407,
          349.0656511698341,
          329.31098255897984,
          332.15072268099584,
          333.2014476417039,
          343.1651077643103,
          349.867198322663,
          346.2814731568844,
          354.39611465195173,
          348.5443435004473
         ]
        },
        {
         "name": "20",
         "type": "scatter",
         "y": [
          410.170013,
          436.97454664003527,
          438.60427028543756,
          433.8343261715888,
          432.35839001228993,
          421.97931333533734,
          432.00687407442274,
          450.67468349499666,
          444.6425241518891,
          443.98834988773143,
          452.4382465836927,
          474.21359154579596,
          481.7165883171563,
          482.579361831356,
          476.07981239880513,
          471.93941339972594,
          486.9483815111201,
          500.8064987134739,
          502.07695216343075,
          508.03619360098264
         ]
        },
        {
         "name": "21",
         "type": "scatter",
         "y": [
          410.170013,
          406.03434035281805,
          416.03229866173854,
          408.34926338980426,
          396.4518788785765,
          402.2704306816442,
          413.59488708096995,
          403.91069887209005,
          405.38843810225717,
          423.4315082095143,
          430.37729383122945,
          406.8714999636085,
          410.62748713987,
          422.21598595364077,
          415.7488543194065,
          401.9077629359848,
          390.4480024822161,
          372.80040329387054,
          370.75206103496373,
          368.99253192423777
         ]
        },
        {
         "name": "22",
         "type": "scatter",
         "y": [
          410.170013,
          405.7489432954802,
          418.43150110285956,
          421.48774123825945,
          429.65075156807956,
          417.25593910408867,
          409.44977247816763,
          415.73685444367214,
          406.95580080703644,
          411.5698046897293,
          407.87971757048007,
          404.09142727681996,
          413.4625887317866,
          417.3915666160855,
          402.13110179835513,
          409.34484021318553,
          406.1617066424556,
          408.11903406264065,
          410.57263900236694,
          419.55021844497617
         ]
        },
        {
         "name": "23",
         "type": "scatter",
         "y": [
          410.170013,
          415.42712267957745,
          409.7591388225474,
          411.2486891961833,
          417.0193784412542,
          424.725918679646,
          440.8137791397468,
          460.03186707703685,
          457.28465790745065,
          466.24329071459977,
          478.62192112927426,
          494.23660852841533,
          502.5133433879513,
          518.6775992048235,
          509.1909498093197,
          491.2511838302692,
          485.38661465609863,
          447.8126539272504,
          459.9468457020226,
          471.11024958363316
         ]
        },
        {
         "name": "24",
         "type": "scatter",
         "y": [
          410.170013,
          406.50580931047676,
          422.9637236902073,
          429.89639491577105,
          412.47168139715274,
          426.9199726750092,
          418.6362621272131,
          430.2480215623553,
          426.38584100795185,
          426.96959579434184,
          433.51865155142514,
          441.92143782605797,
          441.810687605013,
          453.24559983887673,
          459.68827564680845,
          462.61422869552996,
          478.88332391845756,
          480.2090006313794,
          484.51093111446045,
          490.0953572575355
         ]
        },
        {
         "name": "25",
         "type": "scatter",
         "y": [
          410.170013,
          420.70472286629365,
          433.21980261155284,
          435.1128297222768,
          433.03645888862104,
          425.13385436042324,
          422.8594471002265,
          401.68222614872934,
          410.9626958803609,
          388.5031128862184,
          389.29363726773533,
          385.95401738354633,
          382.5763489674599,
          378.11622990613245,
          363.23098742433024,
          366.66809628817276,
          379.07022596617423,
          380.13015191236315,
          384.0302785004932,
          381.20655002660004
         ]
        },
        {
         "name": "26",
         "type": "scatter",
         "y": [
          410.170013,
          403.61764626249817,
          398.0680211363948,
          384.0502565883894,
          377.6417186118019,
          367.66037206168767,
          357.1684416895069,
          369.9208719804904,
          374.3996798586276,
          371.50657683894525,
          388.3932876061249,
          383.3041033128404,
          376.59932502540164,
          361.0211726872003,
          375.72835869884113,
          362.4439787867083,
          353.92544674544257,
          349.68363295597993,
          349.26349196834883,
          330.9217992332861
         ]
        },
        {
         "name": "27",
         "type": "scatter",
         "y": [
          410.170013,
          401.8098213971514,
          422.55972242975054,
          410.8626513794787,
          400.4915478087058,
          387.3413751761699,
          375.7846497452937,
          370.6036307761243,
          372.7142898529379,
          358.5289961435872,
          370.5196201768194,
          373.57698010817785,
          389.0866266319346,
          415.1660802521998,
          428.0514893257622,
          440.8913662928952,
          446.8166419554842,
          458.9753550656427,
          479.5992836597024,
          490.1551424124384
         ]
        },
        {
         "name": "28",
         "type": "scatter",
         "y": [
          410.170013,
          397.6125523240218,
          392.96419623032523,
          396.4651191414069,
          391.12980456940636,
          384.96921903351176,
          372.92954154849485,
          380.77891595700635,
          380.84441346012545,
          402.92847774317676,
          406.46672112623423,
          394.935540764576,
          405.4320222470074,
          405.77591581221367,
          410.8125317805398,
          413.2237011690721,
          432.6190765076656,
          426.001736729967,
          418.42943193692474,
          422.5251888675516
         ]
        },
        {
         "name": "29",
         "type": "scatter",
         "y": [
          410.170013,
          415.11998631059834,
          406.1956610305648,
          442.57515650659974,
          444.12560391555513,
          442.25171949783646,
          447.93654931108284,
          457.3104084974312,
          455.5934769651011,
          452.9535047912173,
          456.0866695915367,
          455.09731910820756,
          453.98976364541585,
          482.16799292532926,
          486.3383551118261,
          467.34998518569694,
          472.49807825034395,
          459.6485214287161,
          462.1694778963147,
          464.35434233992925
         ]
        },
        {
         "name": "30",
         "type": "scatter",
         "y": [
          410.170013,
          397.01390644548354,
          389.7955143287985,
          378.7965499286434,
          384.14588868734666,
          396.42148034060665,
          395.0857624342375,
          383.51602414771605,
          386.8934205596046,
          379.2409387733342,
          380.2505529113074,
          376.9831010545298,
          370.76004526997593,
          371.0077312829035,
          364.06038769122415,
          358.69088832214203,
          369.52841827885317,
          362.6263690640502,
          347.32879446399033,
          345.05022664933136
         ]
        },
        {
         "name": "31",
         "type": "scatter",
         "y": [
          410.170013,
          410.4454700635825,
          419.54445025230797,
          424.15921787107357,
          417.5651376676506,
          421.08966219810065,
          410.1954424240867,
          433.8062092629934,
          428.6783168014356,
          437.2222418609345,
          436.395328526343,
          433.9935787648681,
          414.6515989016075,
          407.63200358015365,
          409.7156876792662,
          414.55721671741725,
          418.6036046346606,
          421.15067317456834,
          427.96114130586017,
          441.15300442561283
         ]
        },
        {
         "name": "32",
         "type": "scatter",
         "y": [
          410.170013,
          418.6946807652169,
          399.9792201921831,
          396.5823663777089,
          405.33536634961246,
          397.68440116340554,
          400.28710409024865,
          400.4528196779218,
          378.34254452349086,
          373.6323255483153,
          369.5818138316836,
          361.8199389843928,
          369.759076584991,
          399.40076541510336,
          396.00773123518263,
          387.45585162760796,
          387.09713747301817,
          395.73488083504293,
          411.27845994911866,
          428.3228710681241
         ]
        },
        {
         "name": "33",
         "type": "scatter",
         "y": [
          410.170013,
          407.2203136460917,
          399.7785374425048,
          399.65416137903486,
          400.43226980343155,
          388.3046893765299,
          398.53828672619096,
          404.04306677950956,
          412.22284885080745,
          412.04656760442913,
          410.71273579019453,
          417.00443946850464,
          425.6413942847064,
          439.7768062446141,
          454.0930304999322,
          446.361637900331,
          444.0709880400752,
          446.91632004729615,
          444.958900806268,
          447.9243264887809
         ]
        },
        {
         "name": "34",
         "type": "scatter",
         "y": [
          410.170013,
          415.4246656119591,
          409.2913463766648,
          402.3014143876876,
          410.18381757801455,
          405.0077658937563,
          388.73324447673804,
          378.3653148683159,
          377.5961928065127,
          396.9180119005563,
          419.46498430196834,
          408.9706531301036,
          394.4522460817282,
          393.36056223365546,
          387.7510001018471,
          391.91156209850993,
          389.70798770651,
          387.5573330735305,
          392.9589190073091,
          412.44115850594653
         ]
        },
        {
         "name": "35",
         "type": "scatter",
         "y": [
          410.170013,
          404.3359503065089,
          429.0058585050197,
          438.5167550692016,
          427.43177891579904,
          420.6456147791835,
          413.246795839383,
          407.30164494911116,
          403.12184589258936,
          406.50988046616624,
          413.58083918333756,
          410.44972752000916,
          403.5094782604968,
          417.59439567134666,
          409.9366000383522,
          402.8726101190228,
          405.9750914529842,
          406.9958229413905,
          418.79200137163355,
          428.44868889798573
         ]
        },
        {
         "name": "36",
         "type": "scatter",
         "y": [
          410.170013,
          425.99178876582766,
          414.8332605745159,
          425.56065716206353,
          448.5527898614897,
          465.057629830669,
          469.4275723858579,
          465.9557843898273,
          458.43003792600194,
          460.11971799975174,
          465.456930692786,
          459.94212748401793,
          470.1555692468204,
          481.96043806377185,
          480.7450281352211,
          475.0273757336226,
          482.5680348592237,
          495.71698262974485,
          474.79883074393945,
          470.2585425953043
         ]
        },
        {
         "name": "37",
         "type": "scatter",
         "y": [
          410.170013,
          408.0742537842043,
          429.1609802809921,
          422.7178301032684,
          427.0161377328189,
          422.0610834358064,
          406.5005389605873,
          413.44500225349486,
          405.958150548211,
          407.64386627734405,
          413.2734486235499,
          407.31268624524483,
          420.92406891045505,
          422.91653604837103,
          430.45356546872165,
          438.6399210620458,
          418.16949711240727,
          410.83397012864486,
          404.8053358527975,
          384.6855876200838
         ]
        },
        {
         "name": "38",
         "type": "scatter",
         "y": [
          410.170013,
          418.3716161407288,
          423.8957217126474,
          417.15935416553054,
          411.4228596790224,
          411.1765028961367,
          413.26949907325843,
          411.23662091347865,
          399.0722032119746,
          376.465217737504,
          363.90896052861746,
          366.73998513968735,
          371.9349080827864,
          369.275739360841,
          377.8872511641644,
          371.5896068982635,
          372.4679364360734,
          366.6345754571658,
          366.0896862036937,
          366.0821769134484
         ]
        },
        {
         "name": "39",
         "type": "scatter",
         "y": [
          410.170013,
          408.4883686040951,
          414.1023538645078,
          413.9046371089275,
          435.872500636463,
          419.2451449790189,
          422.81917955930896,
          416.9278724772757,
          405.2359776687519,
          411.1733865891345,
          414.3988101282679,
          408.6905276988029,
          401.29248509347667,
          401.87877336207475,
          390.4716822244498,
          390.5751191926161,
          388.66824473795106,
          390.3740991063394,
          386.3338520002085,
          380.2034012915202
         ]
        },
        {
         "name": "40",
         "type": "scatter",
         "y": [
          410.170013,
          400.57586765268445,
          390.7393724963592,
          393.83975120563525,
          401.54978323759667,
          398.1289990189066,
          387.88930143121144,
          384.15454490493323,
          404.66134536646365,
          423.2776660459973,
          410.80741606564,
          395.3857729280413,
          398.23608013687647,
          402.281764300597,
          421.05293272675084,
          428.5482388524079,
          443.2255399468065,
          447.65448776792437,
          453.1136421216364,
          439.39464111583334
         ]
        },
        {
         "name": "41",
         "type": "scatter",
         "y": [
          410.170013,
          405.76537173204025,
          422.23821948075994,
          443.93509908793743,
          442.27239573099695,
          428.09593976866483,
          420.0905417451997,
          440.04811825672766,
          432.68180952312343,
          425.2647153861862,
          432.8169514449548,
          418.04286221611494,
          434.7955337060154,
          437.16094734040547,
          434.8485896387185,
          440.79361026267884,
          445.2029170763411,
          432.57975191939295,
          430.06314115218447,
          419.3507539585499
         ]
        },
        {
         "name": "42",
         "type": "scatter",
         "y": [
          410.170013,
          424.3121737542235,
          423.490656636488,
          415.90429210435167,
          410.7572325632253,
          429.0294734759025,
          415.10872025514874,
          412.5829235297399,
          421.35427270568874,
          413.5746691234457,
          428.08513037948484,
          429.95297861430805,
          421.14355468157186,
          416.68869697254354,
          421.1587556613257,
          414.20909784615293,
          407.0548995403169,
          413.6531672839711,
          408.91943692073534,
          399.8982729301829
         ]
        },
        {
         "name": "43",
         "type": "scatter",
         "y": [
          410.170013,
          423.54960112021024,
          432.73846305634953,
          429.10591182073557,
          435.06481470524324,
          424.8643534421146,
          414.49852654845523,
          415.4678217259238,
          413.563746841264,
          426.16646514616036,
          412.56187125370656,
          407.63694283400326,
          409.7097779015587,
          391.92430163047254,
          395.11925331085206,
          392.27053663221193,
          407.57426524957157,
          419.51552050447305,
          423.63513160771396,
          436.1052708090879
         ]
        },
        {
         "name": "44",
         "type": "scatter",
         "y": [
          410.170013,
          404.7754862761903,
          399.83832203225916,
          388.2906989943016,
          388.1946315589301,
          396.2126059677096,
          394.9133102388488,
          386.52453300619374,
          384.9475714072868,
          370.92406437989257,
          374.8677335127406,
          360.6848453905576,
          370.769977525529,
          363.7849838512483,
          366.72230044492926,
          370.19202390253184,
          372.37863682495595,
          371.0406789635514,
          363.95781945008537,
          354.4464224464025
         ]
        },
        {
         "name": "45",
         "type": "scatter",
         "y": [
          410.170013,
          419.4528347632291,
          431.6291957342298,
          422.32925191263416,
          423.9965218452911,
          425.2802139614589,
          420.475815398171,
          419.58571095125404,
          414.31096352323,
          418.6758299931065,
          424.09278743449994,
          400.64747869716933,
          394.603690999523,
          390.8802133005466,
          390.61084732712453,
          384.0739616953633,
          381.1336563528562,
          387.43613510594673,
          378.05059253719753,
          379.4008733731694
         ]
        },
        {
         "name": "46",
         "type": "scatter",
         "y": [
          410.170013,
          399.89507742069065,
          425.2733673651462,
          451.9001185184284,
          448.3152377905914,
          457.97964717946405,
          442.82257948381334,
          447.2204673962028,
          461.68988837561193,
          443.7895190598047,
          423.3508069295898,
          412.6057149322556,
          414.7859810710113,
          398.63461708920005,
          394.5359873303974,
          398.6062442089313,
          392.3235422105915,
          412.3486820267635,
          408.8914106374391,
          425.31500928732515
         ]
        },
        {
         "name": "47",
         "type": "scatter",
         "y": [
          410.170013,
          413.6742217366716,
          403.2303252864458,
          404.3229416600801,
          387.36102487622657,
          385.0703721203695,
          373.49707444216676,
          377.8213048206082,
          368.14027761319596,
          384.1930404391747,
          385.25214314809364,
          385.66850417394625,
          375.9197925421443,
          357.05393039521505,
          343.76229345531186,
          343.207345322301,
          343.8875723023412,
          349.3970347218378,
          347.0989735711959,
          341.5463201098682
         ]
        },
        {
         "name": "48",
         "type": "scatter",
         "y": [
          410.170013,
          417.73364776212276,
          420.5798585680242,
          407.90993589748183,
          410.46525022136075,
          408.41313667515055,
          390.19116515615934,
          387.5698781516997,
          390.9016934651468,
          384.3971080278541,
          372.4389622315313,
          389.9586470342098,
          403.73090969366933,
          389.9451052198323,
          385.1619165154421,
          401.31607344887465,
          397.5942651403437,
          399.71259715723374,
          391.6462094164587,
          417.79586436898575
         ]
        },
        {
         "name": "49",
         "type": "scatter",
         "y": [
          410.170013,
          404.6087689361407,
          408.2511428394831,
          410.13272132500043,
          423.02103132588775,
          415.7413980412055,
          417.787306137888,
          408.1567783521825,
          407.5507361840384,
          413.65856552546273,
          416.38147796655176,
          409.68332897769375,
          429.34506944938084,
          451.53558267916526,
          448.2088802963885,
          444.4960478159391,
          455.93495904152513,
          435.21033679750155,
          427.43895371299976,
          412.77035473290437
         ]
        },
        {
         "name": "50",
         "type": "scatter",
         "y": [
          410.170013,
          422.7172034248536,
          415.72874090353645,
          407.0917067353866,
          388.3710121813674,
          373.87334356940585,
          382.1734386725639,
          370.9653288163192,
          374.3990860246912,
          375.78112991544066,
          390.0827352200367,
          412.58869445268687,
          436.66465131246684,
          448.15299715394866,
          439.07088787337557,
          438.0689599243218,
          430.31376045549246,
          430.8023421271781,
          455.3498521788497,
          469.11785325267033
         ]
        },
        {
         "name": "51",
         "type": "scatter",
         "y": [
          410.170013,
          408.621080017416,
          411.8803737795592,
          414.660163709452,
          414.0970178311541,
          400.99847247959787,
          395.7682878468246,
          396.5054805265852,
          404.9565894192246,
          410.5195978146601,
          403.92955291789167,
          399.42378126899393,
          383.7673526316023,
          399.7751991322445,
          390.7699751696303,
          391.03117467171774,
          400.43865338749924,
          388.8782876813119,
          388.76319124201484,
          389.7748316963844
         ]
        },
        {
         "name": "52",
         "type": "scatter",
         "y": [
          410.170013,
          403.6140266219159,
          399.7556331660005,
          395.31457969159175,
          400.00108340996564,
          409.9668691577061,
          427.39823526001453,
          421.1121070065678,
          440.2601173180652,
          452.4071586921975,
          478.69812631724545,
          474.37625456991793,
          484.1186499604055,
          487.5359503876902,
          435.5065962932725,
          464.37327257388193,
          473.07193581679104,
          455.1247220033624,
          457.40128101211906,
          467.44431560667687
         ]
        },
        {
         "name": "53",
         "type": "scatter",
         "y": [
          410.170013,
          418.2615919956331,
          417.10254314111563,
          423.4923595687231,
          421.50916095182185,
          404.46024021482015,
          382.4103692774947,
          396.6447556202208,
          397.60125095174976,
          401.1187442969407,
          389.97413335597884,
          400.2794936426053,
          410.69506495677695,
          392.3869776617618,
          401.75735052704596,
          388.8403501046552,
          393.5309330651871,
          392.92921658726425,
          385.5930822040299,
          391.9506740819531
         ]
        },
        {
         "name": "54",
         "type": "scatter",
         "y": [
          410.170013,
          401.7571043031981,
          396.23901637350394,
          392.87368169728677,
          392.2313192715993,
          384.99679189875945,
          395.1734227904173,
          396.36951998002263,
          398.1999926838066,
          394.4606457305294,
          374.71176078203916,
          386.84419581495973,
          379.8647563745165,
          386.1106246954626,
          393.86980615302,
          390.2723142653138,
          402.18934255497993,
          396.03782319451875,
          399.27829202371794,
          403.8743461750364
         ]
        },
        {
         "name": "55",
         "type": "scatter",
         "y": [
          410.170013,
          406.8087952567387,
          401.74629806071323,
          395.4701261510348,
          392.33351020213337,
          392.8674634093867,
          376.8051075751222,
          389.3902763362058,
          404.3800760778475,
          402.899695718346,
          394.9624405008534,
          397.75965144470155,
          386.80525741196766,
          380.40840974650393,
          368.8046582207125,
          369.4190044518618,
          362.83291100402573,
          345.887852735525,
          339.8627954546892,
          353.2468945823595
         ]
        },
        {
         "name": "56",
         "type": "scatter",
         "y": [
          410.170013,
          382.55152460776156,
          387.51410555020146,
          370.9676191825729,
          389.4379439660377,
          394.80461667083125,
          395.7469977069673,
          384.46385133336287,
          396.3061644542925,
          406.7631809844327,
          395.9801195368842,
          409.61848106368313,
          427.174728831201,
          425.54873532144734,
          457.5240642698042,
          444.11498583366745,
          429.06340962051206,
          426.27457601489016,
          423.8238521142328,
          417.5318288482434
         ]
        },
        {
         "name": "57",
         "type": "scatter",
         "y": [
          410.170013,
          416.4110298460208,
          426.2603518721213,
          402.35550104388676,
          406.0621767955862,
          402.4993410719559,
          388.2751370445326,
          399.8043974081861,
          402.16092745998037,
          398.97103902290036,
          402.7870611768247,
          415.28933081750984,
          418.238218245876,
          404.05254491897506,
          395.9945907750782,
          382.3672759597433,
          377.0556470180051,
          382.0988405661383,
          390.7800648288393,
          386.91284904992625
         ]
        },
        {
         "name": "58",
         "type": "scatter",
         "y": [
          410.170013,
          421.58745878614104,
          404.3942748879016,
          391.56190037677067,
          379.42669559032004,
          364.72905835306574,
          346.9426065401289,
          345.5907629951414,
          354.42151773743336,
          363.5707588310198,
          353.9592017845774,
          342.888257933452,
          348.3354151045605,
          348.88346180750204,
          362.88322112220885,
          340.6299585279696,
          342.43457003041476,
          332.10801425559964,
          344.7674653084892,
          336.48229317841304
         ]
        },
        {
         "name": "59",
         "type": "scatter",
         "y": [
          410.170013,
          418.3533939891074,
          419.52231616306585,
          430.2165815433545,
          429.5975073469623,
          459.6088487171493,
          457.3251638051799,
          464.96315227498746,
          447.92850878229723,
          445.70391030370337,
          450.79658810225385,
          427.9890064591026,
          435.70083740403516,
          418.28072129881724,
          422.9321182298727,
          418.30554006089153,
          418.7145302639463,
          410.4918152267945,
          398.42503831934954,
          408.0352292591394
         ]
        },
        {
         "name": "60",
         "type": "scatter",
         "y": [
          410.170013,
          421.2569197057978,
          418.3552269529321,
          427.6634430376872,
          441.83926990698865,
          440.76758873535056,
          445.41898972404954,
          451.7223303802198,
          456.052402709595,
          473.1094688737817,
          471.4329300515073,
          483.38766188533447,
          490.0773594935561,
          494.2954806874797,
          492.66158909520027,
          497.904182784,
          489.76015606930645,
          484.0328636789861,
          479.809908649166,
          467.0017667574926
         ]
        },
        {
         "name": "61",
         "type": "scatter",
         "y": [
          410.170013,
          390.9090215963146,
          379.9436043952912,
          379.46337473305215,
          397.9437453960088,
          394.9159453262666,
          385.4107862486511,
          377.10007304284443,
          374.2945400792212,
          391.76912429896845,
          403.4323704974321,
          412.92741863979717,
          410.67581014839436,
          395.067876058527,
          389.0505285055607,
          376.1226551019735,
          388.58405633226954,
          390.14400584099957,
          390.95869116109725,
          379.9244248075471
         ]
        },
        {
         "name": "62",
         "type": "scatter",
         "y": [
          410.170013,
          422.6064315465316,
          433.6680981454815,
          450.4040124085631,
          436.5080574634038,
          452.8613414019828,
          429.5926337687578,
          432.6255967525648,
          410.1312303074883,
          411.94010001888745,
          408.7014208385256,
          407.22804577027256,
          414.1790927072063,
          423.567193802512,
          429.3400459268373,
          444.65170529314776,
          475.1205503136018,
          467.3989508290013,
          459.416989123786,
          469.14557166480324
         ]
        },
        {
         "name": "63",
         "type": "scatter",
         "y": [
          410.170013,
          421.5291726190104,
          419.2451496734825,
          427.81950819281144,
          441.35141993640735,
          451.16225536928533,
          456.1755043317672,
          484.61167585101657,
          459.6097533076457,
          476.85232112673236,
          489.3153376334256,
          478.83920112052044,
          482.2323119017274,
          467.4641351146263,
          462.5445243537751,
          475.25735374700815,
          496.54498064227283,
          492.5031922662974,
          478.0678737622859,
          473.8342533221807
         ]
        },
        {
         "name": "64",
         "type": "scatter",
         "y": [
          410.170013,
          429.5946737621278,
          417.1474466639987,
          404.90965082843314,
          403.17964053493836,
          403.8461294045105,
          388.7341439870125,
          402.9587445209021,
          406.9040320606915,
          406.89298110465904,
          437.9216239197051,
          441.2297343198996,
          445.4678209304736,
          425.335742127174,
          434.0154190388161,
          438.6508530887718,
          438.354488595394,
          452.9185577029039,
          449.26949185838265,
          443.73988416523406
         ]
        },
        {
         "name": "65",
         "type": "scatter",
         "y": [
          410.170013,
          400.69750929114787,
          397.44203090698124,
          398.4104001152042,
          400.0619548379477,
          418.09519179141284,
          410.08041851398076,
          403.50702134270625,
          388.01704308669355,
          371.861006325087,
          363.16568597317183,
          366.2384895958625,
          366.78377384502113,
          378.4480662884305,
          364.10509794123175,
          363.30303285861504,
          363.0265252456087,
          347.9473774485104,
          360.87100727840146,
          371.21665945908705
         ]
        },
        {
         "name": "66",
         "type": "scatter",
         "y": [
          410.170013,
          396.8145396201486,
          395.6519208441863,
          370.0587883109585,
          373.4482753692544,
          362.2148468953841,
          368.2989682133642,
          374.18420390272985,
          367.46648510778397,
          367.9924269317117,
          360.8026298841633,
          372.1258295830541,
          375.30991584258595,
          384.8397818157758,
          380.8892977260385,
          390.64778761341836,
          386.65778989970863,
          391.603501543451,
          393.144143487373,
          409.84574323997174
         ]
        },
        {
         "name": "67",
         "type": "scatter",
         "y": [
          410.170013,
          399.3754206973991,
          398.5918521003065,
          377.1787450807293,
          363.15429676712404,
          349.76842769986655,
          350.0081439965189,
          334.88763259354573,
          337.7371327570415,
          336.4858640392632,
          323.38996779600325,
          321.44991152613846,
          319.4460099899834,
          324.77633748883494,
          326.53630225179546,
          343.1963047383958,
          342.1041017500713,
          339.895293647115,
          347.4556268277872,
          344.33934794294265
         ]
        },
        {
         "name": "68",
         "type": "scatter",
         "y": [
          410.170013,
          416.63001528338606,
          405.51833149207823,
          410.3406303791726,
          404.8032280569908,
          404.81561419681725,
          426.2778693843125,
          414.54168784291556,
          417.60208450249996,
          416.51741382736896,
          427.80205261251353,
          424.64627638718525,
          419.9900777248753,
          439.04240552802173,
          451.0293963432145,
          459.61046907772635,
          464.76642471651974,
          464.49547245968006,
          464.9900441145866,
          483.304729410382
         ]
        },
        {
         "name": "69",
         "type": "scatter",
         "y": [
          410.170013,
          402.0728617899878,
          404.62487759461663,
          422.2132733768533,
          412.01787224878274,
          426.695117804428,
          449.6410542486504,
          443.2842308231667,
          456.70525915080395,
          457.8384798613058,
          463.7617662531686,
          466.6725024098358,
          473.7556126950796,
          471.1626695544012,
          468.3264876968193,
          487.43026299644595,
          471.92960083897367,
          460.13076279633606,
          481.5332000523411,
          468.8572114746999
         ]
        },
        {
         "name": "70",
         "type": "scatter",
         "y": [
          410.170013,
          409.2338912569703,
          404.0881122747483,
          410.0924315476314,
          405.43523435129913,
          421.8287643388034,
          424.6912460282538,
          443.9644544260496,
          446.8702380419869,
          468.15100307697776,
          462.4658475600624,
          477.29247295004706,
          494.69917919504485,
          491.97864714985303,
          479.17262734037655,
          475.52549390269945,
          472.5998527919474,
          490.23803692132276,
          502.0932090185973,
          488.1499071410668
         ]
        },
        {
         "name": "71",
         "type": "scatter",
         "y": [
          410.170013,
          397.0430277750091,
          400.82671677849396,
          415.80036998663337,
          397.85598613440646,
          402.058283318972,
          421.0458308885506,
          420.66077960855495,
          431.9183656974765,
          433.2103219273546,
          441.51809899989445,
          454.8929568674453,
          458.7594154849229,
          447.4184603324112,
          443.2653017260033,
          438.8206154244576,
          432.8664227848937,
          470.7691621816288,
          476.66504658881655,
          483.39091425924084
         ]
        },
        {
         "name": "72",
         "type": "scatter",
         "y": [
          410.170013,
          421.8692294864032,
          433.01445768232924,
          431.0411037954762,
          434.2303272199727,
          433.29772659751393,
          431.4892846820495,
          445.0406899654644,
          453.1108508701112,
          436.8679841900788,
          431.54506552842383,
          437.0365928192627,
          432.5007705768266,
          426.3570003711537,
          415.9222473802065,
          406.4550718119332,
          381.4221135918309,
          376.2466329073823,
          375.6751232519571,
          392.9186800667288
         ]
        },
        {
         "name": "73",
         "type": "scatter",
         "y": [
          410.170013,
          408.4012885431037,
          401.0631811689824,
          393.8725305933317,
          403.3082341429994,
          400.1812207348215,
          414.9408508627856,
          431.53142951379937,
          437.320606777435,
          438.0572650937831,
          447.1923469062028,
          459.0264085336271,
          459.95127897007376,
          446.3123398708558,
          454.28712214744183,
          458.19066642156315,
          474.2889209462098,
          482.1922522591428,
          467.5024740435439,
          470.5778760122345
         ]
        },
        {
         "name": "74",
         "type": "scatter",
         "y": [
          410.170013,
          415.1750794230491,
          443.70713082114514,
          434.48463843561535,
          436.37627461602324,
          445.8822684644671,
          457.73772727726765,
          442.6162961887187,
          443.62421693642904,
          455.7455436281911,
          457.13866321864305,
          472.19704405000704,
          453.44875413525017,
          456.54973484092864,
          466.0380124697655,
          466.9173498942923,
          469.2507092410745,
          469.8282127287675,
          456.5889382745217,
          454.5095469992191
         ]
        },
        {
         "name": "75",
         "type": "scatter",
         "y": [
          410.170013,
          385.12709695596243,
          389.5363065743429,
          388.4803182211278,
          397.69165941213885,
          394.62998632243534,
          401.0318041917828,
          400.7496296137279,
          408.1072884931965,
          413.07045383164433,
          395.97238582100573,
          388.2696195278412,
          399.1613627070233,
          403.99535917187916,
          413.71096587764595,
          405.074861639797,
          413.994211608139,
          410.6570746820541,
          406.5973043974566,
          414.849405485427
         ]
        },
        {
         "name": "76",
         "type": "scatter",
         "y": [
          410.170013,
          413.0017288924923,
          428.41481776362656,
          428.31280655083543,
          455.31024803227075,
          449.3516823236045,
          459.8257009587487,
          446.23887115075996,
          439.769908067692,
          429.2501743432194,
          425.2989473286265,
          430.1296509153077,
          419.9972643055597,
          425.47620922269726,
          414.9111643997443,
          435.3587961985883,
          450.011888661033,
          455.6256000360859,
          444.92556733893394,
          452.99726318993794
         ]
        },
        {
         "name": "77",
         "type": "scatter",
         "y": [
          410.170013,
          395.97195608051754,
          394.00565086407204,
          389.5842054603722,
          402.84092141565753,
          382.9554097045757,
          374.404934945753,
          373.74054585395413,
          381.6270044210151,
          397.0513671537223,
          405.23525721309875,
          410.2147977952576,
          409.5342826799744,
          429.7548119053827,
          441.2785215417303,
          444.8916235516435,
          448.30309257852167,
          441.14390754263366,
          446.5089721636843,
          436.9653786566265
         ]
        },
        {
         "name": "78",
         "type": "scatter",
         "y": [
          410.170013,
          432.9427997458166,
          428.20052981956997,
          427.59553047851176,
          416.08687000946026,
          410.449436161017,
          432.9577322175369,
          433.85547333209223,
          433.49136717952234,
          419.6874911110151,
          427.67910322072754,
          421.23553979499746,
          427.3785002669461,
          434.1562061493551,
          439.83721709506676,
          434.56131870746685,
          427.703272905657,
          394.3569400561315,
          401.8021424630724,
          409.8053917850983
         ]
        },
        {
         "name": "79",
         "type": "scatter",
         "y": [
          410.170013,
          424.73983440086613,
          437.5175506275299,
          430.2777215102938,
          409.34267831116017,
          401.2114989724738,
          417.3991361656779,
          400.78078108802305,
          391.3508064772961,
          391.45112218329774,
          406.739862794373,
          401.1558679352497,
          403.0275491606712,
          396.2218999724962,
          393.9232592075939,
          383.9945746286826,
          387.5765711961447,
          407.30537296927963,
          400.4616520976968,
          386.5957954343398
         ]
        },
        {
         "name": "80",
         "type": "scatter",
         "y": [
          410.170013,
          413.79971580838185,
          417.9559246724392,
          409.0003008511657,
          416.57880416463644,
          419.54916078637086,
          431.26250062415227,
          439.61356526458377,
          435.9619313979136,
          431.40641738393805,
          443.1844328570629,
          440.79302303254724,
          446.16174928600856,
          447.68815394420903,
          447.51508121573244,
          435.46400538282137,
          432.2107252892918,
          405.6583395981596,
          404.8890481320514,
          416.42229512136305
         ]
        },
        {
         "name": "81",
         "type": "scatter",
         "y": [
          410.170013,
          414.63424462586084,
          433.8106170408867,
          437.92259773250555,
          450.53827974885735,
          448.82006683758556,
          439.8059900976333,
          419.8246366234326,
          416.68638279139196,
          417.7377161594129,
          446.1278198012389,
          443.8630460057584,
          449.9759218183279,
          447.6282111829231,
          446.8807781126505,
          451.06953750907314,
          451.063836310954,
          444.44196215862445,
          484.01738796310735,
          492.6754196383265
         ]
        },
        {
         "name": "82",
         "type": "scatter",
         "y": [
          410.170013,
          394.94161740630165,
          388.55702881254615,
          394.80016112898556,
          417.71314768474303,
          413.7043329193853,
          418.69030183308524,
          403.2165355290588,
          400.9614534187797,
          407.8533030327361,
          406.29106584078335,
          404.5037720475305,
          399.58862884789414,
          414.8865753509586,
          428.11373066471157,
          414.971674718871,
          423.1581120028933,
          422.18741082438345,
          414.96837182656196,
          420.96998795282457
         ]
        },
        {
         "name": "83",
         "type": "scatter",
         "y": [
          410.170013,
          418.8095897640028,
          404.9311490248161,
          406.4593310606239,
          390.3102118610405,
          394.654522706439,
          391.2728680197712,
          393.15397646187256,
          366.3566370721924,
          364.66155599245394,
          367.4223464112739,
          353.6358459867727,
          336.3190769717767,
          335.80347580632605,
          329.41217729038357,
          318.401426481898,
          319.87523359151214,
          320.69291022746216,
          322.92354833524456,
          331.08335516372784
         ]
        },
        {
         "name": "84",
         "type": "scatter",
         "y": [
          410.170013,
          401.66153444319605,
          399.04597865329697,
          388.10225313103257,
          374.427117866763,
          378.10605155119595,
          388.1978403994767,
          388.2655494267385,
          392.39575556959005,
          385.6003276590182,
          380.16080808225183,
          375.6770256413978,
          374.17590302821867,
          376.04569886537973,
          366.93989340970234,
          369.02101792109,
          368.79510285587673,
          364.7437479289221,
          369.8435766790256,
          365.4081212384789
         ]
        },
        {
         "name": "85",
         "type": "scatter",
         "y": [
          410.170013,
          392.14010860703536,
          397.3872775291652,
          400.5964461125724,
          393.07475491767275,
          385.8743288846615,
          388.03590596586645,
          392.16657451946804,
          395.06577311884433,
          399.3875304979468,
          394.2450933954146,
          388.7635127001466,
          390.37600735045555,
          391.9454513587356,
          402.0013241201688,
          378.3005709946169,
          371.85280483794025,
          362.3496492929503,
          368.14325613934693,
          361.5455158722223
         ]
        },
        {
         "name": "86",
         "type": "scatter",
         "y": [
          410.170013,
          409.2201916315862,
          410.7834192711743,
          420.412964162729,
          422.1479699649811,
          409.2270369297851,
          406.7861506331471,
          410.07751714559515,
          402.9396524521325,
          391.3050963586026,
          389.5601224840122,
          396.66443817738883,
          393.5424837601901,
          377.56960908726376,
          388.36630622433995,
          391.61969483115354,
          413.21167590687276,
          399.15865370989735,
          397.24583286322047,
          405.6198929238169
         ]
        },
        {
         "name": "87",
         "type": "scatter",
         "y": [
          410.170013,
          415.8514058488359,
          417.61969089403107,
          422.25053366864694,
          435.5228471280888,
          428.11652224138373,
          429.574077177816,
          462.5030704421565,
          467.0367501230643,
          481.3132791814913,
          466.4049732033783,
          470.9655243166251,
          451.2719519043865,
          460.29932351998934,
          461.68537872143935,
          465.1976833709994,
          453.44951108329485,
          449.584581703319,
          445.58755188516614,
          457.7302271748906
         ]
        },
        {
         "name": "88",
         "type": "scatter",
         "y": [
          410.170013,
          404.50569991386243,
          404.4756790985348,
          403.59135551466466,
          410.24560836580895,
          409.6961131252694,
          414.2442130978941,
          435.0051227206637,
          426.4422912152952,
          438.2824669125482,
          422.71341036985336,
          415.0633084340642,
          422.37378898296714,
          439.1301348078464,
          456.3425592844353,
          447.75774100999894,
          441.5523089187817,
          445.33138997077776,
          460.1384249289311,
          452.9647381652258
         ]
        },
        {
         "name": "89",
         "type": "scatter",
         "y": [
          410.170013,
          410.6840779691764,
          412.19508935116846,
          428.6633458181118,
          436.84045441780904,
          456.2896047079899,
          449.39533779679374,
          449.3463038643431,
          453.4047704120838,
          454.2331191311371,
          467.538215010659,
          472.7465275553022,
          470.40973273252763,
          480.4892335446699,
          464.5415652447899,
          473.1260665535571,
          487.62511834979335,
          473.18828880637943,
          495.87668836002484,
          522.8029105398949
         ]
        },
        {
         "name": "90",
         "type": "scatter",
         "y": [
          410.170013,
          411.0736892726771,
          384.8177713777775,
          388.10848564630743,
          388.7409933443938,
          385.9956492550239,
          384.6715399293436,
          383.8135561478619,
          371.5230080002377,
          359.9106364086416,
          365.5740549193364,
          362.0715790841307,
          370.4586867398843,
          362.5557039760406,
          361.2392385144421,
          378.47358074136315,
          355.1216644858008,
          357.2730747337522,
          359.22686680818913,
          374.7909114339551
         ]
        },
        {
         "name": "91",
         "type": "scatter",
         "y": [
          410.170013,
          442.59565179083444,
          426.20373905616884,
          429.53694368490665,
          436.46643553587165,
          428.07290878413784,
          428.4154778845478,
          438.0489413720489,
          445.07168057805484,
          450.5621753529896,
          440.6638142753426,
          444.8230591163143,
          444.45425095385383,
          472.59642744051746,
          462.79428596086615,
          466.8180107386348,
          458.62596487067634,
          455.0286084458022,
          448.8914086926514,
          426.84045465579504
         ]
        },
        {
         "name": "92",
         "type": "scatter",
         "y": [
          410.170013,
          399.14702182703985,
          398.0338905103746,
          410.8373760717574,
          411.4359106840016,
          405.4131672117758,
          406.4988332314698,
          403.14173444382317,
          404.20227819023364,
          397.3487729816129,
          406.0467123089258,
          412.1680203339166,
          403.1355758038519,
          397.83435494542175,
          400.718873302546,
          411.2656202247212,
          420.8210387522667,
          420.6271643993861,
          413.03473343731343,
          408.73761217199865
         ]
        },
        {
         "name": "93",
         "type": "scatter",
         "y": [
          410.170013,
          397.9742407038908,
          409.81629590935944,
          400.5883434134237,
          385.35589648471966,
          385.05853025010924,
          373.85774687093954,
          364.8076650588924,
          364.2695319565993,
          366.54008488826327,
          377.5044493194207,
          376.1379176509522,
          387.5768120109297,
          397.09363244706435,
          391.0737339879175,
          405.7215113679925,
          410.0377169324903,
          408.5583702812303,
          403.3868097038172,
          385.8090457552849
         ]
        },
        {
         "name": "94",
         "type": "scatter",
         "y": [
          410.170013,
          410.55725924173277,
          403.7570047415241,
          393.76028735815385,
          376.6606872377087,
          383.90727994782463,
          397.64559039494515,
          390.77075188501937,
          377.55685730249064,
          390.0682470612544,
          396.4951342239237,
          394.9229096914366,
          406.77995347447023,
          395.98321264397646,
          395.9263020383856,
          384.81899874729174,
          390.97023333810097,
          381.1921454329661,
          375.384115358041,
          394.11822168167424
         ]
        },
        {
         "name": "95",
         "type": "scatter",
         "y": [
          410.170013,
          405.4950557228437,
          409.36462383003436,
          417.45791887051325,
          414.1232741693511,
          406.1582782854596,
          402.75349559419715,
          412.0229239491306,
          401.04562543888653,
          402.15691420746873,
          409.6400163089027,
          401.3178183848352,
          402.32182075767673,
          402.13400151977464,
          402.04724877992425,
          408.0942578497599,
          407.30333055844454,
          425.0356438144156,
          437.2026465423537,
          452.91867406810854
         ]
        },
        {
         "name": "96",
         "type": "scatter",
         "y": [
          410.170013,
          419.9277203934949,
          425.7220346624635,
          428.6891948048623,
          409.86280873579614,
          407.5454467725558,
          411.3668694799538,
          402.0186150339407,
          418.52175872927563,
          404.4834970352882,
          411.68207982855364,
          412.2303945496435,
          418.11806026788787,
          413.9969233862821,
          412.0414340263033,
          423.1521060795238,
          417.88520467412974,
          423.84629980563534,
          430.3436547394462,
          420.9105986300789
         ]
        },
        {
         "name": "97",
         "type": "scatter",
         "y": [
          410.170013,
          409.2278704868038,
          410.9949366700953,
          399.06469139504,
          390.0324970856502,
          381.06321742929714,
          380.2331433658139,
          367.7261673232861,
          358.6495588132714,
          365.3682354832278,
          352.20768161571084,
          350.9037708371769,
          358.098637552091,
          345.44306357989757,
          347.8832685069732,
          347.84377548726786,
          357.9771861964816,
          367.36037323314304,
          376.88061065650066,
          386.5006101949776
         ]
        },
        {
         "name": "98",
         "type": "scatter",
         "y": [
          410.170013,
          405.9247782064176,
          396.8980709804465,
          396.4984105323932,
          404.1244198705729,
          421.68814516777604,
          437.00752684589463,
          429.91385950998864,
          432.4802943459329,
          436.20054256805156,
          440.390924752685,
          426.8526330841772,
          419.51070882147826,
          428.88012554715806,
          429.5695712960878,
          418.51259259351207,
          426.6456155242215,
          409.03559221126653,
          409.1470367472516,
          411.95709626786163
         ]
        },
        {
         "name": "99",
         "type": "scatter",
         "y": [
          410.170013,
          429.34670269332975,
          438.6271244592139,
          449.4676542882642,
          424.09767715227366,
          424.2560531542958,
          420.9323791384761,
          411.51506242150487,
          402.1884268519564,
          395.8718049590989,
          387.27133996577965,
          388.5062570238517,
          408.0780472482647,
          400.388786339086,
          401.3974043202167,
          386.3730149227688,
          391.9442265306997,
          397.44885884263425,
          401.65654038883275,
          399.9750485181775
         ]
        },
        {
         "name": "100",
         "type": "scatter",
         "y": [
          410.170013,
          408.4555265589172,
          411.0974457513808,
          405.8922925046185,
          420.7903386731555,
          413.1439261694778,
          403.32874104310713,
          413.1258551952142,
          413.20468313101594,
          425.64318874510786,
          423.24877137059264,
          441.5016177654311,
          435.02862872283305,
          429.6995183686354,
          432.5715211462561,
          441.79533420775715,
          442.13645794354744,
          427.7013637110311,
          418.6261151056497,
          404.851680991926
         ]
        },
        {
         "name": "101",
         "type": "scatter",
         "y": [
          410.170013,
          394.8011224132401,
          396.13440051183096,
          392.9414672458134,
          387.85544504796434,
          396.37605134387815,
          407.91530557782096,
          411.08923630927075,
          404.6249587252374,
          402.0756618642984,
          415.95992525858446,
          413.58584620977916,
          417.42237479026323,
          409.2289731882813,
          406.9004254214353,
          398.63790066384604,
          394.4138209938102,
          412.574916065461,
          394.69845118754574,
          382.1995001251508
         ]
        },
        {
         "name": "102",
         "type": "scatter",
         "y": [
          410.170013,
          401.9171778173641,
          396.3214713866078,
          401.7042504968095,
          394.78695077792196,
          394.53284611664566,
          386.2859641368692,
          387.2939678319425,
          393.48201128286377,
          405.37353797957024,
          407.07466667241266,
          399.8283179481619,
          403.3390511742938,
          406.87529819612774,
          399.40283523564347,
          411.5925792439068,
          420.40273289063526,
          416.310546453067,
          419.9742703757675,
          425.74836373319226
         ]
        },
        {
         "name": "103",
         "type": "scatter",
         "y": [
          410.170013,
          414.994583067651,
          404.00983983444564,
          410.6323094239901,
          393.7885206123231,
          391.54171370568474,
          379.7466829609215,
          376.5165658923015,
          391.40803238928856,
          392.59390816364487,
          384.7388633221663,
          389.74529694992395,
          392.96284387049565,
          396.51521192513457,
          375.3368291280678,
          386.18398516288516,
          397.48142955693453,
          412.50297736001244,
          412.1071362731802,
          424.1142960477706
         ]
        },
        {
         "name": "104",
         "type": "scatter",
         "y": [
          410.170013,
          399.0340439225415,
          395.6552329016842,
          381.2506831408497,
          371.5321259209236,
          392.62213562437944,
          372.40232369006685,
          373.2527057255299,
          382.0977889776781,
          381.6317676973027,
          375.38115894604874,
          371.4033092580797,
          378.1507230477047,
          369.9733977175094,
          368.5859779574108,
          388.50226951734334,
          378.4698046635605,
          382.82574022147935,
          378.663891028116,
          358.64424018379344
         ]
        },
        {
         "name": "105",
         "type": "scatter",
         "y": [
          410.170013,
          429.9171703139669,
          437.99961362724247,
          427.970687753914,
          430.5099648294495,
          439.0225965603194,
          430.14256137386855,
          421.9775568623331,
          424.74987065268,
          405.2402175028148,
          396.767325423842,
          423.43078095967485,
          409.3553586861368,
          394.7305464522702,
          398.6785505328558,
          408.6164869308745,
          418.7123823522555,
          426.2357635345473,
          436.63395167395424,
          436.01344875862895
         ]
        },
        {
         "name": "106",
         "type": "scatter",
         "y": [
          410.170013,
          401.85919857363865,
          391.591580510454,
          375.84038917777025,
          388.62792772899445,
          370.1203481533073,
          374.2731937555321,
          383.02424657831233,
          386.85665849313307,
          382.3367223197104,
          390.3997375675446,
          404.7382484901207,
          410.79539300772785,
          406.44012857280865,
          406.1591061090886,
          404.6333705504171,
          400.4423490298894,
          383.2132750588816,
          379.5067039410097,
          382.90685440848705
         ]
        },
        {
         "name": "107",
         "type": "scatter",
         "y": [
          410.170013,
          401.346395184667,
          394.00783960714716,
          395.2696823935309,
          409.61511982963555,
          426.69237301695273,
          414.72793637452446,
          424.5778731536171,
          419.85025750167443,
          440.76644278665,
          428.2859470142661,
          425.8888759195361,
          437.73539431925997,
          467.27935265799107,
          461.943638602197,
          456.6292217175746,
          455.0442320533903,
          446.75956178630094,
          447.1397611840236,
          440.002313599565
         ]
        },
        {
         "name": "108",
         "type": "scatter",
         "y": [
          410.170013,
          405.9031120794702,
          404.70466619078803,
          397.6320169794076,
          415.9218444276371,
          425.63869269896736,
          431.33322118647794,
          425.90471177949433,
          427.84377627013237,
          415.44203291464237,
          440.3188810710839,
          435.11157361957606,
          414.2309745202258,
          425.1369381730324,
          437.7249832131289,
          424.6468230572046,
          423.39974601528075,
          418.50543021449164,
          419.50312975503954,
          418.7357336558245
         ]
        },
        {
         "name": "109",
         "type": "scatter",
         "y": [
          410.170013,
          404.7946575885967,
          392.3141731658289,
          400.0706941655962,
          388.8301585003258,
          389.2883839206098,
          379.1881729173983,
          376.9612670603084,
          385.3967288654859,
          398.5952396604165,
          397.249460420874,
          394.7786798890612,
          400.84824888102014,
          401.3947139467192,
          395.97797476882175,
          386.96513318944307,
          387.0195954057954,
          389.608392750686,
          397.86273766452194,
          406.855964998973
         ]
        },
        {
         "name": "110",
         "type": "scatter",
         "y": [
          410.170013,
          427.9210579274949,
          417.32499225813564,
          411.98737813789944,
          404.18842100129467,
          402.86950979660554,
          406.66334259835884,
          405.59554414634977,
          413.4689212514141,
          413.0185429641845,
          412.57619746206353,
          419.3794254352266,
          424.42369909867534,
          408.19083009898935,
          425.30055242161353,
          404.9406713060844,
          401.19997901574817,
          413.21074129257306,
          402.03612304970505,
          402.19164944140493
         ]
        },
        {
         "name": "111",
         "type": "scatter",
         "y": [
          410.170013,
          410.43394453829984,
          415.1947755665637,
          426.0184477028643,
          430.7496413400644,
          420.5820605752389,
          408.66191955502836,
          416.40820967994,
          434.5649724136716,
          446.02439439094013,
          446.92440192204396,
          429.81483903323556,
          430.2056137113319,
          438.037307513967,
          439.8797359181858,
          443.8660664435059,
          437.68945412893487,
          434.0928077290821,
          440.4219479236615,
          434.94356197086904
         ]
        },
        {
         "name": "112",
         "type": "scatter",
         "y": [
          410.170013,
          418.6984465352028,
          410.1174778402159,
          403.100985016176,
          422.12509926593515,
          438.5586575400641,
          430.9729003869333,
          432.9619458020584,
          441.0152799784703,
          446.65647438662944,
          456.4652344665334,
          441.9849960085869,
          449.65733326598263,
          451.9809555793438,
          435.2266527171488,
          448.7676236199113,
          453.35268104109497,
          469.39512767321264,
          463.19034055573576,
          450.69525430988574
         ]
        },
        {
         "name": "113",
         "type": "scatter",
         "y": [
          410.170013,
          426.1632462390651,
          424.93849079208064,
          409.2365099059499,
          409.0720703950963,
          411.4670547076231,
          414.69685297059607,
          402.6914039681698,
          402.2507920129433,
          406.8556906565684,
          387.94377963078955,
          394.4503428724029,
          381.3981449992143,
          397.93086583510444,
          414.15057061656904,
          424.43913632005916,
          416.2974494586425,
          422.1760045185896,
          434.10592427335405,
          453.34749297227654
         ]
        },
        {
         "name": "114",
         "type": "scatter",
         "y": [
          410.170013,
          411.45846390487947,
          415.8966971921989,
          398.07498764468335,
          389.156119121902,
          392.65892701675415,
          386.9562644588463,
          386.9383568294377,
          395.0218103464885,
          384.11193858095885,
          385.681511372146,
          381.63323562017683,
          392.06086505982086,
          393.90279694473793,
          377.6356869621542,
          370.71454410185567,
          374.4072948059054,
          379.96218729725894,
          389.0243389797798,
          374.39428941064784
         ]
        },
        {
         "name": "115",
         "type": "scatter",
         "y": [
          410.170013,
          398.55798109274224,
          398.5402055051689,
          400.893456231473,
          381.3628115692917,
          377.18204781464567,
          363.9500718919814,
          368.6887475518315,
          352.5581991741844,
          346.81384024652493,
          342.68055609885465,
          351.8327687111795,
          347.6129361106043,
          335.4207588096096,
          343.82280102471515,
          333.86475285199054,
          329.40254694639253,
          321.2904357048796,
          324.2323976897443,
          320.4148332083744
         ]
        },
        {
         "name": "116",
         "type": "scatter",
         "y": [
          410.170013,
          416.5623790735564,
          421.6333104487139,
          412.90956733312566,
          419.34966722240375,
          412.7163899857315,
          414.0734326278986,
          416.7755884333104,
          408.85773177809654,
          400.3832276633717,
          409.5160574072008,
          404.2637990690037,
          388.67705969221447,
          392.79497718291566,
          393.1250651987253,
          375.5408112641608,
          380.3705496124878,
          398.6669663032143,
          392.8357464488371,
          380.5400431109064
         ]
        },
        {
         "name": "117",
         "type": "scatter",
         "y": [
          410.170013,
          411.326189361611,
          385.1733321966875,
          383.0575749091392,
          396.6186030189944,
          400.07783440395303,
          394.45819255378626,
          395.98849554013145,
          383.81767378514047,
          365.0216403157834,
          372.0516160545426,
          387.57947135317056,
          409.2692826849319,
          418.18424654197645,
          433.5847448796465,
          440.1815270536312,
          455.0759329309014,
          455.8221275238291,
          467.0950995110728,
          470.8325709052473
         ]
        },
        {
         "name": "118",
         "type": "scatter",
         "y": [
          410.170013,
          400.23924448904444,
          414.58883314336373,
          402.1333566076785,
          405.00599977201415,
          409.091299675575,
          418.11067236962833,
          424.6547274548483,
          428.3434114067666,
          426.65725717317355,
          419.64603427392757,
          408.63625769801666,
          420.93514614665963,
          422.6022362451261,
          418.8331416454144,
          410.1231555677472,
          404.77648463951215,
          414.6591944177226,
          412.30481510297324,
          413.4773656196214
         ]
        },
        {
         "name": "119",
         "type": "scatter",
         "y": [
          410.170013,
          415.00894702036703,
          397.63703579088815,
          398.3634269885522,
          418.3918328040839,
          411.09564436739186,
          404.50853431671834,
          396.4973244542264,
          395.90857781926815,
          402.7823524285074,
          400.16479831345595,
          394.0605527133016,
          380.72706382578616,
          377.74228392713877,
          363.3578117126954,
          369.96202103421024,
          390.50215147944914,
          400.88421041489954,
          389.83988872180106,
          389.5266159708532
         ]
        },
        {
         "name": "120",
         "type": "scatter",
         "y": [
          410.170013,
          421.04338723547517,
          435.6338580198163,
          427.03198261062767,
          420.55925127143536,
          429.4500684000654,
          437.3863149991497,
          435.92778684007726,
          432.00138300114844,
          441.58781406418854,
          469.7840526509962,
          442.7577072868162,
          449.7137793423625,
          440.5811240577816,
          452.56412883323526,
          444.8706973804912,
          464.1182991766421,
          457.2771545142055,
          450.91320725123416,
          444.0223549635883
         ]
        },
        {
         "name": "121",
         "type": "scatter",
         "y": [
          410.170013,
          397.2464174212839,
          404.3217062037054,
          401.9255300708511,
          399.64158969112077,
          402.69397026223925,
          415.5461809933791,
          406.14098674410974,
          414.2822876672793,
          425.2939737512918,
          415.43929228621687,
          408.68262721725034,
          401.0727518921788,
          402.99536816148526,
          395.7973889971565,
          390.5611998509812,
          394.6031980873798,
          400.12046094850086,
          419.6548481148992,
          398.9406444477296
         ]
        },
        {
         "name": "122",
         "type": "scatter",
         "y": [
          410.170013,
          393.86962013005655,
          389.140479571119,
          385.962760963464,
          383.28643415717113,
          377.0856677401653,
          379.2418207014885,
          372.5526174175387,
          381.35840891649406,
          378.44363216845693,
          391.88755397480617,
          391.61605763288486,
          399.24506612359244,
          408.53445339698993,
          418.34409832817306,
          416.04779104118256,
          417.4494498623519,
          406.3507365633862,
          410.4942594552899,
          435.7101050192607
         ]
        },
        {
         "name": "123",
         "type": "scatter",
         "y": [
          410.170013,
          415.3409297002574,
          419.90028863667845,
          433.5993710559115,
          445.9748050165677,
          450.5273186177179,
          451.2058673303395,
          434.31344686182916,
          440.4612310581255,
          448.43310117049214,
          417.31349848967255,
          430.90828925965036,
          429.0851532583853,
          417.28287569298095,
          402.4499798668607,
          398.8771477244141,
          409.3513207918357,
          410.30982181315596,
          418.20162228894776,
          395.9557950993125
         ]
        },
        {
         "name": "124",
         "type": "scatter",
         "y": [
          410.170013,
          397.8777138229603,
          389.732981550152,
          387.1945595395872,
          383.80454567736,
          406.85573975496226,
          422.48197921347617,
          418.3596138641638,
          408.24362839209624,
          398.96461547668355,
          407.08860929662796,
          414.5938756992373,
          396.15220939748,
          381.5022002768523,
          372.97345686475353,
          369.5550300348453,
          360.6255359622734,
          355.8304752328398,
          341.2497263490361,
          341.1318787274664
         ]
        },
        {
         "name": "125",
         "type": "scatter",
         "y": [
          410.170013,
          407.3840664906905,
          403.3585477097839,
          398.0121852312099,
          399.1824302662234,
          396.4342839908028,
          393.9557788636278,
          383.23739791105476,
          385.1098435976677,
          395.87362393895233,
          408.7024457394728,
          413.6229808756622,
          407.08253327842925,
          394.52093661999135,
          398.5681760816522,
          400.2959029172293,
          421.9799310913868,
          427.64654874449815,
          414.18122100837314,
          414.5220225746711
         ]
        },
        {
         "name": "126",
         "type": "scatter",
         "y": [
          410.170013,
          399.5633487635273,
          386.89098783061127,
          391.77592227812664,
          394.6505066712034,
          398.5331370269623,
          397.15196315629413,
          414.5491304789218,
          422.6490029449409,
          427.16313661266906,
          427.0775904926625,
          436.5370719131448,
          428.52208255190595,
          428.0265474642156,
          429.95439179011765,
          454.2779091127847,
          434.0520998129157,
          432.60233295770274,
          433.1251512435364,
          416.87581279407306
         ]
        },
        {
         "name": "127",
         "type": "scatter",
         "y": [
          410.170013,
          415.1141053531347,
          429.9218101950257,
          435.11006128435145,
          441.60806765481027,
          454.358952701588,
          448.0237096097759,
          440.8579042559035,
          439.3202446807501,
          441.7957817804728,
          448.5695006645082,
          448.3283020362228,
          448.22835573395236,
          455.4005852128695,
          493.7659670557637,
          491.94206131267526,
          494.24162212248166,
          493.8915399114499,
          471.6631327262502,
          491.0706405565
         ]
        },
        {
         "name": "128",
         "type": "scatter",
         "y": [
          410.170013,
          416.9459761891207,
          425.65318862548736,
          436.9191360695963,
          435.28544761199436,
          435.81655886675077,
          441.03305082000617,
          442.40689647677675,
          444.6848019869878,
          445.43686264554924,
          451.58746057411776,
          464.02554858917506,
          482.93897361496107,
          472.4102865453618,
          488.72228770733466,
          486.5717485356484,
          491.2066116157249,
          484.5810341813115,
          494.0706056067313,
          510.1415086887903
         ]
        },
        {
         "name": "129",
         "type": "scatter",
         "y": [
          410.170013,
          413.55494629114247,
          419.4346252385022,
          431.740217562295,
          449.807803604242,
          437.63430857853876,
          444.7850312112193,
          429.2365089183632,
          415.0461510973244,
          411.942701272138,
          402.2640380131272,
          421.5587574941777,
          408.26422675357315,
          428.9693662427599,
          437.07649978530725,
          440.0423714215179,
          450.31067863484014,
          459.27325714677414,
          451.60058405888776,
          470.0380504547451
         ]
        },
        {
         "name": "130",
         "type": "scatter",
         "y": [
          410.170013,
          398.7341902702523,
          404.14328051027803,
          399.9171819885408,
          386.9049361151712,
          372.168289418885,
          366.6540715429784,
          364.3793658677313,
          363.7855747598174,
          368.11616209665715,
          343.33700857561075,
          338.6992003129221,
          359.8544084991802,
          364.38597515223995,
          379.43751478697845,
          380.8666440212906,
          376.3474431942693,
          380.4863882556031,
          373.37140297488986,
          367.9471980180358
         ]
        },
        {
         "name": "131",
         "type": "scatter",
         "y": [
          410.170013,
          396.55034329878447,
          396.17534371454605,
          402.2001897813302,
          401.73839645005785,
          404.03550992512777,
          400.0282121255422,
          413.2834527600818,
          412.38131246854044,
          417.4914147196084,
          429.38648525840597,
          449.8493891654818,
          457.8544121656423,
          467.40920029449416,
          463.5905929752102,
          453.43311011856974,
          432.07804769790397,
          439.18154926321733,
          431.4013482419626,
          423.7792141179524
         ]
        },
        {
         "name": "132",
         "type": "scatter",
         "y": [
          410.170013,
          432.74775857275085,
          443.58514150414965,
          463.7477603931486,
          470.2396756779343,
          472.0882574014787,
          461.91882014784306,
          457.03420102173015,
          455.318414701339,
          455.27423742951817,
          462.94683078542784,
          486.10547447095814,
          492.8561934106484,
          492.1097620670829,
          473.1503102736437,
          482.324347947324,
          472.08572074064875,
          517.8206497989672,
          537.4521248510868,
          538.1809905968497
         ]
        },
        {
         "name": "133",
         "type": "scatter",
         "y": [
          410.170013,
          414.98707676028954,
          421.57496771065775,
          406.0679499725677,
          407.75164293068843,
          412.91516922946664,
          393.71571133597604,
          390.0411991945515,
          392.14111775226786,
          392.5695946165312,
          408.01969977563454,
          383.0406372206176,
          387.02090801451186,
          378.96803011636246,
          361.22425234755804,
          366.1798574862411,
          361.17552285703175,
          344.5985759135631,
          347.47360805898717,
          360.68034767167285
         ]
        },
        {
         "name": "134",
         "type": "scatter",
         "y": [
          410.170013,
          404.7353133616157,
          400.90469465559806,
          401.65457683752925,
          388.26176401557126,
          391.82646558931776,
          372.34524517786167,
          379.14905777435297,
          381.81520600684144,
          389.6054554160882,
          386.63702470896726,
          405.7500051255261,
          413.5167496051277,
          429.8386501412638,
          452.61872868767614,
          450.2658830456441,
          444.8860470101472,
          434.248777841091,
          425.55186138584094,
          449.74602914793104
         ]
        },
        {
         "name": "135",
         "type": "scatter",
         "y": [
          410.170013,
          410.2239742307708,
          402.67728237719894,
          397.88595393137064,
          387.1186098814153,
          393.5989713644618,
          387.8514305493444,
          359.48709307912765,
          355.5428744153624,
          345.5833851938964,
          353.71761705341487,
          367.968840723777,
          371.83760082022053,
          369.7137447332687,
          383.8020450924401,
          388.0670012040816,
          390.75052430781136,
          389.83735698297454,
          385.28221591394225,
          368.54613223718417
         ]
        },
        {
         "name": "136",
         "type": "scatter",
         "y": [
          410.170013,
          405.57658069877385,
          398.9760080229592,
          388.85314466406413,
          391.3276684622139,
          395.81740029468307,
          421.1353592092811,
          420.14424310223103,
          418.2128868702039,
          424.20939608320174,
          421.17415501755323,
          426.0889828196898,
          435.2145044129977,
          449.44803160247716,
          457.9528165466927,
          460.7634107787739,
          456.3996441730778,
          471.1260075859123,
          459.0322860913521,
          447.86044188383994
         ]
        },
        {
         "name": "137",
         "type": "scatter",
         "y": [
          410.170013,
          419.06199009668023,
          433.258317630507,
          451.5620107308128,
          429.5149152309911,
          432.01703192190314,
          426.93123809884446,
          440.8125908471291,
          450.40732559800364,
          451.60210591058944,
          440.8036822404712,
          449.45952950116964,
          455.2372085756935,
          477.585440811739,
          474.17923385054127,
          456.99506994401173,
          442.2445859162064,
          453.2259326599346,
          451.3131681890472,
          457.16904528052845
         ]
        },
        {
         "name": "138",
         "type": "scatter",
         "y": [
          410.170013,
          413.21438074916347,
          416.7167897807733,
          405.34194344696766,
          397.35493812696876,
          392.369481186553,
          382.52410633649254,
          374.48520770467366,
          378.9726800114052,
          374.089877300072,
          369.48684042382865,
          372.38123492709684,
          361.8461879212283,
          362.7531783251462,
          369.60598242941217,
          351.518271399511,
          363.2667138503443,
          370.41849910603037,
          358.2620191708277,
          365.23540133637795
         ]
        },
        {
         "name": "139",
         "type": "scatter",
         "y": [
          410.170013,
          401.06330708259566,
          400.8914400158689,
          387.50387585950136,
          374.8884518605616,
          377.775527995282,
          362.1300844693286,
          343.6656487667172,
          340.7419234954215,
          328.9058623095565,
          340.4734462310055,
          324.0326684924409,
          327.27702918019656,
          328.80149739363793,
          327.7817015993638,
          343.488570452116,
          358.9843611151906,
          363.3781518477268,
          376.83083364554705,
          380.8656627439181
         ]
        },
        {
         "name": "140",
         "type": "scatter",
         "y": [
          410.170013,
          413.27605460115734,
          416.6313746621644,
          415.8473525167005,
          427.93581288635374,
          441.09309953355887,
          445.83297105849397,
          454.45699769589436,
          449.4103997899132,
          441.9359084936304,
          449.06059112753866,
          450.5761044822989,
          454.8042719780653,
          448.87961891068306,
          467.3448293968589,
          463.4807842357645,
          469.7358737707558,
          461.4220861647954,
          455.4002501866576,
          467.7286500888627
         ]
        },
        {
         "name": "141",
         "type": "scatter",
         "y": [
          410.170013,
          415.92832466545156,
          420.32677278197536,
          435.6441327792454,
          441.89922943860677,
          443.54645819344915,
          456.13493139280496,
          454.36826115716883,
          461.71117753564226,
          457.7302470683279,
          480.245175018487,
          488.1578570781155,
          501.35539946641325,
          499.52435839831173,
          521.5220779952499,
          518.9333039396645,
          517.836132168433,
          522.9765810938821,
          506.70893111438687,
          520.5421574416865
         ]
        },
        {
         "name": "142",
         "type": "scatter",
         "y": [
          410.170013,
          426.2217152385105,
          419.80996878924486,
          420.9445010259747,
          411.5780658899912,
          409.9351782324687,
          405.3429611906955,
          425.2405573332964,
          407.59492119199723,
          416.4413813889236,
          417.31963054758535,
          422.4145501232132,
          431.77582161953944,
          447.7811796824938,
          445.63431138828474,
          439.7083622267401,
          453.64457089237993,
          471.7378617672494,
          463.7849062330125,
          461.8010014340642
         ]
        },
        {
         "name": "143",
         "type": "scatter",
         "y": [
          410.170013,
          411.44388366255197,
          423.7461833143289,
          427.488953562943,
          428.929004667767,
          430.9748768526086,
          439.80681475082105,
          437.7833008631478,
          433.7826303235823,
          444.6048956450994,
          444.2134537961609,
          441.78874976580124,
          450.6403612877353,
          450.97595783718384,
          449.2878473035396,
          459.9827214208591,
          452.3176701013342,
          441.59066954031846,
          445.7784373453406,
          446.4422877031402
         ]
        },
        {
         "name": "144",
         "type": "scatter",
         "y": [
          410.170013,
          425.6124919655784,
          437.0467865430575,
          444.9600781695974,
          435.9378857942099,
          431.28445161238835,
          420.41026497556373,
          415.2478217270899,
          422.64670011326587,
          436.943482837357,
          448.1627008595063,
          448.1628590582185,
          464.34879131591157,
          488.91520183257654,
          495.04775006486057,
          508.7225063778635,
          526.5096005123482,
          511.8076187360306,
          496.52342441901595,
          501.1815258026923
         ]
        },
        {
         "name": "145",
         "type": "scatter",
         "y": [
          410.170013,
          421.58626313340557,
          409.8809245200469,
          413.2480185108338,
          421.10114274679637,
          455.52300550525143,
          463.49770798905786,
          443.05591162547324,
          424.4116810649364,
          416.96272501483605,
          414.92450817345883,
          402.5317122879689,
          408.415947287747,
          414.90845550691165,
          430.7970199029749,
          419.9477126304145,
          437.80241613699155,
          430.2537248740669,
          420.05931806905005,
          419.9995499441212
         ]
        },
        {
         "name": "146",
         "type": "scatter",
         "y": [
          410.170013,
          410.6524841960895,
          391.3730875953126,
          389.4662832554112,
          398.2629543925789,
          386.9860816783713,
          404.22378447727027,
          387.51322224049574,
          388.623426632392,
          395.63627297876053,
          396.4522151511691,
          407.7205153086212,
          424.07574736953154,
          425.7648168142766,
          433.94812010329326,
          439.85480527365934,
          454.3928346645706,
          462.2200546523746,
          479.13922429599097,
          478.8916358190488
         ]
        },
        {
         "name": "147",
         "type": "scatter",
         "y": [
          410.170013,
          413.7607306531142,
          401.2796232631026,
          403.8960734868438,
          389.53056470561,
          381.63680283687796,
          381.5576559506108,
          386.4653905413749,
          405.2680404206523,
          404.460266675196,
          406.7885855031118,
          415.6998970223961,
          404.5666129506978,
          395.52000608440846,
          389.91912001498616,
          394.2984259580905,
          382.93864691806385,
          380.26902342909875,
          377.7124753509464,
          372.18094953544437
         ]
        },
        {
         "name": "148",
         "type": "scatter",
         "y": [
          410.170013,
          403.43851930576375,
          405.8068431714046,
          406.88438103243607,
          386.0645271227094,
          383.0124967627503,
          385.9777161878966,
          385.20029505550656,
          395.9583372489103,
          388.27767039284237,
          382.80984860046175,
          395.8130874629749,
          409.41733432883734,
          411.2092108172702,
          431.79225005294194,
          414.60681903201316,
          431.1300742345737,
          422.4969323339532,
          440.41372500199355,
          417.82869359178335
         ]
        },
        {
         "name": "149",
         "type": "scatter",
         "y": [
          410.170013,
          417.4978073297538,
          438.87389893161435,
          442.7353322027904,
          458.4742824018039,
          434.5565162061103,
          433.49184856561504,
          442.838671158606,
          439.9651696429768,
          444.0035138643734,
          437.9886605449988,
          425.9027595741586,
          415.6751930023386,
          418.0454333221342,
          414.0758333062225,
          406.44179978643564,
          426.5729444317247,
          446.90187401970263,
          431.8118289240877,
          430.5030180291766
         ]
        },
        {
         "name": "150",
         "type": "scatter",
         "y": [
          410.170013,
          399.40335961491377,
          411.4148331900232,
          411.7189509501141,
          407.9014935934331,
          420.87434304495724,
          433.4405741267711,
          451.6955752932018,
          455.48656131368733,
          449.743427740789,
          431.22434207261955,
          430.8346352479892,
          439.96958725439885,
          454.81536486281857,
          446.606246847427,
          434.79562656662597,
          429.4812594501752,
          418.34391188070634,
          422.26987350888237,
          423.24830355766335
         ]
        },
        {
         "name": "151",
         "type": "scatter",
         "y": [
          410.170013,
          418.3787997368669,
          410.7951137078562,
          408.4206985544388,
          390.18494984715863,
          371.5875404331162,
          381.1013199110444,
          373.24713712137594,
          373.39838321256957,
          391.050834441694,
          399.47609426123364,
          407.21715263056086,
          420.70088938033797,
          427.98152364625497,
          427.52618882159703,
          427.6912102632805,
          429.49424899212187,
          439.8415725893421,
          448.7691940104659,
          445.5049256004733
         ]
        },
        {
         "name": "152",
         "type": "scatter",
         "y": [
          410.170013,
          416.58354777248604,
          411.77319730453667,
          430.6695395537193,
          431.6022904862957,
          435.1996000827192,
          440.14617784229785,
          448.3336344862372,
          462.2534783985681,
          460.5056733780387,
          471.1911643356118,
          477.6158096946856,
          455.6291598662052,
          450.58548135434415,
          459.2438955815641,
          468.15977326996125,
          472.6547320837194,
          467.1922339250284,
          466.3675840239635,
          491.6637196090859
         ]
        },
        {
         "name": "153",
         "type": "scatter",
         "y": [
          410.170013,
          389.43349010830605,
          378.7831617887039,
          371.9700455230588,
          377.4939567601743,
          365.9089842497819,
          358.2039474997391,
          353.49871616262834,
          343.43102650643743,
          354.7576304781477,
          369.75617233686796,
          362.4829005329462,
          349.32829031466537,
          349.5478079054459,
          355.8341507458637,
          362.5340947782487,
          364.17030944152805,
          368.7592281730554,
          367.16999905459386,
          377.0590356611131
         ]
        },
        {
         "name": "154",
         "type": "scatter",
         "y": [
          410.170013,
          409.3969578655021,
          395.2927539913118,
          384.05322685556075,
          387.171946341604,
          394.340519467434,
          377.5402769655527,
          388.04017717064346,
          383.61887736601716,
          395.24502544220366,
          392.9859884317605,
          384.81234548123547,
          383.7237029573596,
          369.80237531698646,
          360.91451461467295,
          357.9312656741341,
          365.8932024511802,
          360.268965282109,
          359.3935350451062,
          372.82619722747677
         ]
        },
        {
         "name": "155",
         "type": "scatter",
         "y": [
          410.170013,
          398.6501111405291,
          414.68553738406115,
          402.83079979555094,
          397.3207831776649,
          386.4912990606531,
          371.92375969726186,
          356.52664717999477,
          361.14830508062187,
          364.74329096058784,
          363.8222290824982,
          367.68715247364554,
          376.68105363557123,
          373.29717031873304,
          384.5533154264322,
          389.87904357494125,
          401.1519084504814,
          394.27335933639574,
          401.92571752017705,
          399.7187471792141
         ]
        },
        {
         "name": "156",
         "type": "scatter",
         "y": [
          410.170013,
          402.000864707129,
          400.96225076324146,
          406.8638620121512,
          404.35783166201577,
          398.29417986728623,
          402.56301669979047,
          399.11841697833825,
          412.39302947201327,
          417.2212330694265,
          430.70880274555384,
          442.76310395998945,
          424.0498751785748,
          437.7650254471849,
          428.6623236081293,
          420.596289851225,
          403.2960866811892,
          387.17245097523096,
          384.7602169250475,
          398.35762478952216
         ]
        },
        {
         "name": "157",
         "type": "scatter",
         "y": [
          410.170013,
          413.35128737869064,
          421.9358980818903,
          420.21185455956356,
          417.1608876775919,
          411.36605525151526,
          409.08303665690624,
          427.0986471977242,
          421.1556201234272,
          418.82822039629525,
          411.35197094175373,
          413.56689304045847,
          397.79851717139104,
          395.37899164369736,
          395.52142328028685,
          389.7278196340688,
          396.2087377989216,
          397.2452219654647,
          389.52054229062065,
          400.8836144457737
         ]
        },
        {
         "name": "158",
         "type": "scatter",
         "y": [
          410.170013,
          423.58025980214285,
          427.6138955631307,
          432.591998770784,
          442.58890718869304,
          436.28653599012284,
          461.29005660435627,
          464.0499426132053,
          462.4759726120949,
          476.8658999180944,
          481.5457569419627,
          496.7083368152853,
          511.12136862756967,
          500.62033233345954,
          519.4779945698514,
          529.3036480556274,
          539.7179889763613,
          530.0778955460406,
          525.779045279405,
          514.035942820839
         ]
        },
        {
         "name": "159",
         "type": "scatter",
         "y": [
          410.170013,
          408.55103808585113,
          414.3938945677589,
          418.10545141941196,
          419.9946467778636,
          426.879767514508,
          421.25582064807367,
          411.9794754982685,
          416.47317349576304,
          391.7246190593879,
          383.7345383813829,
          390.8337932243693,
          382.10708616377354,
          389.4438675649636,
          394.7971259429833,
          410.2050587577117,
          400.3895230182049,
          389.9248088309735,
          387.1851083781074,
          381.87481669825775
         ]
        },
        {
         "name": "160",
         "type": "scatter",
         "y": [
          410.170013,
          406.1200312016303,
          404.30749118499006,
          408.0044133382401,
          412.75582143964743,
          408.36077033718533,
          428.7259661523456,
          426.92131785366365,
          415.6912223449245,
          422.90404600124697,
          428.0484129457367,
          430.50931260253145,
          427.88626214257596,
          426.9126885774561,
          408.5158176908042,
          411.82146867721116,
          414.7100596308189,
          408.7872183781451,
          407.19910906958467,
          406.54425784363355
         ]
        },
        {
         "name": "161",
         "type": "scatter",
         "y": [
          410.170013,
          412.36950117581847,
          420.9454449759889,
          415.3985432940738,
          393.8342027575978,
          408.41511204956055,
          415.87219849943716,
          421.5307044849327,
          427.97617526598833,
          424.2232106616368,
          434.1181040095884,
          437.21501248621064,
          442.2783460246862,
          438.4599374213853,
          425.4759406669397,
          436.37527008538075,
          431.2351147914087,
          447.5681393923762,
          451.2164649108869,
          467.9829120740215
         ]
        },
        {
         "name": "162",
         "type": "scatter",
         "y": [
          410.170013,
          404.32880242429115,
          406.57082759054686,
          406.04555551698115,
          400.2253757086962,
          414.64130029090614,
          399.27077792383744,
          415.6295758248779,
          434.44579474487836,
          421.53132976697333,
          422.9671925706932,
          432.7427407791425,
          433.62743031973355,
          432.3304193871747,
          424.65270877295376,
          436.51834503081625,
          457.91016631702706,
          454.50086328946145,
          454.58701432055955,
          460.56609346249786
         ]
        },
        {
         "name": "163",
         "type": "scatter",
         "y": [
          410.170013,
          413.23792798716715,
          401.92810542602865,
          415.641679218306,
          411.5741190280636,
          410.74105633193545,
          423.90928868291445,
          415.16786598737144,
          409.79668050182767,
          405.00919451730135,
          383.12970716704064,
          407.51159624259395,
          410.91670039363385,
          417.5814638134637,
          400.95575993577205,
          393.386271632463,
          402.7488404786474,
          390.4985312821198,
          373.51719538403563,
          344.42592405931504
         ]
        },
        {
         "name": "164",
         "type": "scatter",
         "y": [
          410.170013,
          410.0020040417389,
          417.8612728105637,
          417.1496101201833,
          418.9982401431236,
          413.8251301481147,
          409.04282308450786,
          402.3357170744875,
          400.6510595097541,
          415.24614276465473,
          416.14353100029524,
          415.4356551713112,
          417.1058439743612,
          406.11319706595935,
          404.6704135713932,
          386.8280408876012,
          397.2294046979669,
          380.2418314404543,
          385.7580480331744,
          385.1567840682454
         ]
        },
        {
         "name": "165",
         "type": "scatter",
         "y": [
          410.170013,
          399.6575661644522,
          405.63200927012315,
          411.66531086863466,
          393.81274095504773,
          404.40378814450656,
          406.60499739829123,
          418.5621769030073,
          399.9047726651814,
          418.3829660472938,
          419.35146382916565,
          417.6448016526084,
          412.1310016470168,
          414.22770797452637,
          418.2745263552642,
          421.02599234489776,
          440.41369277110255,
          470.43020270085896,
          464.38189798334656,
          454.29610741688845
         ]
        },
        {
         "name": "166",
         "type": "scatter",
         "y": [
          410.170013,
          418.09284473488407,
          413.4444337746362,
          404.8113604214994,
          415.1587506220472,
          413.9471688669228,
          417.9626201157212,
          450.10212077478116,
          442.76834410104374,
          435.798990794884,
          421.7452723540298,
          404.2615982762356,
          418.07041048596864,
          417.30007769391267,
          424.9229802246831,
          430.09830190211613,
          408.38175347782396,
          418.4040226577135,
          413.392472786517,
          410.1502483389494
         ]
        },
        {
         "name": "167",
         "type": "scatter",
         "y": [
          410.170013,
          397.6075994500577,
          401.058625013491,
          396.7953262806867,
          424.80052841717236,
          419.28017385396186,
          419.05067035366517,
          409.7315818528624,
          409.389850187083,
          413.34953163807756,
          426.0402779642867,
          396.433979011083,
          413.33791731159863,
          411.2990182455401,
          418.9715856737031,
          415.8276045512452,
          397.4581024207348,
          392.1052597426671,
          396.755322519528,
          406.9431141543412
         ]
        },
        {
         "name": "168",
         "type": "scatter",
         "y": [
          410.170013,
          412.360331004383,
          420.99211622089996,
          413.1503190644298,
          412.56369652837975,
          418.89374394728685,
          448.81647722843377,
          444.89323574969313,
          443.4051994817145,
          428.2725174501709,
          434.30138435794106,
          437.09472126153287,
          439.1066251251198,
          434.5701580995183,
          422.3604595910238,
          413.7483523153239,
          416.58525003127886,
          423.5649718026003,
          425.2175556622716,
          436.42919675471813
         ]
        },
        {
         "name": "169",
         "type": "scatter",
         "y": [
          410.170013,
          397.5752213829717,
          385.2951959889328,
          383.5832166634273,
          383.53244793423454,
          392.392992444056,
          402.54966956250087,
          401.0044430603051,
          387.5015914578342,
          395.6871898414283,
          401.44707354674057,
          404.1250410025477,
          391.83489802345156,
          386.5368098116661,
          392.507676317905,
          400.4375814609355,
          414.56709336591496,
          419.53386283381803,
          435.83627305359977,
          438.0878495509784
         ]
        },
        {
         "name": "170",
         "type": "scatter",
         "y": [
          410.170013,
          402.55799519616977,
          400.8262679624135,
          399.30036280554356,
          395.26055098306534,
          390.5944580535389,
          385.20958331854075,
          381.91250124086804,
          391.20087600212685,
          391.98157200176644,
          395.8375154118992,
          403.7427165731787,
          395.80911527544936,
          388.2932532795356,
          400.60249007953547,
          413.5989872568192,
          419.7637987676117,
          419.13308078119746,
          403.20869463878097,
          402.6364508753749
         ]
        },
        {
         "name": "171",
         "type": "scatter",
         "y": [
          410.170013,
          407.16441270963486,
          423.6422791303886,
          434.4420244818255,
          433.6705710157485,
          425.043925798664,
          421.2566391092664,
          444.4412353509954,
          429.57115390389833,
          420.6790446485549,
          412.0525177570712,
          411.4149408472221,
          408.93774772747696,
          412.5737814427968,
          421.23936897316725,
          405.4727500425593,
          431.57600751244496,
          442.3530122889899,
          463.9707054628138,
          447.0084669360771
         ]
        },
        {
         "name": "172",
         "type": "scatter",
         "y": [
          410.170013,
          413.4827301398818,
          430.06939877643043,
          419.666659774748,
          420.7041794053039,
          411.5365401798319,
          409.57693855312857,
          428.581159556269,
          422.45832528728806,
          435.17496413234727,
          446.2902265574228,
          459.11709584652033,
          470.63986493405116,
          481.563228311136,
          460.42760224600596,
          439.67262899520534,
          464.65989473501827,
          483.7755263998232,
          461.68272973793916,
          447.1723813362037
         ]
        },
        {
         "name": "173",
         "type": "scatter",
         "y": [
          410.170013,
          408.4837648678293,
          416.0206932692704,
          410.3809818837017,
          405.2699535520533,
          409.2171203048619,
          395.5174474285093,
          396.7161240703989,
          396.7204724555944,
          397.67517459580154,
          383.8063151305718,
          407.30750984210397,
          412.6887303248045,
          422.39207552615926,
          451.31874901590874,
          452.44689718773253,
          462.18221805700836,
          462.0908740216788,
          450.0350638728725,
          455.0090586216531
         ]
        },
        {
         "name": "174",
         "type": "scatter",
         "y": [
          410.170013,
          391.6974119017406,
          387.4353443384246,
          380.639505856743,
          381.4680247925483,
          389.13850291001177,
          401.67489682536973,
          389.51727753638335,
          379.029588551915,
          380.17483049789985,
          385.00847216769444,
          404.00516702169404,
          405.0469281590359,
          400.0932148740462,
          394.47983626298986,
          388.5609170129874,
          388.21446945565003,
          396.1116245983839,
          401.4670429355658,
          385.9335044274227
         ]
        },
        {
         "name": "175",
         "type": "scatter",
         "y": [
          410.170013,
          425.2966460109586,
          415.00302561002803,
          414.6969415271714,
          417.2536357922774,
          417.9041244359259,
          410.9153408521487,
          411.8495573084196,
          395.34756006414943,
          395.48182677447306,
          384.59938853884404,
          384.5048874119179,
          389.66740846040295,
          413.9578312312327,
          396.055964217159,
          388.93041992749244,
          388.7628319195774,
          389.57468913394877,
          401.7978814171173,
          407.8451162466087
         ]
        },
        {
         "name": "176",
         "type": "scatter",
         "y": [
          410.170013,
          398.0350666227948,
          410.063261061333,
          404.62817854324453,
          398.79124118682796,
          382.5856070891577,
          362.20311155432256,
          347.50759264639623,
          354.13551359598785,
          343.06737086234335,
          353.2539329179032,
          333.27614734535126,
          334.54994888976256,
          332.5417534383382,
          339.244524305484,
          342.85336398849745,
          359.27228716683203,
          370.54724029745233,
          369.31808735916474,
          374.9366848314487
         ]
        },
        {
         "name": "177",
         "type": "scatter",
         "y": [
          410.170013,
          424.9443434135479,
          457.0632011236685,
          441.08521858731854,
          441.44647004883944,
          431.2386325219292,
          442.44128363887506,
          431.0513200817639,
          428.1881781593173,
          424.857532454037,
          424.70738468170373,
          432.427363672028,
          421.9863744433656,
          429.4125442288895,
          426.89572178387374,
          435.0912970544192,
          448.69700553145645,
          437.22909652888706,
          419.8518537387876,
          432.1765794695202
         ]
        },
        {
         "name": "178",
         "type": "scatter",
         "y": [
          410.170013,
          392.80171751489087,
          401.12232150537403,
          400.761094695413,
          382.87281958017843,
          400.542417723332,
          383.10597513971084,
          363.6303987561502,
          375.9141358270775,
          370.5983928128578,
          372.6983027318691,
          378.30118477781036,
          369.8353540040196,
          359.82781031509893,
          367.15220848383,
          375.00642742434513,
          368.6530492281339,
          373.5711501482296,
          389.9534859820225,
          385.09075847686165
         ]
        },
        {
         "name": "179",
         "type": "scatter",
         "y": [
          410.170013,
          417.4796019433746,
          423.2514170009841,
          437.3101827522443,
          441.94512611130176,
          444.5779430450082,
          465.4601900883993,
          479.0097682010826,
          478.6113926347416,
          476.5520592535593,
          483.0956479789996,
          498.6642579001092,
          502.7729784671314,
          514.4182788820926,
          511.1320060008435,
          496.6203572631199,
          507.713289385497,
          504.66355842279825,
          497.667028523809,
          507.27062825548086
         ]
        },
        {
         "name": "180",
         "type": "scatter",
         "y": [
          410.170013,
          431.060761523813,
          432.56487598157975,
          422.6894584628549,
          422.31953358934544,
          437.23612944404454,
          435.2363541310616,
          443.5823189619718,
          451.98625411924917,
          459.40894110689334,
          482.3400991758503,
          490.42075589802033,
          495.2597162945605,
          485.0917259115854,
          519.3612313307272,
          518.2693206481123,
          497.2771408380303,
          479.89141498090646,
          484.744067166998,
          506.3214992345068
         ]
        },
        {
         "name": "181",
         "type": "scatter",
         "y": [
          410.170013,
          405.9808382827983,
          402.42871608354073,
          408.0076370895538,
          408.2976345466163,
          397.6664573246948,
          400.89011777709186,
          382.355775306748,
          374.16952697353855,
          384.26024561418495,
          387.20712262591104,
          384.5320720163843,
          367.4483057888504,
          340.01276724530345,
          342.385002835384,
          347.4316931103235,
          363.2865890394356,
          339.56906062777927,
          337.22038156744236,
          334.87885257346767
         ]
        },
        {
         "name": "182",
         "type": "scatter",
         "y": [
          410.170013,
          420.07434237422063,
          430.26028358839767,
          433.06328551973985,
          450.2523747464756,
          450.91283292589094,
          461.91072166448595,
          485.9491239937819,
          484.04491269907845,
          482.2335350733998,
          488.78503919075916,
          469.99468727760564,
          463.5600847318594,
          465.88906494893865,
          457.3662674578931,
          458.5550467112922,
          461.0953814700485,
          452.51241182914345,
          464.3859066260569,
          494.9705754535236
         ]
        },
        {
         "name": "183",
         "type": "scatter",
         "y": [
          410.170013,
          413.4280178655227,
          411.1436218468036,
          423.7718337787122,
          430.8463208959829,
          425.26455658953705,
          426.9750943773647,
          426.3818385230891,
          428.13731473882524,
          455.7861674800618,
          461.96948047394756,
          471.3063920744823,
          481.11200708842483,
          504.72065225143274,
          507.82143595284,
          483.4191476012165,
          466.9524638069104,
          444.0829254394345,
          451.1151207698687,
          456.00360171726464
         ]
        },
        {
         "name": "184",
         "type": "scatter",
         "y": [
          410.170013,
          408.43161734153983,
          420.0989362564669,
          427.7933544583573,
          424.645570500133,
          448.099564790571,
          463.9236919673409,
          434.04830366123167,
          453.4975609335857,
          468.52887011596516,
          475.4785894873462,
          472.263806540664,
          485.2062837077628,
          506.24542071156543,
          509.7389589367419,
          504.247622048861,
          512.7582500573169,
          507.1955043303774,
          484.2322450568412,
          483.2827433830067
         ]
        },
        {
         "name": "185",
         "type": "scatter",
         "y": [
          410.170013,
          410.05011787599966,
          423.8042418156511,
          425.32790979784284,
          412.40959221778826,
          407.39905748413065,
          410.07148795233246,
          391.24836159816306,
          402.2817262960457,
          409.1602653521475,
          415.23285717168613,
          422.3132527338434,
          434.0827983405125,
          439.6329949193459,
          441.9714060354902,
          441.29917472162043,
          451.81362043331285,
          443.86293948327415,
          437.0764334726738,
          437.7236305210366
         ]
        },
        {
         "name": "186",
         "type": "scatter",
         "y": [
          410.170013,
          417.65516141560977,
          428.61854518826925,
          416.4231239599891,
          399.79925570268966,
          387.7655732302004,
          387.2796024698556,
          379.1620779788519,
          370.49365024374777,
          363.54182393934883,
          370.2227391364638,
          364.41386735284783,
          353.6183095708132,
          352.47026685604095,
          362.10852775473586,
          359.6459419803567,
          369.38782743281746,
          367.402681333597,
          374.4329198919689,
          371.082373200903
         ]
        },
        {
         "name": "187",
         "type": "scatter",
         "y": [
          410.170013,
          407.9033068770005,
          425.4407150187376,
          423.76710785525995,
          436.50928242376887,
          436.14102454027,
          436.1548027973284,
          441.56142243451285,
          439.7431889203821,
          441.8407886131838,
          440.3419889618593,
          441.87875903616333,
          454.86922962200157,
          435.72554499458334,
          438.7757663325413,
          439.2678101896393,
          438.03185502027833,
          438.4326539868911,
          431.2512744655396,
          425.25852475358715
         ]
        },
        {
         "name": "188",
         "type": "scatter",
         "y": [
          410.170013,
          402.2919449146671,
          403.9063300066472,
          408.5283977341189,
          404.6977423059009,
          397.62680794328986,
          402.4661367685366,
          395.98237234694994,
          385.5363547621823,
          366.7692175223941,
          372.36078454034606,
          377.9309184118697,
          367.04652846737577,
          343.4003739950021,
          331.01198305722176,
          331.5234067937021,
          312.62245668717827,
          313.1880487461241,
          311.73436718638555,
          318.19691357280897
         ]
        },
        {
         "name": "189",
         "type": "scatter",
         "y": [
          410.170013,
          401.6087639354655,
          394.6047520017372,
          399.97687378288936,
          404.4926423424273,
          415.1508788539885,
          423.54151567770845,
          433.06131130357,
          433.53001642519956,
          413.6398972740133,
          401.3102143503809,
          400.86295349758024,
          392.64386872454395,
          408.856254987843,
          407.61929633447585,
          394.6134912072628,
          394.4023090389558,
          385.9183760074693,
          401.7084732597379,
          392.2624947258494
         ]
        },
        {
         "name": "190",
         "type": "scatter",
         "y": [
          410.170013,
          406.9526619384791,
          404.6222894771355,
          399.9652325856754,
          399.1282532866498,
          417.566964395374,
          401.7337244837461,
          405.08368769139776,
          406.8881118479824,
          388.95158995280076,
          376.55456857578787,
          377.6386473111978,
          385.2725455696479,
          377.6210890981387,
          372.27718389773025,
          359.48061169857186,
          354.6362273185123,
          371.5728521815661,
          377.68457043385075,
          344.12440881258846
         ]
        },
        {
         "name": "191",
         "type": "scatter",
         "y": [
          410.170013,
          403.56246271494854,
          398.10029703887756,
          409.06761675904175,
          403.0327802942594,
          383.5564844416674,
          389.1292007232027,
          403.2762476259167,
          404.0906146897844,
          401.1852999841652,
          389.2348543801276,
          377.638059020267,
          384.25466439273976,
          391.72637033093673,
          393.66792890368805,
          396.95306580652283,
          404.7148886888134,
          409.55746541241155,
          426.2902137129797,
          426.0952277705541
         ]
        },
        {
         "name": "192",
         "type": "scatter",
         "y": [
          410.170013,
          408.94104522135353,
          401.6633250068521,
          402.90183816158617,
          398.8058584781154,
          395.7511453400401,
          415.5608526526141,
          422.7043718692433,
          428.5325429820464,
          428.8676917994641,
          434.38484585455274,
          441.9676660467142,
          437.1445517261041,
          448.8954027929996,
          470.6725759168574,
          458.6419080334941,
          463.40318856256954,
          475.2011625053594,
          481.1463384023186,
          464.1098207059209
         ]
        },
        {
         "name": "193",
         "type": "scatter",
         "y": [
          410.170013,
          417.04681880882885,
          426.5613687965298,
          420.2905480299966,
          405.61439945777005,
          395.37369995520737,
          393.40503009693987,
          399.60791094948536,
          387.06791779036377,
          377.57312704445206,
          372.3827727023796,
          368.8446877492676,
          359.1988543676533,
          369.1865239535307,
          367.7914446679297,
          360.21396195213106,
          362.1519085543675,
          358.3357184256343,
          368.72500107386617,
          363.50660905013746
         ]
        },
        {
         "name": "194",
         "type": "scatter",
         "y": [
          410.170013,
          421.62876437708053,
          428.9987671800964,
          445.51465207001314,
          442.21495050126856,
          441.1952624770225,
          440.45940717412026,
          468.1302663214073,
          482.92224224443714,
          474.01275511880385,
          465.6600509832849,
          458.2652185199401,
          444.54772464777153,
          459.9229298586103,
          458.6036404066739,
          458.88058834932974,
          453.06064851895565,
          447.07246117335023,
          433.9900195320313,
          433.3415022865386
         ]
        },
        {
         "name": "195",
         "type": "scatter",
         "y": [
          410.170013,
          402.1774034354523,
          396.32275498911923,
          404.20619699845025,
          396.8886054776112,
          401.3982024768133,
          400.9145661824924,
          418.3662903587733,
          433.6201320727505,
          423.475579808558,
          417.3669827488544,
          404.20399989764667,
          411.3023377197472,
          429.1370111784034,
          425.9411143060924,
          418.97047789120086,
          415.7217487797046,
          425.9987048331662,
          439.9988156793973,
          433.9005345863872
         ]
        },
        {
         "name": "196",
         "type": "scatter",
         "y": [
          410.170013,
          411.45163076522414,
          418.9837213440712,
          419.2536020857696,
          408.67032894621144,
          394.58986509986966,
          399.65504444971816,
          389.68432311636093,
          375.6310820435413,
          374.83158318932567,
          370.296987934929,
          381.3426637328179,
          361.3111023161174,
          357.9201247788354,
          345.29518875169066,
          336.76839651528485,
          338.2905705115714,
          332.6671377332851,
          343.34105392413744,
          351.7309662252391
         ]
        },
        {
         "name": "197",
         "type": "scatter",
         "y": [
          410.170013,
          435.09529200767025,
          439.74250013082406,
          428.69392518734014,
          424.82671530070525,
          421.2503015349505,
          430.3901930870545,
          434.6405935931779,
          438.73626557603563,
          425.6594416969588,
          410.47653992325473,
          401.58033603483597,
          415.80756690908083,
          382.9777074958632,
          376.3349715869531,
          371.42916791006076,
          370.0683678410641,
          361.5881398712004,
          358.83425717012227,
          367.62307951818764
         ]
        },
        {
         "name": "198",
         "type": "scatter",
         "y": [
          410.170013,
          418.3511670395807,
          402.868714543606,
          399.200544715431,
          399.9816554251885,
          403.3144369509922,
          402.3901821215333,
          402.2754220202358,
          394.60745995670084,
          390.51238112572054,
          401.8933831937091,
          420.08767154381104,
          433.7297755387152,
          429.0593930441487,
          416.8502768968981,
          416.7211228506018,
          416.0773357543343,
          406.04575275347247,
          414.34848966861716,
          418.69214907478096
         ]
        },
        {
         "name": "199",
         "type": "scatter",
         "y": [
          410.170013,
          407.26642165038413,
          403.40089541489107,
          397.89924015720965,
          400.3398037319128,
          396.73421687826874,
          394.0278993058878,
          391.9413466949117,
          389.18247557569003,
          381.6636843733786,
          384.99647307066596,
          390.38030346545406,
          388.96075440314866,
          397.2159049495007,
          410.94251572538,
          420.8829758553645,
          431.76467143246595,
          415.1315308134468,
          404.3298153060901,
          407.15415921967156
         ]
        }
       ],
       "layout": {
        "font": {
         "color": "black"
        },
        "legend": {
         "tracegroupgap": 0
        },
        "paper_bgcolor": "white",
        "plot_bgcolor": "white",
        "template": {
         "data": {
          "bar": [
           {
            "error_x": {
             "color": "#2a3f5f"
            },
            "error_y": {
             "color": "#2a3f5f"
            },
            "marker": {
             "line": {
              "color": "#E5ECF6",
              "width": 0.5
             },
             "pattern": {
              "fillmode": "overlay",
              "size": 10,
              "solidity": 0.2
             }
            },
            "type": "bar"
           }
          ],
          "barpolar": [
           {
            "marker": {
             "line": {
              "color": "#E5ECF6",
              "width": 0.5
             },
             "pattern": {
              "fillmode": "overlay",
              "size": 10,
              "solidity": 0.2
             }
            },
            "type": "barpolar"
           }
          ],
          "carpet": [
           {
            "aaxis": {
             "endlinecolor": "#2a3f5f",
             "gridcolor": "white",
             "linecolor": "white",
             "minorgridcolor": "white",
             "startlinecolor": "#2a3f5f"
            },
            "baxis": {
             "endlinecolor": "#2a3f5f",
             "gridcolor": "white",
             "linecolor": "white",
             "minorgridcolor": "white",
             "startlinecolor": "#2a3f5f"
            },
            "type": "carpet"
           }
          ],
          "choropleth": [
           {
            "colorbar": {
             "outlinewidth": 0,
             "ticks": ""
            },
            "type": "choropleth"
           }
          ],
          "contour": [
           {
            "colorbar": {
             "outlinewidth": 0,
             "ticks": ""
            },
            "colorscale": [
             [
              0,
              "#0d0887"
             ],
             [
              0.1111111111111111,
              "#46039f"
             ],
             [
              0.2222222222222222,
              "#7201a8"
             ],
             [
              0.3333333333333333,
              "#9c179e"
             ],
             [
              0.4444444444444444,
              "#bd3786"
             ],
             [
              0.5555555555555556,
              "#d8576b"
             ],
             [
              0.6666666666666666,
              "#ed7953"
             ],
             [
              0.7777777777777778,
              "#fb9f3a"
             ],
             [
              0.8888888888888888,
              "#fdca26"
             ],
             [
              1,
              "#f0f921"
             ]
            ],
            "type": "contour"
           }
          ],
          "contourcarpet": [
           {
            "colorbar": {
             "outlinewidth": 0,
             "ticks": ""
            },
            "type": "contourcarpet"
           }
          ],
          "heatmap": [
           {
            "colorbar": {
             "outlinewidth": 0,
             "ticks": ""
            },
            "colorscale": [
             [
              0,
              "#0d0887"
             ],
             [
              0.1111111111111111,
              "#46039f"
             ],
             [
              0.2222222222222222,
              "#7201a8"
             ],
             [
              0.3333333333333333,
              "#9c179e"
             ],
             [
              0.4444444444444444,
              "#bd3786"
             ],
             [
              0.5555555555555556,
              "#d8576b"
             ],
             [
              0.6666666666666666,
              "#ed7953"
             ],
             [
              0.7777777777777778,
              "#fb9f3a"
             ],
             [
              0.8888888888888888,
              "#fdca26"
             ],
             [
              1,
              "#f0f921"
             ]
            ],
            "type": "heatmap"
           }
          ],
          "heatmapgl": [
           {
            "colorbar": {
             "outlinewidth": 0,
             "ticks": ""
            },
            "colorscale": [
             [
              0,
              "#0d0887"
             ],
             [
              0.1111111111111111,
              "#46039f"
             ],
             [
              0.2222222222222222,
              "#7201a8"
             ],
             [
              0.3333333333333333,
              "#9c179e"
             ],
             [
              0.4444444444444444,
              "#bd3786"
             ],
             [
              0.5555555555555556,
              "#d8576b"
             ],
             [
              0.6666666666666666,
              "#ed7953"
             ],
             [
              0.7777777777777778,
              "#fb9f3a"
             ],
             [
              0.8888888888888888,
              "#fdca26"
             ],
             [
              1,
              "#f0f921"
             ]
            ],
            "type": "heatmapgl"
           }
          ],
          "histogram": [
           {
            "marker": {
             "pattern": {
              "fillmode": "overlay",
              "size": 10,
              "solidity": 0.2
             }
            },
            "type": "histogram"
           }
          ],
          "histogram2d": [
           {
            "colorbar": {
             "outlinewidth": 0,
             "ticks": ""
            },
            "colorscale": [
             [
              0,
              "#0d0887"
             ],
             [
              0.1111111111111111,
              "#46039f"
             ],
             [
              0.2222222222222222,
              "#7201a8"
             ],
             [
              0.3333333333333333,
              "#9c179e"
             ],
             [
              0.4444444444444444,
              "#bd3786"
             ],
             [
              0.5555555555555556,
              "#d8576b"
             ],
             [
              0.6666666666666666,
              "#ed7953"
             ],
             [
              0.7777777777777778,
              "#fb9f3a"
             ],
             [
              0.8888888888888888,
              "#fdca26"
             ],
             [
              1,
              "#f0f921"
             ]
            ],
            "type": "histogram2d"
           }
          ],
          "histogram2dcontour": [
           {
            "colorbar": {
             "outlinewidth": 0,
             "ticks": ""
            },
            "colorscale": [
             [
              0,
              "#0d0887"
             ],
             [
              0.1111111111111111,
              "#46039f"
             ],
             [
              0.2222222222222222,
              "#7201a8"
             ],
             [
              0.3333333333333333,
              "#9c179e"
             ],
             [
              0.4444444444444444,
              "#bd3786"
             ],
             [
              0.5555555555555556,
              "#d8576b"
             ],
             [
              0.6666666666666666,
              "#ed7953"
             ],
             [
              0.7777777777777778,
              "#fb9f3a"
             ],
             [
              0.8888888888888888,
              "#fdca26"
             ],
             [
              1,
              "#f0f921"
             ]
            ],
            "type": "histogram2dcontour"
           }
          ],
          "mesh3d": [
           {
            "colorbar": {
             "outlinewidth": 0,
             "ticks": ""
            },
            "type": "mesh3d"
           }
          ],
          "parcoords": [
           {
            "line": {
             "colorbar": {
              "outlinewidth": 0,
              "ticks": ""
             }
            },
            "type": "parcoords"
           }
          ],
          "pie": [
           {
            "automargin": true,
            "type": "pie"
           }
          ],
          "scatter": [
           {
            "fillpattern": {
             "fillmode": "overlay",
             "size": 10,
             "solidity": 0.2
            },
            "type": "scatter"
           }
          ],
          "scatter3d": [
           {
            "line": {
             "colorbar": {
              "outlinewidth": 0,
              "ticks": ""
             }
            },
            "marker": {
             "colorbar": {
              "outlinewidth": 0,
              "ticks": ""
             }
            },
            "type": "scatter3d"
           }
          ],
          "scattercarpet": [
           {
            "marker": {
             "colorbar": {
              "outlinewidth": 0,
              "ticks": ""
             }
            },
            "type": "scattercarpet"
           }
          ],
          "scattergeo": [
           {
            "marker": {
             "colorbar": {
              "outlinewidth": 0,
              "ticks": ""
             }
            },
            "type": "scattergeo"
           }
          ],
          "scattergl": [
           {
            "marker": {
             "colorbar": {
              "outlinewidth": 0,
              "ticks": ""
             }
            },
            "type": "scattergl"
           }
          ],
          "scattermapbox": [
           {
            "marker": {
             "colorbar": {
              "outlinewidth": 0,
              "ticks": ""
             }
            },
            "type": "scattermapbox"
           }
          ],
          "scatterpolar": [
           {
            "marker": {
             "colorbar": {
              "outlinewidth": 0,
              "ticks": ""
             }
            },
            "type": "scatterpolar"
           }
          ],
          "scatterpolargl": [
           {
            "marker": {
             "colorbar": {
              "outlinewidth": 0,
              "ticks": ""
             }
            },
            "type": "scatterpolargl"
           }
          ],
          "scatterternary": [
           {
            "marker": {
             "colorbar": {
              "outlinewidth": 0,
              "ticks": ""
             }
            },
            "type": "scatterternary"
           }
          ],
          "surface": [
           {
            "colorbar": {
             "outlinewidth": 0,
             "ticks": ""
            },
            "colorscale": [
             [
              0,
              "#0d0887"
             ],
             [
              0.1111111111111111,
              "#46039f"
             ],
             [
              0.2222222222222222,
              "#7201a8"
             ],
             [
              0.3333333333333333,
              "#9c179e"
             ],
             [
              0.4444444444444444,
              "#bd3786"
             ],
             [
              0.5555555555555556,
              "#d8576b"
             ],
             [
              0.6666666666666666,
              "#ed7953"
             ],
             [
              0.7777777777777778,
              "#fb9f3a"
             ],
             [
              0.8888888888888888,
              "#fdca26"
             ],
             [
              1,
              "#f0f921"
             ]
            ],
            "type": "surface"
           }
          ],
          "table": [
           {
            "cells": {
             "fill": {
              "color": "#EBF0F8"
             },
             "line": {
              "color": "white"
             }
            },
            "header": {
             "fill": {
              "color": "#C8D4E3"
             },
             "line": {
              "color": "white"
             }
            },
            "type": "table"
           }
          ]
         },
         "layout": {
          "annotationdefaults": {
           "arrowcolor": "#2a3f5f",
           "arrowhead": 0,
           "arrowwidth": 1
          },
          "autotypenumbers": "strict",
          "coloraxis": {
           "colorbar": {
            "outlinewidth": 0,
            "ticks": ""
           }
          },
          "colorscale": {
           "diverging": [
            [
             0,
             "#8e0152"
            ],
            [
             0.1,
             "#c51b7d"
            ],
            [
             0.2,
             "#de77ae"
            ],
            [
             0.3,
             "#f1b6da"
            ],
            [
             0.4,
             "#fde0ef"
            ],
            [
             0.5,
             "#f7f7f7"
            ],
            [
             0.6,
             "#e6f5d0"
            ],
            [
             0.7,
             "#b8e186"
            ],
            [
             0.8,
             "#7fbc41"
            ],
            [
             0.9,
             "#4d9221"
            ],
            [
             1,
             "#276419"
            ]
           ],
           "sequential": [
            [
             0,
             "#0d0887"
            ],
            [
             0.1111111111111111,
             "#46039f"
            ],
            [
             0.2222222222222222,
             "#7201a8"
            ],
            [
             0.3333333333333333,
             "#9c179e"
            ],
            [
             0.4444444444444444,
             "#bd3786"
            ],
            [
             0.5555555555555556,
             "#d8576b"
            ],
            [
             0.6666666666666666,
             "#ed7953"
            ],
            [
             0.7777777777777778,
             "#fb9f3a"
            ],
            [
             0.8888888888888888,
             "#fdca26"
            ],
            [
             1,
             "#f0f921"
            ]
           ],
           "sequentialminus": [
            [
             0,
             "#0d0887"
            ],
            [
             0.1111111111111111,
             "#46039f"
            ],
            [
             0.2222222222222222,
             "#7201a8"
            ],
            [
             0.3333333333333333,
             "#9c179e"
            ],
            [
             0.4444444444444444,
             "#bd3786"
            ],
            [
             0.5555555555555556,
             "#d8576b"
            ],
            [
             0.6666666666666666,
             "#ed7953"
            ],
            [
             0.7777777777777778,
             "#fb9f3a"
            ],
            [
             0.8888888888888888,
             "#fdca26"
            ],
            [
             1,
             "#f0f921"
            ]
           ]
          },
          "colorway": [
           "#636efa",
           "#EF553B",
           "#00cc96",
           "#ab63fa",
           "#FFA15A",
           "#19d3f3",
           "#FF6692",
           "#B6E880",
           "#FF97FF",
           "#FECB52"
          ],
          "font": {
           "color": "#2a3f5f"
          },
          "geo": {
           "bgcolor": "white",
           "lakecolor": "white",
           "landcolor": "#E5ECF6",
           "showlakes": true,
           "showland": true,
           "subunitcolor": "white"
          },
          "hoverlabel": {
           "align": "left"
          },
          "hovermode": "closest",
          "mapbox": {
           "style": "light"
          },
          "paper_bgcolor": "white",
          "plot_bgcolor": "#E5ECF6",
          "polar": {
           "angularaxis": {
            "gridcolor": "white",
            "linecolor": "white",
            "ticks": ""
           },
           "bgcolor": "#E5ECF6",
           "radialaxis": {
            "gridcolor": "white",
            "linecolor": "white",
            "ticks": ""
           }
          },
          "scene": {
           "xaxis": {
            "backgroundcolor": "#E5ECF6",
            "gridcolor": "white",
            "gridwidth": 2,
            "linecolor": "white",
            "showbackground": true,
            "ticks": "",
            "zerolinecolor": "white"
           },
           "yaxis": {
            "backgroundcolor": "#E5ECF6",
            "gridcolor": "white",
            "gridwidth": 2,
            "linecolor": "white",
            "showbackground": true,
            "ticks": "",
            "zerolinecolor": "white"
           },
           "zaxis": {
            "backgroundcolor": "#E5ECF6",
            "gridcolor": "white",
            "gridwidth": 2,
            "linecolor": "white",
            "showbackground": true,
            "ticks": "",
            "zerolinecolor": "white"
           }
          },
          "shapedefaults": {
           "line": {
            "color": "#2a3f5f"
           }
          },
          "ternary": {
           "aaxis": {
            "gridcolor": "white",
            "linecolor": "white",
            "ticks": ""
           },
           "baxis": {
            "gridcolor": "white",
            "linecolor": "white",
            "ticks": ""
           },
           "bgcolor": "#E5ECF6",
           "caxis": {
            "gridcolor": "white",
            "linecolor": "white",
            "ticks": ""
           }
          },
          "title": {
           "x": 0.05
          },
          "xaxis": {
           "automargin": true,
           "gridcolor": "white",
           "linecolor": "white",
           "ticks": "",
           "title": {
            "standoff": 15
           },
           "zerolinecolor": "white",
           "zerolinewidth": 2
          },
          "yaxis": {
           "automargin": true,
           "gridcolor": "white",
           "linecolor": "white",
           "ticks": "",
           "title": {
            "standoff": 15
           },
           "zerolinecolor": "white",
           "zerolinewidth": 2
          }
         }
        },
        "title": {
         "text": "Monte Carlo Simulation"
        },
        "xaxis": {
         "anchor": "y",
         "domain": [
          0,
          1
         ]
        },
        "yaxis": {
         "anchor": "x",
         "domain": [
          0,
          1
         ]
        }
       }
      },
      "text/html": [
       "<div>                            <div id=\"1a523c80-ba57-468f-825a-b3011ea229f9\" class=\"plotly-graph-div\" style=\"height:525px; width:100%;\"></div>            <script type=\"text/javascript\">                require([\"plotly\"], function(Plotly) {                    window.PLOTLYENV=window.PLOTLYENV || {};                                    if (document.getElementById(\"1a523c80-ba57-468f-825a-b3011ea229f9\")) {                    Plotly.newPlot(                        \"1a523c80-ba57-468f-825a-b3011ea229f9\",                        [{\"hovertemplate\":\"<extra></extra>\",\"legendgroup\":\"\",\"line\":{\"color\":\"#636efa\",\"dash\":\"solid\"},\"marker\":{\"symbol\":\"circle\"},\"mode\":\"lines\",\"name\":\"\",\"orientation\":\"v\",\"showlegend\":false,\"xaxis\":\"x\",\"yaxis\":\"y\",\"type\":\"scatter\"},{\"name\":\"0\",\"y\":[410.170013,435.7518877641895,442.41417372655224,437.50564732804884,444.2727621381253,451.7131089294576,444.0458717547589,453.1360589351867,468.20524090092533,470.6759020979634,468.78876223559627,471.0902177458789,449.34885105348,453.69039551297465,471.18096359597234,454.40366290108506,469.7267618551495,474.8657264446626,475.57656344383054,472.54705181510946],\"type\":\"scatter\"},{\"name\":\"1\",\"y\":[410.170013,404.866285950812,415.24579306092295,418.48958232313373,425.8329886285319,433.960468701048,422.01280808059363,433.43487778600036,440.5213255804678,412.4000615277554,422.10319989729214,417.98139432484265,414.6454030816044,412.7434709994681,421.68421483540175,418.5436494198433,419.6460688017644,436.1689923501076,440.03672972351234,427.77366412871504],\"type\":\"scatter\"},{\"name\":\"2\",\"y\":[410.170013,406.1609391544696,425.9004312820772,416.00689688608713,438.73873674767395,449.22873343384236,435.01625103841235,428.44366835441184,429.32657437084123,417.2805498759275,422.3411626719123,417.138314495343,415.82045072430674,400.33913605003926,398.4082925645301,415.1442064674123,411.0918605068866,419.8140597321487,401.127511745795,399.3506310331398],\"type\":\"scatter\"},{\"name\":\"3\",\"y\":[410.170013,430.97034259763007,456.314847882388,458.586513405355,446.43759186709684,436.4803356384957,445.86281840675673,431.19782074590717,431.17270655739185,441.86908148860016,440.16147199464,428.9760729392355,417.83304299090116,416.2898193537006,403.8881931173122,403.57780863957805,399.8041143383451,402.9209095123873,420.21852578800406,413.4473768434625],\"type\":\"scatter\"},{\"name\":\"4\",\"y\":[410.170013,408.7387074083147,403.00256936925445,396.05720330916364,404.21693424614426,405.53669461320635,398.4868866944369,383.17580758341444,388.91435261928694,383.5711455996096,400.5096763329577,396.1970077697074,388.7558369674155,371.85392326218744,359.32740833626264,346.0749953321446,361.4480645874302,366.8169945539155,376.8816144615042,384.2041252801635],\"type\":\"scatter\"},{\"name\":\"5\",\"y\":[410.170013,396.3465815957607,391.6055021523721,370.19135572489336,372.6225204899476,389.21022450211996,393.8502557624818,391.41832001057975,387.2510751883476,365.522703612341,367.8384886879958,396.84426314943727,386.0115179521895,382.41756397025625,389.3326874380793,387.8211174846328,395.4875822419291,389.45767948558193,385.8427096556592,370.0085064014601],\"type\":\"scatter\"},{\"name\":\"6\",\"y\":[410.170013,407.3615006246709,390.02023889658074,393.0506673685487,394.92224035932685,389.9661839277155,380.83389920858906,399.0136577767961,403.1101833710874,395.70773129643646,411.61473535059946,408.36030787371425,406.027979819711,416.97432737778416,419.7572296412331,419.6162149045487,423.4472964072543,431.6421407741574,419.92963684944897,424.90143050468095],\"type\":\"scatter\"},{\"name\":\"7\",\"y\":[410.170013,415.1837287524553,413.8862143085485,428.2009349416739,440.58404574448593,434.9282148917108,419.5572219062729,431.0392678420737,416.83629256266613,410.092823767347,401.35768788300015,401.07217628189125,397.0357982442064,387.26772844261285,405.5869436333991,403.395860503641,403.63794710289466,410.3619463244798,420.01789942684695,414.90851105488844],\"type\":\"scatter\"},{\"name\":\"8\",\"y\":[410.170013,406.30277907902627,402.1793841325519,411.7832375021108,415.13589207186965,420.82422847445787,402.4466541103143,401.1666160552634,388.10516892852735,383.452358545335,381.15109385194006,394.1084156632896,392.73111608863604,368.9720907806658,348.34578635759095,344.8994263103597,345.5566601738225,335.88326011686513,317.983844444257,303.04596865401624],\"type\":\"scatter\"},{\"name\":\"9\",\"y\":[410.170013,407.4138440291338,419.28595557418987,428.1119946703844,406.959807389154,418.85215963302414,399.45626788391206,401.7092305498771,407.2556266094373,406.3796360048365,406.06015029348293,417.6964951689157,427.46632422734626,420.26371518561757,434.03879921960606,412.6709628702368,425.90354673375396,420.40918276911077,421.5141410005949,432.7322992175444],\"type\":\"scatter\"},{\"name\":\"10\",\"y\":[410.170013,400.94673327241173,394.7329142613943,408.5796264543197,416.5064622581626,415.9429875209675,408.2631721823401,422.9245866649717,422.21807330083965,443.8320608953403,447.5623775277193,433.8627453294396,434.2533036112677,432.3239844690805,417.7289014434181,420.41123000505377,422.5549294595334,431.0609500853912,414.4203705350209,417.28228047390917],\"type\":\"scatter\"},{\"name\":\"11\",\"y\":[410.170013,410.82470238617054,395.12448312638935,378.0317090769417,373.1958142981281,368.99414197767027,374.0541614597666,395.22532521808,390.76503454997913,397.97092493828495,383.378636142598,400.0584632931345,390.93863159873126,412.97001456850796,410.9270229791308,414.629483066759,408.4348140323876,408.7907031998216,395.29458997860417,386.2513097005894],\"type\":\"scatter\"},{\"name\":\"12\",\"y\":[410.170013,392.74270802548614,394.7268687053665,394.560919037397,390.45139208834865,395.793019747274,390.6963933625704,395.5160656522432,383.41306559689406,379.34416827121703,384.53622557640017,383.8856636807189,388.836699165143,399.3456165067826,394.67450743548875,402.8338267418371,407.87389484939615,425.3750474881613,428.6744625545739,434.1569182807017],\"type\":\"scatter\"},{\"name\":\"13\",\"y\":[410.170013,411.026888745179,421.0894611349643,425.1079842363371,429.61605837035967,442.45336319171474,463.8653057018208,455.228675505967,429.48454648436467,443.11102862563973,446.3212986224295,446.74567180359315,435.9042282576273,436.5116196427814,452.0776125021939,435.19283487311503,427.1120091582345,442.40048647901665,447.84175045502866,430.92414254133377],\"type\":\"scatter\"},{\"name\":\"14\",\"y\":[410.170013,403.64288176022205,406.71856358028725,424.3263609114966,417.03961558527595,399.0212900366236,399.1290483313851,403.8293334117217,418.50260214035524,427.4355368550547,418.0811180396045,413.37901372191556,426.4264339028135,430.87588147038645,443.0621830804827,452.58170024978637,433.6689178763946,426.59430667707824,418.85176724556965,409.56694102033987],\"type\":\"scatter\"},{\"name\":\"15\",\"y\":[410.170013,401.1600222039863,397.48250108071875,397.822344195875,405.2591222076215,402.8990186872511,397.3453011678847,412.67761693958727,394.2815973456661,379.4673827586858,374.0922088561997,369.4786123448359,354.84156797431046,370.3751272908412,370.541225334965,372.6542689355252,370.77859764799933,381.4691620933578,393.50641846517146,404.76772753057196],\"type\":\"scatter\"},{\"name\":\"16\",\"y\":[410.170013,418.1535616403657,434.09724465704346,444.00503061521,428.9194996996498,413.5852759118171,421.04578179677264,429.1103105412462,404.9950248145365,406.47519948918455,409.6321900486831,402.49746939987654,404.83715726202877,411.61950504638315,418.8697253116804,406.3957031127675,411.25986862803126,421.2132099992192,418.17023184044933,414.8927447145876],\"type\":\"scatter\"},{\"name\":\"17\",\"y\":[410.170013,406.5756358833094,392.67191344832963,392.67349500427616,385.0756011442263,385.1339712645054,394.03520064909117,401.29664778904925,396.29152701407827,393.2541545063876,384.3025402303,389.6208126495837,402.28134772193073,392.1788389912825,386.10118398081016,389.2788782685309,387.9943257994848,388.3085483001649,397.0105740454202,401.8691049521226],\"type\":\"scatter\"},{\"name\":\"18\",\"y\":[410.170013,407.77020967376245,412.462651293713,423.3246492422352,434.2386744602806,435.9499501934969,444.0776088225429,434.88923485042125,436.35676291355577,431.62592078018145,409.732608239865,412.8842647097261,413.8140400182777,401.2351570356184,394.86173644235583,390.3494974495268,375.06385584722045,382.6438837712596,393.326580640972,391.6490012528818],\"type\":\"scatter\"},{\"name\":\"19\",\"y\":[410.170013,403.6821329757605,405.28466539001676,392.8975372711305,387.35093942741656,394.38279862719514,408.89820373155203,389.1412068034062,378.8949122978851,364.56438633369623,361.8683285201407,349.0656511698341,329.31098255897984,332.15072268099584,333.2014476417039,343.1651077643103,349.867198322663,346.2814731568844,354.39611465195173,348.5443435004473],\"type\":\"scatter\"},{\"name\":\"20\",\"y\":[410.170013,436.97454664003527,438.60427028543756,433.8343261715888,432.35839001228993,421.97931333533734,432.00687407442274,450.67468349499666,444.6425241518891,443.98834988773143,452.4382465836927,474.21359154579596,481.7165883171563,482.579361831356,476.07981239880513,471.93941339972594,486.9483815111201,500.8064987134739,502.07695216343075,508.03619360098264],\"type\":\"scatter\"},{\"name\":\"21\",\"y\":[410.170013,406.03434035281805,416.03229866173854,408.34926338980426,396.4518788785765,402.2704306816442,413.59488708096995,403.91069887209005,405.38843810225717,423.4315082095143,430.37729383122945,406.8714999636085,410.62748713987,422.21598595364077,415.7488543194065,401.9077629359848,390.4480024822161,372.80040329387054,370.75206103496373,368.99253192423777],\"type\":\"scatter\"},{\"name\":\"22\",\"y\":[410.170013,405.7489432954802,418.43150110285956,421.48774123825945,429.65075156807956,417.25593910408867,409.44977247816763,415.73685444367214,406.95580080703644,411.5698046897293,407.87971757048007,404.09142727681996,413.4625887317866,417.3915666160855,402.13110179835513,409.34484021318553,406.1617066424556,408.11903406264065,410.57263900236694,419.55021844497617],\"type\":\"scatter\"},{\"name\":\"23\",\"y\":[410.170013,415.42712267957745,409.7591388225474,411.2486891961833,417.0193784412542,424.725918679646,440.8137791397468,460.03186707703685,457.28465790745065,466.24329071459977,478.62192112927426,494.23660852841533,502.5133433879513,518.6775992048235,509.1909498093197,491.2511838302692,485.38661465609863,447.8126539272504,459.9468457020226,471.11024958363316],\"type\":\"scatter\"},{\"name\":\"24\",\"y\":[410.170013,406.50580931047676,422.9637236902073,429.89639491577105,412.47168139715274,426.9199726750092,418.6362621272131,430.2480215623553,426.38584100795185,426.96959579434184,433.51865155142514,441.92143782605797,441.810687605013,453.24559983887673,459.68827564680845,462.61422869552996,478.88332391845756,480.2090006313794,484.51093111446045,490.0953572575355],\"type\":\"scatter\"},{\"name\":\"25\",\"y\":[410.170013,420.70472286629365,433.21980261155284,435.1128297222768,433.03645888862104,425.13385436042324,422.8594471002265,401.68222614872934,410.9626958803609,388.5031128862184,389.29363726773533,385.95401738354633,382.5763489674599,378.11622990613245,363.23098742433024,366.66809628817276,379.07022596617423,380.13015191236315,384.0302785004932,381.20655002660004],\"type\":\"scatter\"},{\"name\":\"26\",\"y\":[410.170013,403.61764626249817,398.0680211363948,384.0502565883894,377.6417186118019,367.66037206168767,357.1684416895069,369.9208719804904,374.3996798586276,371.50657683894525,388.3932876061249,383.3041033128404,376.59932502540164,361.0211726872003,375.72835869884113,362.4439787867083,353.92544674544257,349.68363295597993,349.26349196834883,330.9217992332861],\"type\":\"scatter\"},{\"name\":\"27\",\"y\":[410.170013,401.8098213971514,422.55972242975054,410.8626513794787,400.4915478087058,387.3413751761699,375.7846497452937,370.6036307761243,372.7142898529379,358.5289961435872,370.5196201768194,373.57698010817785,389.0866266319346,415.1660802521998,428.0514893257622,440.8913662928952,446.8166419554842,458.9753550656427,479.5992836597024,490.1551424124384],\"type\":\"scatter\"},{\"name\":\"28\",\"y\":[410.170013,397.6125523240218,392.96419623032523,396.4651191414069,391.12980456940636,384.96921903351176,372.92954154849485,380.77891595700635,380.84441346012545,402.92847774317676,406.46672112623423,394.935540764576,405.4320222470074,405.77591581221367,410.8125317805398,413.2237011690721,432.6190765076656,426.001736729967,418.42943193692474,422.5251888675516],\"type\":\"scatter\"},{\"name\":\"29\",\"y\":[410.170013,415.11998631059834,406.1956610305648,442.57515650659974,444.12560391555513,442.25171949783646,447.93654931108284,457.3104084974312,455.5934769651011,452.9535047912173,456.0866695915367,455.09731910820756,453.98976364541585,482.16799292532926,486.3383551118261,467.34998518569694,472.49807825034395,459.6485214287161,462.1694778963147,464.35434233992925],\"type\":\"scatter\"},{\"name\":\"30\",\"y\":[410.170013,397.01390644548354,389.7955143287985,378.7965499286434,384.14588868734666,396.42148034060665,395.0857624342375,383.51602414771605,386.8934205596046,379.2409387733342,380.2505529113074,376.9831010545298,370.76004526997593,371.0077312829035,364.06038769122415,358.69088832214203,369.52841827885317,362.6263690640502,347.32879446399033,345.05022664933136],\"type\":\"scatter\"},{\"name\":\"31\",\"y\":[410.170013,410.4454700635825,419.54445025230797,424.15921787107357,417.5651376676506,421.08966219810065,410.1954424240867,433.8062092629934,428.6783168014356,437.2222418609345,436.395328526343,433.9935787648681,414.6515989016075,407.63200358015365,409.7156876792662,414.55721671741725,418.6036046346606,421.15067317456834,427.96114130586017,441.15300442561283],\"type\":\"scatter\"},{\"name\":\"32\",\"y\":[410.170013,418.6946807652169,399.9792201921831,396.5823663777089,405.33536634961246,397.68440116340554,400.28710409024865,400.4528196779218,378.34254452349086,373.6323255483153,369.5818138316836,361.8199389843928,369.759076584991,399.40076541510336,396.00773123518263,387.45585162760796,387.09713747301817,395.73488083504293,411.27845994911866,428.3228710681241],\"type\":\"scatter\"},{\"name\":\"33\",\"y\":[410.170013,407.2203136460917,399.7785374425048,399.65416137903486,400.43226980343155,388.3046893765299,398.53828672619096,404.04306677950956,412.22284885080745,412.04656760442913,410.71273579019453,417.00443946850464,425.6413942847064,439.7768062446141,454.0930304999322,446.361637900331,444.0709880400752,446.91632004729615,444.958900806268,447.9243264887809],\"type\":\"scatter\"},{\"name\":\"34\",\"y\":[410.170013,415.4246656119591,409.2913463766648,402.3014143876876,410.18381757801455,405.0077658937563,388.73324447673804,378.3653148683159,377.5961928065127,396.9180119005563,419.46498430196834,408.9706531301036,394.4522460817282,393.36056223365546,387.7510001018471,391.91156209850993,389.70798770651,387.5573330735305,392.9589190073091,412.44115850594653],\"type\":\"scatter\"},{\"name\":\"35\",\"y\":[410.170013,404.3359503065089,429.0058585050197,438.5167550692016,427.43177891579904,420.6456147791835,413.246795839383,407.30164494911116,403.12184589258936,406.50988046616624,413.58083918333756,410.44972752000916,403.5094782604968,417.59439567134666,409.9366000383522,402.8726101190228,405.9750914529842,406.9958229413905,418.79200137163355,428.44868889798573],\"type\":\"scatter\"},{\"name\":\"36\",\"y\":[410.170013,425.99178876582766,414.8332605745159,425.56065716206353,448.5527898614897,465.057629830669,469.4275723858579,465.9557843898273,458.43003792600194,460.11971799975174,465.456930692786,459.94212748401793,470.1555692468204,481.96043806377185,480.7450281352211,475.0273757336226,482.5680348592237,495.71698262974485,474.79883074393945,470.2585425953043],\"type\":\"scatter\"},{\"name\":\"37\",\"y\":[410.170013,408.0742537842043,429.1609802809921,422.7178301032684,427.0161377328189,422.0610834358064,406.5005389605873,413.44500225349486,405.958150548211,407.64386627734405,413.2734486235499,407.31268624524483,420.92406891045505,422.91653604837103,430.45356546872165,438.6399210620458,418.16949711240727,410.83397012864486,404.8053358527975,384.6855876200838],\"type\":\"scatter\"},{\"name\":\"38\",\"y\":[410.170013,418.3716161407288,423.8957217126474,417.15935416553054,411.4228596790224,411.1765028961367,413.26949907325843,411.23662091347865,399.0722032119746,376.465217737504,363.90896052861746,366.73998513968735,371.9349080827864,369.275739360841,377.8872511641644,371.5896068982635,372.4679364360734,366.6345754571658,366.0896862036937,366.0821769134484],\"type\":\"scatter\"},{\"name\":\"39\",\"y\":[410.170013,408.4883686040951,414.1023538645078,413.9046371089275,435.872500636463,419.2451449790189,422.81917955930896,416.9278724772757,405.2359776687519,411.1733865891345,414.3988101282679,408.6905276988029,401.29248509347667,401.87877336207475,390.4716822244498,390.5751191926161,388.66824473795106,390.3740991063394,386.3338520002085,380.2034012915202],\"type\":\"scatter\"},{\"name\":\"40\",\"y\":[410.170013,400.57586765268445,390.7393724963592,393.83975120563525,401.54978323759667,398.1289990189066,387.88930143121144,384.15454490493323,404.66134536646365,423.2776660459973,410.80741606564,395.3857729280413,398.23608013687647,402.281764300597,421.05293272675084,428.5482388524079,443.2255399468065,447.65448776792437,453.1136421216364,439.39464111583334],\"type\":\"scatter\"},{\"name\":\"41\",\"y\":[410.170013,405.76537173204025,422.23821948075994,443.93509908793743,442.27239573099695,428.09593976866483,420.0905417451997,440.04811825672766,432.68180952312343,425.2647153861862,432.8169514449548,418.04286221611494,434.7955337060154,437.16094734040547,434.8485896387185,440.79361026267884,445.2029170763411,432.57975191939295,430.06314115218447,419.3507539585499],\"type\":\"scatter\"},{\"name\":\"42\",\"y\":[410.170013,424.3121737542235,423.490656636488,415.90429210435167,410.7572325632253,429.0294734759025,415.10872025514874,412.5829235297399,421.35427270568874,413.5746691234457,428.08513037948484,429.95297861430805,421.14355468157186,416.68869697254354,421.1587556613257,414.20909784615293,407.0548995403169,413.6531672839711,408.91943692073534,399.8982729301829],\"type\":\"scatter\"},{\"name\":\"43\",\"y\":[410.170013,423.54960112021024,432.73846305634953,429.10591182073557,435.06481470524324,424.8643534421146,414.49852654845523,415.4678217259238,413.563746841264,426.16646514616036,412.56187125370656,407.63694283400326,409.7097779015587,391.92430163047254,395.11925331085206,392.27053663221193,407.57426524957157,419.51552050447305,423.63513160771396,436.1052708090879],\"type\":\"scatter\"},{\"name\":\"44\",\"y\":[410.170013,404.7754862761903,399.83832203225916,388.2906989943016,388.1946315589301,396.2126059677096,394.9133102388488,386.52453300619374,384.9475714072868,370.92406437989257,374.8677335127406,360.6848453905576,370.769977525529,363.7849838512483,366.72230044492926,370.19202390253184,372.37863682495595,371.0406789635514,363.95781945008537,354.4464224464025],\"type\":\"scatter\"},{\"name\":\"45\",\"y\":[410.170013,419.4528347632291,431.6291957342298,422.32925191263416,423.9965218452911,425.2802139614589,420.475815398171,419.58571095125404,414.31096352323,418.6758299931065,424.09278743449994,400.64747869716933,394.603690999523,390.8802133005466,390.61084732712453,384.0739616953633,381.1336563528562,387.43613510594673,378.05059253719753,379.4008733731694],\"type\":\"scatter\"},{\"name\":\"46\",\"y\":[410.170013,399.89507742069065,425.2733673651462,451.9001185184284,448.3152377905914,457.97964717946405,442.82257948381334,447.2204673962028,461.68988837561193,443.7895190598047,423.3508069295898,412.6057149322556,414.7859810710113,398.63461708920005,394.5359873303974,398.6062442089313,392.3235422105915,412.3486820267635,408.8914106374391,425.31500928732515],\"type\":\"scatter\"},{\"name\":\"47\",\"y\":[410.170013,413.6742217366716,403.2303252864458,404.3229416600801,387.36102487622657,385.0703721203695,373.49707444216676,377.8213048206082,368.14027761319596,384.1930404391747,385.25214314809364,385.66850417394625,375.9197925421443,357.05393039521505,343.76229345531186,343.207345322301,343.8875723023412,349.3970347218378,347.0989735711959,341.5463201098682],\"type\":\"scatter\"},{\"name\":\"48\",\"y\":[410.170013,417.73364776212276,420.5798585680242,407.90993589748183,410.46525022136075,408.41313667515055,390.19116515615934,387.5698781516997,390.9016934651468,384.3971080278541,372.4389622315313,389.9586470342098,403.73090969366933,389.9451052198323,385.1619165154421,401.31607344887465,397.5942651403437,399.71259715723374,391.6462094164587,417.79586436898575],\"type\":\"scatter\"},{\"name\":\"49\",\"y\":[410.170013,404.6087689361407,408.2511428394831,410.13272132500043,423.02103132588775,415.7413980412055,417.787306137888,408.1567783521825,407.5507361840384,413.65856552546273,416.38147796655176,409.68332897769375,429.34506944938084,451.53558267916526,448.2088802963885,444.4960478159391,455.93495904152513,435.21033679750155,427.43895371299976,412.77035473290437],\"type\":\"scatter\"},{\"name\":\"50\",\"y\":[410.170013,422.7172034248536,415.72874090353645,407.0917067353866,388.3710121813674,373.87334356940585,382.1734386725639,370.9653288163192,374.3990860246912,375.78112991544066,390.0827352200367,412.58869445268687,436.66465131246684,448.15299715394866,439.07088787337557,438.0689599243218,430.31376045549246,430.8023421271781,455.3498521788497,469.11785325267033],\"type\":\"scatter\"},{\"name\":\"51\",\"y\":[410.170013,408.621080017416,411.8803737795592,414.660163709452,414.0970178311541,400.99847247959787,395.7682878468246,396.5054805265852,404.9565894192246,410.5195978146601,403.92955291789167,399.42378126899393,383.7673526316023,399.7751991322445,390.7699751696303,391.03117467171774,400.43865338749924,388.8782876813119,388.76319124201484,389.7748316963844],\"type\":\"scatter\"},{\"name\":\"52\",\"y\":[410.170013,403.6140266219159,399.7556331660005,395.31457969159175,400.00108340996564,409.9668691577061,427.39823526001453,421.1121070065678,440.2601173180652,452.4071586921975,478.69812631724545,474.37625456991793,484.1186499604055,487.5359503876902,435.5065962932725,464.37327257388193,473.07193581679104,455.1247220033624,457.40128101211906,467.44431560667687],\"type\":\"scatter\"},{\"name\":\"53\",\"y\":[410.170013,418.2615919956331,417.10254314111563,423.4923595687231,421.50916095182185,404.46024021482015,382.4103692774947,396.6447556202208,397.60125095174976,401.1187442969407,389.97413335597884,400.2794936426053,410.69506495677695,392.3869776617618,401.75735052704596,388.8403501046552,393.5309330651871,392.92921658726425,385.5930822040299,391.9506740819531],\"type\":\"scatter\"},{\"name\":\"54\",\"y\":[410.170013,401.7571043031981,396.23901637350394,392.87368169728677,392.2313192715993,384.99679189875945,395.1734227904173,396.36951998002263,398.1999926838066,394.4606457305294,374.71176078203916,386.84419581495973,379.8647563745165,386.1106246954626,393.86980615302,390.2723142653138,402.18934255497993,396.03782319451875,399.27829202371794,403.8743461750364],\"type\":\"scatter\"},{\"name\":\"55\",\"y\":[410.170013,406.8087952567387,401.74629806071323,395.4701261510348,392.33351020213337,392.8674634093867,376.8051075751222,389.3902763362058,404.3800760778475,402.899695718346,394.9624405008534,397.75965144470155,386.80525741196766,380.40840974650393,368.8046582207125,369.4190044518618,362.83291100402573,345.887852735525,339.8627954546892,353.2468945823595],\"type\":\"scatter\"},{\"name\":\"56\",\"y\":[410.170013,382.55152460776156,387.51410555020146,370.9676191825729,389.4379439660377,394.80461667083125,395.7469977069673,384.46385133336287,396.3061644542925,406.7631809844327,395.9801195368842,409.61848106368313,427.174728831201,425.54873532144734,457.5240642698042,444.11498583366745,429.06340962051206,426.27457601489016,423.8238521142328,417.5318288482434],\"type\":\"scatter\"},{\"name\":\"57\",\"y\":[410.170013,416.4110298460208,426.2603518721213,402.35550104388676,406.0621767955862,402.4993410719559,388.2751370445326,399.8043974081861,402.16092745998037,398.97103902290036,402.7870611768247,415.28933081750984,418.238218245876,404.05254491897506,395.9945907750782,382.3672759597433,377.0556470180051,382.0988405661383,390.7800648288393,386.91284904992625],\"type\":\"scatter\"},{\"name\":\"58\",\"y\":[410.170013,421.58745878614104,404.3942748879016,391.56190037677067,379.42669559032004,364.72905835306574,346.9426065401289,345.5907629951414,354.42151773743336,363.5707588310198,353.9592017845774,342.888257933452,348.3354151045605,348.88346180750204,362.88322112220885,340.6299585279696,342.43457003041476,332.10801425559964,344.7674653084892,336.48229317841304],\"type\":\"scatter\"},{\"name\":\"59\",\"y\":[410.170013,418.3533939891074,419.52231616306585,430.2165815433545,429.5975073469623,459.6088487171493,457.3251638051799,464.96315227498746,447.92850878229723,445.70391030370337,450.79658810225385,427.9890064591026,435.70083740403516,418.28072129881724,422.9321182298727,418.30554006089153,418.7145302639463,410.4918152267945,398.42503831934954,408.0352292591394],\"type\":\"scatter\"},{\"name\":\"60\",\"y\":[410.170013,421.2569197057978,418.3552269529321,427.6634430376872,441.83926990698865,440.76758873535056,445.41898972404954,451.7223303802198,456.052402709595,473.1094688737817,471.4329300515073,483.38766188533447,490.0773594935561,494.2954806874797,492.66158909520027,497.904182784,489.76015606930645,484.0328636789861,479.809908649166,467.0017667574926],\"type\":\"scatter\"},{\"name\":\"61\",\"y\":[410.170013,390.9090215963146,379.9436043952912,379.46337473305215,397.9437453960088,394.9159453262666,385.4107862486511,377.10007304284443,374.2945400792212,391.76912429896845,403.4323704974321,412.92741863979717,410.67581014839436,395.067876058527,389.0505285055607,376.1226551019735,388.58405633226954,390.14400584099957,390.95869116109725,379.9244248075471],\"type\":\"scatter\"},{\"name\":\"62\",\"y\":[410.170013,422.6064315465316,433.6680981454815,450.4040124085631,436.5080574634038,452.8613414019828,429.5926337687578,432.6255967525648,410.1312303074883,411.94010001888745,408.7014208385256,407.22804577027256,414.1790927072063,423.567193802512,429.3400459268373,444.65170529314776,475.1205503136018,467.3989508290013,459.416989123786,469.14557166480324],\"type\":\"scatter\"},{\"name\":\"63\",\"y\":[410.170013,421.5291726190104,419.2451496734825,427.81950819281144,441.35141993640735,451.16225536928533,456.1755043317672,484.61167585101657,459.6097533076457,476.85232112673236,489.3153376334256,478.83920112052044,482.2323119017274,467.4641351146263,462.5445243537751,475.25735374700815,496.54498064227283,492.5031922662974,478.0678737622859,473.8342533221807],\"type\":\"scatter\"},{\"name\":\"64\",\"y\":[410.170013,429.5946737621278,417.1474466639987,404.90965082843314,403.17964053493836,403.8461294045105,388.7341439870125,402.9587445209021,406.9040320606915,406.89298110465904,437.9216239197051,441.2297343198996,445.4678209304736,425.335742127174,434.0154190388161,438.6508530887718,438.354488595394,452.9185577029039,449.26949185838265,443.73988416523406],\"type\":\"scatter\"},{\"name\":\"65\",\"y\":[410.170013,400.69750929114787,397.44203090698124,398.4104001152042,400.0619548379477,418.09519179141284,410.08041851398076,403.50702134270625,388.01704308669355,371.861006325087,363.16568597317183,366.2384895958625,366.78377384502113,378.4480662884305,364.10509794123175,363.30303285861504,363.0265252456087,347.9473774485104,360.87100727840146,371.21665945908705],\"type\":\"scatter\"},{\"name\":\"66\",\"y\":[410.170013,396.8145396201486,395.6519208441863,370.0587883109585,373.4482753692544,362.2148468953841,368.2989682133642,374.18420390272985,367.46648510778397,367.9924269317117,360.8026298841633,372.1258295830541,375.30991584258595,384.8397818157758,380.8892977260385,390.64778761341836,386.65778989970863,391.603501543451,393.144143487373,409.84574323997174],\"type\":\"scatter\"},{\"name\":\"67\",\"y\":[410.170013,399.3754206973991,398.5918521003065,377.1787450807293,363.15429676712404,349.76842769986655,350.0081439965189,334.88763259354573,337.7371327570415,336.4858640392632,323.38996779600325,321.44991152613846,319.4460099899834,324.77633748883494,326.53630225179546,343.1963047383958,342.1041017500713,339.895293647115,347.4556268277872,344.33934794294265],\"type\":\"scatter\"},{\"name\":\"68\",\"y\":[410.170013,416.63001528338606,405.51833149207823,410.3406303791726,404.8032280569908,404.81561419681725,426.2778693843125,414.54168784291556,417.60208450249996,416.51741382736896,427.80205261251353,424.64627638718525,419.9900777248753,439.04240552802173,451.0293963432145,459.61046907772635,464.76642471651974,464.49547245968006,464.9900441145866,483.304729410382],\"type\":\"scatter\"},{\"name\":\"69\",\"y\":[410.170013,402.0728617899878,404.62487759461663,422.2132733768533,412.01787224878274,426.695117804428,449.6410542486504,443.2842308231667,456.70525915080395,457.8384798613058,463.7617662531686,466.6725024098358,473.7556126950796,471.1626695544012,468.3264876968193,487.43026299644595,471.92960083897367,460.13076279633606,481.5332000523411,468.8572114746999],\"type\":\"scatter\"},{\"name\":\"70\",\"y\":[410.170013,409.2338912569703,404.0881122747483,410.0924315476314,405.43523435129913,421.8287643388034,424.6912460282538,443.9644544260496,446.8702380419869,468.15100307697776,462.4658475600624,477.29247295004706,494.69917919504485,491.97864714985303,479.17262734037655,475.52549390269945,472.5998527919474,490.23803692132276,502.0932090185973,488.1499071410668],\"type\":\"scatter\"},{\"name\":\"71\",\"y\":[410.170013,397.0430277750091,400.82671677849396,415.80036998663337,397.85598613440646,402.058283318972,421.0458308885506,420.66077960855495,431.9183656974765,433.2103219273546,441.51809899989445,454.8929568674453,458.7594154849229,447.4184603324112,443.2653017260033,438.8206154244576,432.8664227848937,470.7691621816288,476.66504658881655,483.39091425924084],\"type\":\"scatter\"},{\"name\":\"72\",\"y\":[410.170013,421.8692294864032,433.01445768232924,431.0411037954762,434.2303272199727,433.29772659751393,431.4892846820495,445.0406899654644,453.1108508701112,436.8679841900788,431.54506552842383,437.0365928192627,432.5007705768266,426.3570003711537,415.9222473802065,406.4550718119332,381.4221135918309,376.2466329073823,375.6751232519571,392.9186800667288],\"type\":\"scatter\"},{\"name\":\"73\",\"y\":[410.170013,408.4012885431037,401.0631811689824,393.8725305933317,403.3082341429994,400.1812207348215,414.9408508627856,431.53142951379937,437.320606777435,438.0572650937831,447.1923469062028,459.0264085336271,459.95127897007376,446.3123398708558,454.28712214744183,458.19066642156315,474.2889209462098,482.1922522591428,467.5024740435439,470.5778760122345],\"type\":\"scatter\"},{\"name\":\"74\",\"y\":[410.170013,415.1750794230491,443.70713082114514,434.48463843561535,436.37627461602324,445.8822684644671,457.73772727726765,442.6162961887187,443.62421693642904,455.7455436281911,457.13866321864305,472.19704405000704,453.44875413525017,456.54973484092864,466.0380124697655,466.9173498942923,469.2507092410745,469.8282127287675,456.5889382745217,454.5095469992191],\"type\":\"scatter\"},{\"name\":\"75\",\"y\":[410.170013,385.12709695596243,389.5363065743429,388.4803182211278,397.69165941213885,394.62998632243534,401.0318041917828,400.7496296137279,408.1072884931965,413.07045383164433,395.97238582100573,388.2696195278412,399.1613627070233,403.99535917187916,413.71096587764595,405.074861639797,413.994211608139,410.6570746820541,406.5973043974566,414.849405485427],\"type\":\"scatter\"},{\"name\":\"76\",\"y\":[410.170013,413.0017288924923,428.41481776362656,428.31280655083543,455.31024803227075,449.3516823236045,459.8257009587487,446.23887115075996,439.769908067692,429.2501743432194,425.2989473286265,430.1296509153077,419.9972643055597,425.47620922269726,414.9111643997443,435.3587961985883,450.011888661033,455.6256000360859,444.92556733893394,452.99726318993794],\"type\":\"scatter\"},{\"name\":\"77\",\"y\":[410.170013,395.97195608051754,394.00565086407204,389.5842054603722,402.84092141565753,382.9554097045757,374.404934945753,373.74054585395413,381.6270044210151,397.0513671537223,405.23525721309875,410.2147977952576,409.5342826799744,429.7548119053827,441.2785215417303,444.8916235516435,448.30309257852167,441.14390754263366,446.5089721636843,436.9653786566265],\"type\":\"scatter\"},{\"name\":\"78\",\"y\":[410.170013,432.9427997458166,428.20052981956997,427.59553047851176,416.08687000946026,410.449436161017,432.9577322175369,433.85547333209223,433.49136717952234,419.6874911110151,427.67910322072754,421.23553979499746,427.3785002669461,434.1562061493551,439.83721709506676,434.56131870746685,427.703272905657,394.3569400561315,401.8021424630724,409.8053917850983],\"type\":\"scatter\"},{\"name\":\"79\",\"y\":[410.170013,424.73983440086613,437.5175506275299,430.2777215102938,409.34267831116017,401.2114989724738,417.3991361656779,400.78078108802305,391.3508064772961,391.45112218329774,406.739862794373,401.1558679352497,403.0275491606712,396.2218999724962,393.9232592075939,383.9945746286826,387.5765711961447,407.30537296927963,400.4616520976968,386.5957954343398],\"type\":\"scatter\"},{\"name\":\"80\",\"y\":[410.170013,413.79971580838185,417.9559246724392,409.0003008511657,416.57880416463644,419.54916078637086,431.26250062415227,439.61356526458377,435.9619313979136,431.40641738393805,443.1844328570629,440.79302303254724,446.16174928600856,447.68815394420903,447.51508121573244,435.46400538282137,432.2107252892918,405.6583395981596,404.8890481320514,416.42229512136305],\"type\":\"scatter\"},{\"name\":\"81\",\"y\":[410.170013,414.63424462586084,433.8106170408867,437.92259773250555,450.53827974885735,448.82006683758556,439.8059900976333,419.8246366234326,416.68638279139196,417.7377161594129,446.1278198012389,443.8630460057584,449.9759218183279,447.6282111829231,446.8807781126505,451.06953750907314,451.063836310954,444.44196215862445,484.01738796310735,492.6754196383265],\"type\":\"scatter\"},{\"name\":\"82\",\"y\":[410.170013,394.94161740630165,388.55702881254615,394.80016112898556,417.71314768474303,413.7043329193853,418.69030183308524,403.2165355290588,400.9614534187797,407.8533030327361,406.29106584078335,404.5037720475305,399.58862884789414,414.8865753509586,428.11373066471157,414.971674718871,423.1581120028933,422.18741082438345,414.96837182656196,420.96998795282457],\"type\":\"scatter\"},{\"name\":\"83\",\"y\":[410.170013,418.8095897640028,404.9311490248161,406.4593310606239,390.3102118610405,394.654522706439,391.2728680197712,393.15397646187256,366.3566370721924,364.66155599245394,367.4223464112739,353.6358459867727,336.3190769717767,335.80347580632605,329.41217729038357,318.401426481898,319.87523359151214,320.69291022746216,322.92354833524456,331.08335516372784],\"type\":\"scatter\"},{\"name\":\"84\",\"y\":[410.170013,401.66153444319605,399.04597865329697,388.10225313103257,374.427117866763,378.10605155119595,388.1978403994767,388.2655494267385,392.39575556959005,385.6003276590182,380.16080808225183,375.6770256413978,374.17590302821867,376.04569886537973,366.93989340970234,369.02101792109,368.79510285587673,364.7437479289221,369.8435766790256,365.4081212384789],\"type\":\"scatter\"},{\"name\":\"85\",\"y\":[410.170013,392.14010860703536,397.3872775291652,400.5964461125724,393.07475491767275,385.8743288846615,388.03590596586645,392.16657451946804,395.06577311884433,399.3875304979468,394.2450933954146,388.7635127001466,390.37600735045555,391.9454513587356,402.0013241201688,378.3005709946169,371.85280483794025,362.3496492929503,368.14325613934693,361.5455158722223],\"type\":\"scatter\"},{\"name\":\"86\",\"y\":[410.170013,409.2201916315862,410.7834192711743,420.412964162729,422.1479699649811,409.2270369297851,406.7861506331471,410.07751714559515,402.9396524521325,391.3050963586026,389.5601224840122,396.66443817738883,393.5424837601901,377.56960908726376,388.36630622433995,391.61969483115354,413.21167590687276,399.15865370989735,397.24583286322047,405.6198929238169],\"type\":\"scatter\"},{\"name\":\"87\",\"y\":[410.170013,415.8514058488359,417.61969089403107,422.25053366864694,435.5228471280888,428.11652224138373,429.574077177816,462.5030704421565,467.0367501230643,481.3132791814913,466.4049732033783,470.9655243166251,451.2719519043865,460.29932351998934,461.68537872143935,465.1976833709994,453.44951108329485,449.584581703319,445.58755188516614,457.7302271748906],\"type\":\"scatter\"},{\"name\":\"88\",\"y\":[410.170013,404.50569991386243,404.4756790985348,403.59135551466466,410.24560836580895,409.6961131252694,414.2442130978941,435.0051227206637,426.4422912152952,438.2824669125482,422.71341036985336,415.0633084340642,422.37378898296714,439.1301348078464,456.3425592844353,447.75774100999894,441.5523089187817,445.33138997077776,460.1384249289311,452.9647381652258],\"type\":\"scatter\"},{\"name\":\"89\",\"y\":[410.170013,410.6840779691764,412.19508935116846,428.6633458181118,436.84045441780904,456.2896047079899,449.39533779679374,449.3463038643431,453.4047704120838,454.2331191311371,467.538215010659,472.7465275553022,470.40973273252763,480.4892335446699,464.5415652447899,473.1260665535571,487.62511834979335,473.18828880637943,495.87668836002484,522.8029105398949],\"type\":\"scatter\"},{\"name\":\"90\",\"y\":[410.170013,411.0736892726771,384.8177713777775,388.10848564630743,388.7409933443938,385.9956492550239,384.6715399293436,383.8135561478619,371.5230080002377,359.9106364086416,365.5740549193364,362.0715790841307,370.4586867398843,362.5557039760406,361.2392385144421,378.47358074136315,355.1216644858008,357.2730747337522,359.22686680818913,374.7909114339551],\"type\":\"scatter\"},{\"name\":\"91\",\"y\":[410.170013,442.59565179083444,426.20373905616884,429.53694368490665,436.46643553587165,428.07290878413784,428.4154778845478,438.0489413720489,445.07168057805484,450.5621753529896,440.6638142753426,444.8230591163143,444.45425095385383,472.59642744051746,462.79428596086615,466.8180107386348,458.62596487067634,455.0286084458022,448.8914086926514,426.84045465579504],\"type\":\"scatter\"},{\"name\":\"92\",\"y\":[410.170013,399.14702182703985,398.0338905103746,410.8373760717574,411.4359106840016,405.4131672117758,406.4988332314698,403.14173444382317,404.20227819023364,397.3487729816129,406.0467123089258,412.1680203339166,403.1355758038519,397.83435494542175,400.718873302546,411.2656202247212,420.8210387522667,420.6271643993861,413.03473343731343,408.73761217199865],\"type\":\"scatter\"},{\"name\":\"93\",\"y\":[410.170013,397.9742407038908,409.81629590935944,400.5883434134237,385.35589648471966,385.05853025010924,373.85774687093954,364.8076650588924,364.2695319565993,366.54008488826327,377.5044493194207,376.1379176509522,387.5768120109297,397.09363244706435,391.0737339879175,405.7215113679925,410.0377169324903,408.5583702812303,403.3868097038172,385.8090457552849],\"type\":\"scatter\"},{\"name\":\"94\",\"y\":[410.170013,410.55725924173277,403.7570047415241,393.76028735815385,376.6606872377087,383.90727994782463,397.64559039494515,390.77075188501937,377.55685730249064,390.0682470612544,396.4951342239237,394.9229096914366,406.77995347447023,395.98321264397646,395.9263020383856,384.81899874729174,390.97023333810097,381.1921454329661,375.384115358041,394.11822168167424],\"type\":\"scatter\"},{\"name\":\"95\",\"y\":[410.170013,405.4950557228437,409.36462383003436,417.45791887051325,414.1232741693511,406.1582782854596,402.75349559419715,412.0229239491306,401.04562543888653,402.15691420746873,409.6400163089027,401.3178183848352,402.32182075767673,402.13400151977464,402.04724877992425,408.0942578497599,407.30333055844454,425.0356438144156,437.2026465423537,452.91867406810854],\"type\":\"scatter\"},{\"name\":\"96\",\"y\":[410.170013,419.9277203934949,425.7220346624635,428.6891948048623,409.86280873579614,407.5454467725558,411.3668694799538,402.0186150339407,418.52175872927563,404.4834970352882,411.68207982855364,412.2303945496435,418.11806026788787,413.9969233862821,412.0414340263033,423.1521060795238,417.88520467412974,423.84629980563534,430.3436547394462,420.9105986300789],\"type\":\"scatter\"},{\"name\":\"97\",\"y\":[410.170013,409.2278704868038,410.9949366700953,399.06469139504,390.0324970856502,381.06321742929714,380.2331433658139,367.7261673232861,358.6495588132714,365.3682354832278,352.20768161571084,350.9037708371769,358.098637552091,345.44306357989757,347.8832685069732,347.84377548726786,357.9771861964816,367.36037323314304,376.88061065650066,386.5006101949776],\"type\":\"scatter\"},{\"name\":\"98\",\"y\":[410.170013,405.9247782064176,396.8980709804465,396.4984105323932,404.1244198705729,421.68814516777604,437.00752684589463,429.91385950998864,432.4802943459329,436.20054256805156,440.390924752685,426.8526330841772,419.51070882147826,428.88012554715806,429.5695712960878,418.51259259351207,426.6456155242215,409.03559221126653,409.1470367472516,411.95709626786163],\"type\":\"scatter\"},{\"name\":\"99\",\"y\":[410.170013,429.34670269332975,438.6271244592139,449.4676542882642,424.09767715227366,424.2560531542958,420.9323791384761,411.51506242150487,402.1884268519564,395.8718049590989,387.27133996577965,388.5062570238517,408.0780472482647,400.388786339086,401.3974043202167,386.3730149227688,391.9442265306997,397.44885884263425,401.65654038883275,399.9750485181775],\"type\":\"scatter\"},{\"name\":\"100\",\"y\":[410.170013,408.4555265589172,411.0974457513808,405.8922925046185,420.7903386731555,413.1439261694778,403.32874104310713,413.1258551952142,413.20468313101594,425.64318874510786,423.24877137059264,441.5016177654311,435.02862872283305,429.6995183686354,432.5715211462561,441.79533420775715,442.13645794354744,427.7013637110311,418.6261151056497,404.851680991926],\"type\":\"scatter\"},{\"name\":\"101\",\"y\":[410.170013,394.8011224132401,396.13440051183096,392.9414672458134,387.85544504796434,396.37605134387815,407.91530557782096,411.08923630927075,404.6249587252374,402.0756618642984,415.95992525858446,413.58584620977916,417.42237479026323,409.2289731882813,406.9004254214353,398.63790066384604,394.4138209938102,412.574916065461,394.69845118754574,382.1995001251508],\"type\":\"scatter\"},{\"name\":\"102\",\"y\":[410.170013,401.9171778173641,396.3214713866078,401.7042504968095,394.78695077792196,394.53284611664566,386.2859641368692,387.2939678319425,393.48201128286377,405.37353797957024,407.07466667241266,399.8283179481619,403.3390511742938,406.87529819612774,399.40283523564347,411.5925792439068,420.40273289063526,416.310546453067,419.9742703757675,425.74836373319226],\"type\":\"scatter\"},{\"name\":\"103\",\"y\":[410.170013,414.994583067651,404.00983983444564,410.6323094239901,393.7885206123231,391.54171370568474,379.7466829609215,376.5165658923015,391.40803238928856,392.59390816364487,384.7388633221663,389.74529694992395,392.96284387049565,396.51521192513457,375.3368291280678,386.18398516288516,397.48142955693453,412.50297736001244,412.1071362731802,424.1142960477706],\"type\":\"scatter\"},{\"name\":\"104\",\"y\":[410.170013,399.0340439225415,395.6552329016842,381.2506831408497,371.5321259209236,392.62213562437944,372.40232369006685,373.2527057255299,382.0977889776781,381.6317676973027,375.38115894604874,371.4033092580797,378.1507230477047,369.9733977175094,368.5859779574108,388.50226951734334,378.4698046635605,382.82574022147935,378.663891028116,358.64424018379344],\"type\":\"scatter\"},{\"name\":\"105\",\"y\":[410.170013,429.9171703139669,437.99961362724247,427.970687753914,430.5099648294495,439.0225965603194,430.14256137386855,421.9775568623331,424.74987065268,405.2402175028148,396.767325423842,423.43078095967485,409.3553586861368,394.7305464522702,398.6785505328558,408.6164869308745,418.7123823522555,426.2357635345473,436.63395167395424,436.01344875862895],\"type\":\"scatter\"},{\"name\":\"106\",\"y\":[410.170013,401.85919857363865,391.591580510454,375.84038917777025,388.62792772899445,370.1203481533073,374.2731937555321,383.02424657831233,386.85665849313307,382.3367223197104,390.3997375675446,404.7382484901207,410.79539300772785,406.44012857280865,406.1591061090886,404.6333705504171,400.4423490298894,383.2132750588816,379.5067039410097,382.90685440848705],\"type\":\"scatter\"},{\"name\":\"107\",\"y\":[410.170013,401.346395184667,394.00783960714716,395.2696823935309,409.61511982963555,426.69237301695273,414.72793637452446,424.5778731536171,419.85025750167443,440.76644278665,428.2859470142661,425.8888759195361,437.73539431925997,467.27935265799107,461.943638602197,456.6292217175746,455.0442320533903,446.75956178630094,447.1397611840236,440.002313599565],\"type\":\"scatter\"},{\"name\":\"108\",\"y\":[410.170013,405.9031120794702,404.70466619078803,397.6320169794076,415.9218444276371,425.63869269896736,431.33322118647794,425.90471177949433,427.84377627013237,415.44203291464237,440.3188810710839,435.11157361957606,414.2309745202258,425.1369381730324,437.7249832131289,424.6468230572046,423.39974601528075,418.50543021449164,419.50312975503954,418.7357336558245],\"type\":\"scatter\"},{\"name\":\"109\",\"y\":[410.170013,404.7946575885967,392.3141731658289,400.0706941655962,388.8301585003258,389.2883839206098,379.1881729173983,376.9612670603084,385.3967288654859,398.5952396604165,397.249460420874,394.7786798890612,400.84824888102014,401.3947139467192,395.97797476882175,386.96513318944307,387.0195954057954,389.608392750686,397.86273766452194,406.855964998973],\"type\":\"scatter\"},{\"name\":\"110\",\"y\":[410.170013,427.9210579274949,417.32499225813564,411.98737813789944,404.18842100129467,402.86950979660554,406.66334259835884,405.59554414634977,413.4689212514141,413.0185429641845,412.57619746206353,419.3794254352266,424.42369909867534,408.19083009898935,425.30055242161353,404.9406713060844,401.19997901574817,413.21074129257306,402.03612304970505,402.19164944140493],\"type\":\"scatter\"},{\"name\":\"111\",\"y\":[410.170013,410.43394453829984,415.1947755665637,426.0184477028643,430.7496413400644,420.5820605752389,408.66191955502836,416.40820967994,434.5649724136716,446.02439439094013,446.92440192204396,429.81483903323556,430.2056137113319,438.037307513967,439.8797359181858,443.8660664435059,437.68945412893487,434.0928077290821,440.4219479236615,434.94356197086904],\"type\":\"scatter\"},{\"name\":\"112\",\"y\":[410.170013,418.6984465352028,410.1174778402159,403.100985016176,422.12509926593515,438.5586575400641,430.9729003869333,432.9619458020584,441.0152799784703,446.65647438662944,456.4652344665334,441.9849960085869,449.65733326598263,451.9809555793438,435.2266527171488,448.7676236199113,453.35268104109497,469.39512767321264,463.19034055573576,450.69525430988574],\"type\":\"scatter\"},{\"name\":\"113\",\"y\":[410.170013,426.1632462390651,424.93849079208064,409.2365099059499,409.0720703950963,411.4670547076231,414.69685297059607,402.6914039681698,402.2507920129433,406.8556906565684,387.94377963078955,394.4503428724029,381.3981449992143,397.93086583510444,414.15057061656904,424.43913632005916,416.2974494586425,422.1760045185896,434.10592427335405,453.34749297227654],\"type\":\"scatter\"},{\"name\":\"114\",\"y\":[410.170013,411.45846390487947,415.8966971921989,398.07498764468335,389.156119121902,392.65892701675415,386.9562644588463,386.9383568294377,395.0218103464885,384.11193858095885,385.681511372146,381.63323562017683,392.06086505982086,393.90279694473793,377.6356869621542,370.71454410185567,374.4072948059054,379.96218729725894,389.0243389797798,374.39428941064784],\"type\":\"scatter\"},{\"name\":\"115\",\"y\":[410.170013,398.55798109274224,398.5402055051689,400.893456231473,381.3628115692917,377.18204781464567,363.9500718919814,368.6887475518315,352.5581991741844,346.81384024652493,342.68055609885465,351.8327687111795,347.6129361106043,335.4207588096096,343.82280102471515,333.86475285199054,329.40254694639253,321.2904357048796,324.2323976897443,320.4148332083744],\"type\":\"scatter\"},{\"name\":\"116\",\"y\":[410.170013,416.5623790735564,421.6333104487139,412.90956733312566,419.34966722240375,412.7163899857315,414.0734326278986,416.7755884333104,408.85773177809654,400.3832276633717,409.5160574072008,404.2637990690037,388.67705969221447,392.79497718291566,393.1250651987253,375.5408112641608,380.3705496124878,398.6669663032143,392.8357464488371,380.5400431109064],\"type\":\"scatter\"},{\"name\":\"117\",\"y\":[410.170013,411.326189361611,385.1733321966875,383.0575749091392,396.6186030189944,400.07783440395303,394.45819255378626,395.98849554013145,383.81767378514047,365.0216403157834,372.0516160545426,387.57947135317056,409.2692826849319,418.18424654197645,433.5847448796465,440.1815270536312,455.0759329309014,455.8221275238291,467.0950995110728,470.8325709052473],\"type\":\"scatter\"},{\"name\":\"118\",\"y\":[410.170013,400.23924448904444,414.58883314336373,402.1333566076785,405.00599977201415,409.091299675575,418.11067236962833,424.6547274548483,428.3434114067666,426.65725717317355,419.64603427392757,408.63625769801666,420.93514614665963,422.6022362451261,418.8331416454144,410.1231555677472,404.77648463951215,414.6591944177226,412.30481510297324,413.4773656196214],\"type\":\"scatter\"},{\"name\":\"119\",\"y\":[410.170013,415.00894702036703,397.63703579088815,398.3634269885522,418.3918328040839,411.09564436739186,404.50853431671834,396.4973244542264,395.90857781926815,402.7823524285074,400.16479831345595,394.0605527133016,380.72706382578616,377.74228392713877,363.3578117126954,369.96202103421024,390.50215147944914,400.88421041489954,389.83988872180106,389.5266159708532],\"type\":\"scatter\"},{\"name\":\"120\",\"y\":[410.170013,421.04338723547517,435.6338580198163,427.03198261062767,420.55925127143536,429.4500684000654,437.3863149991497,435.92778684007726,432.00138300114844,441.58781406418854,469.7840526509962,442.7577072868162,449.7137793423625,440.5811240577816,452.56412883323526,444.8706973804912,464.1182991766421,457.2771545142055,450.91320725123416,444.0223549635883],\"type\":\"scatter\"},{\"name\":\"121\",\"y\":[410.170013,397.2464174212839,404.3217062037054,401.9255300708511,399.64158969112077,402.69397026223925,415.5461809933791,406.14098674410974,414.2822876672793,425.2939737512918,415.43929228621687,408.68262721725034,401.0727518921788,402.99536816148526,395.7973889971565,390.5611998509812,394.6031980873798,400.12046094850086,419.6548481148992,398.9406444477296],\"type\":\"scatter\"},{\"name\":\"122\",\"y\":[410.170013,393.86962013005655,389.140479571119,385.962760963464,383.28643415717113,377.0856677401653,379.2418207014885,372.5526174175387,381.35840891649406,378.44363216845693,391.88755397480617,391.61605763288486,399.24506612359244,408.53445339698993,418.34409832817306,416.04779104118256,417.4494498623519,406.3507365633862,410.4942594552899,435.7101050192607],\"type\":\"scatter\"},{\"name\":\"123\",\"y\":[410.170013,415.3409297002574,419.90028863667845,433.5993710559115,445.9748050165677,450.5273186177179,451.2058673303395,434.31344686182916,440.4612310581255,448.43310117049214,417.31349848967255,430.90828925965036,429.0851532583853,417.28287569298095,402.4499798668607,398.8771477244141,409.3513207918357,410.30982181315596,418.20162228894776,395.9557950993125],\"type\":\"scatter\"},{\"name\":\"124\",\"y\":[410.170013,397.8777138229603,389.732981550152,387.1945595395872,383.80454567736,406.85573975496226,422.48197921347617,418.3596138641638,408.24362839209624,398.96461547668355,407.08860929662796,414.5938756992373,396.15220939748,381.5022002768523,372.97345686475353,369.5550300348453,360.6255359622734,355.8304752328398,341.2497263490361,341.1318787274664],\"type\":\"scatter\"},{\"name\":\"125\",\"y\":[410.170013,407.3840664906905,403.3585477097839,398.0121852312099,399.1824302662234,396.4342839908028,393.9557788636278,383.23739791105476,385.1098435976677,395.87362393895233,408.7024457394728,413.6229808756622,407.08253327842925,394.52093661999135,398.5681760816522,400.2959029172293,421.9799310913868,427.64654874449815,414.18122100837314,414.5220225746711],\"type\":\"scatter\"},{\"name\":\"126\",\"y\":[410.170013,399.5633487635273,386.89098783061127,391.77592227812664,394.6505066712034,398.5331370269623,397.15196315629413,414.5491304789218,422.6490029449409,427.16313661266906,427.0775904926625,436.5370719131448,428.52208255190595,428.0265474642156,429.95439179011765,454.2779091127847,434.0520998129157,432.60233295770274,433.1251512435364,416.87581279407306],\"type\":\"scatter\"},{\"name\":\"127\",\"y\":[410.170013,415.1141053531347,429.9218101950257,435.11006128435145,441.60806765481027,454.358952701588,448.0237096097759,440.8579042559035,439.3202446807501,441.7957817804728,448.5695006645082,448.3283020362228,448.22835573395236,455.4005852128695,493.7659670557637,491.94206131267526,494.24162212248166,493.8915399114499,471.6631327262502,491.0706405565],\"type\":\"scatter\"},{\"name\":\"128\",\"y\":[410.170013,416.9459761891207,425.65318862548736,436.9191360695963,435.28544761199436,435.81655886675077,441.03305082000617,442.40689647677675,444.6848019869878,445.43686264554924,451.58746057411776,464.02554858917506,482.93897361496107,472.4102865453618,488.72228770733466,486.5717485356484,491.2066116157249,484.5810341813115,494.0706056067313,510.1415086887903],\"type\":\"scatter\"},{\"name\":\"129\",\"y\":[410.170013,413.55494629114247,419.4346252385022,431.740217562295,449.807803604242,437.63430857853876,444.7850312112193,429.2365089183632,415.0461510973244,411.942701272138,402.2640380131272,421.5587574941777,408.26422675357315,428.9693662427599,437.07649978530725,440.0423714215179,450.31067863484014,459.27325714677414,451.60058405888776,470.0380504547451],\"type\":\"scatter\"},{\"name\":\"130\",\"y\":[410.170013,398.7341902702523,404.14328051027803,399.9171819885408,386.9049361151712,372.168289418885,366.6540715429784,364.3793658677313,363.7855747598174,368.11616209665715,343.33700857561075,338.6992003129221,359.8544084991802,364.38597515223995,379.43751478697845,380.8666440212906,376.3474431942693,380.4863882556031,373.37140297488986,367.9471980180358],\"type\":\"scatter\"},{\"name\":\"131\",\"y\":[410.170013,396.55034329878447,396.17534371454605,402.2001897813302,401.73839645005785,404.03550992512777,400.0282121255422,413.2834527600818,412.38131246854044,417.4914147196084,429.38648525840597,449.8493891654818,457.8544121656423,467.40920029449416,463.5905929752102,453.43311011856974,432.07804769790397,439.18154926321733,431.4013482419626,423.7792141179524],\"type\":\"scatter\"},{\"name\":\"132\",\"y\":[410.170013,432.74775857275085,443.58514150414965,463.7477603931486,470.2396756779343,472.0882574014787,461.91882014784306,457.03420102173015,455.318414701339,455.27423742951817,462.94683078542784,486.10547447095814,492.8561934106484,492.1097620670829,473.1503102736437,482.324347947324,472.08572074064875,517.8206497989672,537.4521248510868,538.1809905968497],\"type\":\"scatter\"},{\"name\":\"133\",\"y\":[410.170013,414.98707676028954,421.57496771065775,406.0679499725677,407.75164293068843,412.91516922946664,393.71571133597604,390.0411991945515,392.14111775226786,392.5695946165312,408.01969977563454,383.0406372206176,387.02090801451186,378.96803011636246,361.22425234755804,366.1798574862411,361.17552285703175,344.5985759135631,347.47360805898717,360.68034767167285],\"type\":\"scatter\"},{\"name\":\"134\",\"y\":[410.170013,404.7353133616157,400.90469465559806,401.65457683752925,388.26176401557126,391.82646558931776,372.34524517786167,379.14905777435297,381.81520600684144,389.6054554160882,386.63702470896726,405.7500051255261,413.5167496051277,429.8386501412638,452.61872868767614,450.2658830456441,444.8860470101472,434.248777841091,425.55186138584094,449.74602914793104],\"type\":\"scatter\"},{\"name\":\"135\",\"y\":[410.170013,410.2239742307708,402.67728237719894,397.88595393137064,387.1186098814153,393.5989713644618,387.8514305493444,359.48709307912765,355.5428744153624,345.5833851938964,353.71761705341487,367.968840723777,371.83760082022053,369.7137447332687,383.8020450924401,388.0670012040816,390.75052430781136,389.83735698297454,385.28221591394225,368.54613223718417],\"type\":\"scatter\"},{\"name\":\"136\",\"y\":[410.170013,405.57658069877385,398.9760080229592,388.85314466406413,391.3276684622139,395.81740029468307,421.1353592092811,420.14424310223103,418.2128868702039,424.20939608320174,421.17415501755323,426.0889828196898,435.2145044129977,449.44803160247716,457.9528165466927,460.7634107787739,456.3996441730778,471.1260075859123,459.0322860913521,447.86044188383994],\"type\":\"scatter\"},{\"name\":\"137\",\"y\":[410.170013,419.06199009668023,433.258317630507,451.5620107308128,429.5149152309911,432.01703192190314,426.93123809884446,440.8125908471291,450.40732559800364,451.60210591058944,440.8036822404712,449.45952950116964,455.2372085756935,477.585440811739,474.17923385054127,456.99506994401173,442.2445859162064,453.2259326599346,451.3131681890472,457.16904528052845],\"type\":\"scatter\"},{\"name\":\"138\",\"y\":[410.170013,413.21438074916347,416.7167897807733,405.34194344696766,397.35493812696876,392.369481186553,382.52410633649254,374.48520770467366,378.9726800114052,374.089877300072,369.48684042382865,372.38123492709684,361.8461879212283,362.7531783251462,369.60598242941217,351.518271399511,363.2667138503443,370.41849910603037,358.2620191708277,365.23540133637795],\"type\":\"scatter\"},{\"name\":\"139\",\"y\":[410.170013,401.06330708259566,400.8914400158689,387.50387585950136,374.8884518605616,377.775527995282,362.1300844693286,343.6656487667172,340.7419234954215,328.9058623095565,340.4734462310055,324.0326684924409,327.27702918019656,328.80149739363793,327.7817015993638,343.488570452116,358.9843611151906,363.3781518477268,376.83083364554705,380.8656627439181],\"type\":\"scatter\"},{\"name\":\"140\",\"y\":[410.170013,413.27605460115734,416.6313746621644,415.8473525167005,427.93581288635374,441.09309953355887,445.83297105849397,454.45699769589436,449.4103997899132,441.9359084936304,449.06059112753866,450.5761044822989,454.8042719780653,448.87961891068306,467.3448293968589,463.4807842357645,469.7358737707558,461.4220861647954,455.4002501866576,467.7286500888627],\"type\":\"scatter\"},{\"name\":\"141\",\"y\":[410.170013,415.92832466545156,420.32677278197536,435.6441327792454,441.89922943860677,443.54645819344915,456.13493139280496,454.36826115716883,461.71117753564226,457.7302470683279,480.245175018487,488.1578570781155,501.35539946641325,499.52435839831173,521.5220779952499,518.9333039396645,517.836132168433,522.9765810938821,506.70893111438687,520.5421574416865],\"type\":\"scatter\"},{\"name\":\"142\",\"y\":[410.170013,426.2217152385105,419.80996878924486,420.9445010259747,411.5780658899912,409.9351782324687,405.3429611906955,425.2405573332964,407.59492119199723,416.4413813889236,417.31963054758535,422.4145501232132,431.77582161953944,447.7811796824938,445.63431138828474,439.7083622267401,453.64457089237993,471.7378617672494,463.7849062330125,461.8010014340642],\"type\":\"scatter\"},{\"name\":\"143\",\"y\":[410.170013,411.44388366255197,423.7461833143289,427.488953562943,428.929004667767,430.9748768526086,439.80681475082105,437.7833008631478,433.7826303235823,444.6048956450994,444.2134537961609,441.78874976580124,450.6403612877353,450.97595783718384,449.2878473035396,459.9827214208591,452.3176701013342,441.59066954031846,445.7784373453406,446.4422877031402],\"type\":\"scatter\"},{\"name\":\"144\",\"y\":[410.170013,425.6124919655784,437.0467865430575,444.9600781695974,435.9378857942099,431.28445161238835,420.41026497556373,415.2478217270899,422.64670011326587,436.943482837357,448.1627008595063,448.1628590582185,464.34879131591157,488.91520183257654,495.04775006486057,508.7225063778635,526.5096005123482,511.8076187360306,496.52342441901595,501.1815258026923],\"type\":\"scatter\"},{\"name\":\"145\",\"y\":[410.170013,421.58626313340557,409.8809245200469,413.2480185108338,421.10114274679637,455.52300550525143,463.49770798905786,443.05591162547324,424.4116810649364,416.96272501483605,414.92450817345883,402.5317122879689,408.415947287747,414.90845550691165,430.7970199029749,419.9477126304145,437.80241613699155,430.2537248740669,420.05931806905005,419.9995499441212],\"type\":\"scatter\"},{\"name\":\"146\",\"y\":[410.170013,410.6524841960895,391.3730875953126,389.4662832554112,398.2629543925789,386.9860816783713,404.22378447727027,387.51322224049574,388.623426632392,395.63627297876053,396.4522151511691,407.7205153086212,424.07574736953154,425.7648168142766,433.94812010329326,439.85480527365934,454.3928346645706,462.2200546523746,479.13922429599097,478.8916358190488],\"type\":\"scatter\"},{\"name\":\"147\",\"y\":[410.170013,413.7607306531142,401.2796232631026,403.8960734868438,389.53056470561,381.63680283687796,381.5576559506108,386.4653905413749,405.2680404206523,404.460266675196,406.7885855031118,415.6998970223961,404.5666129506978,395.52000608440846,389.91912001498616,394.2984259580905,382.93864691806385,380.26902342909875,377.7124753509464,372.18094953544437],\"type\":\"scatter\"},{\"name\":\"148\",\"y\":[410.170013,403.43851930576375,405.8068431714046,406.88438103243607,386.0645271227094,383.0124967627503,385.9777161878966,385.20029505550656,395.9583372489103,388.27767039284237,382.80984860046175,395.8130874629749,409.41733432883734,411.2092108172702,431.79225005294194,414.60681903201316,431.1300742345737,422.4969323339532,440.41372500199355,417.82869359178335],\"type\":\"scatter\"},{\"name\":\"149\",\"y\":[410.170013,417.4978073297538,438.87389893161435,442.7353322027904,458.4742824018039,434.5565162061103,433.49184856561504,442.838671158606,439.9651696429768,444.0035138643734,437.9886605449988,425.9027595741586,415.6751930023386,418.0454333221342,414.0758333062225,406.44179978643564,426.5729444317247,446.90187401970263,431.8118289240877,430.5030180291766],\"type\":\"scatter\"},{\"name\":\"150\",\"y\":[410.170013,399.40335961491377,411.4148331900232,411.7189509501141,407.9014935934331,420.87434304495724,433.4405741267711,451.6955752932018,455.48656131368733,449.743427740789,431.22434207261955,430.8346352479892,439.96958725439885,454.81536486281857,446.606246847427,434.79562656662597,429.4812594501752,418.34391188070634,422.26987350888237,423.24830355766335],\"type\":\"scatter\"},{\"name\":\"151\",\"y\":[410.170013,418.3787997368669,410.7951137078562,408.4206985544388,390.18494984715863,371.5875404331162,381.1013199110444,373.24713712137594,373.39838321256957,391.050834441694,399.47609426123364,407.21715263056086,420.70088938033797,427.98152364625497,427.52618882159703,427.6912102632805,429.49424899212187,439.8415725893421,448.7691940104659,445.5049256004733],\"type\":\"scatter\"},{\"name\":\"152\",\"y\":[410.170013,416.58354777248604,411.77319730453667,430.6695395537193,431.6022904862957,435.1996000827192,440.14617784229785,448.3336344862372,462.2534783985681,460.5056733780387,471.1911643356118,477.6158096946856,455.6291598662052,450.58548135434415,459.2438955815641,468.15977326996125,472.6547320837194,467.1922339250284,466.3675840239635,491.6637196090859],\"type\":\"scatter\"},{\"name\":\"153\",\"y\":[410.170013,389.43349010830605,378.7831617887039,371.9700455230588,377.4939567601743,365.9089842497819,358.2039474997391,353.49871616262834,343.43102650643743,354.7576304781477,369.75617233686796,362.4829005329462,349.32829031466537,349.5478079054459,355.8341507458637,362.5340947782487,364.17030944152805,368.7592281730554,367.16999905459386,377.0590356611131],\"type\":\"scatter\"},{\"name\":\"154\",\"y\":[410.170013,409.3969578655021,395.2927539913118,384.05322685556075,387.171946341604,394.340519467434,377.5402769655527,388.04017717064346,383.61887736601716,395.24502544220366,392.9859884317605,384.81234548123547,383.7237029573596,369.80237531698646,360.91451461467295,357.9312656741341,365.8932024511802,360.268965282109,359.3935350451062,372.82619722747677],\"type\":\"scatter\"},{\"name\":\"155\",\"y\":[410.170013,398.6501111405291,414.68553738406115,402.83079979555094,397.3207831776649,386.4912990606531,371.92375969726186,356.52664717999477,361.14830508062187,364.74329096058784,363.8222290824982,367.68715247364554,376.68105363557123,373.29717031873304,384.5533154264322,389.87904357494125,401.1519084504814,394.27335933639574,401.92571752017705,399.7187471792141],\"type\":\"scatter\"},{\"name\":\"156\",\"y\":[410.170013,402.000864707129,400.96225076324146,406.8638620121512,404.35783166201577,398.29417986728623,402.56301669979047,399.11841697833825,412.39302947201327,417.2212330694265,430.70880274555384,442.76310395998945,424.0498751785748,437.7650254471849,428.6623236081293,420.596289851225,403.2960866811892,387.17245097523096,384.7602169250475,398.35762478952216],\"type\":\"scatter\"},{\"name\":\"157\",\"y\":[410.170013,413.35128737869064,421.9358980818903,420.21185455956356,417.1608876775919,411.36605525151526,409.08303665690624,427.0986471977242,421.1556201234272,418.82822039629525,411.35197094175373,413.56689304045847,397.79851717139104,395.37899164369736,395.52142328028685,389.7278196340688,396.2087377989216,397.2452219654647,389.52054229062065,400.8836144457737],\"type\":\"scatter\"},{\"name\":\"158\",\"y\":[410.170013,423.58025980214285,427.6138955631307,432.591998770784,442.58890718869304,436.28653599012284,461.29005660435627,464.0499426132053,462.4759726120949,476.8658999180944,481.5457569419627,496.7083368152853,511.12136862756967,500.62033233345954,519.4779945698514,529.3036480556274,539.7179889763613,530.0778955460406,525.779045279405,514.035942820839],\"type\":\"scatter\"},{\"name\":\"159\",\"y\":[410.170013,408.55103808585113,414.3938945677589,418.10545141941196,419.9946467778636,426.879767514508,421.25582064807367,411.9794754982685,416.47317349576304,391.7246190593879,383.7345383813829,390.8337932243693,382.10708616377354,389.4438675649636,394.7971259429833,410.2050587577117,400.3895230182049,389.9248088309735,387.1851083781074,381.87481669825775],\"type\":\"scatter\"},{\"name\":\"160\",\"y\":[410.170013,406.1200312016303,404.30749118499006,408.0044133382401,412.75582143964743,408.36077033718533,428.7259661523456,426.92131785366365,415.6912223449245,422.90404600124697,428.0484129457367,430.50931260253145,427.88626214257596,426.9126885774561,408.5158176908042,411.82146867721116,414.7100596308189,408.7872183781451,407.19910906958467,406.54425784363355],\"type\":\"scatter\"},{\"name\":\"161\",\"y\":[410.170013,412.36950117581847,420.9454449759889,415.3985432940738,393.8342027575978,408.41511204956055,415.87219849943716,421.5307044849327,427.97617526598833,424.2232106616368,434.1181040095884,437.21501248621064,442.2783460246862,438.4599374213853,425.4759406669397,436.37527008538075,431.2351147914087,447.5681393923762,451.2164649108869,467.9829120740215],\"type\":\"scatter\"},{\"name\":\"162\",\"y\":[410.170013,404.32880242429115,406.57082759054686,406.04555551698115,400.2253757086962,414.64130029090614,399.27077792383744,415.6295758248779,434.44579474487836,421.53132976697333,422.9671925706932,432.7427407791425,433.62743031973355,432.3304193871747,424.65270877295376,436.51834503081625,457.91016631702706,454.50086328946145,454.58701432055955,460.56609346249786],\"type\":\"scatter\"},{\"name\":\"163\",\"y\":[410.170013,413.23792798716715,401.92810542602865,415.641679218306,411.5741190280636,410.74105633193545,423.90928868291445,415.16786598737144,409.79668050182767,405.00919451730135,383.12970716704064,407.51159624259395,410.91670039363385,417.5814638134637,400.95575993577205,393.386271632463,402.7488404786474,390.4985312821198,373.51719538403563,344.42592405931504],\"type\":\"scatter\"},{\"name\":\"164\",\"y\":[410.170013,410.0020040417389,417.8612728105637,417.1496101201833,418.9982401431236,413.8251301481147,409.04282308450786,402.3357170744875,400.6510595097541,415.24614276465473,416.14353100029524,415.4356551713112,417.1058439743612,406.11319706595935,404.6704135713932,386.8280408876012,397.2294046979669,380.2418314404543,385.7580480331744,385.1567840682454],\"type\":\"scatter\"},{\"name\":\"165\",\"y\":[410.170013,399.6575661644522,405.63200927012315,411.66531086863466,393.81274095504773,404.40378814450656,406.60499739829123,418.5621769030073,399.9047726651814,418.3829660472938,419.35146382916565,417.6448016526084,412.1310016470168,414.22770797452637,418.2745263552642,421.02599234489776,440.41369277110255,470.43020270085896,464.38189798334656,454.29610741688845],\"type\":\"scatter\"},{\"name\":\"166\",\"y\":[410.170013,418.09284473488407,413.4444337746362,404.8113604214994,415.1587506220472,413.9471688669228,417.9626201157212,450.10212077478116,442.76834410104374,435.798990794884,421.7452723540298,404.2615982762356,418.07041048596864,417.30007769391267,424.9229802246831,430.09830190211613,408.38175347782396,418.4040226577135,413.392472786517,410.1502483389494],\"type\":\"scatter\"},{\"name\":\"167\",\"y\":[410.170013,397.6075994500577,401.058625013491,396.7953262806867,424.80052841717236,419.28017385396186,419.05067035366517,409.7315818528624,409.389850187083,413.34953163807756,426.0402779642867,396.433979011083,413.33791731159863,411.2990182455401,418.9715856737031,415.8276045512452,397.4581024207348,392.1052597426671,396.755322519528,406.9431141543412],\"type\":\"scatter\"},{\"name\":\"168\",\"y\":[410.170013,412.360331004383,420.99211622089996,413.1503190644298,412.56369652837975,418.89374394728685,448.81647722843377,444.89323574969313,443.4051994817145,428.2725174501709,434.30138435794106,437.09472126153287,439.1066251251198,434.5701580995183,422.3604595910238,413.7483523153239,416.58525003127886,423.5649718026003,425.2175556622716,436.42919675471813],\"type\":\"scatter\"},{\"name\":\"169\",\"y\":[410.170013,397.5752213829717,385.2951959889328,383.5832166634273,383.53244793423454,392.392992444056,402.54966956250087,401.0044430603051,387.5015914578342,395.6871898414283,401.44707354674057,404.1250410025477,391.83489802345156,386.5368098116661,392.507676317905,400.4375814609355,414.56709336591496,419.53386283381803,435.83627305359977,438.0878495509784],\"type\":\"scatter\"},{\"name\":\"170\",\"y\":[410.170013,402.55799519616977,400.8262679624135,399.30036280554356,395.26055098306534,390.5944580535389,385.20958331854075,381.91250124086804,391.20087600212685,391.98157200176644,395.8375154118992,403.7427165731787,395.80911527544936,388.2932532795356,400.60249007953547,413.5989872568192,419.7637987676117,419.13308078119746,403.20869463878097,402.6364508753749],\"type\":\"scatter\"},{\"name\":\"171\",\"y\":[410.170013,407.16441270963486,423.6422791303886,434.4420244818255,433.6705710157485,425.043925798664,421.2566391092664,444.4412353509954,429.57115390389833,420.6790446485549,412.0525177570712,411.4149408472221,408.93774772747696,412.5737814427968,421.23936897316725,405.4727500425593,431.57600751244496,442.3530122889899,463.9707054628138,447.0084669360771],\"type\":\"scatter\"},{\"name\":\"172\",\"y\":[410.170013,413.4827301398818,430.06939877643043,419.666659774748,420.7041794053039,411.5365401798319,409.57693855312857,428.581159556269,422.45832528728806,435.17496413234727,446.2902265574228,459.11709584652033,470.63986493405116,481.563228311136,460.42760224600596,439.67262899520534,464.65989473501827,483.7755263998232,461.68272973793916,447.1723813362037],\"type\":\"scatter\"},{\"name\":\"173\",\"y\":[410.170013,408.4837648678293,416.0206932692704,410.3809818837017,405.2699535520533,409.2171203048619,395.5174474285093,396.7161240703989,396.7204724555944,397.67517459580154,383.8063151305718,407.30750984210397,412.6887303248045,422.39207552615926,451.31874901590874,452.44689718773253,462.18221805700836,462.0908740216788,450.0350638728725,455.0090586216531],\"type\":\"scatter\"},{\"name\":\"174\",\"y\":[410.170013,391.6974119017406,387.4353443384246,380.639505856743,381.4680247925483,389.13850291001177,401.67489682536973,389.51727753638335,379.029588551915,380.17483049789985,385.00847216769444,404.00516702169404,405.0469281590359,400.0932148740462,394.47983626298986,388.5609170129874,388.21446945565003,396.1116245983839,401.4670429355658,385.9335044274227],\"type\":\"scatter\"},{\"name\":\"175\",\"y\":[410.170013,425.2966460109586,415.00302561002803,414.6969415271714,417.2536357922774,417.9041244359259,410.9153408521487,411.8495573084196,395.34756006414943,395.48182677447306,384.59938853884404,384.5048874119179,389.66740846040295,413.9578312312327,396.055964217159,388.93041992749244,388.7628319195774,389.57468913394877,401.7978814171173,407.8451162466087],\"type\":\"scatter\"},{\"name\":\"176\",\"y\":[410.170013,398.0350666227948,410.063261061333,404.62817854324453,398.79124118682796,382.5856070891577,362.20311155432256,347.50759264639623,354.13551359598785,343.06737086234335,353.2539329179032,333.27614734535126,334.54994888976256,332.5417534383382,339.244524305484,342.85336398849745,359.27228716683203,370.54724029745233,369.31808735916474,374.9366848314487],\"type\":\"scatter\"},{\"name\":\"177\",\"y\":[410.170013,424.9443434135479,457.0632011236685,441.08521858731854,441.44647004883944,431.2386325219292,442.44128363887506,431.0513200817639,428.1881781593173,424.857532454037,424.70738468170373,432.427363672028,421.9863744433656,429.4125442288895,426.89572178387374,435.0912970544192,448.69700553145645,437.22909652888706,419.8518537387876,432.1765794695202],\"type\":\"scatter\"},{\"name\":\"178\",\"y\":[410.170013,392.80171751489087,401.12232150537403,400.761094695413,382.87281958017843,400.542417723332,383.10597513971084,363.6303987561502,375.9141358270775,370.5983928128578,372.6983027318691,378.30118477781036,369.8353540040196,359.82781031509893,367.15220848383,375.00642742434513,368.6530492281339,373.5711501482296,389.9534859820225,385.09075847686165],\"type\":\"scatter\"},{\"name\":\"179\",\"y\":[410.170013,417.4796019433746,423.2514170009841,437.3101827522443,441.94512611130176,444.5779430450082,465.4601900883993,479.0097682010826,478.6113926347416,476.5520592535593,483.0956479789996,498.6642579001092,502.7729784671314,514.4182788820926,511.1320060008435,496.6203572631199,507.713289385497,504.66355842279825,497.667028523809,507.27062825548086],\"type\":\"scatter\"},{\"name\":\"180\",\"y\":[410.170013,431.060761523813,432.56487598157975,422.6894584628549,422.31953358934544,437.23612944404454,435.2363541310616,443.5823189619718,451.98625411924917,459.40894110689334,482.3400991758503,490.42075589802033,495.2597162945605,485.0917259115854,519.3612313307272,518.2693206481123,497.2771408380303,479.89141498090646,484.744067166998,506.3214992345068],\"type\":\"scatter\"},{\"name\":\"181\",\"y\":[410.170013,405.9808382827983,402.42871608354073,408.0076370895538,408.2976345466163,397.6664573246948,400.89011777709186,382.355775306748,374.16952697353855,384.26024561418495,387.20712262591104,384.5320720163843,367.4483057888504,340.01276724530345,342.385002835384,347.4316931103235,363.2865890394356,339.56906062777927,337.22038156744236,334.87885257346767],\"type\":\"scatter\"},{\"name\":\"182\",\"y\":[410.170013,420.07434237422063,430.26028358839767,433.06328551973985,450.2523747464756,450.91283292589094,461.91072166448595,485.9491239937819,484.04491269907845,482.2335350733998,488.78503919075916,469.99468727760564,463.5600847318594,465.88906494893865,457.3662674578931,458.5550467112922,461.0953814700485,452.51241182914345,464.3859066260569,494.9705754535236],\"type\":\"scatter\"},{\"name\":\"183\",\"y\":[410.170013,413.4280178655227,411.1436218468036,423.7718337787122,430.8463208959829,425.26455658953705,426.9750943773647,426.3818385230891,428.13731473882524,455.7861674800618,461.96948047394756,471.3063920744823,481.11200708842483,504.72065225143274,507.82143595284,483.4191476012165,466.9524638069104,444.0829254394345,451.1151207698687,456.00360171726464],\"type\":\"scatter\"},{\"name\":\"184\",\"y\":[410.170013,408.43161734153983,420.0989362564669,427.7933544583573,424.645570500133,448.099564790571,463.9236919673409,434.04830366123167,453.4975609335857,468.52887011596516,475.4785894873462,472.263806540664,485.2062837077628,506.24542071156543,509.7389589367419,504.247622048861,512.7582500573169,507.1955043303774,484.2322450568412,483.2827433830067],\"type\":\"scatter\"},{\"name\":\"185\",\"y\":[410.170013,410.05011787599966,423.8042418156511,425.32790979784284,412.40959221778826,407.39905748413065,410.07148795233246,391.24836159816306,402.2817262960457,409.1602653521475,415.23285717168613,422.3132527338434,434.0827983405125,439.6329949193459,441.9714060354902,441.29917472162043,451.81362043331285,443.86293948327415,437.0764334726738,437.7236305210366],\"type\":\"scatter\"},{\"name\":\"186\",\"y\":[410.170013,417.65516141560977,428.61854518826925,416.4231239599891,399.79925570268966,387.7655732302004,387.2796024698556,379.1620779788519,370.49365024374777,363.54182393934883,370.2227391364638,364.41386735284783,353.6183095708132,352.47026685604095,362.10852775473586,359.6459419803567,369.38782743281746,367.402681333597,374.4329198919689,371.082373200903],\"type\":\"scatter\"},{\"name\":\"187\",\"y\":[410.170013,407.9033068770005,425.4407150187376,423.76710785525995,436.50928242376887,436.14102454027,436.1548027973284,441.56142243451285,439.7431889203821,441.8407886131838,440.3419889618593,441.87875903616333,454.86922962200157,435.72554499458334,438.7757663325413,439.2678101896393,438.03185502027833,438.4326539868911,431.2512744655396,425.25852475358715],\"type\":\"scatter\"},{\"name\":\"188\",\"y\":[410.170013,402.2919449146671,403.9063300066472,408.5283977341189,404.6977423059009,397.62680794328986,402.4661367685366,395.98237234694994,385.5363547621823,366.7692175223941,372.36078454034606,377.9309184118697,367.04652846737577,343.4003739950021,331.01198305722176,331.5234067937021,312.62245668717827,313.1880487461241,311.73436718638555,318.19691357280897],\"type\":\"scatter\"},{\"name\":\"189\",\"y\":[410.170013,401.6087639354655,394.6047520017372,399.97687378288936,404.4926423424273,415.1508788539885,423.54151567770845,433.06131130357,433.53001642519956,413.6398972740133,401.3102143503809,400.86295349758024,392.64386872454395,408.856254987843,407.61929633447585,394.6134912072628,394.4023090389558,385.9183760074693,401.7084732597379,392.2624947258494],\"type\":\"scatter\"},{\"name\":\"190\",\"y\":[410.170013,406.9526619384791,404.6222894771355,399.9652325856754,399.1282532866498,417.566964395374,401.7337244837461,405.08368769139776,406.8881118479824,388.95158995280076,376.55456857578787,377.6386473111978,385.2725455696479,377.6210890981387,372.27718389773025,359.48061169857186,354.6362273185123,371.5728521815661,377.68457043385075,344.12440881258846],\"type\":\"scatter\"},{\"name\":\"191\",\"y\":[410.170013,403.56246271494854,398.10029703887756,409.06761675904175,403.0327802942594,383.5564844416674,389.1292007232027,403.2762476259167,404.0906146897844,401.1852999841652,389.2348543801276,377.638059020267,384.25466439273976,391.72637033093673,393.66792890368805,396.95306580652283,404.7148886888134,409.55746541241155,426.2902137129797,426.0952277705541],\"type\":\"scatter\"},{\"name\":\"192\",\"y\":[410.170013,408.94104522135353,401.6633250068521,402.90183816158617,398.8058584781154,395.7511453400401,415.5608526526141,422.7043718692433,428.5325429820464,428.8676917994641,434.38484585455274,441.9676660467142,437.1445517261041,448.8954027929996,470.6725759168574,458.6419080334941,463.40318856256954,475.2011625053594,481.1463384023186,464.1098207059209],\"type\":\"scatter\"},{\"name\":\"193\",\"y\":[410.170013,417.04681880882885,426.5613687965298,420.2905480299966,405.61439945777005,395.37369995520737,393.40503009693987,399.60791094948536,387.06791779036377,377.57312704445206,372.3827727023796,368.8446877492676,359.1988543676533,369.1865239535307,367.7914446679297,360.21396195213106,362.1519085543675,358.3357184256343,368.72500107386617,363.50660905013746],\"type\":\"scatter\"},{\"name\":\"194\",\"y\":[410.170013,421.62876437708053,428.9987671800964,445.51465207001314,442.21495050126856,441.1952624770225,440.45940717412026,468.1302663214073,482.92224224443714,474.01275511880385,465.6600509832849,458.2652185199401,444.54772464777153,459.9229298586103,458.6036404066739,458.88058834932974,453.06064851895565,447.07246117335023,433.9900195320313,433.3415022865386],\"type\":\"scatter\"},{\"name\":\"195\",\"y\":[410.170013,402.1774034354523,396.32275498911923,404.20619699845025,396.8886054776112,401.3982024768133,400.9145661824924,418.3662903587733,433.6201320727505,423.475579808558,417.3669827488544,404.20399989764667,411.3023377197472,429.1370111784034,425.9411143060924,418.97047789120086,415.7217487797046,425.9987048331662,439.9988156793973,433.9005345863872],\"type\":\"scatter\"},{\"name\":\"196\",\"y\":[410.170013,411.45163076522414,418.9837213440712,419.2536020857696,408.67032894621144,394.58986509986966,399.65504444971816,389.68432311636093,375.6310820435413,374.83158318932567,370.296987934929,381.3426637328179,361.3111023161174,357.9201247788354,345.29518875169066,336.76839651528485,338.2905705115714,332.6671377332851,343.34105392413744,351.7309662252391],\"type\":\"scatter\"},{\"name\":\"197\",\"y\":[410.170013,435.09529200767025,439.74250013082406,428.69392518734014,424.82671530070525,421.2503015349505,430.3901930870545,434.6405935931779,438.73626557603563,425.6594416969588,410.47653992325473,401.58033603483597,415.80756690908083,382.9777074958632,376.3349715869531,371.42916791006076,370.0683678410641,361.5881398712004,358.83425717012227,367.62307951818764],\"type\":\"scatter\"},{\"name\":\"198\",\"y\":[410.170013,418.3511670395807,402.868714543606,399.200544715431,399.9816554251885,403.3144369509922,402.3901821215333,402.2754220202358,394.60745995670084,390.51238112572054,401.8933831937091,420.08767154381104,433.7297755387152,429.0593930441487,416.8502768968981,416.7211228506018,416.0773357543343,406.04575275347247,414.34848966861716,418.69214907478096],\"type\":\"scatter\"},{\"name\":\"199\",\"y\":[410.170013,407.26642165038413,403.40089541489107,397.89924015720965,400.3398037319128,396.73421687826874,394.0278993058878,391.9413466949117,389.18247557569003,381.6636843733786,384.99647307066596,390.38030346545406,388.96075440314866,397.2159049495007,410.94251572538,420.8829758553645,431.76467143246595,415.1315308134468,404.3298153060901,407.15415921967156],\"type\":\"scatter\"}],                        {\"template\":{\"data\":{\"histogram2dcontour\":[{\"type\":\"histogram2dcontour\",\"colorbar\":{\"outlinewidth\":0,\"ticks\":\"\"},\"colorscale\":[[0.0,\"#0d0887\"],[0.1111111111111111,\"#46039f\"],[0.2222222222222222,\"#7201a8\"],[0.3333333333333333,\"#9c179e\"],[0.4444444444444444,\"#bd3786\"],[0.5555555555555556,\"#d8576b\"],[0.6666666666666666,\"#ed7953\"],[0.7777777777777778,\"#fb9f3a\"],[0.8888888888888888,\"#fdca26\"],[1.0,\"#f0f921\"]]}],\"choropleth\":[{\"type\":\"choropleth\",\"colorbar\":{\"outlinewidth\":0,\"ticks\":\"\"}}],\"histogram2d\":[{\"type\":\"histogram2d\",\"colorbar\":{\"outlinewidth\":0,\"ticks\":\"\"},\"colorscale\":[[0.0,\"#0d0887\"],[0.1111111111111111,\"#46039f\"],[0.2222222222222222,\"#7201a8\"],[0.3333333333333333,\"#9c179e\"],[0.4444444444444444,\"#bd3786\"],[0.5555555555555556,\"#d8576b\"],[0.6666666666666666,\"#ed7953\"],[0.7777777777777778,\"#fb9f3a\"],[0.8888888888888888,\"#fdca26\"],[1.0,\"#f0f921\"]]}],\"heatmap\":[{\"type\":\"heatmap\",\"colorbar\":{\"outlinewidth\":0,\"ticks\":\"\"},\"colorscale\":[[0.0,\"#0d0887\"],[0.1111111111111111,\"#46039f\"],[0.2222222222222222,\"#7201a8\"],[0.3333333333333333,\"#9c179e\"],[0.4444444444444444,\"#bd3786\"],[0.5555555555555556,\"#d8576b\"],[0.6666666666666666,\"#ed7953\"],[0.7777777777777778,\"#fb9f3a\"],[0.8888888888888888,\"#fdca26\"],[1.0,\"#f0f921\"]]}],\"heatmapgl\":[{\"type\":\"heatmapgl\",\"colorbar\":{\"outlinewidth\":0,\"ticks\":\"\"},\"colorscale\":[[0.0,\"#0d0887\"],[0.1111111111111111,\"#46039f\"],[0.2222222222222222,\"#7201a8\"],[0.3333333333333333,\"#9c179e\"],[0.4444444444444444,\"#bd3786\"],[0.5555555555555556,\"#d8576b\"],[0.6666666666666666,\"#ed7953\"],[0.7777777777777778,\"#fb9f3a\"],[0.8888888888888888,\"#fdca26\"],[1.0,\"#f0f921\"]]}],\"contourcarpet\":[{\"type\":\"contourcarpet\",\"colorbar\":{\"outlinewidth\":0,\"ticks\":\"\"}}],\"contour\":[{\"type\":\"contour\",\"colorbar\":{\"outlinewidth\":0,\"ticks\":\"\"},\"colorscale\":[[0.0,\"#0d0887\"],[0.1111111111111111,\"#46039f\"],[0.2222222222222222,\"#7201a8\"],[0.3333333333333333,\"#9c179e\"],[0.4444444444444444,\"#bd3786\"],[0.5555555555555556,\"#d8576b\"],[0.6666666666666666,\"#ed7953\"],[0.7777777777777778,\"#fb9f3a\"],[0.8888888888888888,\"#fdca26\"],[1.0,\"#f0f921\"]]}],\"surface\":[{\"type\":\"surface\",\"colorbar\":{\"outlinewidth\":0,\"ticks\":\"\"},\"colorscale\":[[0.0,\"#0d0887\"],[0.1111111111111111,\"#46039f\"],[0.2222222222222222,\"#7201a8\"],[0.3333333333333333,\"#9c179e\"],[0.4444444444444444,\"#bd3786\"],[0.5555555555555556,\"#d8576b\"],[0.6666666666666666,\"#ed7953\"],[0.7777777777777778,\"#fb9f3a\"],[0.8888888888888888,\"#fdca26\"],[1.0,\"#f0f921\"]]}],\"mesh3d\":[{\"type\":\"mesh3d\",\"colorbar\":{\"outlinewidth\":0,\"ticks\":\"\"}}],\"scatter\":[{\"fillpattern\":{\"fillmode\":\"overlay\",\"size\":10,\"solidity\":0.2},\"type\":\"scatter\"}],\"parcoords\":[{\"type\":\"parcoords\",\"line\":{\"colorbar\":{\"outlinewidth\":0,\"ticks\":\"\"}}}],\"scatterpolargl\":[{\"type\":\"scatterpolargl\",\"marker\":{\"colorbar\":{\"outlinewidth\":0,\"ticks\":\"\"}}}],\"bar\":[{\"error_x\":{\"color\":\"#2a3f5f\"},\"error_y\":{\"color\":\"#2a3f5f\"},\"marker\":{\"line\":{\"color\":\"#E5ECF6\",\"width\":0.5},\"pattern\":{\"fillmode\":\"overlay\",\"size\":10,\"solidity\":0.2}},\"type\":\"bar\"}],\"scattergeo\":[{\"type\":\"scattergeo\",\"marker\":{\"colorbar\":{\"outlinewidth\":0,\"ticks\":\"\"}}}],\"scatterpolar\":[{\"type\":\"scatterpolar\",\"marker\":{\"colorbar\":{\"outlinewidth\":0,\"ticks\":\"\"}}}],\"histogram\":[{\"marker\":{\"pattern\":{\"fillmode\":\"overlay\",\"size\":10,\"solidity\":0.2}},\"type\":\"histogram\"}],\"scattergl\":[{\"type\":\"scattergl\",\"marker\":{\"colorbar\":{\"outlinewidth\":0,\"ticks\":\"\"}}}],\"scatter3d\":[{\"type\":\"scatter3d\",\"line\":{\"colorbar\":{\"outlinewidth\":0,\"ticks\":\"\"}},\"marker\":{\"colorbar\":{\"outlinewidth\":0,\"ticks\":\"\"}}}],\"scattermapbox\":[{\"type\":\"scattermapbox\",\"marker\":{\"colorbar\":{\"outlinewidth\":0,\"ticks\":\"\"}}}],\"scatterternary\":[{\"type\":\"scatterternary\",\"marker\":{\"colorbar\":{\"outlinewidth\":0,\"ticks\":\"\"}}}],\"scattercarpet\":[{\"type\":\"scattercarpet\",\"marker\":{\"colorbar\":{\"outlinewidth\":0,\"ticks\":\"\"}}}],\"carpet\":[{\"aaxis\":{\"endlinecolor\":\"#2a3f5f\",\"gridcolor\":\"white\",\"linecolor\":\"white\",\"minorgridcolor\":\"white\",\"startlinecolor\":\"#2a3f5f\"},\"baxis\":{\"endlinecolor\":\"#2a3f5f\",\"gridcolor\":\"white\",\"linecolor\":\"white\",\"minorgridcolor\":\"white\",\"startlinecolor\":\"#2a3f5f\"},\"type\":\"carpet\"}],\"table\":[{\"cells\":{\"fill\":{\"color\":\"#EBF0F8\"},\"line\":{\"color\":\"white\"}},\"header\":{\"fill\":{\"color\":\"#C8D4E3\"},\"line\":{\"color\":\"white\"}},\"type\":\"table\"}],\"barpolar\":[{\"marker\":{\"line\":{\"color\":\"#E5ECF6\",\"width\":0.5},\"pattern\":{\"fillmode\":\"overlay\",\"size\":10,\"solidity\":0.2}},\"type\":\"barpolar\"}],\"pie\":[{\"automargin\":true,\"type\":\"pie\"}]},\"layout\":{\"autotypenumbers\":\"strict\",\"colorway\":[\"#636efa\",\"#EF553B\",\"#00cc96\",\"#ab63fa\",\"#FFA15A\",\"#19d3f3\",\"#FF6692\",\"#B6E880\",\"#FF97FF\",\"#FECB52\"],\"font\":{\"color\":\"#2a3f5f\"},\"hovermode\":\"closest\",\"hoverlabel\":{\"align\":\"left\"},\"paper_bgcolor\":\"white\",\"plot_bgcolor\":\"#E5ECF6\",\"polar\":{\"bgcolor\":\"#E5ECF6\",\"angularaxis\":{\"gridcolor\":\"white\",\"linecolor\":\"white\",\"ticks\":\"\"},\"radialaxis\":{\"gridcolor\":\"white\",\"linecolor\":\"white\",\"ticks\":\"\"}},\"ternary\":{\"bgcolor\":\"#E5ECF6\",\"aaxis\":{\"gridcolor\":\"white\",\"linecolor\":\"white\",\"ticks\":\"\"},\"baxis\":{\"gridcolor\":\"white\",\"linecolor\":\"white\",\"ticks\":\"\"},\"caxis\":{\"gridcolor\":\"white\",\"linecolor\":\"white\",\"ticks\":\"\"}},\"coloraxis\":{\"colorbar\":{\"outlinewidth\":0,\"ticks\":\"\"}},\"colorscale\":{\"sequential\":[[0.0,\"#0d0887\"],[0.1111111111111111,\"#46039f\"],[0.2222222222222222,\"#7201a8\"],[0.3333333333333333,\"#9c179e\"],[0.4444444444444444,\"#bd3786\"],[0.5555555555555556,\"#d8576b\"],[0.6666666666666666,\"#ed7953\"],[0.7777777777777778,\"#fb9f3a\"],[0.8888888888888888,\"#fdca26\"],[1.0,\"#f0f921\"]],\"sequentialminus\":[[0.0,\"#0d0887\"],[0.1111111111111111,\"#46039f\"],[0.2222222222222222,\"#7201a8\"],[0.3333333333333333,\"#9c179e\"],[0.4444444444444444,\"#bd3786\"],[0.5555555555555556,\"#d8576b\"],[0.6666666666666666,\"#ed7953\"],[0.7777777777777778,\"#fb9f3a\"],[0.8888888888888888,\"#fdca26\"],[1.0,\"#f0f921\"]],\"diverging\":[[0,\"#8e0152\"],[0.1,\"#c51b7d\"],[0.2,\"#de77ae\"],[0.3,\"#f1b6da\"],[0.4,\"#fde0ef\"],[0.5,\"#f7f7f7\"],[0.6,\"#e6f5d0\"],[0.7,\"#b8e186\"],[0.8,\"#7fbc41\"],[0.9,\"#4d9221\"],[1,\"#276419\"]]},\"xaxis\":{\"gridcolor\":\"white\",\"linecolor\":\"white\",\"ticks\":\"\",\"title\":{\"standoff\":15},\"zerolinecolor\":\"white\",\"automargin\":true,\"zerolinewidth\":2},\"yaxis\":{\"gridcolor\":\"white\",\"linecolor\":\"white\",\"ticks\":\"\",\"title\":{\"standoff\":15},\"zerolinecolor\":\"white\",\"automargin\":true,\"zerolinewidth\":2},\"scene\":{\"xaxis\":{\"backgroundcolor\":\"#E5ECF6\",\"gridcolor\":\"white\",\"linecolor\":\"white\",\"showbackground\":true,\"ticks\":\"\",\"zerolinecolor\":\"white\",\"gridwidth\":2},\"yaxis\":{\"backgroundcolor\":\"#E5ECF6\",\"gridcolor\":\"white\",\"linecolor\":\"white\",\"showbackground\":true,\"ticks\":\"\",\"zerolinecolor\":\"white\",\"gridwidth\":2},\"zaxis\":{\"backgroundcolor\":\"#E5ECF6\",\"gridcolor\":\"white\",\"linecolor\":\"white\",\"showbackground\":true,\"ticks\":\"\",\"zerolinecolor\":\"white\",\"gridwidth\":2}},\"shapedefaults\":{\"line\":{\"color\":\"#2a3f5f\"}},\"annotationdefaults\":{\"arrowcolor\":\"#2a3f5f\",\"arrowhead\":0,\"arrowwidth\":1},\"geo\":{\"bgcolor\":\"white\",\"landcolor\":\"#E5ECF6\",\"subunitcolor\":\"white\",\"showland\":true,\"showlakes\":true,\"lakecolor\":\"white\"},\"title\":{\"x\":0.05},\"mapbox\":{\"style\":\"light\"}}},\"xaxis\":{\"anchor\":\"y\",\"domain\":[0.0,1.0]},\"yaxis\":{\"anchor\":\"x\",\"domain\":[0.0,1.0]},\"legend\":{\"tracegroupgap\":0},\"title\":{\"text\":\"Monte Carlo Simulation\"},\"font\":{\"color\":\"black\"},\"paper_bgcolor\":\"white\",\"plot_bgcolor\":\"white\"},                        {\"responsive\": true}                    ).then(function(){\n",
       "                            \n",
       "var gd = document.getElementById('1a523c80-ba57-468f-825a-b3011ea229f9');\n",
       "var x = new MutationObserver(function (mutations, observer) {{\n",
       "        var display = window.getComputedStyle(gd).display;\n",
       "        if (!display || display === 'none') {{\n",
       "            console.log([gd, 'removed!']);\n",
       "            Plotly.purge(gd);\n",
       "            observer.disconnect();\n",
       "        }}\n",
       "}});\n",
       "\n",
       "// Listen for the removal of the full notebook cells\n",
       "var notebookContainer = gd.closest('#notebook-container');\n",
       "if (notebookContainer) {{\n",
       "    x.observe(notebookContainer, {childList: true});\n",
       "}}\n",
       "\n",
       "// Listen for the clearing of the current output cell\n",
       "var outputEl = gd.closest('.output');\n",
       "if (outputEl) {{\n",
       "    x.observe(outputEl, {childList: true});\n",
       "}}\n",
       "\n",
       "                        })                };                });            </script>        </div>"
      ]
     },
     "metadata": {},
     "output_type": "display_data"
    }
   ],
   "source": [
    "def get_plot_simulation(predictions: list):\n",
    "    fig = px.line(title = 'Monte Carlo Simulation')\n",
    "    for i in range(len(predictions.T)):\n",
    "        fig.add_scatter(y = predictions.T[i], name = i)\n",
    "    fig.update_layout(paper_bgcolor='white', plot_bgcolor=\"white\", font_color=\"black\")\n",
    "    fig.show()\n",
    "\n",
    "df_std = prices_train_copy.std()\n",
    "days_rt = np.exp(drift + df_std * Z)\n",
    "days_pred = np.zeros_like(days_rt)\n",
    "days_pred[0] = prices_train[\"Close\"].iloc[-1]\n",
    "\n",
    "for i in range(1, days_prev_len):\n",
    "    days_pred[i] = days_pred[i - 1] * days_rt[i]\n",
    "get_plot_simulation(days_pred)\n"
   ]
  },
  {
   "cell_type": "code",
   "execution_count": 46,
   "metadata": {
    "execution": {
     "iopub.execute_input": "2022-02-22T00:50:19.340038Z",
     "iopub.status.busy": "2022-02-22T00:50:19.339434Z",
     "iopub.status.idle": "2022-02-22T00:50:19.396836Z",
     "shell.execute_reply": "2022-02-22T00:50:19.395911Z",
     "shell.execute_reply.started": "2022-02-22T00:50:19.339991Z"
    }
   },
   "outputs": [],
   "source": [
    "s = days_pred.T[0][0:len(prices_test_copy)]\n",
    "\n",
    "prices_test_copy = prices_test_copy[0:days_prev_len]\n",
    "mean_absolute_error(prices_test_copy, s)\n",
    "\n",
    "sqerror = list()\n",
    "for i in range(len(days_pred.T)):\n",
    "    sqerror.append(mean_absolute_error(prices_test_copy, days_pred.T[i][0:days_prev_len]))"
   ]
  },
  {
   "cell_type": "code",
   "execution_count": 47,
   "metadata": {
    "execution": {
     "iopub.execute_input": "2022-02-22T00:50:19.399373Z",
     "iopub.status.busy": "2022-02-22T00:50:19.399023Z",
     "iopub.status.idle": "2022-02-22T00:50:19.465608Z",
     "shell.execute_reply": "2022-02-22T00:50:19.464588Z",
     "shell.execute_reply.started": "2022-02-22T00:50:19.399328Z"
    }
   },
   "outputs": [
    {
     "data": {
      "application/vnd.plotly.v1+json": {
       "config": {
        "plotlyServerURL": "https://plot.ly"
       },
       "data": [
        {
         "hovertemplate": "<extra></extra>",
         "legendgroup": "",
         "line": {
          "color": "#636efa",
          "dash": "solid"
         },
         "marker": {
          "symbol": "circle"
         },
         "mode": "markers+lines",
         "name": "",
         "orientation": "v",
         "showlegend": false,
         "type": "scatter",
         "xaxis": "x",
         "yaxis": "y"
        },
        {
         "mode": "markers+lines",
         "name": "value",
         "type": "scatter",
         "y": [
          611,
          611.659973,
          604.559998,
          597.98999,
          605.039978,
          591.059998,
          586.72998,
          593.73999,
          604.919983,
          614.23999,
          614.090027,
          613.119995,
          610.710022,
          610.539978,
          612.090027,
          602.440002,
          597.369995,
          591.150024,
          567.52002,
          553.289978
         ]
        },
        {
         "mode": "markers+lines",
         "name": "biggest pred error",
         "type": "scatter",
         "y": [
          410.170013,
          399.3754206973991,
          398.5918521003065,
          377.1787450807293,
          363.15429676712404,
          349.76842769986655,
          350.0081439965189,
          334.88763259354573,
          337.7371327570415,
          336.4858640392632,
          323.38996779600325,
          321.44991152613846,
          319.4460099899834,
          324.77633748883494,
          326.53630225179546,
          343.1963047383958,
          342.1041017500713,
          339.895293647115,
          347.4556268277872,
          344.33934794294265
         ]
        },
        {
         "mode": "markers+lines",
         "name": "smallest pred error",
         "type": "scatter",
         "y": [
          410.170013,
          423.58025980214285,
          427.6138955631307,
          432.591998770784,
          442.58890718869304,
          436.28653599012284,
          461.29005660435627,
          464.0499426132053,
          462.4759726120949,
          476.8658999180944,
          481.5457569419627,
          496.7083368152853,
          511.12136862756967,
          500.62033233345954,
          519.4779945698514,
          529.3036480556274,
          539.7179889763613,
          530.0778955460406,
          525.779045279405,
          514.035942820839
         ]
        }
       ],
       "layout": {
        "font": {
         "color": "black"
        },
        "legend": {
         "tracegroupgap": 0
        },
        "paper_bgcolor": "white",
        "plot_bgcolor": "white",
        "template": {
         "data": {
          "bar": [
           {
            "error_x": {
             "color": "#2a3f5f"
            },
            "error_y": {
             "color": "#2a3f5f"
            },
            "marker": {
             "line": {
              "color": "#E5ECF6",
              "width": 0.5
             },
             "pattern": {
              "fillmode": "overlay",
              "size": 10,
              "solidity": 0.2
             }
            },
            "type": "bar"
           }
          ],
          "barpolar": [
           {
            "marker": {
             "line": {
              "color": "#E5ECF6",
              "width": 0.5
             },
             "pattern": {
              "fillmode": "overlay",
              "size": 10,
              "solidity": 0.2
             }
            },
            "type": "barpolar"
           }
          ],
          "carpet": [
           {
            "aaxis": {
             "endlinecolor": "#2a3f5f",
             "gridcolor": "white",
             "linecolor": "white",
             "minorgridcolor": "white",
             "startlinecolor": "#2a3f5f"
            },
            "baxis": {
             "endlinecolor": "#2a3f5f",
             "gridcolor": "white",
             "linecolor": "white",
             "minorgridcolor": "white",
             "startlinecolor": "#2a3f5f"
            },
            "type": "carpet"
           }
          ],
          "choropleth": [
           {
            "colorbar": {
             "outlinewidth": 0,
             "ticks": ""
            },
            "type": "choropleth"
           }
          ],
          "contour": [
           {
            "colorbar": {
             "outlinewidth": 0,
             "ticks": ""
            },
            "colorscale": [
             [
              0,
              "#0d0887"
             ],
             [
              0.1111111111111111,
              "#46039f"
             ],
             [
              0.2222222222222222,
              "#7201a8"
             ],
             [
              0.3333333333333333,
              "#9c179e"
             ],
             [
              0.4444444444444444,
              "#bd3786"
             ],
             [
              0.5555555555555556,
              "#d8576b"
             ],
             [
              0.6666666666666666,
              "#ed7953"
             ],
             [
              0.7777777777777778,
              "#fb9f3a"
             ],
             [
              0.8888888888888888,
              "#fdca26"
             ],
             [
              1,
              "#f0f921"
             ]
            ],
            "type": "contour"
           }
          ],
          "contourcarpet": [
           {
            "colorbar": {
             "outlinewidth": 0,
             "ticks": ""
            },
            "type": "contourcarpet"
           }
          ],
          "heatmap": [
           {
            "colorbar": {
             "outlinewidth": 0,
             "ticks": ""
            },
            "colorscale": [
             [
              0,
              "#0d0887"
             ],
             [
              0.1111111111111111,
              "#46039f"
             ],
             [
              0.2222222222222222,
              "#7201a8"
             ],
             [
              0.3333333333333333,
              "#9c179e"
             ],
             [
              0.4444444444444444,
              "#bd3786"
             ],
             [
              0.5555555555555556,
              "#d8576b"
             ],
             [
              0.6666666666666666,
              "#ed7953"
             ],
             [
              0.7777777777777778,
              "#fb9f3a"
             ],
             [
              0.8888888888888888,
              "#fdca26"
             ],
             [
              1,
              "#f0f921"
             ]
            ],
            "type": "heatmap"
           }
          ],
          "heatmapgl": [
           {
            "colorbar": {
             "outlinewidth": 0,
             "ticks": ""
            },
            "colorscale": [
             [
              0,
              "#0d0887"
             ],
             [
              0.1111111111111111,
              "#46039f"
             ],
             [
              0.2222222222222222,
              "#7201a8"
             ],
             [
              0.3333333333333333,
              "#9c179e"
             ],
             [
              0.4444444444444444,
              "#bd3786"
             ],
             [
              0.5555555555555556,
              "#d8576b"
             ],
             [
              0.6666666666666666,
              "#ed7953"
             ],
             [
              0.7777777777777778,
              "#fb9f3a"
             ],
             [
              0.8888888888888888,
              "#fdca26"
             ],
             [
              1,
              "#f0f921"
             ]
            ],
            "type": "heatmapgl"
           }
          ],
          "histogram": [
           {
            "marker": {
             "pattern": {
              "fillmode": "overlay",
              "size": 10,
              "solidity": 0.2
             }
            },
            "type": "histogram"
           }
          ],
          "histogram2d": [
           {
            "colorbar": {
             "outlinewidth": 0,
             "ticks": ""
            },
            "colorscale": [
             [
              0,
              "#0d0887"
             ],
             [
              0.1111111111111111,
              "#46039f"
             ],
             [
              0.2222222222222222,
              "#7201a8"
             ],
             [
              0.3333333333333333,
              "#9c179e"
             ],
             [
              0.4444444444444444,
              "#bd3786"
             ],
             [
              0.5555555555555556,
              "#d8576b"
             ],
             [
              0.6666666666666666,
              "#ed7953"
             ],
             [
              0.7777777777777778,
              "#fb9f3a"
             ],
             [
              0.8888888888888888,
              "#fdca26"
             ],
             [
              1,
              "#f0f921"
             ]
            ],
            "type": "histogram2d"
           }
          ],
          "histogram2dcontour": [
           {
            "colorbar": {
             "outlinewidth": 0,
             "ticks": ""
            },
            "colorscale": [
             [
              0,
              "#0d0887"
             ],
             [
              0.1111111111111111,
              "#46039f"
             ],
             [
              0.2222222222222222,
              "#7201a8"
             ],
             [
              0.3333333333333333,
              "#9c179e"
             ],
             [
              0.4444444444444444,
              "#bd3786"
             ],
             [
              0.5555555555555556,
              "#d8576b"
             ],
             [
              0.6666666666666666,
              "#ed7953"
             ],
             [
              0.7777777777777778,
              "#fb9f3a"
             ],
             [
              0.8888888888888888,
              "#fdca26"
             ],
             [
              1,
              "#f0f921"
             ]
            ],
            "type": "histogram2dcontour"
           }
          ],
          "mesh3d": [
           {
            "colorbar": {
             "outlinewidth": 0,
             "ticks": ""
            },
            "type": "mesh3d"
           }
          ],
          "parcoords": [
           {
            "line": {
             "colorbar": {
              "outlinewidth": 0,
              "ticks": ""
             }
            },
            "type": "parcoords"
           }
          ],
          "pie": [
           {
            "automargin": true,
            "type": "pie"
           }
          ],
          "scatter": [
           {
            "fillpattern": {
             "fillmode": "overlay",
             "size": 10,
             "solidity": 0.2
            },
            "type": "scatter"
           }
          ],
          "scatter3d": [
           {
            "line": {
             "colorbar": {
              "outlinewidth": 0,
              "ticks": ""
             }
            },
            "marker": {
             "colorbar": {
              "outlinewidth": 0,
              "ticks": ""
             }
            },
            "type": "scatter3d"
           }
          ],
          "scattercarpet": [
           {
            "marker": {
             "colorbar": {
              "outlinewidth": 0,
              "ticks": ""
             }
            },
            "type": "scattercarpet"
           }
          ],
          "scattergeo": [
           {
            "marker": {
             "colorbar": {
              "outlinewidth": 0,
              "ticks": ""
             }
            },
            "type": "scattergeo"
           }
          ],
          "scattergl": [
           {
            "marker": {
             "colorbar": {
              "outlinewidth": 0,
              "ticks": ""
             }
            },
            "type": "scattergl"
           }
          ],
          "scattermapbox": [
           {
            "marker": {
             "colorbar": {
              "outlinewidth": 0,
              "ticks": ""
             }
            },
            "type": "scattermapbox"
           }
          ],
          "scatterpolar": [
           {
            "marker": {
             "colorbar": {
              "outlinewidth": 0,
              "ticks": ""
             }
            },
            "type": "scatterpolar"
           }
          ],
          "scatterpolargl": [
           {
            "marker": {
             "colorbar": {
              "outlinewidth": 0,
              "ticks": ""
             }
            },
            "type": "scatterpolargl"
           }
          ],
          "scatterternary": [
           {
            "marker": {
             "colorbar": {
              "outlinewidth": 0,
              "ticks": ""
             }
            },
            "type": "scatterternary"
           }
          ],
          "surface": [
           {
            "colorbar": {
             "outlinewidth": 0,
             "ticks": ""
            },
            "colorscale": [
             [
              0,
              "#0d0887"
             ],
             [
              0.1111111111111111,
              "#46039f"
             ],
             [
              0.2222222222222222,
              "#7201a8"
             ],
             [
              0.3333333333333333,
              "#9c179e"
             ],
             [
              0.4444444444444444,
              "#bd3786"
             ],
             [
              0.5555555555555556,
              "#d8576b"
             ],
             [
              0.6666666666666666,
              "#ed7953"
             ],
             [
              0.7777777777777778,
              "#fb9f3a"
             ],
             [
              0.8888888888888888,
              "#fdca26"
             ],
             [
              1,
              "#f0f921"
             ]
            ],
            "type": "surface"
           }
          ],
          "table": [
           {
            "cells": {
             "fill": {
              "color": "#EBF0F8"
             },
             "line": {
              "color": "white"
             }
            },
            "header": {
             "fill": {
              "color": "#C8D4E3"
             },
             "line": {
              "color": "white"
             }
            },
            "type": "table"
           }
          ]
         },
         "layout": {
          "annotationdefaults": {
           "arrowcolor": "#2a3f5f",
           "arrowhead": 0,
           "arrowwidth": 1
          },
          "autotypenumbers": "strict",
          "coloraxis": {
           "colorbar": {
            "outlinewidth": 0,
            "ticks": ""
           }
          },
          "colorscale": {
           "diverging": [
            [
             0,
             "#8e0152"
            ],
            [
             0.1,
             "#c51b7d"
            ],
            [
             0.2,
             "#de77ae"
            ],
            [
             0.3,
             "#f1b6da"
            ],
            [
             0.4,
             "#fde0ef"
            ],
            [
             0.5,
             "#f7f7f7"
            ],
            [
             0.6,
             "#e6f5d0"
            ],
            [
             0.7,
             "#b8e186"
            ],
            [
             0.8,
             "#7fbc41"
            ],
            [
             0.9,
             "#4d9221"
            ],
            [
             1,
             "#276419"
            ]
           ],
           "sequential": [
            [
             0,
             "#0d0887"
            ],
            [
             0.1111111111111111,
             "#46039f"
            ],
            [
             0.2222222222222222,
             "#7201a8"
            ],
            [
             0.3333333333333333,
             "#9c179e"
            ],
            [
             0.4444444444444444,
             "#bd3786"
            ],
            [
             0.5555555555555556,
             "#d8576b"
            ],
            [
             0.6666666666666666,
             "#ed7953"
            ],
            [
             0.7777777777777778,
             "#fb9f3a"
            ],
            [
             0.8888888888888888,
             "#fdca26"
            ],
            [
             1,
             "#f0f921"
            ]
           ],
           "sequentialminus": [
            [
             0,
             "#0d0887"
            ],
            [
             0.1111111111111111,
             "#46039f"
            ],
            [
             0.2222222222222222,
             "#7201a8"
            ],
            [
             0.3333333333333333,
             "#9c179e"
            ],
            [
             0.4444444444444444,
             "#bd3786"
            ],
            [
             0.5555555555555556,
             "#d8576b"
            ],
            [
             0.6666666666666666,
             "#ed7953"
            ],
            [
             0.7777777777777778,
             "#fb9f3a"
            ],
            [
             0.8888888888888888,
             "#fdca26"
            ],
            [
             1,
             "#f0f921"
            ]
           ]
          },
          "colorway": [
           "#636efa",
           "#EF553B",
           "#00cc96",
           "#ab63fa",
           "#FFA15A",
           "#19d3f3",
           "#FF6692",
           "#B6E880",
           "#FF97FF",
           "#FECB52"
          ],
          "font": {
           "color": "#2a3f5f"
          },
          "geo": {
           "bgcolor": "white",
           "lakecolor": "white",
           "landcolor": "#E5ECF6",
           "showlakes": true,
           "showland": true,
           "subunitcolor": "white"
          },
          "hoverlabel": {
           "align": "left"
          },
          "hovermode": "closest",
          "mapbox": {
           "style": "light"
          },
          "paper_bgcolor": "white",
          "plot_bgcolor": "#E5ECF6",
          "polar": {
           "angularaxis": {
            "gridcolor": "white",
            "linecolor": "white",
            "ticks": ""
           },
           "bgcolor": "#E5ECF6",
           "radialaxis": {
            "gridcolor": "white",
            "linecolor": "white",
            "ticks": ""
           }
          },
          "scene": {
           "xaxis": {
            "backgroundcolor": "#E5ECF6",
            "gridcolor": "white",
            "gridwidth": 2,
            "linecolor": "white",
            "showbackground": true,
            "ticks": "",
            "zerolinecolor": "white"
           },
           "yaxis": {
            "backgroundcolor": "#E5ECF6",
            "gridcolor": "white",
            "gridwidth": 2,
            "linecolor": "white",
            "showbackground": true,
            "ticks": "",
            "zerolinecolor": "white"
           },
           "zaxis": {
            "backgroundcolor": "#E5ECF6",
            "gridcolor": "white",
            "gridwidth": 2,
            "linecolor": "white",
            "showbackground": true,
            "ticks": "",
            "zerolinecolor": "white"
           }
          },
          "shapedefaults": {
           "line": {
            "color": "#2a3f5f"
           }
          },
          "ternary": {
           "aaxis": {
            "gridcolor": "white",
            "linecolor": "white",
            "ticks": ""
           },
           "baxis": {
            "gridcolor": "white",
            "linecolor": "white",
            "ticks": ""
           },
           "bgcolor": "#E5ECF6",
           "caxis": {
            "gridcolor": "white",
            "linecolor": "white",
            "ticks": ""
           }
          },
          "title": {
           "x": 0.05
          },
          "xaxis": {
           "automargin": true,
           "gridcolor": "white",
           "linecolor": "white",
           "ticks": "",
           "title": {
            "standoff": 15
           },
           "zerolinecolor": "white",
           "zerolinewidth": 2
          },
          "yaxis": {
           "automargin": true,
           "gridcolor": "white",
           "linecolor": "white",
           "ticks": "",
           "title": {
            "standoff": 15
           },
           "zerolinecolor": "white",
           "zerolinewidth": 2
          }
         }
        },
        "title": {
         "text": "Predict Simulation - Monte Carlo"
        },
        "xaxis": {
         "anchor": "y",
         "domain": [
          0,
          1
         ]
        },
        "yaxis": {
         "anchor": "x",
         "domain": [
          0,
          1
         ]
        }
       }
      },
      "text/html": [
       "<div>                            <div id=\"9232c2ed-9c0e-4b1f-b7c9-fd34d5aa6992\" class=\"plotly-graph-div\" style=\"height:525px; width:100%;\"></div>            <script type=\"text/javascript\">                require([\"plotly\"], function(Plotly) {                    window.PLOTLYENV=window.PLOTLYENV || {};                                    if (document.getElementById(\"9232c2ed-9c0e-4b1f-b7c9-fd34d5aa6992\")) {                    Plotly.newPlot(                        \"9232c2ed-9c0e-4b1f-b7c9-fd34d5aa6992\",                        [{\"hovertemplate\":\"<extra></extra>\",\"legendgroup\":\"\",\"line\":{\"color\":\"#636efa\",\"dash\":\"solid\"},\"marker\":{\"symbol\":\"circle\"},\"mode\":\"markers+lines\",\"name\":\"\",\"orientation\":\"v\",\"showlegend\":false,\"xaxis\":\"x\",\"yaxis\":\"y\",\"type\":\"scatter\"},{\"name\":\"value\",\"y\":[611.0,611.659973,604.559998,597.98999,605.039978,591.059998,586.72998,593.73999,604.919983,614.23999,614.090027,613.119995,610.710022,610.539978,612.090027,602.440002,597.369995,591.150024,567.52002,553.289978],\"type\":\"scatter\",\"mode\":\"markers+lines\"},{\"name\":\"biggest pred error\",\"y\":[410.170013,399.3754206973991,398.5918521003065,377.1787450807293,363.15429676712404,349.76842769986655,350.0081439965189,334.88763259354573,337.7371327570415,336.4858640392632,323.38996779600325,321.44991152613846,319.4460099899834,324.77633748883494,326.53630225179546,343.1963047383958,342.1041017500713,339.895293647115,347.4556268277872,344.33934794294265],\"type\":\"scatter\",\"mode\":\"markers+lines\"},{\"name\":\"smallest pred error\",\"y\":[410.170013,423.58025980214285,427.6138955631307,432.591998770784,442.58890718869304,436.28653599012284,461.29005660435627,464.0499426132053,462.4759726120949,476.8658999180944,481.5457569419627,496.7083368152853,511.12136862756967,500.62033233345954,519.4779945698514,529.3036480556274,539.7179889763613,530.0778955460406,525.779045279405,514.035942820839],\"type\":\"scatter\",\"mode\":\"markers+lines\"}],                        {\"template\":{\"data\":{\"histogram2dcontour\":[{\"type\":\"histogram2dcontour\",\"colorbar\":{\"outlinewidth\":0,\"ticks\":\"\"},\"colorscale\":[[0.0,\"#0d0887\"],[0.1111111111111111,\"#46039f\"],[0.2222222222222222,\"#7201a8\"],[0.3333333333333333,\"#9c179e\"],[0.4444444444444444,\"#bd3786\"],[0.5555555555555556,\"#d8576b\"],[0.6666666666666666,\"#ed7953\"],[0.7777777777777778,\"#fb9f3a\"],[0.8888888888888888,\"#fdca26\"],[1.0,\"#f0f921\"]]}],\"choropleth\":[{\"type\":\"choropleth\",\"colorbar\":{\"outlinewidth\":0,\"ticks\":\"\"}}],\"histogram2d\":[{\"type\":\"histogram2d\",\"colorbar\":{\"outlinewidth\":0,\"ticks\":\"\"},\"colorscale\":[[0.0,\"#0d0887\"],[0.1111111111111111,\"#46039f\"],[0.2222222222222222,\"#7201a8\"],[0.3333333333333333,\"#9c179e\"],[0.4444444444444444,\"#bd3786\"],[0.5555555555555556,\"#d8576b\"],[0.6666666666666666,\"#ed7953\"],[0.7777777777777778,\"#fb9f3a\"],[0.8888888888888888,\"#fdca26\"],[1.0,\"#f0f921\"]]}],\"heatmap\":[{\"type\":\"heatmap\",\"colorbar\":{\"outlinewidth\":0,\"ticks\":\"\"},\"colorscale\":[[0.0,\"#0d0887\"],[0.1111111111111111,\"#46039f\"],[0.2222222222222222,\"#7201a8\"],[0.3333333333333333,\"#9c179e\"],[0.4444444444444444,\"#bd3786\"],[0.5555555555555556,\"#d8576b\"],[0.6666666666666666,\"#ed7953\"],[0.7777777777777778,\"#fb9f3a\"],[0.8888888888888888,\"#fdca26\"],[1.0,\"#f0f921\"]]}],\"heatmapgl\":[{\"type\":\"heatmapgl\",\"colorbar\":{\"outlinewidth\":0,\"ticks\":\"\"},\"colorscale\":[[0.0,\"#0d0887\"],[0.1111111111111111,\"#46039f\"],[0.2222222222222222,\"#7201a8\"],[0.3333333333333333,\"#9c179e\"],[0.4444444444444444,\"#bd3786\"],[0.5555555555555556,\"#d8576b\"],[0.6666666666666666,\"#ed7953\"],[0.7777777777777778,\"#fb9f3a\"],[0.8888888888888888,\"#fdca26\"],[1.0,\"#f0f921\"]]}],\"contourcarpet\":[{\"type\":\"contourcarpet\",\"colorbar\":{\"outlinewidth\":0,\"ticks\":\"\"}}],\"contour\":[{\"type\":\"contour\",\"colorbar\":{\"outlinewidth\":0,\"ticks\":\"\"},\"colorscale\":[[0.0,\"#0d0887\"],[0.1111111111111111,\"#46039f\"],[0.2222222222222222,\"#7201a8\"],[0.3333333333333333,\"#9c179e\"],[0.4444444444444444,\"#bd3786\"],[0.5555555555555556,\"#d8576b\"],[0.6666666666666666,\"#ed7953\"],[0.7777777777777778,\"#fb9f3a\"],[0.8888888888888888,\"#fdca26\"],[1.0,\"#f0f921\"]]}],\"surface\":[{\"type\":\"surface\",\"colorbar\":{\"outlinewidth\":0,\"ticks\":\"\"},\"colorscale\":[[0.0,\"#0d0887\"],[0.1111111111111111,\"#46039f\"],[0.2222222222222222,\"#7201a8\"],[0.3333333333333333,\"#9c179e\"],[0.4444444444444444,\"#bd3786\"],[0.5555555555555556,\"#d8576b\"],[0.6666666666666666,\"#ed7953\"],[0.7777777777777778,\"#fb9f3a\"],[0.8888888888888888,\"#fdca26\"],[1.0,\"#f0f921\"]]}],\"mesh3d\":[{\"type\":\"mesh3d\",\"colorbar\":{\"outlinewidth\":0,\"ticks\":\"\"}}],\"scatter\":[{\"fillpattern\":{\"fillmode\":\"overlay\",\"size\":10,\"solidity\":0.2},\"type\":\"scatter\"}],\"parcoords\":[{\"type\":\"parcoords\",\"line\":{\"colorbar\":{\"outlinewidth\":0,\"ticks\":\"\"}}}],\"scatterpolargl\":[{\"type\":\"scatterpolargl\",\"marker\":{\"colorbar\":{\"outlinewidth\":0,\"ticks\":\"\"}}}],\"bar\":[{\"error_x\":{\"color\":\"#2a3f5f\"},\"error_y\":{\"color\":\"#2a3f5f\"},\"marker\":{\"line\":{\"color\":\"#E5ECF6\",\"width\":0.5},\"pattern\":{\"fillmode\":\"overlay\",\"size\":10,\"solidity\":0.2}},\"type\":\"bar\"}],\"scattergeo\":[{\"type\":\"scattergeo\",\"marker\":{\"colorbar\":{\"outlinewidth\":0,\"ticks\":\"\"}}}],\"scatterpolar\":[{\"type\":\"scatterpolar\",\"marker\":{\"colorbar\":{\"outlinewidth\":0,\"ticks\":\"\"}}}],\"histogram\":[{\"marker\":{\"pattern\":{\"fillmode\":\"overlay\",\"size\":10,\"solidity\":0.2}},\"type\":\"histogram\"}],\"scattergl\":[{\"type\":\"scattergl\",\"marker\":{\"colorbar\":{\"outlinewidth\":0,\"ticks\":\"\"}}}],\"scatter3d\":[{\"type\":\"scatter3d\",\"line\":{\"colorbar\":{\"outlinewidth\":0,\"ticks\":\"\"}},\"marker\":{\"colorbar\":{\"outlinewidth\":0,\"ticks\":\"\"}}}],\"scattermapbox\":[{\"type\":\"scattermapbox\",\"marker\":{\"colorbar\":{\"outlinewidth\":0,\"ticks\":\"\"}}}],\"scatterternary\":[{\"type\":\"scatterternary\",\"marker\":{\"colorbar\":{\"outlinewidth\":0,\"ticks\":\"\"}}}],\"scattercarpet\":[{\"type\":\"scattercarpet\",\"marker\":{\"colorbar\":{\"outlinewidth\":0,\"ticks\":\"\"}}}],\"carpet\":[{\"aaxis\":{\"endlinecolor\":\"#2a3f5f\",\"gridcolor\":\"white\",\"linecolor\":\"white\",\"minorgridcolor\":\"white\",\"startlinecolor\":\"#2a3f5f\"},\"baxis\":{\"endlinecolor\":\"#2a3f5f\",\"gridcolor\":\"white\",\"linecolor\":\"white\",\"minorgridcolor\":\"white\",\"startlinecolor\":\"#2a3f5f\"},\"type\":\"carpet\"}],\"table\":[{\"cells\":{\"fill\":{\"color\":\"#EBF0F8\"},\"line\":{\"color\":\"white\"}},\"header\":{\"fill\":{\"color\":\"#C8D4E3\"},\"line\":{\"color\":\"white\"}},\"type\":\"table\"}],\"barpolar\":[{\"marker\":{\"line\":{\"color\":\"#E5ECF6\",\"width\":0.5},\"pattern\":{\"fillmode\":\"overlay\",\"size\":10,\"solidity\":0.2}},\"type\":\"barpolar\"}],\"pie\":[{\"automargin\":true,\"type\":\"pie\"}]},\"layout\":{\"autotypenumbers\":\"strict\",\"colorway\":[\"#636efa\",\"#EF553B\",\"#00cc96\",\"#ab63fa\",\"#FFA15A\",\"#19d3f3\",\"#FF6692\",\"#B6E880\",\"#FF97FF\",\"#FECB52\"],\"font\":{\"color\":\"#2a3f5f\"},\"hovermode\":\"closest\",\"hoverlabel\":{\"align\":\"left\"},\"paper_bgcolor\":\"white\",\"plot_bgcolor\":\"#E5ECF6\",\"polar\":{\"bgcolor\":\"#E5ECF6\",\"angularaxis\":{\"gridcolor\":\"white\",\"linecolor\":\"white\",\"ticks\":\"\"},\"radialaxis\":{\"gridcolor\":\"white\",\"linecolor\":\"white\",\"ticks\":\"\"}},\"ternary\":{\"bgcolor\":\"#E5ECF6\",\"aaxis\":{\"gridcolor\":\"white\",\"linecolor\":\"white\",\"ticks\":\"\"},\"baxis\":{\"gridcolor\":\"white\",\"linecolor\":\"white\",\"ticks\":\"\"},\"caxis\":{\"gridcolor\":\"white\",\"linecolor\":\"white\",\"ticks\":\"\"}},\"coloraxis\":{\"colorbar\":{\"outlinewidth\":0,\"ticks\":\"\"}},\"colorscale\":{\"sequential\":[[0.0,\"#0d0887\"],[0.1111111111111111,\"#46039f\"],[0.2222222222222222,\"#7201a8\"],[0.3333333333333333,\"#9c179e\"],[0.4444444444444444,\"#bd3786\"],[0.5555555555555556,\"#d8576b\"],[0.6666666666666666,\"#ed7953\"],[0.7777777777777778,\"#fb9f3a\"],[0.8888888888888888,\"#fdca26\"],[1.0,\"#f0f921\"]],\"sequentialminus\":[[0.0,\"#0d0887\"],[0.1111111111111111,\"#46039f\"],[0.2222222222222222,\"#7201a8\"],[0.3333333333333333,\"#9c179e\"],[0.4444444444444444,\"#bd3786\"],[0.5555555555555556,\"#d8576b\"],[0.6666666666666666,\"#ed7953\"],[0.7777777777777778,\"#fb9f3a\"],[0.8888888888888888,\"#fdca26\"],[1.0,\"#f0f921\"]],\"diverging\":[[0,\"#8e0152\"],[0.1,\"#c51b7d\"],[0.2,\"#de77ae\"],[0.3,\"#f1b6da\"],[0.4,\"#fde0ef\"],[0.5,\"#f7f7f7\"],[0.6,\"#e6f5d0\"],[0.7,\"#b8e186\"],[0.8,\"#7fbc41\"],[0.9,\"#4d9221\"],[1,\"#276419\"]]},\"xaxis\":{\"gridcolor\":\"white\",\"linecolor\":\"white\",\"ticks\":\"\",\"title\":{\"standoff\":15},\"zerolinecolor\":\"white\",\"automargin\":true,\"zerolinewidth\":2},\"yaxis\":{\"gridcolor\":\"white\",\"linecolor\":\"white\",\"ticks\":\"\",\"title\":{\"standoff\":15},\"zerolinecolor\":\"white\",\"automargin\":true,\"zerolinewidth\":2},\"scene\":{\"xaxis\":{\"backgroundcolor\":\"#E5ECF6\",\"gridcolor\":\"white\",\"linecolor\":\"white\",\"showbackground\":true,\"ticks\":\"\",\"zerolinecolor\":\"white\",\"gridwidth\":2},\"yaxis\":{\"backgroundcolor\":\"#E5ECF6\",\"gridcolor\":\"white\",\"linecolor\":\"white\",\"showbackground\":true,\"ticks\":\"\",\"zerolinecolor\":\"white\",\"gridwidth\":2},\"zaxis\":{\"backgroundcolor\":\"#E5ECF6\",\"gridcolor\":\"white\",\"linecolor\":\"white\",\"showbackground\":true,\"ticks\":\"\",\"zerolinecolor\":\"white\",\"gridwidth\":2}},\"shapedefaults\":{\"line\":{\"color\":\"#2a3f5f\"}},\"annotationdefaults\":{\"arrowcolor\":\"#2a3f5f\",\"arrowhead\":0,\"arrowwidth\":1},\"geo\":{\"bgcolor\":\"white\",\"landcolor\":\"#E5ECF6\",\"subunitcolor\":\"white\",\"showland\":true,\"showlakes\":true,\"lakecolor\":\"white\"},\"title\":{\"x\":0.05},\"mapbox\":{\"style\":\"light\"}}},\"xaxis\":{\"anchor\":\"y\",\"domain\":[0.0,1.0]},\"yaxis\":{\"anchor\":\"x\",\"domain\":[0.0,1.0]},\"legend\":{\"tracegroupgap\":0},\"title\":{\"text\":\"Predict Simulation - Monte Carlo\"},\"font\":{\"color\":\"black\"},\"paper_bgcolor\":\"white\",\"plot_bgcolor\":\"white\"},                        {\"responsive\": true}                    ).then(function(){\n",
       "                            \n",
       "var gd = document.getElementById('9232c2ed-9c0e-4b1f-b7c9-fd34d5aa6992');\n",
       "var x = new MutationObserver(function (mutations, observer) {{\n",
       "        var display = window.getComputedStyle(gd).display;\n",
       "        if (!display || display === 'none') {{\n",
       "            console.log([gd, 'removed!']);\n",
       "            Plotly.purge(gd);\n",
       "            observer.disconnect();\n",
       "        }}\n",
       "}});\n",
       "\n",
       "// Listen for the removal of the full notebook cells\n",
       "var notebookContainer = gd.closest('#notebook-container');\n",
       "if (notebookContainer) {{\n",
       "    x.observe(notebookContainer, {childList: true});\n",
       "}}\n",
       "\n",
       "// Listen for the clearing of the current output cell\n",
       "var outputEl = gd.closest('.output');\n",
       "if (outputEl) {{\n",
       "    x.observe(outputEl, {childList: true});\n",
       "}}\n",
       "\n",
       "                        })                };                });            </script>        </div>"
      ]
     },
     "metadata": {},
     "output_type": "display_data"
    }
   ],
   "source": [
    "def plot_best_predict(df: dict, index_max: int, index_min: int):\n",
    "    fig = px.line(title='Predict Simulation - Monte Carlo', markers=True)\n",
    "    fig.add_scatter(y=df, name='value')\n",
    "    fig.add_scatter(y=days_pred.T[index_max], name='biggest pred error')\n",
    "    fig.add_scatter(y=days_pred.T[index_min], name='smallest pred error')\n",
    "    fig.update_traces(mode='markers+lines')\n",
    "    fig.update_layout(paper_bgcolor='white', plot_bgcolor=\"white\", font_color=\"black\")\n",
    "    fig.show()\n",
    "\n",
    "index_min = np.argmin(sqerror)\n",
    "index_max = np.argmax(sqerror)\n",
    "plot_best_predict(prices_test_copy, index_max, index_min)\n"
   ]
  },
  {
   "cell_type": "code",
   "execution_count": 48,
   "metadata": {
    "execution": {
     "iopub.execute_input": "2022-02-22T00:50:19.46729Z",
     "iopub.status.busy": "2022-02-22T00:50:19.467044Z",
     "iopub.status.idle": "2022-02-22T00:50:19.496253Z",
     "shell.execute_reply": "2022-02-22T00:50:19.491102Z",
     "shell.execute_reply.started": "2022-02-22T00:50:19.46726Z"
    }
   },
   "outputs": [
    {
     "name": "stdout",
     "output_type": "stream",
     "text": [
      "Simulation: 0 - error: 143.70751624105267\n",
      "Simulation: 1 - error: 177.24994778990916\n",
      "Simulation: 2 - error: 181.8205763932372\n",
      "Simulation: 3 - error: 172.85402704464056\n",
      "Simulation: 4 - error: 212.965999333674\n",
      "Simulation: 5 - error: 213.70046397469673\n",
      "Simulation: 6 - error: 192.34161663335584\n",
      "Simulation: 7 - error: 186.4069345692453\n",
      "Simulation: 8 - error: 220.95079768295506\n",
      "Simulation: 9 - error: 183.44548979849208\n",
      "Simulation: 10 - error: 178.88411226247095\n",
      "Simulation: 11 - error: 204.36149847041628\n",
      "Simulation: 12 - error: 200.7826236117\n",
      "Simulation: 13 - error: 163.053748433415\n",
      "Simulation: 14 - error: 180.51782195516034\n",
      "Simulation: 15 - error: 211.6095055969473\n",
      "Simulation: 16 - error: 183.16576002352338\n",
      "Simulation: 17 - error: 205.85678166785584\n",
      "Simulation: 18 - error: 187.84168236810535\n",
      "Simulation: 19 - error: 230.50708910870148\n",
      "Simulation: 20 - error: 140.55958084403656\n",
      "Simulation: 21 - error: 195.84421539457793\n",
      "Simulation: 22 - error: 187.40489929567372\n",
      "Simulation: 23 - error: 141.08940612914498\n",
      "Simulation: 24 - error: 157.77975692169883\n",
      "Simulation: 25 - error: 201.07991304461447\n",
      "Simulation: 26 - error: 227.38858764757418\n",
      "Simulation: 27 - error: 189.47773322048718\n",
      "Simulation: 28 - error: 197.31229140253862\n",
      "Simulation: 29 - error: 147.96636813453486\n",
      "Simulation: 30 - error: 222.29469671829602\n",
      "Simulation: 31 - error: 177.7284974443738\n",
      "Simulation: 32 - error: 205.28202896538156\n",
      "Simulation: 33 - error: 179.16943069103837\n",
      "Simulation: 34 - error: 201.03458774293432\n",
      "Simulation: 35 - error: 185.7409277410239\n",
      "Simulation: 36 - error: 139.62654179597718\n",
      "Simulation: 37 - error: 184.42487372754758\n",
      "Simulation: 38 - error: 210.4204756642489\n",
      "Simulation: 39 - error: 194.12167593384044\n",
      "Simulation: 40 - error: 187.9286393838849\n",
      "Simulation: 41 - error: 169.85213327865034\n",
      "Simulation: 42 - error: 182.81057650105964\n",
      "Simulation: 43 - error: 183.6008679429946\n",
      "Simulation: 44 - error: 219.98116444129283\n",
      "Simulation: 45 - error: 193.82116800469996\n",
      "Simulation: 46 - error: 176.1403018343371\n",
      "Simulation: 47 - error: 225.64927211314028\n",
      "Simulation: 48 - error: 200.78138554242094\n",
      "Simulation: 49 - error: 177.15882474313304\n",
      "Simulation: 50 - error: 186.0888105402704\n",
      "Simulation: 51 - error: 199.42654358881174\n",
      "Simulation: 52 - error: 157.7804510067306\n",
      "Simulation: 53 - error: 198.62758213971108\n",
      "Simulation: 54 - error: 205.88675891186557\n",
      "Simulation: 55 - error: 216.01993553296356\n",
      "Simulation: 56 - error: 190.89395745444872\n",
      "Simulation: 57 - error: 199.23568050389568\n",
      "Simulation: 58 - error: 237.87465209244456\n",
      "Simulation: 59 - error: 170.0099563724995\n",
      "Simulation: 60 - error: 137.82701979107844\n",
      "Simulation: 61 - error: 208.7225941394892\n",
      "Simulation: 62 - error: 165.20014334583226\n",
      "Simulation: 63 - error: 137.4065005363861\n",
      "Simulation: 64 - error: 175.6009438192986\n",
      "Simulation: 65 - error: 217.49058214274493\n",
      "Simulation: 66 - error: 218.05465295844692\n",
      "Simulation: 67 - error: 250.16566076545692\n",
      "Simulation: 68 - error: 168.31828558298767\n",
      "Simulation: 69 - error: 149.72184156666518\n",
      "Simulation: 70 - error: 145.72596428431308\n",
      "Simulation: 71 - error: 165.7151929117417\n",
      "Simulation: 72 - error: 179.35244911024478\n",
      "Simulation: 73 - error: 161.74458207290314\n",
      "Simulation: 74 - error: 149.26368966783122\n",
      "Simulation: 75 - error: 197.61914202326864\n",
      "Simulation: 76 - error: 163.94408226601178\n",
      "Simulation: 77 - error: 188.85386467359038\n",
      "Simulation: 78 - error: 176.46535362504696\n",
      "Simulation: 79 - error: 195.60081999334272\n",
      "Simulation: 80 - error: 172.3987380093585\n",
      "Simulation: 81 - error: 157.27827414207246\n",
      "Simulation: 82 - error: 189.6506361578483\n",
      "Simulation: 83 - error: 235.8455348385205\n",
      "Simulation: 84 - error: 218.8238315324674\n",
      "Simulation: 85 - error: 211.49190243923846\n",
      "Simulation: 86 - error: 197.38156132410558\n",
      "Simulation: 87 - error: 152.05625257054984\n",
      "Simulation: 88 - error: 171.66167900812883\n",
      "Simulation: 89 - error: 141.18467424168944\n",
      "Simulation: 90 - error: 223.88246220904207\n",
      "Simulation: 91 - error: 156.82898479049928\n",
      "Simulation: 92 - error: 192.63206220837816\n",
      "Simulation: 93 - error: 209.59608000033518\n",
      "Simulation: 94 - error: 207.09073715995402\n",
      "Simulation: 95 - error: 188.22481831739597\n",
      "Simulation: 96 - error: 183.53726166824424\n",
      "Simulation: 97 - error: 226.4815319543647\n",
      "Simulation: 98 - error: 180.09259950634134\n",
      "Simulation: 99 - error: 191.18737628906376\n",
      "Simulation: 100 - error: 178.56234639471728\n",
      "Simulation: 101 - error: 197.18270760282442\n",
      "Simulation: 102 - error: 195.54215476250982\n",
      "Simulation: 103 - error: 202.8084454676589\n",
      "Simulation: 104 - error: 219.1505307428999\n",
      "Simulation: 105 - error: 179.31925501091854\n",
      "Simulation: 106 - error: 207.96622514865857\n",
      "Simulation: 107 - error: 169.47638581487485\n",
      "Simulation: 108 - error: 178.7725823589047\n",
      "Simulation: 109 - error: 205.45447786197593\n",
      "Simulation: 110 - error: 188.33011781480891\n",
      "Simulation: 111 - error: 169.92879164712858\n",
      "Simulation: 112 - error: 160.90832345054395\n",
      "Simulation: 113 - error: 187.47390559274527\n",
      "Simulation: 114 - error: 210.16998096746838\n",
      "Simulation: 115 - error: 242.1983893382906\n",
      "Simulation: 116 - error: 197.1748782572063\n",
      "Simulation: 117 - error: 187.89368897379117\n",
      "Simulation: 118 - error: 185.41356507755935\n",
      "Simulation: 119 - error: 204.30644304482027\n",
      "Simulation: 120 - error: 159.2932791550332\n",
      "Simulation: 121 - error: 194.40647560954807\n",
      "Simulation: 122 - error: 202.32344609180637\n",
      "Simulation: 123 - error: 175.67990356334326\n",
      "Simulation: 124 - error: 211.44357799335734\n",
      "Simulation: 125 - error: 195.97095390343105\n",
      "Simulation: 126 - error: 181.45559045518422\n",
      "Simulation: 127 - error: 144.99387950757574\n",
      "Simulation: 128 - error: 141.6325975024287\n",
      "Simulation: 129 - error: 168.02549056102623\n",
      "Simulation: 130 - error: 224.67768493193344\n",
      "Simulation: 131 - error: 174.56212052287705\n",
      "Simulation: 132 - error: 125.80516316037351\n",
      "Simulation: 133 - error: 212.64720330174114\n",
      "Simulation: 134 - error: 188.98661997330046\n",
      "Simulation: 135 - error: 218.67986404539684\n",
      "Simulation: 136 - error: 171.68884833400108\n",
      "Simulation: 137 - error: 154.48547559825982\n",
      "Simulation: 138 - error: 220.16231007335637\n",
      "Simulation: 139 - error: 239.6804945222012\n",
      "Simulation: 140 - error: 154.41184517099262\n",
      "Simulation: 141 - error: 125.89992131363488\n",
      "Simulation: 142 - error: 169.21892444021677\n",
      "Simulation: 143 - error: 161.0755617627868\n",
      "Simulation: 144 - error: 141.18089961414339\n",
      "Simulation: 145 - error: 175.70910950378283\n",
      "Simulation: 146 - error: 181.3946184050391\n",
      "Simulation: 147 - error: 204.76705218496866\n",
      "Simulation: 148 - error: 194.24755866314882\n",
      "Simulation: 149 - error: 168.8366774877688\n",
      "Simulation: 150 - error: 170.49108324414016\n",
      "Simulation: 151 - error: 189.53610789191058\n",
      "Simulation: 152 - error: 148.2859620975466\n",
      "Simulation: 153 - error: 233.1483493489347\n",
      "Simulation: 154 - error: 217.99190405260742\n",
      "Simulation: 155 - error: 213.78898522624922\n",
      "Simulation: 156 - error: 189.05917248034808\n",
      "Simulation: 157 - error: 191.78473477319795\n",
      "Simulation: 158 - error: 120.36790779854869\n",
      "Simulation: 159 - error: 197.16181604861927\n",
      "Simulation: 160 - error: 183.91821237938143\n",
      "Simulation: 161 - error: 171.52997999860406\n",
      "Simulation: 162 - error: 173.4998810478976\n",
      "Simulation: 163 - error: 197.57060134649998\n",
      "Simulation: 164 - error: 194.16475926960544\n",
      "Simulation: 165 - error: 179.61431059538933\n",
      "Simulation: 166 - error: 180.2138081297815\n",
      "Simulation: 167 - error: 190.84269331791072\n",
      "Simulation: 168 - error: 172.838181166164\n",
      "Simulation: 169 - error: 198.45269038483758\n",
      "Simulation: 170 - error: 200.08098322482925\n",
      "Simulation: 171 - error: 174.32896749302023\n",
      "Simulation: 172 - error: 158.84189300477226\n",
      "Simulation: 173 - error: 179.3905355485743\n",
      "Simulation: 174 - error: 207.66966874367466\n",
      "Simulation: 175 - error: 196.68224290600736\n",
      "Simulation: 176 - error: 233.61395106486788\n",
      "Simulation: 177 - error: 167.6149266918886\n",
      "Simulation: 178 - error: 218.5825464936397\n",
      "Simulation: 179 - error: 124.74371114447115\n",
      "Simulation: 180 - error: 134.40141680999446\n",
      "Simulation: 181 - error: 223.75305692854758\n",
      "Simulation: 182 - error: 140.36370283587044\n",
      "Simulation: 183 - error: 150.64259708641393\n",
      "Simulation: 184 - error: 134.66865203571626\n",
      "Simulation: 185 - error: 176.31640333885517\n",
      "Simulation: 186 - error: 219.37828331804468\n",
      "Simulation: 187 - error: 165.50974440782358\n",
      "Simulation: 188 - error: 231.81344246186495\n",
      "Simulation: 189 - error: 194.16427756344507\n",
      "Simulation: 190 - error: 212.76673572215836\n",
      "Simulation: 191 - error: 199.3978096154548\n",
      "Simulation: 192 - error: 165.18969014708972\n",
      "Simulation: 193 - error: 215.51058157867647\n",
      "Simulation: 194 - error: 151.23340416296324\n",
      "Simulation: 195 - error: 184.15892377896895\n",
      "Simulation: 196 - error: 223.56872807679997\n",
      "Simulation: 197 - error: 194.366728631233\n",
      "Simulation: 198 - error: 189.8041310390961\n",
      "Simulation: 199 - error: 198.44374234881386\n"
     ]
    }
   ],
   "source": [
    "for index, error in enumerate(sqerror):\n",
    "    print(f\"Simulation: {index} - error: {error}\")"
   ]
  },
  {
   "cell_type": "code",
   "execution_count": null,
   "metadata": {},
   "outputs": [],
   "source": []
  }
 ],
 "metadata": {
  "kaggle": {
   "accelerator": "none",
   "dataSources": [
    {
     "datasetId": 1912819,
     "sourceId": 3141205,
     "sourceType": "datasetVersion"
    }
   ],
   "dockerImageVersionId": 30162,
   "isGpuEnabled": false,
   "isInternetEnabled": true,
   "language": "python",
   "sourceType": "notebook"
  },
  "kernelspec": {
   "display_name": "Python 3 (ipykernel)",
   "language": "python",
   "name": "python3"
  },
  "language_info": {
   "codemirror_mode": {
    "name": "ipython",
    "version": 3
   },
   "file_extension": ".py",
   "mimetype": "text/x-python",
   "name": "python",
   "nbconvert_exporter": "python",
   "pygments_lexer": "ipython3",
   "version": "3.11.3"
  }
 },
 "nbformat": 4,
 "nbformat_minor": 4
}
